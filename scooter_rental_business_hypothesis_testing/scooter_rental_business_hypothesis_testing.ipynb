{
 "cells": [
  {
   "cell_type": "markdown",
   "id": "2174e22c",
   "metadata": {},
   "source": [
    "# Анализ данных и проверка гипотез для оптимизации бизнеса аренды самокатов GoFast\n"
   ]
  },
  {
   "cell_type": "markdown",
   "id": "9ebe6a93",
   "metadata": {},
   "source": [
    "Мы получили данные о некоторых пользователях сервиса аренды самокатов GoFast из нескольких городов, а также об их поездках. Необходимо проанализировать данные и проверить некоторые гипотезы, которые могут помочь бизнесу вырасти. Начнем наше исследование."
   ]
  },
  {
   "cell_type": "code",
   "execution_count": 1,
   "id": "72576667",
   "metadata": {},
   "outputs": [],
   "source": [
    "import pandas as pd\n",
    "import matplotlib.pyplot as plt \n",
    "from scipy import stats as st\n",
    "from math import factorial\n",
    "import numpy as np\n",
    "import math\n",
    "from scipy.stats import norm"
   ]
  },
  {
   "cell_type": "code",
   "execution_count": 2,
   "id": "091c7776",
   "metadata": {},
   "outputs": [],
   "source": [
    "pd.set_option('display.max_columns', 100) #настраиваем максимальное количество столбцов для отображения "
   ]
  },
  {
   "cell_type": "markdown",
   "id": "c42cbe00",
   "metadata": {},
   "source": [
    "<h1 style=\"font-size: 16px;\">Шаг 1. Загрузка данных</h1>"
   ]
  },
  {
   "cell_type": "markdown",
   "id": "2a2cf6fb",
   "metadata": {},
   "source": [
    "Загрузим наши датафреймы, посмотрим на первые строки, изучим общую информацию."
   ]
  },
  {
   "cell_type": "code",
   "execution_count": 50,
   "id": "eff9f206",
   "metadata": {},
   "outputs": [
    {
     "data": {
      "text/html": [
       "<div>\n",
       "<style scoped>\n",
       "    .dataframe tbody tr th:only-of-type {\n",
       "        vertical-align: middle;\n",
       "    }\n",
       "\n",
       "    .dataframe tbody tr th {\n",
       "        vertical-align: top;\n",
       "    }\n",
       "\n",
       "    .dataframe thead th {\n",
       "        text-align: right;\n",
       "    }\n",
       "</style>\n",
       "<table border=\"1\" class=\"dataframe\">\n",
       "  <thead>\n",
       "    <tr style=\"text-align: right;\">\n",
       "      <th></th>\n",
       "      <th>user_id</th>\n",
       "      <th>name</th>\n",
       "      <th>age</th>\n",
       "      <th>city</th>\n",
       "      <th>subscription_type</th>\n",
       "    </tr>\n",
       "  </thead>\n",
       "  <tbody>\n",
       "    <tr>\n",
       "      <th>0</th>\n",
       "      <td>1</td>\n",
       "      <td>Кира</td>\n",
       "      <td>22</td>\n",
       "      <td>Тюмень</td>\n",
       "      <td>ultra</td>\n",
       "    </tr>\n",
       "    <tr>\n",
       "      <th>1</th>\n",
       "      <td>2</td>\n",
       "      <td>Станислав</td>\n",
       "      <td>31</td>\n",
       "      <td>Омск</td>\n",
       "      <td>ultra</td>\n",
       "    </tr>\n",
       "    <tr>\n",
       "      <th>2</th>\n",
       "      <td>3</td>\n",
       "      <td>Алексей</td>\n",
       "      <td>20</td>\n",
       "      <td>Москва</td>\n",
       "      <td>ultra</td>\n",
       "    </tr>\n",
       "    <tr>\n",
       "      <th>3</th>\n",
       "      <td>4</td>\n",
       "      <td>Константин</td>\n",
       "      <td>26</td>\n",
       "      <td>Ростов-на-Дону</td>\n",
       "      <td>ultra</td>\n",
       "    </tr>\n",
       "    <tr>\n",
       "      <th>4</th>\n",
       "      <td>5</td>\n",
       "      <td>Адель</td>\n",
       "      <td>28</td>\n",
       "      <td>Омск</td>\n",
       "      <td>ultra</td>\n",
       "    </tr>\n",
       "  </tbody>\n",
       "</table>\n",
       "</div>"
      ],
      "text/plain": [
       "   user_id        name  age            city subscription_type\n",
       "0        1        Кира   22          Тюмень             ultra\n",
       "1        2   Станислав   31            Омск             ultra\n",
       "2        3     Алексей   20          Москва             ultra\n",
       "3        4  Константин   26  Ростов-на-Дону             ultra\n",
       "4        5       Адель   28            Омск             ultra"
      ]
     },
     "execution_count": 50,
     "metadata": {},
     "output_type": "execute_result"
    }
   ],
   "source": [
    "users = pd.read_csv(r'users_go.csv')\n",
    "users.head()"
   ]
  },
  {
   "cell_type": "code",
   "execution_count": 4,
   "id": "97d5d7e5",
   "metadata": {},
   "outputs": [
    {
     "name": "stdout",
     "output_type": "stream",
     "text": [
      "<class 'pandas.core.frame.DataFrame'>\n",
      "RangeIndex: 1565 entries, 0 to 1564\n",
      "Data columns (total 5 columns):\n",
      " #   Column             Non-Null Count  Dtype \n",
      "---  ------             --------------  ----- \n",
      " 0   user_id            1565 non-null   int64 \n",
      " 1   name               1565 non-null   object\n",
      " 2   age                1565 non-null   int64 \n",
      " 3   city               1565 non-null   object\n",
      " 4   subscription_type  1565 non-null   object\n",
      "dtypes: int64(2), object(3)\n",
      "memory usage: 61.3+ KB\n"
     ]
    }
   ],
   "source": [
    "users.info()"
   ]
  },
  {
   "cell_type": "markdown",
   "id": "e2a77f7c",
   "metadata": {},
   "source": [
    "В таблице **users** хранятся данные пользователей сервиса. Таблица содержит 1565 записей. Названия столбцов:  \n",
    "- `user_id`\t- уникальный идентификатор пользователя  \n",
    "- `name` - имя пользователя  \n",
    "- `age`\t- возраст  \n",
    "- `city` - город  \n",
    "- `subscription_type` - тип подписки (free, ultra)"
   ]
  },
  {
   "cell_type": "code",
   "execution_count": 51,
   "id": "5483243d",
   "metadata": {},
   "outputs": [
    {
     "data": {
      "text/html": [
       "<div>\n",
       "<style scoped>\n",
       "    .dataframe tbody tr th:only-of-type {\n",
       "        vertical-align: middle;\n",
       "    }\n",
       "\n",
       "    .dataframe tbody tr th {\n",
       "        vertical-align: top;\n",
       "    }\n",
       "\n",
       "    .dataframe thead th {\n",
       "        text-align: right;\n",
       "    }\n",
       "</style>\n",
       "<table border=\"1\" class=\"dataframe\">\n",
       "  <thead>\n",
       "    <tr style=\"text-align: right;\">\n",
       "      <th></th>\n",
       "      <th>user_id</th>\n",
       "      <th>distance</th>\n",
       "      <th>duration</th>\n",
       "      <th>date</th>\n",
       "    </tr>\n",
       "  </thead>\n",
       "  <tbody>\n",
       "    <tr>\n",
       "      <th>0</th>\n",
       "      <td>1</td>\n",
       "      <td>4409.919140</td>\n",
       "      <td>25.599769</td>\n",
       "      <td>2021-01-01</td>\n",
       "    </tr>\n",
       "    <tr>\n",
       "      <th>1</th>\n",
       "      <td>1</td>\n",
       "      <td>2617.592153</td>\n",
       "      <td>15.816871</td>\n",
       "      <td>2021-01-18</td>\n",
       "    </tr>\n",
       "    <tr>\n",
       "      <th>2</th>\n",
       "      <td>1</td>\n",
       "      <td>754.159807</td>\n",
       "      <td>6.232113</td>\n",
       "      <td>2021-04-20</td>\n",
       "    </tr>\n",
       "    <tr>\n",
       "      <th>3</th>\n",
       "      <td>1</td>\n",
       "      <td>2694.783254</td>\n",
       "      <td>18.511000</td>\n",
       "      <td>2021-08-11</td>\n",
       "    </tr>\n",
       "    <tr>\n",
       "      <th>4</th>\n",
       "      <td>1</td>\n",
       "      <td>4028.687306</td>\n",
       "      <td>26.265803</td>\n",
       "      <td>2021-08-28</td>\n",
       "    </tr>\n",
       "  </tbody>\n",
       "</table>\n",
       "</div>"
      ],
      "text/plain": [
       "   user_id     distance   duration        date\n",
       "0        1  4409.919140  25.599769  2021-01-01\n",
       "1        1  2617.592153  15.816871  2021-01-18\n",
       "2        1   754.159807   6.232113  2021-04-20\n",
       "3        1  2694.783254  18.511000  2021-08-11\n",
       "4        1  4028.687306  26.265803  2021-08-28"
      ]
     },
     "execution_count": 51,
     "metadata": {},
     "output_type": "execute_result"
    }
   ],
   "source": [
    "rides = pd.read_csv(r'rides_go.csv')\n",
    "rides.head()"
   ]
  },
  {
   "cell_type": "code",
   "execution_count": 6,
   "id": "d63ee40d",
   "metadata": {},
   "outputs": [
    {
     "name": "stdout",
     "output_type": "stream",
     "text": [
      "<class 'pandas.core.frame.DataFrame'>\n",
      "RangeIndex: 18068 entries, 0 to 18067\n",
      "Data columns (total 4 columns):\n",
      " #   Column    Non-Null Count  Dtype  \n",
      "---  ------    --------------  -----  \n",
      " 0   user_id   18068 non-null  int64  \n",
      " 1   distance  18068 non-null  float64\n",
      " 2   duration  18068 non-null  float64\n",
      " 3   date      18068 non-null  object \n",
      "dtypes: float64(2), int64(1), object(1)\n",
      "memory usage: 564.8+ KB\n"
     ]
    }
   ],
   "source": [
    "rides.info()"
   ]
  },
  {
   "cell_type": "markdown",
   "id": "f714fa70",
   "metadata": {},
   "source": [
    "В таблице **rides** хранятся данные о поездках. Таблица содержит 18068 записей. Названия столбцов:  \n",
    "- `user_id` - уникальный идентификатор пользователя  \n",
    "- `distance` - расстояние, которое пользователь проехал в текущей сессии (в метрах)  \n",
    "- `duration` - продолжительность сессии (в минутах) — время с того момента, как пользователь нажал кнопку «Начать поездку» до момента, как он нажал кнопку «Завершить поездку»  \n",
    "- `date` - дата совершения поездки"
   ]
  },
  {
   "cell_type": "code",
   "execution_count": 52,
   "id": "f2203a3e",
   "metadata": {},
   "outputs": [
    {
     "data": {
      "text/html": [
       "<div>\n",
       "<style scoped>\n",
       "    .dataframe tbody tr th:only-of-type {\n",
       "        vertical-align: middle;\n",
       "    }\n",
       "\n",
       "    .dataframe tbody tr th {\n",
       "        vertical-align: top;\n",
       "    }\n",
       "\n",
       "    .dataframe thead th {\n",
       "        text-align: right;\n",
       "    }\n",
       "</style>\n",
       "<table border=\"1\" class=\"dataframe\">\n",
       "  <thead>\n",
       "    <tr style=\"text-align: right;\">\n",
       "      <th></th>\n",
       "      <th>subscription_type</th>\n",
       "      <th>minute_price</th>\n",
       "      <th>start_ride_price</th>\n",
       "      <th>subscription_fee</th>\n",
       "    </tr>\n",
       "  </thead>\n",
       "  <tbody>\n",
       "    <tr>\n",
       "      <th>0</th>\n",
       "      <td>free</td>\n",
       "      <td>8</td>\n",
       "      <td>50</td>\n",
       "      <td>0</td>\n",
       "    </tr>\n",
       "    <tr>\n",
       "      <th>1</th>\n",
       "      <td>ultra</td>\n",
       "      <td>6</td>\n",
       "      <td>0</td>\n",
       "      <td>199</td>\n",
       "    </tr>\n",
       "  </tbody>\n",
       "</table>\n",
       "</div>"
      ],
      "text/plain": [
       "  subscription_type  minute_price  start_ride_price  subscription_fee\n",
       "0              free             8                50                 0\n",
       "1             ultra             6                 0               199"
      ]
     },
     "execution_count": 52,
     "metadata": {},
     "output_type": "execute_result"
    }
   ],
   "source": [
    "subscriptions = pd.read_csv(r'subscriptions_go.csv')\n",
    "subscriptions.head()"
   ]
  },
  {
   "cell_type": "markdown",
   "id": "efc780c6",
   "metadata": {},
   "source": [
    "Таблица **subscriptions** содержит 2 строки с данными о подписке. Есть всего два типа: free и ultra. Для них есть различия в стоимостях. Столбцы таблицы содержат:  \n",
    "- `subscription_type` - тип подписки  \n",
    "- `minute_price` - стоимость одной минуты поездки по данной подписке  \n",
    "- `start_ride_price` - стоимость начала поездки  \n",
    "- `subscription_fee` - стоимость ежемесячного платежа"
   ]
  },
  {
   "cell_type": "markdown",
   "id": "45387273",
   "metadata": {},
   "source": [
    "Изучили общую информацию, переходим к предобработке данных."
   ]
  },
  {
   "cell_type": "markdown",
   "id": "85c16192",
   "metadata": {},
   "source": [
    "<h1 style=\"font-size: 16px;\">Шаг 2. Предобработка данных</h1>"
   ]
  },
  {
   "cell_type": "markdown",
   "id": "25e6f282",
   "metadata": {},
   "source": [
    "Начнем предообработку данных.\n",
    "Заметили, что в таблице rides дата не приведена к типа datetime, приведем и сразу проверим результат:"
   ]
  },
  {
   "cell_type": "code",
   "execution_count": 8,
   "id": "e6c86993",
   "metadata": {},
   "outputs": [
    {
     "name": "stdout",
     "output_type": "stream",
     "text": [
      "<class 'pandas.core.frame.DataFrame'>\n",
      "RangeIndex: 18068 entries, 0 to 18067\n",
      "Data columns (total 4 columns):\n",
      " #   Column    Non-Null Count  Dtype         \n",
      "---  ------    --------------  -----         \n",
      " 0   user_id   18068 non-null  int64         \n",
      " 1   distance  18068 non-null  float64       \n",
      " 2   duration  18068 non-null  float64       \n",
      " 3   date      18068 non-null  datetime64[ns]\n",
      "dtypes: datetime64[ns](1), float64(2), int64(1)\n",
      "memory usage: 564.8 KB\n"
     ]
    }
   ],
   "source": [
    "rides['date'] = pd.to_datetime(rides['date'], format = '%Y-%m-%d')   \n",
    "rides.info()"
   ]
  },
  {
   "cell_type": "markdown",
   "id": "0076fa3a",
   "metadata": {},
   "source": [
    "Проверим, какой период описывают предоставленные данные."
   ]
  },
  {
   "cell_type": "code",
   "execution_count": 9,
   "id": "a9383db0",
   "metadata": {},
   "outputs": [
    {
     "name": "stdout",
     "output_type": "stream",
     "text": [
      "Поездки были совершены в промежутке с 2021-01-01 по 2021-12-30.\n"
     ]
    }
   ],
   "source": [
    "d1 = rides['date'].min().date()\n",
    "d2 = rides['date'].max().date()\n",
    "print(f'Поездки были совершены в промежутке с {d1} по {d2}.')"
   ]
  },
  {
   "cell_type": "markdown",
   "id": "c6dde21e",
   "metadata": {},
   "source": [
    "В таблице rides данные за 2021 год. Создадим новый столбец с номером месяца, в который была совершена поездка."
   ]
  },
  {
   "cell_type": "code",
   "execution_count": 10,
   "id": "67187af1",
   "metadata": {},
   "outputs": [
    {
     "data": {
      "text/html": [
       "<div>\n",
       "<style scoped>\n",
       "    .dataframe tbody tr th:only-of-type {\n",
       "        vertical-align: middle;\n",
       "    }\n",
       "\n",
       "    .dataframe tbody tr th {\n",
       "        vertical-align: top;\n",
       "    }\n",
       "\n",
       "    .dataframe thead th {\n",
       "        text-align: right;\n",
       "    }\n",
       "</style>\n",
       "<table border=\"1\" class=\"dataframe\">\n",
       "  <thead>\n",
       "    <tr style=\"text-align: right;\">\n",
       "      <th></th>\n",
       "      <th>user_id</th>\n",
       "      <th>distance</th>\n",
       "      <th>duration</th>\n",
       "      <th>date</th>\n",
       "      <th>month</th>\n",
       "    </tr>\n",
       "  </thead>\n",
       "  <tbody>\n",
       "    <tr>\n",
       "      <th>0</th>\n",
       "      <td>1</td>\n",
       "      <td>4409.919140</td>\n",
       "      <td>25.599769</td>\n",
       "      <td>2021-01-01</td>\n",
       "      <td>1</td>\n",
       "    </tr>\n",
       "    <tr>\n",
       "      <th>1</th>\n",
       "      <td>1</td>\n",
       "      <td>2617.592153</td>\n",
       "      <td>15.816871</td>\n",
       "      <td>2021-01-18</td>\n",
       "      <td>1</td>\n",
       "    </tr>\n",
       "    <tr>\n",
       "      <th>2</th>\n",
       "      <td>1</td>\n",
       "      <td>754.159807</td>\n",
       "      <td>6.232113</td>\n",
       "      <td>2021-04-20</td>\n",
       "      <td>4</td>\n",
       "    </tr>\n",
       "    <tr>\n",
       "      <th>3</th>\n",
       "      <td>1</td>\n",
       "      <td>2694.783254</td>\n",
       "      <td>18.511000</td>\n",
       "      <td>2021-08-11</td>\n",
       "      <td>8</td>\n",
       "    </tr>\n",
       "    <tr>\n",
       "      <th>4</th>\n",
       "      <td>1</td>\n",
       "      <td>4028.687306</td>\n",
       "      <td>26.265803</td>\n",
       "      <td>2021-08-28</td>\n",
       "      <td>8</td>\n",
       "    </tr>\n",
       "  </tbody>\n",
       "</table>\n",
       "</div>"
      ],
      "text/plain": [
       "   user_id     distance   duration       date  month\n",
       "0        1  4409.919140  25.599769 2021-01-01      1\n",
       "1        1  2617.592153  15.816871 2021-01-18      1\n",
       "2        1   754.159807   6.232113 2021-04-20      4\n",
       "3        1  2694.783254  18.511000 2021-08-11      8\n",
       "4        1  4028.687306  26.265803 2021-08-28      8"
      ]
     },
     "execution_count": 10,
     "metadata": {},
     "output_type": "execute_result"
    }
   ],
   "source": [
    "rides['month'] = rides['date'].dt.month\n",
    "rides.head()"
   ]
  },
  {
   "cell_type": "markdown",
   "id": "223b75c3",
   "metadata": {},
   "source": [
    "Проверим наличие явных дубликатов и удалим их."
   ]
  },
  {
   "cell_type": "code",
   "execution_count": 11,
   "id": "56a6f631",
   "metadata": {},
   "outputs": [
    {
     "name": "stdout",
     "output_type": "stream",
     "text": [
      "Количество явных дубликатов в таблице users: 31\n",
      "Количество явных дубликатов в таблице rides: 0\n"
     ]
    }
   ],
   "source": [
    "print('Количество явных дубликатов в таблице users:', users.duplicated().sum())\n",
    "print('Количество явных дубликатов в таблице rides:', rides.duplicated().sum())"
   ]
  },
  {
   "cell_type": "code",
   "execution_count": 12,
   "id": "23d3814e",
   "metadata": {},
   "outputs": [],
   "source": [
    "users = users.drop_duplicates().reset_index(drop=True)"
   ]
  },
  {
   "cell_type": "markdown",
   "id": "0ed317c5",
   "metadata": {},
   "source": [
    "Пропущенных значений в таблицах нет (судя по info), от явных дубликатор мы избавились, переходим к анализу данных."
   ]
  },
  {
   "cell_type": "markdown",
   "id": "212593c7",
   "metadata": {},
   "source": [
    "<h1 style=\"font-size: 16px;\">Шаг 3. Исследовательский анализ данных</h1>"
   ]
  },
  {
   "cell_type": "markdown",
   "id": "7b8358d2",
   "metadata": {},
   "source": [
    "Проанализируем частоту встречаемости городов в таблице users."
   ]
  },
  {
   "cell_type": "code",
   "execution_count": 13,
   "id": "9eece3af",
   "metadata": {},
   "outputs": [
    {
     "data": {
      "text/plain": [
       "Пятигорск         219\n",
       "Екатеринбург      204\n",
       "Ростов-на-Дону    198\n",
       "Краснодар         193\n",
       "Сочи              189\n",
       "Омск              183\n",
       "Тюмень            180\n",
       "Москва            168\n",
       "Name: city, dtype: int64"
      ]
     },
     "execution_count": 13,
     "metadata": {},
     "output_type": "execute_result"
    }
   ],
   "source": [
    "users['city'].value_counts()"
   ]
  },
  {
   "cell_type": "code",
   "execution_count": 14,
   "id": "53a0fb48",
   "metadata": {},
   "outputs": [
    {
     "data": {
      "image/png": "[encoded data removed]",
      "text/plain": [
       "<Figure size 640x480 with 1 Axes>"
      ]
     },
     "metadata": {},
     "output_type": "display_data"
    }
   ],
   "source": [
    "users['city'].value_counts().plot(kind = 'bar', y = 'city');\n",
    "plt.title('Частота встречаемости городов')\n",
    "plt.xlabel('Город')\n",
    "plt.ylabel('Количество пользователей')\n",
    "plt.show()"
   ]
  },
  {
   "cell_type": "markdown",
   "id": "336bbcbf",
   "metadata": {},
   "source": [
    "Больше всего данных по Пятигорску, меньше всего по Москве, но в целом данные по городам распределены достаточно равномерно."
   ]
  },
  {
   "cell_type": "markdown",
   "id": "4956b927",
   "metadata": {},
   "source": [
    " Найдем соотношение пользователей с подпиской и без подписки."
   ]
  },
  {
   "cell_type": "code",
   "execution_count": 15,
   "id": "f0c773a1",
   "metadata": {},
   "outputs": [
    {
     "data": {
      "image/png": "[encoded data removed]",
      "text/plain": [
       "<Figure size 640x480 with 1 Axes>"
      ]
     },
     "metadata": {},
     "output_type": "display_data"
    }
   ],
   "source": [
    "users['subscription_type'].value_counts().plot(kind = 'pie', y = 'subscription_type');\n",
    "plt.title('Соотношение пользователей с подпиской и без')\n",
    "plt.ylabel('Тип подписки')\n",
    "plt.show();"
   ]
  },
  {
   "cell_type": "code",
   "execution_count": 16,
   "id": "9f8e5f8e",
   "metadata": {},
   "outputs": [
    {
     "name": "stdout",
     "output_type": "stream",
     "text": [
      "Доля пользователей без подписки - 54.43%, доля пользователей с подпиской - 45.57%.\n"
     ]
    }
   ],
   "source": [
    "no_sub = (users['subscription_type'].value_counts()[0]*100/(users['subscription_type'].value_counts()[1]+users['subscription_type'].value_counts()[0])).round(2)\n",
    "with_sub =  (users['subscription_type'].value_counts()[1]*100/(users['subscription_type'].value_counts()[1]+users['subscription_type'].value_counts()[0])).round(2)\n",
    "print (f'Доля пользователей без подписки - {no_sub}%, доля пользователей с подпиской - {with_sub}%.')\n"
   ]
  },
  {
   "cell_type": "markdown",
   "id": "15bc1ce7",
   "metadata": {},
   "source": [
    " Визуализируем возраст пользователей."
   ]
  },
  {
   "cell_type": "code",
   "execution_count": 17,
   "id": "52d78b28",
   "metadata": {},
   "outputs": [
    {
     "data": {
      "text/plain": [
       "12      4\n",
       "13      8\n",
       "14      9\n",
       "15     13\n",
       "16     19\n",
       "17     26\n",
       "18     46\n",
       "19     47\n",
       "20     71\n",
       "21     93\n",
       "22    119\n",
       "23    129\n",
       "24    132\n",
       "25    145\n",
       "26    131\n",
       "27    119\n",
       "28    112\n",
       "29     68\n",
       "30     68\n",
       "31     48\n",
       "32     41\n",
       "33     39\n",
       "34     19\n",
       "35     15\n",
       "36      6\n",
       "37      2\n",
       "38      3\n",
       "39      1\n",
       "43      1\n",
       "Name: age, dtype: int64"
      ]
     },
     "execution_count": 17,
     "metadata": {},
     "output_type": "execute_result"
    }
   ],
   "source": [
    "users['age'].value_counts().sort_index()"
   ]
  },
  {
   "cell_type": "code",
   "execution_count": 18,
   "id": "762a3d99",
   "metadata": {},
   "outputs": [
    {
     "data": {
      "image/png": "[encoded data removed]",
      "text/plain": [
       "<Figure size 640x480 with 1 Axes>"
      ]
     },
     "metadata": {},
     "output_type": "display_data"
    }
   ],
   "source": [
    "users['age'].hist(bins=30)\n",
    "plt.title('Возраст пользователей')\n",
    "plt.xlabel('Возраст')\n",
    "plt.ylabel('Количество пользователей')\n",
    "plt.show()\n"
   ]
  },
  {
   "cell_type": "markdown",
   "id": "1da382a6",
   "metadata": {},
   "source": [
    "Возраст пользователей рапределен нормально с пиком в значении 25 лет. Минимальный возраст - 12 лет, максимальный - 43 года."
   ]
  },
  {
   "cell_type": "markdown",
   "id": "38f262bf",
   "metadata": {},
   "source": [
    "Проанализируем расстояние, которое пользователь преодолевает за одну поездку, а также продолжительность поездок."
   ]
  },
  {
   "cell_type": "code",
   "execution_count": 19,
   "id": "13bca3f8",
   "metadata": {},
   "outputs": [
    {
     "data": {
      "image/png": "[encoded data removed]",
      "text/plain": [
       "<Figure size 640x480 with 1 Axes>"
      ]
     },
     "metadata": {},
     "output_type": "display_data"
    }
   ],
   "source": [
    "rides['distance'].hist(bins=50)\n",
    "plt.title('Расстояние за одну поездку, м')\n",
    "plt.xlabel('Расстояние, м')\n",
    "plt.ylabel('Количество поездок')\n",
    "plt.show()"
   ]
  },
  {
   "cell_type": "markdown",
   "id": "42be03ff",
   "metadata": {},
   "source": [
    "Преодолеваемое расстояние распределено бимодально, хорошо видны две группы данных."
   ]
  },
  {
   "cell_type": "code",
   "execution_count": 20,
   "id": "2d38c69a",
   "metadata": {},
   "outputs": [
    {
     "data": {
      "image/png": "[encoded data removed]",
      "text/plain": [
       "<Figure size 640x480 with 1 Axes>"
      ]
     },
     "metadata": {},
     "output_type": "display_data"
    }
   ],
   "source": [
    "rides['duration'].hist(bins=70)\n",
    "plt.title('Продолжительность поездок, мин')\n",
    "plt.xlabel('Время, мин')\n",
    "plt.ylabel('Количество поездок')\n",
    "plt.show()"
   ]
  },
  {
   "cell_type": "markdown",
   "id": "030bf388",
   "metadata": {},
   "source": [
    "Итак, весь массив поездок мы можем разделить на две части: короткие поездки (вероятно, пробные первые разы, когда человек хочет просто познакомиться с такой возможностью), и обычные поездки."
   ]
  },
  {
   "cell_type": "markdown",
   "id": "4ef51331",
   "metadata": {},
   "source": [
    "<h1 style=\"font-size: 16px;\">Шаг 4. Объединение данных</h1>"
   ]
  },
  {
   "cell_type": "markdown",
   "id": "9a890908",
   "metadata": {},
   "source": [
    "Объединим данные о пользователях, поездках и подписках в один датафрейм."
   ]
  },
  {
   "cell_type": "code",
   "execution_count": 21,
   "id": "5b19dac4",
   "metadata": {},
   "outputs": [
    {
     "data": {
      "text/html": [
       "<div>\n",
       "<style scoped>\n",
       "    .dataframe tbody tr th:only-of-type {\n",
       "        vertical-align: middle;\n",
       "    }\n",
       "\n",
       "    .dataframe tbody tr th {\n",
       "        vertical-align: top;\n",
       "    }\n",
       "\n",
       "    .dataframe thead th {\n",
       "        text-align: right;\n",
       "    }\n",
       "</style>\n",
       "<table border=\"1\" class=\"dataframe\">\n",
       "  <thead>\n",
       "    <tr style=\"text-align: right;\">\n",
       "      <th></th>\n",
       "      <th>user_id</th>\n",
       "      <th>name</th>\n",
       "      <th>age</th>\n",
       "      <th>city</th>\n",
       "      <th>subscription_type</th>\n",
       "      <th>distance</th>\n",
       "      <th>duration</th>\n",
       "      <th>date</th>\n",
       "      <th>month</th>\n",
       "      <th>minute_price</th>\n",
       "      <th>start_ride_price</th>\n",
       "      <th>subscription_fee</th>\n",
       "    </tr>\n",
       "  </thead>\n",
       "  <tbody>\n",
       "    <tr>\n",
       "      <th>0</th>\n",
       "      <td>1</td>\n",
       "      <td>Кира</td>\n",
       "      <td>22</td>\n",
       "      <td>Тюмень</td>\n",
       "      <td>ultra</td>\n",
       "      <td>4409.919140</td>\n",
       "      <td>25.599769</td>\n",
       "      <td>2021-01-01</td>\n",
       "      <td>1</td>\n",
       "      <td>6</td>\n",
       "      <td>0</td>\n",
       "      <td>199</td>\n",
       "    </tr>\n",
       "    <tr>\n",
       "      <th>1</th>\n",
       "      <td>1</td>\n",
       "      <td>Кира</td>\n",
       "      <td>22</td>\n",
       "      <td>Тюмень</td>\n",
       "      <td>ultra</td>\n",
       "      <td>2617.592153</td>\n",
       "      <td>15.816871</td>\n",
       "      <td>2021-01-18</td>\n",
       "      <td>1</td>\n",
       "      <td>6</td>\n",
       "      <td>0</td>\n",
       "      <td>199</td>\n",
       "    </tr>\n",
       "    <tr>\n",
       "      <th>2</th>\n",
       "      <td>1</td>\n",
       "      <td>Кира</td>\n",
       "      <td>22</td>\n",
       "      <td>Тюмень</td>\n",
       "      <td>ultra</td>\n",
       "      <td>754.159807</td>\n",
       "      <td>6.232113</td>\n",
       "      <td>2021-04-20</td>\n",
       "      <td>4</td>\n",
       "      <td>6</td>\n",
       "      <td>0</td>\n",
       "      <td>199</td>\n",
       "    </tr>\n",
       "    <tr>\n",
       "      <th>3</th>\n",
       "      <td>1</td>\n",
       "      <td>Кира</td>\n",
       "      <td>22</td>\n",
       "      <td>Тюмень</td>\n",
       "      <td>ultra</td>\n",
       "      <td>2694.783254</td>\n",
       "      <td>18.511000</td>\n",
       "      <td>2021-08-11</td>\n",
       "      <td>8</td>\n",
       "      <td>6</td>\n",
       "      <td>0</td>\n",
       "      <td>199</td>\n",
       "    </tr>\n",
       "    <tr>\n",
       "      <th>4</th>\n",
       "      <td>1</td>\n",
       "      <td>Кира</td>\n",
       "      <td>22</td>\n",
       "      <td>Тюмень</td>\n",
       "      <td>ultra</td>\n",
       "      <td>4028.687306</td>\n",
       "      <td>26.265803</td>\n",
       "      <td>2021-08-28</td>\n",
       "      <td>8</td>\n",
       "      <td>6</td>\n",
       "      <td>0</td>\n",
       "      <td>199</td>\n",
       "    </tr>\n",
       "  </tbody>\n",
       "</table>\n",
       "</div>"
      ],
      "text/plain": [
       "   user_id  name  age    city subscription_type     distance   duration  \\\n",
       "0        1  Кира   22  Тюмень             ultra  4409.919140  25.599769   \n",
       "1        1  Кира   22  Тюмень             ultra  2617.592153  15.816871   \n",
       "2        1  Кира   22  Тюмень             ultra   754.159807   6.232113   \n",
       "3        1  Кира   22  Тюмень             ultra  2694.783254  18.511000   \n",
       "4        1  Кира   22  Тюмень             ultra  4028.687306  26.265803   \n",
       "\n",
       "        date  month  minute_price  start_ride_price  subscription_fee  \n",
       "0 2021-01-01      1             6                 0               199  \n",
       "1 2021-01-18      1             6                 0               199  \n",
       "2 2021-04-20      4             6                 0               199  \n",
       "3 2021-08-11      8             6                 0               199  \n",
       "4 2021-08-28      8             6                 0               199  "
      ]
     },
     "execution_count": 21,
     "metadata": {},
     "output_type": "execute_result"
    }
   ],
   "source": [
    "full = users.merge(rides, on = 'user_id')\n",
    "full = full.merge(subscriptions, on = 'subscription_type')\n",
    "full.head()"
   ]
  },
  {
   "cell_type": "markdown",
   "id": "b550aa7a",
   "metadata": {},
   "source": [
    "Создадим два отдельных датафрейма: для пользователей с подпиской и без."
   ]
  },
  {
   "cell_type": "code",
   "execution_count": 22,
   "id": "672b6dfe",
   "metadata": {},
   "outputs": [],
   "source": [
    "no_subscription = full.loc[full.loc[:,'subscription_type']  == 'free']\n",
    "with_subscription = full.loc[full.loc[:,'subscription_type']  == 'ultra']"
   ]
  },
  {
   "cell_type": "markdown",
   "id": "e9de2887",
   "metadata": {},
   "source": [
    "Проверим, все ли строки попали в две получившиеся таблицы."
   ]
  },
  {
   "cell_type": "code",
   "execution_count": 23,
   "id": "58c0c4b7",
   "metadata": {},
   "outputs": [
    {
     "name": "stdout",
     "output_type": "stream",
     "text": [
      "При разделении таблицы строки не потеряны.\n"
     ]
    }
   ],
   "source": [
    "if no_subscription.shape[0] + with_subscription.shape[0] == rides.shape[0]:\n",
    "    print ('При разделении таблицы строки не потеряны.')\n",
    "else:\n",
    "    print ('Сумма строк не совпадает.')"
   ]
  },
  {
   "cell_type": "markdown",
   "id": "0d8cf891",
   "metadata": {},
   "source": [
    "Визуализируем информацию о расстоянии и времени поездок для пользователей обеих категорий."
   ]
  },
  {
   "cell_type": "code",
   "execution_count": 24,
   "id": "b9a9acfd",
   "metadata": {},
   "outputs": [
    {
     "data": {
      "image/png": "[encoded data removed]",
      "text/plain": [
       "<Figure size 640x480 with 1 Axes>"
      ]
     },
     "metadata": {},
     "output_type": "display_data"
    }
   ],
   "source": [
    "no_subscription['distance'].hist(bins=50)\n",
    "plt.title('Расстояние за одну поездку без подписки, м')\n",
    "plt.xlabel('Расстояние, м')\n",
    "plt.ylabel('Количество поездок')\n",
    "plt.show()"
   ]
  },
  {
   "cell_type": "code",
   "execution_count": 25,
   "id": "03ee9e3f",
   "metadata": {},
   "outputs": [
    {
     "data": {
      "image/png": "[encoded data removed]",
      "text/plain": [
       "<Figure size 640x480 with 1 Axes>"
      ]
     },
     "metadata": {},
     "output_type": "display_data"
    }
   ],
   "source": [
    "no_subscription['duration'].hist(bins=70)\n",
    "plt.title('Продолжительность поездок без подписки, мин')\n",
    "plt.xlabel('Время, мин')\n",
    "plt.ylabel('Количество поездок')\n",
    "plt.show()"
   ]
  },
  {
   "cell_type": "code",
   "execution_count": 26,
   "id": "59beb457",
   "metadata": {},
   "outputs": [
    {
     "data": {
      "image/png": "[encoded data removed]",
      "text/plain": [
       "<Figure size 640x480 with 1 Axes>"
      ]
     },
     "metadata": {},
     "output_type": "display_data"
    }
   ],
   "source": [
    "with_subscription['distance'].hist(bins=50)\n",
    "plt.title('Расстояние за одну поездку c подпиской, м')\n",
    "plt.xlabel('Расстояние, м')\n",
    "plt.ylabel('Количество поездок')\n",
    "plt.show()"
   ]
  },
  {
   "cell_type": "code",
   "execution_count": 27,
   "id": "7f41d01d",
   "metadata": {},
   "outputs": [
    {
     "data": {
      "image/png": "[encoded data removed]",
      "text/plain": [
       "<Figure size 640x480 with 1 Axes>"
      ]
     },
     "metadata": {},
     "output_type": "display_data"
    }
   ],
   "source": [
    "with_subscription['duration'].hist(bins=70)\n",
    "plt.title('Продолжительность поездок c подпиской, мин')\n",
    "plt.xlabel('Время, мин')\n",
    "plt.ylabel('Количество поездок')\n",
    "plt.show()"
   ]
  },
  {
   "cell_type": "markdown",
   "id": "7ffacd7c",
   "metadata": {},
   "source": [
    "Без глубокого анализа по диаграммам можно сказать, что без подписки люди совершают больше коротких поездок, чем с подпиской, а пройденные расстояния с подпиской и без значительно не отличаются."
   ]
  },
  {
   "cell_type": "markdown",
   "id": "402d620f",
   "metadata": {},
   "source": [
    "<h1 style=\"font-size: 16px;\">Шаг 5. Подсчёт</h1>"
   ]
  },
  {
   "cell_type": "markdown",
   "id": "ca3a2170",
   "metadata": {},
   "source": [
    "Создадим новый датафрейм с агрегированными данными о поездках: найдем суммарное расстояние, количество поездок и суммарное время для каждого пользователя за каждый месяц."
   ]
  },
  {
   "cell_type": "code",
   "execution_count": 28,
   "id": "b5c4af70",
   "metadata": {
    "scrolled": false
   },
   "outputs": [
    {
     "data": {
      "text/html": [
       "<div>\n",
       "<style scoped>\n",
       "    .dataframe tbody tr th:only-of-type {\n",
       "        vertical-align: middle;\n",
       "    }\n",
       "\n",
       "    .dataframe tbody tr th {\n",
       "        vertical-align: top;\n",
       "    }\n",
       "\n",
       "    .dataframe thead th {\n",
       "        text-align: right;\n",
       "    }\n",
       "</style>\n",
       "<table border=\"1\" class=\"dataframe\">\n",
       "  <thead>\n",
       "    <tr style=\"text-align: right;\">\n",
       "      <th></th>\n",
       "      <th></th>\n",
       "      <th>rides_count</th>\n",
       "      <th>distance</th>\n",
       "      <th>duration</th>\n",
       "      <th>subscription_fee</th>\n",
       "      <th>minute_price</th>\n",
       "      <th>start_ride_price</th>\n",
       "    </tr>\n",
       "    <tr>\n",
       "      <th>user_id</th>\n",
       "      <th>month</th>\n",
       "      <th></th>\n",
       "      <th></th>\n",
       "      <th></th>\n",
       "      <th></th>\n",
       "      <th></th>\n",
       "      <th></th>\n",
       "    </tr>\n",
       "  </thead>\n",
       "  <tbody>\n",
       "    <tr>\n",
       "      <th rowspan=\"6\" valign=\"top\">1</th>\n",
       "      <th>1</th>\n",
       "      <td>2</td>\n",
       "      <td>7028.0</td>\n",
       "      <td>42.0</td>\n",
       "      <td>199</td>\n",
       "      <td>6</td>\n",
       "      <td>0</td>\n",
       "    </tr>\n",
       "    <tr>\n",
       "      <th>4</th>\n",
       "      <td>1</td>\n",
       "      <td>755.0</td>\n",
       "      <td>7.0</td>\n",
       "      <td>199</td>\n",
       "      <td>6</td>\n",
       "      <td>0</td>\n",
       "    </tr>\n",
       "    <tr>\n",
       "      <th>8</th>\n",
       "      <td>2</td>\n",
       "      <td>6724.0</td>\n",
       "      <td>45.0</td>\n",
       "      <td>199</td>\n",
       "      <td>6</td>\n",
       "      <td>0</td>\n",
       "    </tr>\n",
       "    <tr>\n",
       "      <th>10</th>\n",
       "      <td>2</td>\n",
       "      <td>5810.0</td>\n",
       "      <td>32.0</td>\n",
       "      <td>199</td>\n",
       "      <td>6</td>\n",
       "      <td>0</td>\n",
       "    </tr>\n",
       "    <tr>\n",
       "      <th>11</th>\n",
       "      <td>3</td>\n",
       "      <td>7004.0</td>\n",
       "      <td>54.0</td>\n",
       "      <td>199</td>\n",
       "      <td>6</td>\n",
       "      <td>0</td>\n",
       "    </tr>\n",
       "    <tr>\n",
       "      <th>12</th>\n",
       "      <td>2</td>\n",
       "      <td>6752.0</td>\n",
       "      <td>28.0</td>\n",
       "      <td>199</td>\n",
       "      <td>6</td>\n",
       "      <td>0</td>\n",
       "    </tr>\n",
       "    <tr>\n",
       "      <th rowspan=\"7\" valign=\"top\">2</th>\n",
       "      <th>3</th>\n",
       "      <td>3</td>\n",
       "      <td>10188.0</td>\n",
       "      <td>61.0</td>\n",
       "      <td>199</td>\n",
       "      <td>6</td>\n",
       "      <td>0</td>\n",
       "    </tr>\n",
       "    <tr>\n",
       "      <th>4</th>\n",
       "      <td>2</td>\n",
       "      <td>6165.0</td>\n",
       "      <td>40.0</td>\n",
       "      <td>199</td>\n",
       "      <td>6</td>\n",
       "      <td>0</td>\n",
       "    </tr>\n",
       "    <tr>\n",
       "      <th>6</th>\n",
       "      <td>1</td>\n",
       "      <td>3256.0</td>\n",
       "      <td>14.0</td>\n",
       "      <td>199</td>\n",
       "      <td>6</td>\n",
       "      <td>0</td>\n",
       "    </tr>\n",
       "    <tr>\n",
       "      <th>7</th>\n",
       "      <td>2</td>\n",
       "      <td>6781.0</td>\n",
       "      <td>47.0</td>\n",
       "      <td>199</td>\n",
       "      <td>6</td>\n",
       "      <td>0</td>\n",
       "    </tr>\n",
       "    <tr>\n",
       "      <th>8</th>\n",
       "      <td>1</td>\n",
       "      <td>924.0</td>\n",
       "      <td>7.0</td>\n",
       "      <td>199</td>\n",
       "      <td>6</td>\n",
       "      <td>0</td>\n",
       "    </tr>\n",
       "    <tr>\n",
       "      <th>10</th>\n",
       "      <td>1</td>\n",
       "      <td>2825.0</td>\n",
       "      <td>19.0</td>\n",
       "      <td>199</td>\n",
       "      <td>6</td>\n",
       "      <td>0</td>\n",
       "    </tr>\n",
       "    <tr>\n",
       "      <th>12</th>\n",
       "      <td>1</td>\n",
       "      <td>3829.0</td>\n",
       "      <td>12.0</td>\n",
       "      <td>199</td>\n",
       "      <td>6</td>\n",
       "      <td>0</td>\n",
       "    </tr>\n",
       "    <tr>\n",
       "      <th rowspan=\"7\" valign=\"top\">3</th>\n",
       "      <th>1</th>\n",
       "      <td>1</td>\n",
       "      <td>3062.0</td>\n",
       "      <td>13.0</td>\n",
       "      <td>199</td>\n",
       "      <td>6</td>\n",
       "      <td>0</td>\n",
       "    </tr>\n",
       "    <tr>\n",
       "      <th>2</th>\n",
       "      <td>2</td>\n",
       "      <td>5422.0</td>\n",
       "      <td>38.0</td>\n",
       "      <td>199</td>\n",
       "      <td>6</td>\n",
       "      <td>0</td>\n",
       "    </tr>\n",
       "    <tr>\n",
       "      <th>4</th>\n",
       "      <td>1</td>\n",
       "      <td>2957.0</td>\n",
       "      <td>21.0</td>\n",
       "      <td>199</td>\n",
       "      <td>6</td>\n",
       "      <td>0</td>\n",
       "    </tr>\n",
       "    <tr>\n",
       "      <th>5</th>\n",
       "      <td>3</td>\n",
       "      <td>9065.0</td>\n",
       "      <td>62.0</td>\n",
       "      <td>199</td>\n",
       "      <td>6</td>\n",
       "      <td>0</td>\n",
       "    </tr>\n",
       "    <tr>\n",
       "      <th>7</th>\n",
       "      <td>3</td>\n",
       "      <td>10920.0</td>\n",
       "      <td>66.0</td>\n",
       "      <td>199</td>\n",
       "      <td>6</td>\n",
       "      <td>0</td>\n",
       "    </tr>\n",
       "    <tr>\n",
       "      <th>9</th>\n",
       "      <td>1</td>\n",
       "      <td>2892.0</td>\n",
       "      <td>23.0</td>\n",
       "      <td>199</td>\n",
       "      <td>6</td>\n",
       "      <td>0</td>\n",
       "    </tr>\n",
       "    <tr>\n",
       "      <th>12</th>\n",
       "      <td>1</td>\n",
       "      <td>2594.0</td>\n",
       "      <td>13.0</td>\n",
       "      <td>199</td>\n",
       "      <td>6</td>\n",
       "      <td>0</td>\n",
       "    </tr>\n",
       "  </tbody>\n",
       "</table>\n",
       "</div>"
      ],
      "text/plain": [
       "               rides_count  distance  duration  subscription_fee  \\\n",
       "user_id month                                                      \n",
       "1       1                2    7028.0      42.0               199   \n",
       "        4                1     755.0       7.0               199   \n",
       "        8                2    6724.0      45.0               199   \n",
       "        10               2    5810.0      32.0               199   \n",
       "        11               3    7004.0      54.0               199   \n",
       "        12               2    6752.0      28.0               199   \n",
       "2       3                3   10188.0      61.0               199   \n",
       "        4                2    6165.0      40.0               199   \n",
       "        6                1    3256.0      14.0               199   \n",
       "        7                2    6781.0      47.0               199   \n",
       "        8                1     924.0       7.0               199   \n",
       "        10               1    2825.0      19.0               199   \n",
       "        12               1    3829.0      12.0               199   \n",
       "3       1                1    3062.0      13.0               199   \n",
       "        2                2    5422.0      38.0               199   \n",
       "        4                1    2957.0      21.0               199   \n",
       "        5                3    9065.0      62.0               199   \n",
       "        7                3   10920.0      66.0               199   \n",
       "        9                1    2892.0      23.0               199   \n",
       "        12               1    2594.0      13.0               199   \n",
       "\n",
       "               minute_price  start_ride_price  \n",
       "user_id month                                  \n",
       "1       1                 6                 0  \n",
       "        4                 6                 0  \n",
       "        8                 6                 0  \n",
       "        10                6                 0  \n",
       "        11                6                 0  \n",
       "        12                6                 0  \n",
       "2       3                 6                 0  \n",
       "        4                 6                 0  \n",
       "        6                 6                 0  \n",
       "        7                 6                 0  \n",
       "        8                 6                 0  \n",
       "        10                6                 0  \n",
       "        12                6                 0  \n",
       "3       1                 6                 0  \n",
       "        2                 6                 0  \n",
       "        4                 6                 0  \n",
       "        5                 6                 0  \n",
       "        7                 6                 0  \n",
       "        9                 6                 0  \n",
       "        12                6                 0  "
      ]
     },
     "execution_count": 28,
     "metadata": {},
     "output_type": "execute_result"
    }
   ],
   "source": [
    "full_agr = full.groupby(['user_id', 'month']).agg({'date':'count', 'distance':'sum', 'duration':'sum', 'subscription_fee':'first', 'minute_price':'first', 'start_ride_price':'first'})\n",
    "full_agr['duration'] = np.ceil(full_agr['duration']) \n",
    "full_agr['distance'] = np.ceil(full_agr['distance']) \n",
    "full_agr = full_agr.rename(columns={'date' : 'rides_count'})\n",
    "full_agr.head(20)"
   ]
  },
  {
   "cell_type": "markdown",
   "id": "6e507b1e",
   "metadata": {},
   "source": [
    "Добавим столбец с помесячной выручкой, которую принёс каждый пользователь."
   ]
  },
  {
   "cell_type": "code",
   "execution_count": 29,
   "id": "088b941f",
   "metadata": {
    "scrolled": false
   },
   "outputs": [
    {
     "data": {
      "text/html": [
       "<div>\n",
       "<style scoped>\n",
       "    .dataframe tbody tr th:only-of-type {\n",
       "        vertical-align: middle;\n",
       "    }\n",
       "\n",
       "    .dataframe tbody tr th {\n",
       "        vertical-align: top;\n",
       "    }\n",
       "\n",
       "    .dataframe thead th {\n",
       "        text-align: right;\n",
       "    }\n",
       "</style>\n",
       "<table border=\"1\" class=\"dataframe\">\n",
       "  <thead>\n",
       "    <tr style=\"text-align: right;\">\n",
       "      <th></th>\n",
       "      <th></th>\n",
       "      <th>rides_count</th>\n",
       "      <th>distance</th>\n",
       "      <th>duration</th>\n",
       "      <th>subscription_fee</th>\n",
       "      <th>minute_price</th>\n",
       "      <th>start_ride_price</th>\n",
       "      <th>revenue</th>\n",
       "    </tr>\n",
       "    <tr>\n",
       "      <th>user_id</th>\n",
       "      <th>month</th>\n",
       "      <th></th>\n",
       "      <th></th>\n",
       "      <th></th>\n",
       "      <th></th>\n",
       "      <th></th>\n",
       "      <th></th>\n",
       "      <th></th>\n",
       "    </tr>\n",
       "  </thead>\n",
       "  <tbody>\n",
       "    <tr>\n",
       "      <th rowspan=\"6\" valign=\"top\">1</th>\n",
       "      <th>1</th>\n",
       "      <td>2</td>\n",
       "      <td>7028.0</td>\n",
       "      <td>42.0</td>\n",
       "      <td>199</td>\n",
       "      <td>6</td>\n",
       "      <td>0</td>\n",
       "      <td>451.0</td>\n",
       "    </tr>\n",
       "    <tr>\n",
       "      <th>4</th>\n",
       "      <td>1</td>\n",
       "      <td>755.0</td>\n",
       "      <td>7.0</td>\n",
       "      <td>199</td>\n",
       "      <td>6</td>\n",
       "      <td>0</td>\n",
       "      <td>241.0</td>\n",
       "    </tr>\n",
       "    <tr>\n",
       "      <th>8</th>\n",
       "      <td>2</td>\n",
       "      <td>6724.0</td>\n",
       "      <td>45.0</td>\n",
       "      <td>199</td>\n",
       "      <td>6</td>\n",
       "      <td>0</td>\n",
       "      <td>469.0</td>\n",
       "    </tr>\n",
       "    <tr>\n",
       "      <th>10</th>\n",
       "      <td>2</td>\n",
       "      <td>5810.0</td>\n",
       "      <td>32.0</td>\n",
       "      <td>199</td>\n",
       "      <td>6</td>\n",
       "      <td>0</td>\n",
       "      <td>391.0</td>\n",
       "    </tr>\n",
       "    <tr>\n",
       "      <th>11</th>\n",
       "      <td>3</td>\n",
       "      <td>7004.0</td>\n",
       "      <td>54.0</td>\n",
       "      <td>199</td>\n",
       "      <td>6</td>\n",
       "      <td>0</td>\n",
       "      <td>523.0</td>\n",
       "    </tr>\n",
       "    <tr>\n",
       "      <th>12</th>\n",
       "      <td>2</td>\n",
       "      <td>6752.0</td>\n",
       "      <td>28.0</td>\n",
       "      <td>199</td>\n",
       "      <td>6</td>\n",
       "      <td>0</td>\n",
       "      <td>367.0</td>\n",
       "    </tr>\n",
       "    <tr>\n",
       "      <th rowspan=\"7\" valign=\"top\">2</th>\n",
       "      <th>3</th>\n",
       "      <td>3</td>\n",
       "      <td>10188.0</td>\n",
       "      <td>61.0</td>\n",
       "      <td>199</td>\n",
       "      <td>6</td>\n",
       "      <td>0</td>\n",
       "      <td>565.0</td>\n",
       "    </tr>\n",
       "    <tr>\n",
       "      <th>4</th>\n",
       "      <td>2</td>\n",
       "      <td>6165.0</td>\n",
       "      <td>40.0</td>\n",
       "      <td>199</td>\n",
       "      <td>6</td>\n",
       "      <td>0</td>\n",
       "      <td>439.0</td>\n",
       "    </tr>\n",
       "    <tr>\n",
       "      <th>6</th>\n",
       "      <td>1</td>\n",
       "      <td>3256.0</td>\n",
       "      <td>14.0</td>\n",
       "      <td>199</td>\n",
       "      <td>6</td>\n",
       "      <td>0</td>\n",
       "      <td>283.0</td>\n",
       "    </tr>\n",
       "    <tr>\n",
       "      <th>7</th>\n",
       "      <td>2</td>\n",
       "      <td>6781.0</td>\n",
       "      <td>47.0</td>\n",
       "      <td>199</td>\n",
       "      <td>6</td>\n",
       "      <td>0</td>\n",
       "      <td>481.0</td>\n",
       "    </tr>\n",
       "    <tr>\n",
       "      <th>8</th>\n",
       "      <td>1</td>\n",
       "      <td>924.0</td>\n",
       "      <td>7.0</td>\n",
       "      <td>199</td>\n",
       "      <td>6</td>\n",
       "      <td>0</td>\n",
       "      <td>241.0</td>\n",
       "    </tr>\n",
       "    <tr>\n",
       "      <th>10</th>\n",
       "      <td>1</td>\n",
       "      <td>2825.0</td>\n",
       "      <td>19.0</td>\n",
       "      <td>199</td>\n",
       "      <td>6</td>\n",
       "      <td>0</td>\n",
       "      <td>313.0</td>\n",
       "    </tr>\n",
       "    <tr>\n",
       "      <th>12</th>\n",
       "      <td>1</td>\n",
       "      <td>3829.0</td>\n",
       "      <td>12.0</td>\n",
       "      <td>199</td>\n",
       "      <td>6</td>\n",
       "      <td>0</td>\n",
       "      <td>271.0</td>\n",
       "    </tr>\n",
       "    <tr>\n",
       "      <th rowspan=\"7\" valign=\"top\">3</th>\n",
       "      <th>1</th>\n",
       "      <td>1</td>\n",
       "      <td>3062.0</td>\n",
       "      <td>13.0</td>\n",
       "      <td>199</td>\n",
       "      <td>6</td>\n",
       "      <td>0</td>\n",
       "      <td>277.0</td>\n",
       "    </tr>\n",
       "    <tr>\n",
       "      <th>2</th>\n",
       "      <td>2</td>\n",
       "      <td>5422.0</td>\n",
       "      <td>38.0</td>\n",
       "      <td>199</td>\n",
       "      <td>6</td>\n",
       "      <td>0</td>\n",
       "      <td>427.0</td>\n",
       "    </tr>\n",
       "    <tr>\n",
       "      <th>4</th>\n",
       "      <td>1</td>\n",
       "      <td>2957.0</td>\n",
       "      <td>21.0</td>\n",
       "      <td>199</td>\n",
       "      <td>6</td>\n",
       "      <td>0</td>\n",
       "      <td>325.0</td>\n",
       "    </tr>\n",
       "    <tr>\n",
       "      <th>5</th>\n",
       "      <td>3</td>\n",
       "      <td>9065.0</td>\n",
       "      <td>62.0</td>\n",
       "      <td>199</td>\n",
       "      <td>6</td>\n",
       "      <td>0</td>\n",
       "      <td>571.0</td>\n",
       "    </tr>\n",
       "    <tr>\n",
       "      <th>7</th>\n",
       "      <td>3</td>\n",
       "      <td>10920.0</td>\n",
       "      <td>66.0</td>\n",
       "      <td>199</td>\n",
       "      <td>6</td>\n",
       "      <td>0</td>\n",
       "      <td>595.0</td>\n",
       "    </tr>\n",
       "    <tr>\n",
       "      <th>9</th>\n",
       "      <td>1</td>\n",
       "      <td>2892.0</td>\n",
       "      <td>23.0</td>\n",
       "      <td>199</td>\n",
       "      <td>6</td>\n",
       "      <td>0</td>\n",
       "      <td>337.0</td>\n",
       "    </tr>\n",
       "    <tr>\n",
       "      <th>12</th>\n",
       "      <td>1</td>\n",
       "      <td>2594.0</td>\n",
       "      <td>13.0</td>\n",
       "      <td>199</td>\n",
       "      <td>6</td>\n",
       "      <td>0</td>\n",
       "      <td>277.0</td>\n",
       "    </tr>\n",
       "  </tbody>\n",
       "</table>\n",
       "</div>"
      ],
      "text/plain": [
       "               rides_count  distance  duration  subscription_fee  \\\n",
       "user_id month                                                      \n",
       "1       1                2    7028.0      42.0               199   \n",
       "        4                1     755.0       7.0               199   \n",
       "        8                2    6724.0      45.0               199   \n",
       "        10               2    5810.0      32.0               199   \n",
       "        11               3    7004.0      54.0               199   \n",
       "        12               2    6752.0      28.0               199   \n",
       "2       3                3   10188.0      61.0               199   \n",
       "        4                2    6165.0      40.0               199   \n",
       "        6                1    3256.0      14.0               199   \n",
       "        7                2    6781.0      47.0               199   \n",
       "        8                1     924.0       7.0               199   \n",
       "        10               1    2825.0      19.0               199   \n",
       "        12               1    3829.0      12.0               199   \n",
       "3       1                1    3062.0      13.0               199   \n",
       "        2                2    5422.0      38.0               199   \n",
       "        4                1    2957.0      21.0               199   \n",
       "        5                3    9065.0      62.0               199   \n",
       "        7                3   10920.0      66.0               199   \n",
       "        9                1    2892.0      23.0               199   \n",
       "        12               1    2594.0      13.0               199   \n",
       "\n",
       "               minute_price  start_ride_price  revenue  \n",
       "user_id month                                           \n",
       "1       1                 6                 0    451.0  \n",
       "        4                 6                 0    241.0  \n",
       "        8                 6                 0    469.0  \n",
       "        10                6                 0    391.0  \n",
       "        11                6                 0    523.0  \n",
       "        12                6                 0    367.0  \n",
       "2       3                 6                 0    565.0  \n",
       "        4                 6                 0    439.0  \n",
       "        6                 6                 0    283.0  \n",
       "        7                 6                 0    481.0  \n",
       "        8                 6                 0    241.0  \n",
       "        10                6                 0    313.0  \n",
       "        12                6                 0    271.0  \n",
       "3       1                 6                 0    277.0  \n",
       "        2                 6                 0    427.0  \n",
       "        4                 6                 0    325.0  \n",
       "        5                 6                 0    571.0  \n",
       "        7                 6                 0    595.0  \n",
       "        9                 6                 0    337.0  \n",
       "        12                6                 0    277.0  "
      ]
     },
     "execution_count": 29,
     "metadata": {},
     "output_type": "execute_result"
    }
   ],
   "source": [
    "full_agr['revenue'] = full_agr['subscription_fee'] + full_agr['duration'] * full_agr['minute_price'] + full_agr['start_ride_price'] * full_agr['rides_count'] \n",
    "full_agr.head(20)"
   ]
  },
  {
   "cell_type": "markdown",
   "id": "41545ac0",
   "metadata": {},
   "source": [
    "<h1 style=\"font-size: 16px;\">Шаг 6. Проверка гипотез</h1>"
   ]
  },
  {
   "cell_type": "markdown",
   "id": "b9f0fcff",
   "metadata": {},
   "source": [
    "**1.** Проверим, тратят ли пользователи с подпиской больше времени на поездки. Для этого выдвинем гипотезу, что пользователи с подпиской и без тратят одинаковое количество времени на поездки. Альтернативной гипотезой будет односторонняя гипотеза о том, что пользователи с подпиской тратят больше времени на поездки. Генеральные совокупности не зависят друг от друга, поэтому используем следующий метод:"
   ]
  },
  {
   "cell_type": "code",
   "execution_count": 30,
   "id": "af375fbe",
   "metadata": {},
   "outputs": [
    {
     "name": "stdout",
     "output_type": "stream",
     "text": [
      "p-значение: 1.2804098316645613e-34\n",
      "Отвергаем нулевую гипотезу.\n"
     ]
    }
   ],
   "source": [
    "alpha = 0.05\n",
    "results = st.ttest_ind(with_subscription['duration'], no_subscription['duration'], alternative = 'greater')\n",
    "print('p-значение:', results.pvalue)\n",
    "if results.pvalue < alpha:\n",
    "    print('Отвергаем нулевую гипотезу.')\n",
    "else:\n",
    "    print('Не получилось опровергнуть нулевую гипотезу.')"
   ]
  },
  {
   "cell_type": "markdown",
   "id": "d21ccff2",
   "metadata": {},
   "source": [
    "Таким образом, есть основания говорить, что пользователи с подпиской тратят больше времени на поездки."
   ]
  },
  {
   "cell_type": "markdown",
   "id": "ebfc2591",
   "metadata": {},
   "source": [
    "Для интереса возьмем данные нашего датасета и посмотрим, как мы можем увидеть тоже самое без проверки гипотез."
   ]
  },
  {
   "cell_type": "code",
   "execution_count": 31,
   "id": "16751f14",
   "metadata": {},
   "outputs": [
    {
     "name": "stdout",
     "output_type": "stream",
     "text": [
      "Пользователи без подписки в среднем тратят на 6.62% меньше времени на поездки.\n"
     ]
    }
   ],
   "source": [
    "if no_subscription['duration'].mean() < with_subscription['duration'].mean():\n",
    "    b = ((with_subscription['duration'].mean()/no_subscription['duration'].mean())*100 - 100).round(2)\n",
    "    print(f'Пользователи без подписки в среднем тратят на {b}% меньше времени на поездки.')\n",
    "elif no_subscription['duration'].mean() > with_subscription['duration'].mean():\n",
    "    b = ((no_subscription['duration'].mean()/with_subscription['duration'].mean())*100 - 100).round(2)\n",
    "    print('Пользователи без подписки в среднем тратят больше времени на поездки.')\n",
    "else:\n",
    "    print('Длительность поездок c подпиской и без одинаковы.')"
   ]
  },
  {
   "cell_type": "markdown",
   "id": "ce0c27aa",
   "metadata": {},
   "source": [
    "Все верно, на нашей выборке пользователи с подпиской ездят на самокатах в среднем дольше в каждой поездке, чем без подписки."
   ]
  },
  {
   "cell_type": "markdown",
   "id": "afc3fb78",
   "metadata": {},
   "source": [
    "**2.** Известно, что расстояние одной поездки в 3130 метров — оптимальное с точки зрения износа самоката. Проверим, можно ли сказать, что расстояние, которое проезжают пользователи с подпиской за одну поездку, не превышает 3130 метров? Для этого выдвинем нулевую гипотезу, что пользователи с подпиской проезжают 3130 метров за одну поездку. Альтернативной гипотезой будет односторонняя гипотеза о том, что пользователи проезжают менее 3130 метров."
   ]
  },
  {
   "cell_type": "code",
   "execution_count": 32,
   "id": "4c2a4cb6",
   "metadata": {},
   "outputs": [
    {
     "name": "stdout",
     "output_type": "stream",
     "text": [
      "p-значение: 0.08046311521502145\n",
      "Не получилось опровергнуть нулевую гипотезу.\n"
     ]
    }
   ],
   "source": [
    "distance = 3130\n",
    "alpha = 0.05\n",
    "results = st.ttest_1samp(with_subscription['distance'], distance, alternative='less')\n",
    "print('p-значение:', results.pvalue)\n",
    "if results.pvalue < alpha:\n",
    "    print('Отвергаем нулевую гипотезу.')\n",
    "else:\n",
    "    print('Не получилось опровергнуть нулевую гипотезу.')"
   ]
  },
  {
   "cell_type": "markdown",
   "id": "6aef14f4",
   "metadata": {},
   "source": [
    "Не получилось опровергнуть нулевую гипотезу, что означает, что в среднем пользователи с подпиской проезжают как раз расстояние 3130 метров."
   ]
  },
  {
   "cell_type": "markdown",
   "id": "aa8c5ba4",
   "metadata": {},
   "source": [
    "Проверим эти результаты на предоставленных данных."
   ]
  },
  {
   "cell_type": "code",
   "execution_count": 33,
   "id": "1c97dbe2",
   "metadata": {},
   "outputs": [
    {
     "name": "stdout",
     "output_type": "stream",
     "text": [
      "Среднее расстояние, которое преодолевает пользователь с подпиской за одну поездку составляет 3115.45 метров.\n"
     ]
    }
   ],
   "source": [
    "c = (with_subscription['distance'].mean()).round(2)\n",
    "print(f'Среднее расстояние, которое преодолевает пользователь с подпиской за одну поездку составляет {c} метров.' )"
   ]
  },
  {
   "cell_type": "markdown",
   "id": "cedabd35",
   "metadata": {},
   "source": [
    "С учетом уровня нашей статистический значимости (0,05%, что означает плюс минус 156 метров от среднего значения), действительно, таким способом мы видим тоже самое."
   ]
  },
  {
   "cell_type": "markdown",
   "id": "129ac8c2",
   "metadata": {},
   "source": [
    "Таким образом, мы отвергаем гипотезу о том, что расстояние, которое проезжают пользователи с подпиской за одну поездку, не превышает 3130 метров. "
   ]
  },
  {
   "cell_type": "markdown",
   "id": "dd5137b1",
   "metadata": {},
   "source": [
    "**3.** Проверим гипотезу о том, будет ли помесячная выручка от пользователей с подпиской по месяцам выше, чем выручка от пользователей без подписки. Для этого выдвинем гипотезу о том, что их помесячные выручки равны. Альтернативной гипотезой станет односторонняя гипотеза о том, что помесячная выручка от пользователей с подпиской выше."
   ]
  },
  {
   "cell_type": "code",
   "execution_count": 34,
   "id": "375df02b",
   "metadata": {},
   "outputs": [
    {
     "name": "stdout",
     "output_type": "stream",
     "text": [
      "p-значение: 2.8130926188487286e-35\n",
      "Отвергаем нулевую гипотезу.\n"
     ]
    }
   ],
   "source": [
    "alpha = 0.05\n",
    "results = st.ttest_ind(full_agr['revenue'].loc[full_agr['subscription_fee'] == 199], full_agr['revenue'].loc[full_agr['subscription_fee'] == 0], alternative = 'greater')\n",
    "print('p-значение:', results.pvalue)\n",
    "if results.pvalue < alpha:\n",
    "    print('Отвергаем нулевую гипотезу.')\n",
    "else:\n",
    "    print('Не получилось опровергнуть нулевую гипотезу.')"
   ]
  },
  {
   "cell_type": "markdown",
   "id": "8dff2b56",
   "metadata": {},
   "source": [
    "Посмотрим на наших данные:"
   ]
  },
  {
   "cell_type": "code",
   "execution_count": 35,
   "id": "b35782aa",
   "metadata": {},
   "outputs": [
    {
     "data": {
      "text/plain": [
       "361.48180013236265"
      ]
     },
     "execution_count": 35,
     "metadata": {},
     "output_type": "execute_result"
    }
   ],
   "source": [
    "full_agr['revenue'].loc[full_agr['subscription_fee'] == 199].mean()"
   ]
  },
  {
   "cell_type": "code",
   "execution_count": 36,
   "id": "4fd61b5c",
   "metadata": {},
   "outputs": [
    {
     "data": {
      "text/plain": [
       "325.84289496910856"
      ]
     },
     "execution_count": 36,
     "metadata": {},
     "output_type": "execute_result"
    }
   ],
   "source": [
    "full_agr['revenue'].loc[full_agr['subscription_fee'] == 0].mean()"
   ]
  },
  {
   "cell_type": "markdown",
   "id": "c12b187b",
   "metadata": {},
   "source": [
    "Таким образом, мы подтвердили гипотезу о том, что помесячная выручка от пользователей с подпиской выше."
   ]
  },
  {
   "cell_type": "markdown",
   "id": "470b5626",
   "metadata": {},
   "source": [
    "**4.** Представим такую ситуацию: техническая команда сервиса обновила сервера, с которыми взаимодействует мобильное приложение. Она надеется, что из-за этого количество обращений в техподдержку значимо снизилось. Некоторый файл содержит для каждого пользователя данные о количестве обращений до обновления и после него. Какой тест нам понадобился бы для проверки этой гипотезы?"
   ]
  },
  {
   "cell_type": "markdown",
   "id": "a779ee72",
   "metadata": {},
   "source": [
    "Так как выборки не независимы, нам понадобится проверить гипотезу о равенстве средних для зависимых (парных) выборок. \n",
    "<br><br>\n",
    "Нулевая гипотеза: количество обращений до и после обновлений - равны. Альтернативная одностороння гипотеза: количество обращений после обновления снизилось.<br><br>\n",
    "results = st.ttest_rel(after, before, alternative = 'less'), где before - данные до обновлений, after - после обновлений.<br>\n",
    "&emsp;if results.pvalue < alpha:<br>\n",
    "&emsp;print('Отвергаем нулевую гипотезу')<br>\n",
    "else:<br>\n",
    "&emsp;print('Не получилось отвергнуть нулевую гипотезу')"
   ]
  },
  {
   "cell_type": "markdown",
   "id": "61213c5e",
   "metadata": {},
   "source": [
    "<h1 style=\"font-size: 16px;\">Шаг 7. Распределения</h1>"
   ]
  },
  {
   "cell_type": "markdown",
   "id": "31b61c46",
   "metadata": {},
   "source": [
    "**1.** Отделу маркетинга нужно провести акцию с раздачей промокодов на один бесплатный месяц подписки, в рамках которой как минимум 100 существующих клиентов должны продлить эту подписку. Известно, что после бесплатного пробного периода подписку продлевают 10 % пользователей. Необходимо выяснить, какое минимальное количество промокодов нужно разослать, чтобы вероятность не выполнить план была примерно 5 %.\n",
    "\n",
    "Сформулируем задачу так, чтобы было понятно, что нам нужно сделать с точки зрения математики. Нам нужно подобрать параметры биномиального распределения, где p=0.1, а положительных исходов должно быть 100, и посчитать, какое количество экспериментов нам нужно провести, чтобы вероятность не выполнить план была примерно 5%.\n",
    "\n",
    "Предположим, что мы проводим 1000 экспериментов. Понятно, что при заданных условиях этого мало для того, чтобы точно получить 100 положительных исходов, потому что мы имеем только 50% вероятность 100 положительных исходов.\n",
    "\n",
    "Будем увеличивать количество экспериментов.\n",
    "\n",
    "Пусть тогда мы проводим 1200 экспериментов, то есть n = 1200.\n",
    "Посчитаем дисперсию:"
   ]
  },
  {
   "cell_type": "code",
   "execution_count": 37,
   "id": "69f0bac6",
   "metadata": {},
   "outputs": [
    {
     "data": {
      "text/plain": [
       "10.392304845413264"
      ]
     },
     "execution_count": 37,
     "metadata": {},
     "output_type": "execute_result"
    }
   ],
   "source": [
    "n = 1200\n",
    "p = 0.1\n",
    "disp = n*p*(1-p)\n",
    "sigma = math.sqrt(disp) #считаем стандартное отклонение\n",
    "sigma"
   ]
  },
  {
   "cell_type": "code",
   "execution_count": 38,
   "id": "8c6d9e82",
   "metadata": {},
   "outputs": [
    {
     "data": {
      "text/plain": [
       "120.0"
      ]
     },
     "execution_count": 38,
     "metadata": {},
     "output_type": "execute_result"
    }
   ],
   "source": [
    "mu = n*p #считаем мат ожидание\n",
    "mu"
   ]
  },
  {
   "cell_type": "markdown",
   "id": "998220d0",
   "metadata": {},
   "source": [
    "Тогда применим метод ppf() для нормального распределения N(120, 10.4)"
   ]
  },
  {
   "cell_type": "code",
   "execution_count": 39,
   "id": "b1d60b53",
   "metadata": {},
   "outputs": [],
   "source": [
    "distr = st.norm(mu, sigma)\n",
    "p_1 = 0.05"
   ]
  },
  {
   "cell_type": "code",
   "execution_count": 40,
   "id": "5c9d4c11",
   "metadata": {},
   "outputs": [
    {
     "data": {
      "text/plain": [
       "102.90617968263663"
      ]
     },
     "execution_count": 40,
     "metadata": {},
     "output_type": "execute_result"
    }
   ],
   "source": [
    "result = distr.ppf(p_1)\n",
    "result"
   ]
  },
  {
   "cell_type": "markdown",
   "id": "8e589308",
   "metadata": {},
   "source": [
    "Попробуем уменьшить количество экспериментов, чтобы result стал равняться 100."
   ]
  },
  {
   "cell_type": "code",
   "execution_count": 41,
   "id": "39cbd254",
   "metadata": {},
   "outputs": [
    {
     "name": "stdout",
     "output_type": "stream",
     "text": [
      "10.173494974687902\n"
     ]
    },
    {
     "data": {
      "text/plain": [
       "115.0"
      ]
     },
     "execution_count": 41,
     "metadata": {},
     "output_type": "execute_result"
    }
   ],
   "source": [
    "n = 1150\n",
    "p = 0.1\n",
    "disp = n*p*(1-p)\n",
    "sigma = math.sqrt(disp) #считаем стандартное отклонение\n",
    "print(sigma)\n",
    "mu = n*p #считаем мат ожидание\n",
    "mu"
   ]
  },
  {
   "cell_type": "markdown",
   "id": "d8e04e35",
   "metadata": {},
   "source": [
    "Применим метод ppf() для нормального распределения N(115, 10.2)."
   ]
  },
  {
   "cell_type": "code",
   "execution_count": 42,
   "id": "996cdbe4",
   "metadata": {},
   "outputs": [],
   "source": [
    "distr = st.norm(mu, sigma)\n",
    "p_1 = 0.05"
   ]
  },
  {
   "cell_type": "code",
   "execution_count": 43,
   "id": "71f22df4",
   "metadata": {},
   "outputs": [
    {
     "data": {
      "text/plain": [
       "98.26608989211202"
      ]
     },
     "execution_count": 43,
     "metadata": {},
     "output_type": "execute_result"
    }
   ],
   "source": [
    "result = distr.ppf(p_1)\n",
    "result"
   ]
  },
  {
   "cell_type": "markdown",
   "id": "5a90e02f",
   "metadata": {},
   "source": [
    "Пусть n = 1175."
   ]
  },
  {
   "cell_type": "code",
   "execution_count": 44,
   "id": "480d812f",
   "metadata": {},
   "outputs": [
    {
     "name": "stdout",
     "output_type": "stream",
     "text": [
      "10.283481900601567\n"
     ]
    },
    {
     "data": {
      "text/plain": [
       "117.5"
      ]
     },
     "execution_count": 44,
     "metadata": {},
     "output_type": "execute_result"
    }
   ],
   "source": [
    "n = 1175\n",
    "p = 0.1\n",
    "disp = n*p*(1-p)\n",
    "sigma = math.sqrt(disp) #считаем стандартное отклонение\n",
    "print(sigma)\n",
    "mu = n*p #считаем мат ожидание\n",
    "mu"
   ]
  },
  {
   "cell_type": "code",
   "execution_count": 45,
   "id": "a6aae289",
   "metadata": {},
   "outputs": [],
   "source": [
    "distr = st.norm(mu, sigma)\n",
    "p_1 = 0.05"
   ]
  },
  {
   "cell_type": "code",
   "execution_count": 46,
   "id": "9579749e",
   "metadata": {},
   "outputs": [
    {
     "data": {
      "text/plain": [
       "100.58517749810568"
      ]
     },
     "execution_count": 46,
     "metadata": {},
     "output_type": "execute_result"
    }
   ],
   "source": [
    "result = distr.ppf(p_1)\n",
    "result"
   ]
  },
  {
   "cell_type": "markdown",
   "id": "c47e308c",
   "metadata": {},
   "source": [
    "Таким образом, нам нужно разослать 1175 приглашений, чтобы вероятность того, что мы не сможем выполнить план в 100 продлений подписки составляла 5%."
   ]
  },
  {
   "cell_type": "markdown",
   "id": "097be369",
   "metadata": {},
   "source": [
    "**2.** Отдел маркетинга рассылает клиентам push-уведомления в мобильном приложении. Известно, что уведомления открывают около \n",
    "40% получивших их клиентов. Отдел планирует разослать 1 млн уведомлений. Необходимо оценить вероятность того, что уведомление откроют не более 399,5 тыс. пользователей. \n",
    "\n",
    "Переформулируем задачу. Заданы параметры биномиального распределения. Необходимо посчитать вероятность того, что успех произойдет в 399.5 случаях из 1 млн испытаний.\n",
    "\n",
    "Найдем дисперсию и мат. ожидание."
   ]
  },
  {
   "cell_type": "code",
   "execution_count": 47,
   "id": "b6f54f9a",
   "metadata": {},
   "outputs": [
    {
     "name": "stdout",
     "output_type": "stream",
     "text": [
      "489.89794855663564\n"
     ]
    },
    {
     "data": {
      "text/plain": [
       "400000.0"
      ]
     },
     "execution_count": 47,
     "metadata": {},
     "output_type": "execute_result"
    }
   ],
   "source": [
    "p = 0.4\n",
    "n = 1000000\n",
    "disp = n*p*(1-p)\n",
    "sigma = math.sqrt(disp) #считаем стандартное отклонение\n",
    "print(sigma)\n",
    "mu = n*p #считаем мат ожидание\n",
    "mu"
   ]
  },
  {
   "cell_type": "markdown",
   "id": "7b0d2cd7",
   "metadata": {},
   "source": [
    "С помощью метода cdf() найдем искомую вероятность."
   ]
  },
  {
   "cell_type": "code",
   "execution_count": 48,
   "id": "d86738af",
   "metadata": {},
   "outputs": [
    {
     "data": {
      "text/plain": [
       "0.15371708296369768"
      ]
     },
     "execution_count": 48,
     "metadata": {},
     "output_type": "execute_result"
    }
   ],
   "source": [
    "distr = st.norm(mu, sigma)\n",
    "x = 399500\n",
    "result = distr.cdf(x)\n",
    "result"
   ]
  },
  {
   "cell_type": "markdown",
   "id": "3b0bba1c",
   "metadata": {},
   "source": [
    "Таким образом, существует 15% вероятность, что уведомление откроют не более 399,5 тыс пользователей."
   ]
  },
  {
   "cell_type": "markdown",
   "id": "861d66a7",
   "metadata": {},
   "source": [
    "<h1 style=\"font-size: 16px;\">Вывод</h1>"
   ]
  },
  {
   "cell_type": "markdown",
   "id": "1f77c385",
   "metadata": {},
   "source": [
    "Мы провели исследование данных пользователей сервиса аренды самокатов GoFast из нескольких городов, а также об их поездках за 2021 год. В ходе исследования мы сначала изучили и подготовили данные к анализу, а затем проверили ряд гипотез для оптимизации бизнеса:\n",
    "1. Проверили, тратят ли пользователи с подпиской больше времени на поездки, чем пользователи без подписки. Результат: да, время поездок пользователей с подпиской выше.\n",
    "2. Проверили, проезжают ли пользователи с подпиской за одну поездку расстояние до 3130 метров (оптимальное с точки зрения износа самоката расстояние). Результат: нет, пользователи с подпиской проезжают не меньше 3130 метров, а в среднем как раз это расстояние.\n",
    "3. Проверили, выше ли помесячная выручка, приносимая пользователями с подпиской. Результат: да, пользователи с подпиской приносят бизнесу больше денег.\n",
    "\n",
    "Далее мы смоделировали ситуацию с обновлением сервера мобильного приложения и поняли, как мы будем исследование данные о количестве обращений до и после него.\n",
    "\n",
    "И в последней части исследования мы решили две задачи для отдела маркетинга:\n",
    "1. Выяснили, сколько нужно отправить промокодов, чтобы получить 100 новых продлений подписки.\n",
    "2. Вычислили вероятность того, что из 1 млн push-уведомлений открыты будут не более 399,5 тыс.\n",
    "\n",
    "\n"
   ]
  }
 ],
 "metadata": {
  "ExecuteTimeLog": [
   {
    "duration": 866,
    "start_time": "2023-06-06T07:15:00.789Z"
   },
   {
    "duration": 82,
    "start_time": "2023-06-06T07:16:08.101Z"
   },
   {
    "duration": 39,
    "start_time": "2023-06-06T07:16:16.422Z"
   },
   {
    "duration": 2,
    "start_time": "2023-06-06T07:19:09.940Z"
   },
   {
    "duration": 154,
    "start_time": "2023-06-06T07:20:13.175Z"
   },
   {
    "duration": 67,
    "start_time": "2023-06-06T07:20:55.022Z"
   },
   {
    "duration": 12,
    "start_time": "2023-06-06T07:22:08.056Z"
   },
   {
    "duration": 12,
    "start_time": "2023-06-06T07:22:29.675Z"
   },
   {
    "duration": 10,
    "start_time": "2023-06-06T07:22:42.944Z"
   },
   {
    "duration": 8,
    "start_time": "2023-06-06T07:31:02.764Z"
   },
   {
    "duration": 19,
    "start_time": "2023-06-06T07:32:10.159Z"
   },
   {
    "duration": 13,
    "start_time": "2023-06-06T07:34:46.217Z"
   },
   {
    "duration": 91,
    "start_time": "2023-06-06T07:35:02.669Z"
   },
   {
    "duration": 701,
    "start_time": "2023-06-06T07:35:13.334Z"
   },
   {
    "duration": 1268,
    "start_time": "2023-06-06T07:35:25.078Z"
   },
   {
    "duration": 3,
    "start_time": "2023-06-06T07:35:26.348Z"
   },
   {
    "duration": 40,
    "start_time": "2023-06-06T07:35:26.352Z"
   },
   {
    "duration": 10,
    "start_time": "2023-06-06T07:35:26.394Z"
   },
   {
    "duration": 41,
    "start_time": "2023-06-06T07:35:26.406Z"
   },
   {
    "duration": 10,
    "start_time": "2023-06-06T07:35:26.449Z"
   },
   {
    "duration": 18,
    "start_time": "2023-06-06T07:35:26.460Z"
   },
   {
    "duration": 13,
    "start_time": "2023-06-06T07:35:26.480Z"
   },
   {
    "duration": 838,
    "start_time": "2023-06-06T07:35:26.494Z"
   },
   {
    "duration": 11,
    "start_time": "2023-06-06T07:35:36.056Z"
   },
   {
    "duration": 5,
    "start_time": "2023-06-06T07:37:21.405Z"
   },
   {
    "duration": 9,
    "start_time": "2023-06-06T07:37:47.984Z"
   },
   {
    "duration": 10,
    "start_time": "2023-06-06T07:39:15.936Z"
   },
   {
    "duration": 8,
    "start_time": "2023-06-06T07:39:52.340Z"
   },
   {
    "duration": 5,
    "start_time": "2023-06-06T07:39:59.428Z"
   },
   {
    "duration": 13,
    "start_time": "2023-06-06T07:40:32.720Z"
   },
   {
    "duration": 6,
    "start_time": "2023-06-06T07:40:36.911Z"
   },
   {
    "duration": 8,
    "start_time": "2023-06-06T07:40:44.228Z"
   },
   {
    "duration": 136,
    "start_time": "2023-06-06T07:54:09.183Z"
   },
   {
    "duration": 6,
    "start_time": "2023-06-06T07:54:35.260Z"
   },
   {
    "duration": 146,
    "start_time": "2023-06-06T07:59:26.232Z"
   },
   {
    "duration": 124,
    "start_time": "2023-06-06T07:59:44.837Z"
   },
   {
    "duration": 146,
    "start_time": "2023-06-06T08:00:06.274Z"
   },
   {
    "duration": 16,
    "start_time": "2023-06-06T08:00:10.425Z"
   },
   {
    "duration": 22,
    "start_time": "2023-06-06T08:01:16.890Z"
   },
   {
    "duration": 24883,
    "start_time": "2023-06-06T08:02:29.885Z"
   },
   {
    "duration": 35461,
    "start_time": "2023-06-06T08:03:52.079Z"
   },
   {
    "duration": 125,
    "start_time": "2023-06-06T08:05:12.963Z"
   },
   {
    "duration": 121,
    "start_time": "2023-06-06T08:06:23.672Z"
   },
   {
    "duration": 106,
    "start_time": "2023-06-06T08:16:10.190Z"
   },
   {
    "duration": 109,
    "start_time": "2023-06-06T08:16:42.804Z"
   },
   {
    "duration": 112,
    "start_time": "2023-06-06T08:16:55.079Z"
   },
   {
    "duration": 6,
    "start_time": "2023-06-06T08:18:38.465Z"
   },
   {
    "duration": 7,
    "start_time": "2023-06-06T08:18:47.487Z"
   },
   {
    "duration": 7,
    "start_time": "2023-06-06T08:19:05.499Z"
   },
   {
    "duration": 6,
    "start_time": "2023-06-06T08:19:16.479Z"
   },
   {
    "duration": 8,
    "start_time": "2023-06-06T08:19:31.751Z"
   },
   {
    "duration": 74,
    "start_time": "2023-06-06T08:20:07.970Z"
   },
   {
    "duration": 5,
    "start_time": "2023-06-06T08:21:07.267Z"
   },
   {
    "duration": 53,
    "start_time": "2023-06-06T08:21:16.109Z"
   },
   {
    "duration": 6,
    "start_time": "2023-06-06T08:21:24.479Z"
   },
   {
    "duration": 215,
    "start_time": "2023-06-06T08:25:43.045Z"
   },
   {
    "duration": 17844,
    "start_time": "2023-06-06T08:26:05.640Z"
   },
   {
    "duration": 131,
    "start_time": "2023-06-06T08:26:46.398Z"
   },
   {
    "duration": 129,
    "start_time": "2023-06-06T08:26:55.650Z"
   },
   {
    "duration": 146,
    "start_time": "2023-06-06T08:27:00.383Z"
   },
   {
    "duration": 213,
    "start_time": "2023-06-06T08:27:04.097Z"
   },
   {
    "duration": 149,
    "start_time": "2023-06-06T08:27:06.749Z"
   },
   {
    "duration": 10,
    "start_time": "2023-06-06T08:28:48.285Z"
   },
   {
    "duration": 7,
    "start_time": "2023-06-06T08:28:52.407Z"
   },
   {
    "duration": 7,
    "start_time": "2023-06-06T08:29:42.997Z"
   },
   {
    "duration": 7,
    "start_time": "2023-06-06T08:30:02.223Z"
   },
   {
    "duration": 162,
    "start_time": "2023-06-06T08:35:52.727Z"
   },
   {
    "duration": 185,
    "start_time": "2023-06-06T08:35:57.524Z"
   },
   {
    "duration": 206,
    "start_time": "2023-06-06T08:36:04.679Z"
   },
   {
    "duration": 177,
    "start_time": "2023-06-06T08:36:22.622Z"
   },
   {
    "duration": 173,
    "start_time": "2023-06-06T08:39:18.503Z"
   },
   {
    "duration": 228,
    "start_time": "2023-06-06T08:39:58.078Z"
   },
   {
    "duration": 216,
    "start_time": "2023-06-06T08:40:35.687Z"
   },
   {
    "duration": 9,
    "start_time": "2023-06-06T08:50:19.144Z"
   },
   {
    "duration": 22,
    "start_time": "2023-06-06T08:50:23.156Z"
   },
   {
    "duration": 15,
    "start_time": "2023-06-06T08:51:28.370Z"
   },
   {
    "duration": 15,
    "start_time": "2023-06-06T08:51:55.551Z"
   },
   {
    "duration": 24,
    "start_time": "2023-06-06T08:52:00.429Z"
   },
   {
    "duration": 9,
    "start_time": "2023-06-06T09:05:22.195Z"
   },
   {
    "duration": 14,
    "start_time": "2023-06-06T09:05:30.802Z"
   },
   {
    "duration": 8,
    "start_time": "2023-06-06T09:07:03.810Z"
   },
   {
    "duration": 13,
    "start_time": "2023-06-06T09:07:18.420Z"
   },
   {
    "duration": 21,
    "start_time": "2023-06-06T09:07:28.422Z"
   },
   {
    "duration": 4,
    "start_time": "2023-06-06T09:09:01.323Z"
   },
   {
    "duration": 46,
    "start_time": "2023-06-06T09:09:49.647Z"
   },
   {
    "duration": 3,
    "start_time": "2023-06-06T09:10:18.971Z"
   },
   {
    "duration": 3,
    "start_time": "2023-06-06T09:10:44.226Z"
   },
   {
    "duration": 3,
    "start_time": "2023-06-06T09:10:48.590Z"
   },
   {
    "duration": 3,
    "start_time": "2023-06-06T09:10:57.838Z"
   },
   {
    "duration": 4,
    "start_time": "2023-06-06T09:11:03.570Z"
   },
   {
    "duration": 4,
    "start_time": "2023-06-06T09:11:05.804Z"
   },
   {
    "duration": 203,
    "start_time": "2023-06-06T09:13:00.663Z"
   },
   {
    "duration": 205,
    "start_time": "2023-06-06T09:13:28.694Z"
   },
   {
    "duration": 200,
    "start_time": "2023-06-06T09:14:12.831Z"
   },
   {
    "duration": 180,
    "start_time": "2023-06-06T09:14:14.561Z"
   },
   {
    "duration": 96,
    "start_time": "2023-06-06T09:16:23.286Z"
   },
   {
    "duration": 3,
    "start_time": "2023-06-06T09:18:16.885Z"
   },
   {
    "duration": 31,
    "start_time": "2023-06-06T09:30:23.224Z"
   },
   {
    "duration": 10,
    "start_time": "2023-06-06T09:30:30.427Z"
   },
   {
    "duration": 1147,
    "start_time": "2023-06-06T09:30:38.088Z"
   },
   {
    "duration": 3,
    "start_time": "2023-06-06T09:30:39.237Z"
   },
   {
    "duration": 37,
    "start_time": "2023-06-06T09:30:39.242Z"
   },
   {
    "duration": 11,
    "start_time": "2023-06-06T09:30:39.281Z"
   },
   {
    "duration": 37,
    "start_time": "2023-06-06T09:30:39.294Z"
   },
   {
    "duration": 11,
    "start_time": "2023-06-06T09:30:39.332Z"
   },
   {
    "duration": 22,
    "start_time": "2023-06-06T09:30:39.345Z"
   },
   {
    "duration": 14,
    "start_time": "2023-06-06T09:30:39.369Z"
   },
   {
    "duration": 10,
    "start_time": "2023-06-06T09:30:39.384Z"
   },
   {
    "duration": 9,
    "start_time": "2023-06-06T09:30:39.396Z"
   },
   {
    "duration": 5,
    "start_time": "2023-06-06T09:30:39.407Z"
   },
   {
    "duration": 7,
    "start_time": "2023-06-06T09:30:39.413Z"
   },
   {
    "duration": 171,
    "start_time": "2023-06-06T09:30:39.421Z"
   },
   {
    "duration": 115,
    "start_time": "2023-06-06T09:30:39.594Z"
   },
   {
    "duration": 6,
    "start_time": "2023-06-06T09:30:39.710Z"
   },
   {
    "duration": 14,
    "start_time": "2023-06-06T09:30:39.718Z"
   },
   {
    "duration": 155,
    "start_time": "2023-06-06T09:30:39.734Z"
   },
   {
    "duration": 203,
    "start_time": "2023-06-06T09:30:39.891Z"
   },
   {
    "duration": 228,
    "start_time": "2023-06-06T09:30:40.096Z"
   },
   {
    "duration": 107,
    "start_time": "2023-06-06T09:30:40.325Z"
   },
   {
    "duration": 0,
    "start_time": "2023-06-06T09:30:40.434Z"
   },
   {
    "duration": 0,
    "start_time": "2023-06-06T09:30:40.435Z"
   },
   {
    "duration": 0,
    "start_time": "2023-06-06T09:30:40.436Z"
   },
   {
    "duration": 0,
    "start_time": "2023-06-06T09:30:40.437Z"
   },
   {
    "duration": 0,
    "start_time": "2023-06-06T09:30:40.438Z"
   },
   {
    "duration": 0,
    "start_time": "2023-06-06T09:30:40.439Z"
   },
   {
    "duration": 24,
    "start_time": "2023-06-06T09:32:18.908Z"
   },
   {
    "duration": 1084,
    "start_time": "2023-06-06T09:32:25.842Z"
   },
   {
    "duration": 3,
    "start_time": "2023-06-06T09:32:26.928Z"
   },
   {
    "duration": 67,
    "start_time": "2023-06-06T09:32:26.935Z"
   },
   {
    "duration": 11,
    "start_time": "2023-06-06T09:32:27.004Z"
   },
   {
    "duration": 36,
    "start_time": "2023-06-06T09:32:27.016Z"
   },
   {
    "duration": 11,
    "start_time": "2023-06-06T09:32:27.054Z"
   },
   {
    "duration": 21,
    "start_time": "2023-06-06T09:32:27.067Z"
   },
   {
    "duration": 14,
    "start_time": "2023-06-06T09:32:27.090Z"
   },
   {
    "duration": 10,
    "start_time": "2023-06-06T09:32:27.107Z"
   },
   {
    "duration": 8,
    "start_time": "2023-06-06T09:32:27.119Z"
   },
   {
    "duration": 15,
    "start_time": "2023-06-06T09:32:27.128Z"
   },
   {
    "duration": 22,
    "start_time": "2023-06-06T09:32:27.144Z"
   },
   {
    "duration": 171,
    "start_time": "2023-06-06T09:32:27.167Z"
   },
   {
    "duration": 123,
    "start_time": "2023-06-06T09:32:27.339Z"
   },
   {
    "duration": 6,
    "start_time": "2023-06-06T09:32:27.463Z"
   },
   {
    "duration": 18,
    "start_time": "2023-06-06T09:32:27.475Z"
   },
   {
    "duration": 181,
    "start_time": "2023-06-06T09:32:27.494Z"
   },
   {
    "duration": 206,
    "start_time": "2023-06-06T09:32:27.677Z"
   },
   {
    "duration": 239,
    "start_time": "2023-06-06T09:32:27.884Z"
   },
   {
    "duration": 26,
    "start_time": "2023-06-06T09:32:28.124Z"
   },
   {
    "duration": 112,
    "start_time": "2023-06-06T09:32:28.151Z"
   },
   {
    "duration": 0,
    "start_time": "2023-06-06T09:32:28.266Z"
   },
   {
    "duration": 0,
    "start_time": "2023-06-06T09:32:28.267Z"
   },
   {
    "duration": 0,
    "start_time": "2023-06-06T09:32:28.268Z"
   },
   {
    "duration": 1,
    "start_time": "2023-06-06T09:32:28.268Z"
   },
   {
    "duration": 0,
    "start_time": "2023-06-06T09:32:28.275Z"
   },
   {
    "duration": 0,
    "start_time": "2023-06-06T09:32:28.277Z"
   },
   {
    "duration": 9,
    "start_time": "2023-06-06T09:32:39.812Z"
   },
   {
    "duration": 4,
    "start_time": "2023-06-06T09:32:41.303Z"
   },
   {
    "duration": 1068,
    "start_time": "2023-06-06T09:32:45.878Z"
   },
   {
    "duration": 2,
    "start_time": "2023-06-06T09:32:46.948Z"
   },
   {
    "duration": 53,
    "start_time": "2023-06-06T09:32:46.955Z"
   },
   {
    "duration": 10,
    "start_time": "2023-06-06T09:32:47.011Z"
   },
   {
    "duration": 42,
    "start_time": "2023-06-06T09:32:47.023Z"
   },
   {
    "duration": 11,
    "start_time": "2023-06-06T09:32:47.067Z"
   },
   {
    "duration": 19,
    "start_time": "2023-06-06T09:32:47.080Z"
   },
   {
    "duration": 14,
    "start_time": "2023-06-06T09:32:47.101Z"
   },
   {
    "duration": 11,
    "start_time": "2023-06-06T09:32:47.116Z"
   },
   {
    "duration": 11,
    "start_time": "2023-06-06T09:32:47.129Z"
   },
   {
    "duration": 10,
    "start_time": "2023-06-06T09:32:47.141Z"
   },
   {
    "duration": 24,
    "start_time": "2023-06-06T09:32:47.153Z"
   },
   {
    "duration": 146,
    "start_time": "2023-06-06T09:32:47.181Z"
   },
   {
    "duration": 121,
    "start_time": "2023-06-06T09:32:47.329Z"
   },
   {
    "duration": 5,
    "start_time": "2023-06-06T09:32:47.451Z"
   },
   {
    "duration": 18,
    "start_time": "2023-06-06T09:32:47.458Z"
   },
   {
    "duration": 165,
    "start_time": "2023-06-06T09:32:47.477Z"
   },
   {
    "duration": 186,
    "start_time": "2023-06-06T09:32:47.643Z"
   },
   {
    "duration": 221,
    "start_time": "2023-06-06T09:32:47.830Z"
   },
   {
    "duration": 41,
    "start_time": "2023-06-06T09:32:48.053Z"
   },
   {
    "duration": 11,
    "start_time": "2023-06-06T09:32:48.096Z"
   },
   {
    "duration": 3,
    "start_time": "2023-06-06T09:32:48.109Z"
   },
   {
    "duration": 201,
    "start_time": "2023-06-06T09:32:48.113Z"
   },
   {
    "duration": 303,
    "start_time": "2023-06-06T09:32:48.315Z"
   },
   {
    "duration": 187,
    "start_time": "2023-06-06T09:32:48.620Z"
   },
   {
    "duration": 202,
    "start_time": "2023-06-06T09:32:48.808Z"
   },
   {
    "duration": 97,
    "start_time": "2023-06-06T09:32:49.012Z"
   },
   {
    "duration": 12,
    "start_time": "2023-06-06T09:33:14.455Z"
   },
   {
    "duration": 4,
    "start_time": "2023-06-06T09:34:10.150Z"
   },
   {
    "duration": 12,
    "start_time": "2023-06-06T09:34:52.302Z"
   },
   {
    "duration": 4,
    "start_time": "2023-06-06T09:37:08.883Z"
   },
   {
    "duration": 10,
    "start_time": "2023-06-06T09:37:13.402Z"
   },
   {
    "duration": 14,
    "start_time": "2023-06-06T09:37:23.606Z"
   },
   {
    "duration": 96,
    "start_time": "2023-06-06T09:38:34.582Z"
   },
   {
    "duration": 17,
    "start_time": "2023-06-06T09:38:44.598Z"
   },
   {
    "duration": 16,
    "start_time": "2023-06-06T09:39:39.572Z"
   },
   {
    "duration": 18,
    "start_time": "2023-06-06T09:39:57.120Z"
   },
   {
    "duration": 42,
    "start_time": "2023-06-06T09:41:55.849Z"
   },
   {
    "duration": 18,
    "start_time": "2023-06-06T09:42:02.566Z"
   },
   {
    "duration": 19,
    "start_time": "2023-06-06T09:42:08.846Z"
   },
   {
    "duration": 19,
    "start_time": "2023-06-06T09:42:24.967Z"
   },
   {
    "duration": 35,
    "start_time": "2023-06-06T09:42:31.548Z"
   },
   {
    "duration": 11,
    "start_time": "2023-06-06T09:51:50.828Z"
   },
   {
    "duration": 11,
    "start_time": "2023-06-06T09:53:39.908Z"
   },
   {
    "duration": 20,
    "start_time": "2023-06-06T09:55:11.210Z"
   },
   {
    "duration": 58,
    "start_time": "2023-06-06T09:55:59.577Z"
   },
   {
    "duration": 32,
    "start_time": "2023-06-06T09:56:19.076Z"
   },
   {
    "duration": 24,
    "start_time": "2023-06-06T09:56:45.177Z"
   },
   {
    "duration": 6,
    "start_time": "2023-06-06T09:56:51.817Z"
   },
   {
    "duration": 25,
    "start_time": "2023-06-06T09:57:23.551Z"
   },
   {
    "duration": 6,
    "start_time": "2023-06-06T09:58:15.363Z"
   },
   {
    "duration": 18,
    "start_time": "2023-06-06T09:58:27.587Z"
   },
   {
    "duration": 5,
    "start_time": "2023-06-06T10:33:00.321Z"
   },
   {
    "duration": 5,
    "start_time": "2023-06-06T10:33:23.725Z"
   },
   {
    "duration": 5,
    "start_time": "2023-06-06T10:34:08.463Z"
   },
   {
    "duration": 5,
    "start_time": "2023-06-06T10:34:15.027Z"
   },
   {
    "duration": 6,
    "start_time": "2023-06-06T10:41:22.996Z"
   },
   {
    "duration": 7,
    "start_time": "2023-06-06T10:41:29.952Z"
   },
   {
    "duration": 7,
    "start_time": "2023-06-06T10:41:37.420Z"
   },
   {
    "duration": 9,
    "start_time": "2023-06-06T10:41:46.820Z"
   },
   {
    "duration": 7,
    "start_time": "2023-06-06T10:43:08.908Z"
   },
   {
    "duration": 10,
    "start_time": "2023-06-06T10:43:27.733Z"
   },
   {
    "duration": 6,
    "start_time": "2023-06-06T10:43:31.424Z"
   },
   {
    "duration": 7,
    "start_time": "2023-06-06T10:44:08.433Z"
   },
   {
    "duration": 8,
    "start_time": "2023-06-06T10:44:11.524Z"
   },
   {
    "duration": 4,
    "start_time": "2023-06-06T10:51:48.244Z"
   },
   {
    "duration": 4,
    "start_time": "2023-06-06T10:53:24.119Z"
   },
   {
    "duration": 5,
    "start_time": "2023-06-06T10:53:33.430Z"
   },
   {
    "duration": 5,
    "start_time": "2023-06-06T10:53:42.847Z"
   },
   {
    "duration": 121,
    "start_time": "2023-06-06T10:54:40.736Z"
   },
   {
    "duration": 6,
    "start_time": "2023-06-06T10:56:28.358Z"
   },
   {
    "duration": 6,
    "start_time": "2023-06-06T10:56:49.262Z"
   },
   {
    "duration": 7,
    "start_time": "2023-06-06T10:58:18.064Z"
   },
   {
    "duration": 6,
    "start_time": "2023-06-06T10:58:40.309Z"
   },
   {
    "duration": 171,
    "start_time": "2023-06-06T11:03:20.541Z"
   },
   {
    "duration": 5,
    "start_time": "2023-06-06T11:03:46.162Z"
   },
   {
    "duration": 5,
    "start_time": "2023-06-06T11:03:54.495Z"
   },
   {
    "duration": 9,
    "start_time": "2023-06-06T11:04:32.577Z"
   },
   {
    "duration": 4,
    "start_time": "2023-06-06T11:04:41.270Z"
   },
   {
    "duration": 6,
    "start_time": "2023-06-06T11:05:12.412Z"
   },
   {
    "duration": 6,
    "start_time": "2023-06-06T11:29:15.961Z"
   },
   {
    "duration": 5,
    "start_time": "2023-06-06T11:30:42.908Z"
   },
   {
    "duration": 10,
    "start_time": "2023-06-06T11:33:04.880Z"
   },
   {
    "duration": 18,
    "start_time": "2023-06-06T11:33:16.611Z"
   },
   {
    "duration": 6,
    "start_time": "2023-06-06T11:33:31.753Z"
   },
   {
    "duration": 5,
    "start_time": "2023-06-06T11:36:55.027Z"
   },
   {
    "duration": 6,
    "start_time": "2023-06-06T11:37:25.756Z"
   },
   {
    "duration": 7,
    "start_time": "2023-06-06T11:38:15.353Z"
   },
   {
    "duration": 6,
    "start_time": "2023-06-06T11:38:20.955Z"
   },
   {
    "duration": 10,
    "start_time": "2023-06-06T11:44:07.179Z"
   },
   {
    "duration": 6,
    "start_time": "2023-06-06T11:44:55.859Z"
   },
   {
    "duration": 5,
    "start_time": "2023-06-06T11:45:07.961Z"
   },
   {
    "duration": 5,
    "start_time": "2023-06-06T11:46:27.944Z"
   },
   {
    "duration": 51,
    "start_time": "2023-06-06T11:49:32.260Z"
   },
   {
    "duration": 5,
    "start_time": "2023-06-06T11:49:39.825Z"
   },
   {
    "duration": 4,
    "start_time": "2023-06-06T11:49:45.317Z"
   },
   {
    "duration": 756,
    "start_time": "2023-06-06T11:55:43.896Z"
   },
   {
    "duration": 5,
    "start_time": "2023-06-06T11:56:13.136Z"
   },
   {
    "duration": 5,
    "start_time": "2023-06-06T11:57:30.111Z"
   },
   {
    "duration": 5,
    "start_time": "2023-06-06T11:57:39.291Z"
   },
   {
    "duration": 5,
    "start_time": "2023-06-06T11:58:37.352Z"
   },
   {
    "duration": 5,
    "start_time": "2023-06-06T11:58:39.695Z"
   },
   {
    "duration": 8,
    "start_time": "2023-06-06T12:48:23.358Z"
   },
   {
    "duration": 6,
    "start_time": "2023-06-06T12:51:29.625Z"
   },
   {
    "duration": 5,
    "start_time": "2023-06-06T12:51:31.997Z"
   },
   {
    "duration": 10,
    "start_time": "2023-06-06T14:01:06.904Z"
   },
   {
    "duration": 152,
    "start_time": "2023-06-06T14:01:20.642Z"
   },
   {
    "duration": 1665,
    "start_time": "2023-06-06T14:02:46.274Z"
   },
   {
    "duration": 263,
    "start_time": "2023-06-06T14:04:31.382Z"
   },
   {
    "duration": 1554,
    "start_time": "2023-06-06T14:14:48.079Z"
   },
   {
    "duration": 1572,
    "start_time": "2023-06-06T14:15:31.356Z"
   },
   {
    "duration": 1561,
    "start_time": "2023-06-06T14:22:18.295Z"
   },
   {
    "duration": 1675,
    "start_time": "2023-06-06T14:22:32.689Z"
   },
   {
    "duration": 229,
    "start_time": "2023-06-06T14:24:49.739Z"
   },
   {
    "duration": 236,
    "start_time": "2023-06-06T14:25:04.396Z"
   },
   {
    "duration": 215,
    "start_time": "2023-06-06T14:25:11.772Z"
   },
   {
    "duration": 230,
    "start_time": "2023-06-06T14:25:27.583Z"
   },
   {
    "duration": 442,
    "start_time": "2023-06-06T14:25:31.717Z"
   },
   {
    "duration": 223,
    "start_time": "2023-06-06T14:26:07.754Z"
   },
   {
    "duration": 1497,
    "start_time": "2023-06-06T14:26:18.033Z"
   },
   {
    "duration": 187,
    "start_time": "2023-06-06T19:27:58.291Z"
   },
   {
    "duration": 177,
    "start_time": "2023-06-06T19:35:10.909Z"
   },
   {
    "duration": 183,
    "start_time": "2023-06-06T19:35:20.248Z"
   },
   {
    "duration": 181,
    "start_time": "2023-06-06T19:36:28.420Z"
   },
   {
    "duration": 205,
    "start_time": "2023-06-06T19:36:47.256Z"
   },
   {
    "duration": 176,
    "start_time": "2023-06-06T19:37:12.103Z"
   },
   {
    "duration": 78,
    "start_time": "2023-06-06T19:37:51.191Z"
   },
   {
    "duration": 73,
    "start_time": "2023-06-06T19:38:06.496Z"
   },
   {
    "duration": 190,
    "start_time": "2023-06-06T19:38:16.099Z"
   },
   {
    "duration": 75,
    "start_time": "2023-06-06T19:40:03.688Z"
   },
   {
    "duration": 72,
    "start_time": "2023-06-06T19:40:13.393Z"
   },
   {
    "duration": 138,
    "start_time": "2023-06-06T19:40:34.116Z"
   },
   {
    "duration": 177,
    "start_time": "2023-06-06T19:40:49.513Z"
   },
   {
    "duration": 181,
    "start_time": "2023-06-06T19:40:57.024Z"
   },
   {
    "duration": 55,
    "start_time": "2023-06-06T19:41:40.233Z"
   },
   {
    "duration": 2,
    "start_time": "2023-06-06T19:41:46.540Z"
   },
   {
    "duration": 4,
    "start_time": "2023-06-06T19:41:54.705Z"
   },
   {
    "duration": 5,
    "start_time": "2023-06-06T19:41:59.323Z"
   },
   {
    "duration": 3,
    "start_time": "2023-06-06T19:42:19.012Z"
   },
   {
    "duration": 4,
    "start_time": "2023-06-06T19:42:23.606Z"
   },
   {
    "duration": 177,
    "start_time": "2023-06-06T19:43:14.451Z"
   },
   {
    "duration": 174,
    "start_time": "2023-06-06T19:43:22.032Z"
   },
   {
    "duration": 185,
    "start_time": "2023-06-06T19:43:29.109Z"
   },
   {
    "duration": 197,
    "start_time": "2023-06-06T19:46:36.179Z"
   },
   {
    "duration": 179,
    "start_time": "2023-06-06T19:47:23.400Z"
   },
   {
    "duration": 193,
    "start_time": "2023-06-06T19:48:42.428Z"
   },
   {
    "duration": 215,
    "start_time": "2023-06-06T19:50:58.185Z"
   },
   {
    "duration": 406,
    "start_time": "2023-06-06T19:51:09.787Z"
   },
   {
    "duration": 196,
    "start_time": "2023-06-06T19:51:34.914Z"
   },
   {
    "duration": 181,
    "start_time": "2023-06-06T19:51:50.323Z"
   },
   {
    "duration": 360,
    "start_time": "2023-06-06T19:52:38.663Z"
   },
   {
    "duration": 223,
    "start_time": "2023-06-06T19:53:27.587Z"
   },
   {
    "duration": 196,
    "start_time": "2023-06-06T19:53:39.012Z"
   },
   {
    "duration": 200,
    "start_time": "2023-06-06T19:53:44.555Z"
   },
   {
    "duration": 205,
    "start_time": "2023-06-06T19:53:48.687Z"
   },
   {
    "duration": 73,
    "start_time": "2023-06-06T19:57:10.727Z"
   },
   {
    "duration": 99,
    "start_time": "2023-06-06T19:57:34.044Z"
   },
   {
    "duration": 200,
    "start_time": "2023-06-06T19:58:27.992Z"
   },
   {
    "duration": 222,
    "start_time": "2023-06-06T19:58:44.300Z"
   },
   {
    "duration": 199,
    "start_time": "2023-06-06T19:58:57.411Z"
   },
   {
    "duration": 192,
    "start_time": "2023-06-06T19:59:44.564Z"
   },
   {
    "duration": 181,
    "start_time": "2023-06-06T19:59:59.674Z"
   },
   {
    "duration": 175,
    "start_time": "2023-06-06T20:00:10.338Z"
   },
   {
    "duration": 183,
    "start_time": "2023-06-06T20:00:15.264Z"
   },
   {
    "duration": 175,
    "start_time": "2023-06-06T20:00:20.637Z"
   },
   {
    "duration": 193,
    "start_time": "2023-06-06T20:00:30.019Z"
   },
   {
    "duration": 170,
    "start_time": "2023-06-06T20:02:23.035Z"
   },
   {
    "duration": 171,
    "start_time": "2023-06-06T20:02:33.040Z"
   },
   {
    "duration": 4,
    "start_time": "2023-06-06T20:08:56.920Z"
   },
   {
    "duration": 4,
    "start_time": "2023-06-06T20:09:21.208Z"
   },
   {
    "duration": 5,
    "start_time": "2023-06-06T20:09:30.503Z"
   },
   {
    "duration": 6,
    "start_time": "2023-06-06T20:10:53.976Z"
   },
   {
    "duration": 6,
    "start_time": "2023-06-06T20:11:06.031Z"
   },
   {
    "duration": 5,
    "start_time": "2023-06-06T20:13:20.664Z"
   },
   {
    "duration": 4,
    "start_time": "2023-06-06T20:13:38.536Z"
   },
   {
    "duration": 5,
    "start_time": "2023-06-06T20:13:56.790Z"
   },
   {
    "duration": 6,
    "start_time": "2023-06-06T20:14:01.120Z"
   },
   {
    "duration": 41,
    "start_time": "2023-06-06T20:14:33.563Z"
   },
   {
    "duration": 191,
    "start_time": "2023-06-06T20:15:00.072Z"
   },
   {
    "duration": 40,
    "start_time": "2023-06-06T20:16:05.835Z"
   },
   {
    "duration": 44,
    "start_time": "2023-06-06T20:16:19.717Z"
   },
   {
    "duration": 40,
    "start_time": "2023-06-06T20:16:23.414Z"
   },
   {
    "duration": 193,
    "start_time": "2023-06-06T20:16:27.284Z"
   },
   {
    "duration": 1606,
    "start_time": "2023-06-07T08:18:42.710Z"
   },
   {
    "duration": 4,
    "start_time": "2023-06-07T08:18:44.319Z"
   },
   {
    "duration": 166,
    "start_time": "2023-06-07T08:18:44.326Z"
   },
   {
    "duration": 24,
    "start_time": "2023-06-07T08:18:44.495Z"
   },
   {
    "duration": 256,
    "start_time": "2023-06-07T08:18:44.522Z"
   },
   {
    "duration": 26,
    "start_time": "2023-06-07T08:18:44.781Z"
   },
   {
    "duration": 85,
    "start_time": "2023-06-07T08:18:44.810Z"
   },
   {
    "duration": 21,
    "start_time": "2023-06-07T08:18:44.899Z"
   },
   {
    "duration": 16,
    "start_time": "2023-06-07T08:18:44.922Z"
   },
   {
    "duration": 27,
    "start_time": "2023-06-07T08:18:44.942Z"
   },
   {
    "duration": 13,
    "start_time": "2023-06-07T08:18:44.971Z"
   },
   {
    "duration": 41,
    "start_time": "2023-06-07T08:18:44.993Z"
   },
   {
    "duration": 247,
    "start_time": "2023-06-07T08:18:45.036Z"
   },
   {
    "duration": 160,
    "start_time": "2023-06-07T08:18:45.293Z"
   },
   {
    "duration": 22,
    "start_time": "2023-06-07T08:18:45.455Z"
   },
   {
    "duration": 9,
    "start_time": "2023-06-07T08:18:45.486Z"
   },
   {
    "duration": 240,
    "start_time": "2023-06-07T08:18:45.498Z"
   },
   {
    "duration": 276,
    "start_time": "2023-06-07T08:18:45.739Z"
   },
   {
    "duration": 331,
    "start_time": "2023-06-07T08:18:46.021Z"
   },
   {
    "duration": 48,
    "start_time": "2023-06-07T08:18:46.354Z"
   },
   {
    "duration": 12,
    "start_time": "2023-06-07T08:18:46.404Z"
   },
   {
    "duration": 5,
    "start_time": "2023-06-07T08:18:46.419Z"
   },
   {
    "duration": 289,
    "start_time": "2023-06-07T08:18:46.426Z"
   },
   {
    "duration": 410,
    "start_time": "2023-06-07T08:18:46.717Z"
   },
   {
    "duration": 286,
    "start_time": "2023-06-07T08:18:47.129Z"
   },
   {
    "duration": 289,
    "start_time": "2023-06-07T08:18:47.417Z"
   },
   {
    "duration": 29,
    "start_time": "2023-06-07T08:18:47.718Z"
   },
   {
    "duration": 48,
    "start_time": "2023-06-07T08:18:47.756Z"
   },
   {
    "duration": 13,
    "start_time": "2023-06-07T08:18:47.809Z"
   },
   {
    "duration": 11,
    "start_time": "2023-06-07T08:18:47.829Z"
   },
   {
    "duration": 8,
    "start_time": "2023-06-07T08:18:47.842Z"
   },
   {
    "duration": 10,
    "start_time": "2023-06-07T08:18:47.852Z"
   },
   {
    "duration": 13,
    "start_time": "2023-06-07T08:18:47.863Z"
   },
   {
    "duration": 11,
    "start_time": "2023-06-07T08:18:47.878Z"
   },
   {
    "duration": 10,
    "start_time": "2023-06-07T08:18:47.895Z"
   },
   {
    "duration": 315,
    "start_time": "2023-06-07T08:18:47.907Z"
   },
   {
    "duration": 6,
    "start_time": "2023-06-07T08:18:48.225Z"
   },
   {
    "duration": 5,
    "start_time": "2023-06-07T09:30:02.865Z"
   },
   {
    "duration": 101,
    "start_time": "2023-06-07T09:32:52.736Z"
   },
   {
    "duration": 3,
    "start_time": "2023-06-07T09:33:00.773Z"
   },
   {
    "duration": 1203,
    "start_time": "2023-06-07T09:33:06.354Z"
   },
   {
    "duration": 4,
    "start_time": "2023-06-07T09:33:07.559Z"
   },
   {
    "duration": 47,
    "start_time": "2023-06-07T09:33:07.567Z"
   },
   {
    "duration": 11,
    "start_time": "2023-06-07T09:33:07.616Z"
   },
   {
    "duration": 103,
    "start_time": "2023-06-07T09:33:07.629Z"
   },
   {
    "duration": 12,
    "start_time": "2023-06-07T09:33:07.733Z"
   },
   {
    "duration": 27,
    "start_time": "2023-06-07T09:33:07.748Z"
   },
   {
    "duration": 15,
    "start_time": "2023-06-07T09:33:07.777Z"
   },
   {
    "duration": 13,
    "start_time": "2023-06-07T09:33:07.794Z"
   },
   {
    "duration": 11,
    "start_time": "2023-06-07T09:33:07.811Z"
   },
   {
    "duration": 14,
    "start_time": "2023-06-07T09:33:07.824Z"
   },
   {
    "duration": 25,
    "start_time": "2023-06-07T09:33:07.840Z"
   },
   {
    "duration": 164,
    "start_time": "2023-06-07T09:33:07.867Z"
   },
   {
    "duration": 139,
    "start_time": "2023-06-07T09:33:08.034Z"
   },
   {
    "duration": 6,
    "start_time": "2023-06-07T09:33:08.175Z"
   },
   {
    "duration": 11,
    "start_time": "2023-06-07T09:33:08.183Z"
   },
   {
    "duration": 207,
    "start_time": "2023-06-07T09:33:08.196Z"
   },
   {
    "duration": 220,
    "start_time": "2023-06-07T09:33:08.406Z"
   },
   {
    "duration": 275,
    "start_time": "2023-06-07T09:33:08.627Z"
   },
   {
    "duration": 32,
    "start_time": "2023-06-07T09:33:08.905Z"
   },
   {
    "duration": 28,
    "start_time": "2023-06-07T09:33:08.939Z"
   },
   {
    "duration": 5,
    "start_time": "2023-06-07T09:33:08.969Z"
   },
   {
    "duration": 273,
    "start_time": "2023-06-07T09:33:08.976Z"
   },
   {
    "duration": 330,
    "start_time": "2023-06-07T09:33:09.252Z"
   },
   {
    "duration": 205,
    "start_time": "2023-06-07T09:33:09.585Z"
   },
   {
    "duration": 249,
    "start_time": "2023-06-07T09:33:09.792Z"
   },
   {
    "duration": 51,
    "start_time": "2023-06-07T09:33:10.045Z"
   },
   {
    "duration": 20,
    "start_time": "2023-06-07T09:33:10.101Z"
   },
   {
    "duration": 7,
    "start_time": "2023-06-07T09:33:10.123Z"
   },
   {
    "duration": 25,
    "start_time": "2023-06-07T09:33:10.131Z"
   },
   {
    "duration": 6,
    "start_time": "2023-06-07T09:33:10.158Z"
   },
   {
    "duration": 7,
    "start_time": "2023-06-07T09:33:10.166Z"
   },
   {
    "duration": 12,
    "start_time": "2023-06-07T09:33:10.175Z"
   },
   {
    "duration": 9,
    "start_time": "2023-06-07T09:33:10.189Z"
   },
   {
    "duration": 7,
    "start_time": "2023-06-07T09:33:10.201Z"
   },
   {
    "duration": 8,
    "start_time": "2023-06-07T09:33:10.210Z"
   },
   {
    "duration": 251,
    "start_time": "2023-06-07T09:33:10.221Z"
   },
   {
    "duration": 7,
    "start_time": "2023-06-07T09:33:10.476Z"
   },
   {
    "duration": 5,
    "start_time": "2023-06-07T09:33:20.949Z"
   },
   {
    "duration": 4,
    "start_time": "2023-06-07T09:35:25.656Z"
   },
   {
    "duration": 4,
    "start_time": "2023-06-07T09:35:31.427Z"
   },
   {
    "duration": 4,
    "start_time": "2023-06-07T09:40:21.589Z"
   },
   {
    "duration": 6,
    "start_time": "2023-06-07T09:40:26.412Z"
   },
   {
    "duration": 5,
    "start_time": "2023-06-07T09:41:02.087Z"
   },
   {
    "duration": 5,
    "start_time": "2023-06-07T09:41:03.919Z"
   },
   {
    "duration": 6,
    "start_time": "2023-06-07T09:41:40.653Z"
   },
   {
    "duration": 6,
    "start_time": "2023-06-07T09:41:45.844Z"
   },
   {
    "duration": 115,
    "start_time": "2023-06-07T09:44:22.935Z"
   },
   {
    "duration": 4,
    "start_time": "2023-06-07T09:44:25.342Z"
   },
   {
    "duration": 5,
    "start_time": "2023-06-07T09:44:26.650Z"
   },
   {
    "duration": 10,
    "start_time": "2023-06-07T09:45:40.289Z"
   },
   {
    "duration": 7,
    "start_time": "2023-06-07T09:45:45.283Z"
   },
   {
    "duration": 6,
    "start_time": "2023-06-07T09:51:37.779Z"
   },
   {
    "duration": 4,
    "start_time": "2023-06-07T09:52:34.210Z"
   },
   {
    "duration": 13,
    "start_time": "2023-06-07T09:53:04.846Z"
   },
   {
    "duration": 5,
    "start_time": "2023-06-07T09:53:06.382Z"
   },
   {
    "duration": 5,
    "start_time": "2023-06-07T09:53:07.597Z"
   },
   {
    "duration": 5,
    "start_time": "2023-06-07T09:53:15.637Z"
   },
   {
    "duration": 5,
    "start_time": "2023-06-07T09:53:26.288Z"
   },
   {
    "duration": 3,
    "start_time": "2023-06-07T09:53:27.721Z"
   },
   {
    "duration": 5,
    "start_time": "2023-06-07T09:53:29.144Z"
   },
   {
    "duration": 5,
    "start_time": "2023-06-07T09:53:30.486Z"
   },
   {
    "duration": 6,
    "start_time": "2023-06-07T09:53:32.005Z"
   },
   {
    "duration": 6,
    "start_time": "2023-06-07T09:53:33.689Z"
   },
   {
    "duration": 5,
    "start_time": "2023-06-07T09:53:54.820Z"
   },
   {
    "duration": 5,
    "start_time": "2023-06-07T09:54:47.852Z"
   },
   {
    "duration": 3,
    "start_time": "2023-06-07T09:54:50.278Z"
   },
   {
    "duration": 4,
    "start_time": "2023-06-07T09:54:51.682Z"
   },
   {
    "duration": 5,
    "start_time": "2023-06-07T09:54:56.456Z"
   },
   {
    "duration": 6,
    "start_time": "2023-06-07T09:54:57.774Z"
   },
   {
    "duration": 5,
    "start_time": "2023-06-07T09:54:59.606Z"
   },
   {
    "duration": 7,
    "start_time": "2023-06-07T09:55:06.752Z"
   },
   {
    "duration": 5,
    "start_time": "2023-06-07T09:55:50.757Z"
   },
   {
    "duration": 6,
    "start_time": "2023-06-07T09:55:54.347Z"
   },
   {
    "duration": 5,
    "start_time": "2023-06-07T09:57:51.193Z"
   },
   {
    "duration": 5,
    "start_time": "2023-06-07T09:58:23.922Z"
   },
   {
    "duration": 7,
    "start_time": "2023-06-07T09:59:13.625Z"
   },
   {
    "duration": 5,
    "start_time": "2023-06-07T09:59:17.506Z"
   },
   {
    "duration": 5,
    "start_time": "2023-06-07T09:59:37.272Z"
   },
   {
    "duration": 6,
    "start_time": "2023-06-07T09:59:50.906Z"
   },
   {
    "duration": 4,
    "start_time": "2023-06-07T10:00:12.391Z"
   },
   {
    "duration": 6,
    "start_time": "2023-06-07T10:00:17.672Z"
   },
   {
    "duration": 56,
    "start_time": "2023-06-07T10:02:23.146Z"
   },
   {
    "duration": 13,
    "start_time": "2023-06-07T10:08:36.840Z"
   },
   {
    "duration": 1223,
    "start_time": "2023-06-07T10:09:14.026Z"
   },
   {
    "duration": 6,
    "start_time": "2023-06-07T10:09:15.252Z"
   },
   {
    "duration": 48,
    "start_time": "2023-06-07T10:09:15.260Z"
   },
   {
    "duration": 15,
    "start_time": "2023-06-07T10:09:15.311Z"
   },
   {
    "duration": 43,
    "start_time": "2023-06-07T10:09:15.328Z"
   },
   {
    "duration": 15,
    "start_time": "2023-06-07T10:09:15.374Z"
   },
   {
    "duration": 28,
    "start_time": "2023-06-07T10:09:15.391Z"
   },
   {
    "duration": 19,
    "start_time": "2023-06-07T10:09:15.422Z"
   },
   {
    "duration": 12,
    "start_time": "2023-06-07T10:09:15.456Z"
   },
   {
    "duration": 21,
    "start_time": "2023-06-07T10:09:15.470Z"
   },
   {
    "duration": 7,
    "start_time": "2023-06-07T10:09:15.494Z"
   },
   {
    "duration": 10,
    "start_time": "2023-06-07T10:09:15.504Z"
   },
   {
    "duration": 240,
    "start_time": "2023-06-07T10:09:15.517Z"
   },
   {
    "duration": 152,
    "start_time": "2023-06-07T10:09:15.762Z"
   },
   {
    "duration": 15,
    "start_time": "2023-06-07T10:09:15.916Z"
   },
   {
    "duration": 10,
    "start_time": "2023-06-07T10:09:15.934Z"
   },
   {
    "duration": 192,
    "start_time": "2023-06-07T10:09:15.958Z"
   },
   {
    "duration": 229,
    "start_time": "2023-06-07T10:09:16.153Z"
   },
   {
    "duration": 261,
    "start_time": "2023-06-07T10:09:16.384Z"
   },
   {
    "duration": 40,
    "start_time": "2023-06-07T10:09:16.648Z"
   },
   {
    "duration": 19,
    "start_time": "2023-06-07T10:09:16.690Z"
   },
   {
    "duration": 17,
    "start_time": "2023-06-07T10:09:16.711Z"
   },
   {
    "duration": 226,
    "start_time": "2023-06-07T10:09:16.730Z"
   },
   {
    "duration": 368,
    "start_time": "2023-06-07T10:09:16.958Z"
   },
   {
    "duration": 228,
    "start_time": "2023-06-07T10:09:17.328Z"
   },
   {
    "duration": 265,
    "start_time": "2023-06-07T10:09:17.558Z"
   },
   {
    "duration": 37,
    "start_time": "2023-06-07T10:09:17.825Z"
   },
   {
    "duration": 21,
    "start_time": "2023-06-07T10:09:17.864Z"
   },
   {
    "duration": 12,
    "start_time": "2023-06-07T10:09:17.888Z"
   },
   {
    "duration": 9,
    "start_time": "2023-06-07T10:09:17.902Z"
   },
   {
    "duration": 13,
    "start_time": "2023-06-07T10:09:17.913Z"
   },
   {
    "duration": 6,
    "start_time": "2023-06-07T10:09:17.958Z"
   },
   {
    "duration": 20,
    "start_time": "2023-06-07T10:09:17.967Z"
   },
   {
    "duration": 9,
    "start_time": "2023-06-07T10:09:17.989Z"
   },
   {
    "duration": 7,
    "start_time": "2023-06-07T10:09:18.000Z"
   },
   {
    "duration": 11,
    "start_time": "2023-06-07T10:09:18.009Z"
   },
   {
    "duration": 35,
    "start_time": "2023-06-07T10:09:18.022Z"
   },
   {
    "duration": 35,
    "start_time": "2023-06-07T10:09:18.060Z"
   },
   {
    "duration": 22,
    "start_time": "2023-06-07T10:09:18.096Z"
   },
   {
    "duration": 15,
    "start_time": "2023-06-07T10:09:18.121Z"
   },
   {
    "duration": 18,
    "start_time": "2023-06-07T10:09:18.142Z"
   },
   {
    "duration": 23,
    "start_time": "2023-06-07T10:09:18.163Z"
   },
   {
    "duration": 22,
    "start_time": "2023-06-07T10:09:18.188Z"
   },
   {
    "duration": 13,
    "start_time": "2023-06-07T10:09:18.212Z"
   },
   {
    "duration": 7,
    "start_time": "2023-06-07T10:09:18.227Z"
   },
   {
    "duration": 9,
    "start_time": "2023-06-07T10:09:18.235Z"
   },
   {
    "duration": 103,
    "start_time": "2023-06-07T10:09:18.245Z"
   },
   {
    "duration": 129,
    "start_time": "2023-06-07T10:09:47.705Z"
   },
   {
    "duration": 6,
    "start_time": "2023-06-07T10:12:08.525Z"
   },
   {
    "duration": 6,
    "start_time": "2023-06-07T10:13:06.472Z"
   },
   {
    "duration": 5,
    "start_time": "2023-06-07T10:16:36.276Z"
   },
   {
    "duration": 6,
    "start_time": "2023-06-07T10:16:38.273Z"
   },
   {
    "duration": 5,
    "start_time": "2023-06-07T10:20:02.813Z"
   },
   {
    "duration": 1268,
    "start_time": "2023-06-07T10:20:12.557Z"
   },
   {
    "duration": 4,
    "start_time": "2023-06-07T10:20:13.828Z"
   },
   {
    "duration": 48,
    "start_time": "2023-06-07T10:20:13.834Z"
   },
   {
    "duration": 17,
    "start_time": "2023-06-07T10:20:13.885Z"
   },
   {
    "duration": 36,
    "start_time": "2023-06-07T10:20:13.904Z"
   },
   {
    "duration": 21,
    "start_time": "2023-06-07T10:20:13.943Z"
   },
   {
    "duration": 21,
    "start_time": "2023-06-07T10:20:13.966Z"
   },
   {
    "duration": 21,
    "start_time": "2023-06-07T10:20:13.989Z"
   },
   {
    "duration": 15,
    "start_time": "2023-06-07T10:20:14.013Z"
   },
   {
    "duration": 37,
    "start_time": "2023-06-07T10:20:14.033Z"
   },
   {
    "duration": 6,
    "start_time": "2023-06-07T10:20:14.072Z"
   },
   {
    "duration": 9,
    "start_time": "2023-06-07T10:20:14.081Z"
   },
   {
    "duration": 241,
    "start_time": "2023-06-07T10:20:14.092Z"
   },
   {
    "duration": 143,
    "start_time": "2023-06-07T10:20:14.334Z"
   },
   {
    "duration": 6,
    "start_time": "2023-06-07T10:20:14.479Z"
   },
   {
    "duration": 11,
    "start_time": "2023-06-07T10:20:14.488Z"
   },
   {
    "duration": 215,
    "start_time": "2023-06-07T10:20:14.501Z"
   },
   {
    "duration": 229,
    "start_time": "2023-06-07T10:20:14.718Z"
   },
   {
    "duration": 251,
    "start_time": "2023-06-07T10:20:14.949Z"
   },
   {
    "duration": 33,
    "start_time": "2023-06-07T10:20:15.202Z"
   },
   {
    "duration": 29,
    "start_time": "2023-06-07T10:20:15.237Z"
   },
   {
    "duration": 23,
    "start_time": "2023-06-07T10:20:15.268Z"
   },
   {
    "duration": 313,
    "start_time": "2023-06-07T10:20:15.293Z"
   },
   {
    "duration": 315,
    "start_time": "2023-06-07T10:20:15.608Z"
   },
   {
    "duration": 264,
    "start_time": "2023-06-07T10:20:15.926Z"
   },
   {
    "duration": 313,
    "start_time": "2023-06-07T10:20:16.193Z"
   },
   {
    "duration": 53,
    "start_time": "2023-06-07T10:20:16.509Z"
   },
   {
    "duration": 33,
    "start_time": "2023-06-07T10:20:16.568Z"
   },
   {
    "duration": 9,
    "start_time": "2023-06-07T10:20:16.605Z"
   },
   {
    "duration": 38,
    "start_time": "2023-06-07T10:20:16.621Z"
   },
   {
    "duration": 15,
    "start_time": "2023-06-07T10:20:16.661Z"
   },
   {
    "duration": 27,
    "start_time": "2023-06-07T10:20:16.680Z"
   },
   {
    "duration": 25,
    "start_time": "2023-06-07T10:20:16.710Z"
   },
   {
    "duration": 15,
    "start_time": "2023-06-07T10:20:16.738Z"
   },
   {
    "duration": 17,
    "start_time": "2023-06-07T10:20:16.755Z"
   },
   {
    "duration": 19,
    "start_time": "2023-06-07T10:20:16.775Z"
   },
   {
    "duration": 70,
    "start_time": "2023-06-07T10:20:16.797Z"
   },
   {
    "duration": 46,
    "start_time": "2023-06-07T10:20:16.870Z"
   },
   {
    "duration": 88,
    "start_time": "2023-06-07T10:20:16.919Z"
   },
   {
    "duration": 11,
    "start_time": "2023-06-07T10:20:17.009Z"
   },
   {
    "duration": 9,
    "start_time": "2023-06-07T10:20:17.022Z"
   },
   {
    "duration": 18,
    "start_time": "2023-06-07T10:20:17.034Z"
   },
   {
    "duration": 26,
    "start_time": "2023-06-07T10:20:17.054Z"
   },
   {
    "duration": 11,
    "start_time": "2023-06-07T10:20:17.082Z"
   },
   {
    "duration": 25,
    "start_time": "2023-06-07T10:20:17.095Z"
   },
   {
    "duration": 34,
    "start_time": "2023-06-07T10:20:17.122Z"
   },
   {
    "duration": 16,
    "start_time": "2023-06-07T10:20:17.159Z"
   },
   {
    "duration": 5,
    "start_time": "2023-06-07T10:20:53.548Z"
   },
   {
    "duration": 7,
    "start_time": "2023-06-07T10:20:54.871Z"
   },
   {
    "duration": 6,
    "start_time": "2023-06-07T10:21:16.940Z"
   },
   {
    "duration": 5,
    "start_time": "2023-06-07T10:21:19.481Z"
   },
   {
    "duration": 4,
    "start_time": "2023-06-07T10:21:20.893Z"
   },
   {
    "duration": 6,
    "start_time": "2023-06-07T10:21:22.422Z"
   },
   {
    "duration": 4,
    "start_time": "2023-06-07T10:21:48.897Z"
   },
   {
    "duration": 5,
    "start_time": "2023-06-07T10:21:50.138Z"
   },
   {
    "duration": 1152,
    "start_time": "2023-06-07T10:22:01.876Z"
   },
   {
    "duration": 3,
    "start_time": "2023-06-07T10:22:03.030Z"
   },
   {
    "duration": 56,
    "start_time": "2023-06-07T10:22:03.035Z"
   },
   {
    "duration": 11,
    "start_time": "2023-06-07T10:22:03.094Z"
   },
   {
    "duration": 53,
    "start_time": "2023-06-07T10:22:03.107Z"
   },
   {
    "duration": 14,
    "start_time": "2023-06-07T10:22:03.162Z"
   },
   {
    "duration": 41,
    "start_time": "2023-06-07T10:22:03.179Z"
   },
   {
    "duration": 19,
    "start_time": "2023-06-07T10:22:03.222Z"
   },
   {
    "duration": 18,
    "start_time": "2023-06-07T10:22:03.243Z"
   },
   {
    "duration": 12,
    "start_time": "2023-06-07T10:22:03.264Z"
   },
   {
    "duration": 5,
    "start_time": "2023-06-07T10:22:03.277Z"
   },
   {
    "duration": 14,
    "start_time": "2023-06-07T10:22:03.283Z"
   },
   {
    "duration": 159,
    "start_time": "2023-06-07T10:22:03.299Z"
   },
   {
    "duration": 126,
    "start_time": "2023-06-07T10:22:03.460Z"
   },
   {
    "duration": 5,
    "start_time": "2023-06-07T10:22:03.588Z"
   },
   {
    "duration": 8,
    "start_time": "2023-06-07T10:22:03.595Z"
   },
   {
    "duration": 173,
    "start_time": "2023-06-07T10:22:03.604Z"
   },
   {
    "duration": 194,
    "start_time": "2023-06-07T10:22:03.779Z"
   },
   {
    "duration": 222,
    "start_time": "2023-06-07T10:22:03.975Z"
   },
   {
    "duration": 35,
    "start_time": "2023-06-07T10:22:04.199Z"
   },
   {
    "duration": 22,
    "start_time": "2023-06-07T10:22:04.236Z"
   },
   {
    "duration": 4,
    "start_time": "2023-06-07T10:22:04.260Z"
   },
   {
    "duration": 203,
    "start_time": "2023-06-07T10:22:04.265Z"
   },
   {
    "duration": 323,
    "start_time": "2023-06-07T10:22:04.470Z"
   },
   {
    "duration": 190,
    "start_time": "2023-06-07T10:22:04.799Z"
   },
   {
    "duration": 222,
    "start_time": "2023-06-07T10:22:04.991Z"
   },
   {
    "duration": 29,
    "start_time": "2023-06-07T10:22:05.215Z"
   },
   {
    "duration": 20,
    "start_time": "2023-06-07T10:22:05.263Z"
   },
   {
    "duration": 5,
    "start_time": "2023-06-07T10:22:05.285Z"
   },
   {
    "duration": 7,
    "start_time": "2023-06-07T10:22:05.292Z"
   },
   {
    "duration": 11,
    "start_time": "2023-06-07T10:22:05.301Z"
   },
   {
    "duration": 15,
    "start_time": "2023-06-07T10:22:05.314Z"
   },
   {
    "duration": 25,
    "start_time": "2023-06-07T10:22:05.331Z"
   },
   {
    "duration": 17,
    "start_time": "2023-06-07T10:22:05.358Z"
   },
   {
    "duration": 23,
    "start_time": "2023-06-07T10:22:05.377Z"
   },
   {
    "duration": 5,
    "start_time": "2023-06-07T10:22:05.401Z"
   },
   {
    "duration": 6,
    "start_time": "2023-06-07T10:22:05.408Z"
   },
   {
    "duration": 6,
    "start_time": "2023-06-07T10:22:05.415Z"
   },
   {
    "duration": 6,
    "start_time": "2023-06-07T10:22:05.422Z"
   },
   {
    "duration": 7,
    "start_time": "2023-06-07T10:22:05.429Z"
   },
   {
    "duration": 19,
    "start_time": "2023-06-07T10:22:05.437Z"
   },
   {
    "duration": 24,
    "start_time": "2023-06-07T10:22:05.458Z"
   },
   {
    "duration": 7,
    "start_time": "2023-06-07T10:22:05.485Z"
   },
   {
    "duration": 12,
    "start_time": "2023-06-07T10:22:05.493Z"
   },
   {
    "duration": 9,
    "start_time": "2023-06-07T10:22:05.506Z"
   },
   {
    "duration": 11,
    "start_time": "2023-06-07T10:22:05.517Z"
   },
   {
    "duration": 31,
    "start_time": "2023-06-07T10:22:05.529Z"
   },
   {
    "duration": 4,
    "start_time": "2023-06-07T10:22:39.775Z"
   },
   {
    "duration": 6,
    "start_time": "2023-06-07T10:22:41.043Z"
   },
   {
    "duration": 1290,
    "start_time": "2023-06-07T10:22:46.649Z"
   },
   {
    "duration": 4,
    "start_time": "2023-06-07T10:22:47.942Z"
   },
   {
    "duration": 42,
    "start_time": "2023-06-07T10:22:47.956Z"
   },
   {
    "duration": 13,
    "start_time": "2023-06-07T10:22:48.000Z"
   },
   {
    "duration": 39,
    "start_time": "2023-06-07T10:22:48.015Z"
   },
   {
    "duration": 18,
    "start_time": "2023-06-07T10:22:48.057Z"
   },
   {
    "duration": 22,
    "start_time": "2023-06-07T10:22:48.077Z"
   },
   {
    "duration": 17,
    "start_time": "2023-06-07T10:22:48.101Z"
   },
   {
    "duration": 40,
    "start_time": "2023-06-07T10:22:48.120Z"
   },
   {
    "duration": 13,
    "start_time": "2023-06-07T10:22:48.163Z"
   },
   {
    "duration": 7,
    "start_time": "2023-06-07T10:22:48.179Z"
   },
   {
    "duration": 8,
    "start_time": "2023-06-07T10:22:48.187Z"
   },
   {
    "duration": 237,
    "start_time": "2023-06-07T10:22:48.197Z"
   },
   {
    "duration": 177,
    "start_time": "2023-06-07T10:22:48.438Z"
   },
   {
    "duration": 5,
    "start_time": "2023-06-07T10:22:48.617Z"
   },
   {
    "duration": 18,
    "start_time": "2023-06-07T10:22:48.624Z"
   },
   {
    "duration": 204,
    "start_time": "2023-06-07T10:22:48.644Z"
   },
   {
    "duration": 338,
    "start_time": "2023-06-07T10:22:48.849Z"
   },
   {
    "duration": 328,
    "start_time": "2023-06-07T10:22:49.189Z"
   },
   {
    "duration": 38,
    "start_time": "2023-06-07T10:22:49.520Z"
   },
   {
    "duration": 11,
    "start_time": "2023-06-07T10:22:49.560Z"
   },
   {
    "duration": 8,
    "start_time": "2023-06-07T10:22:49.573Z"
   },
   {
    "duration": 263,
    "start_time": "2023-06-07T10:22:49.583Z"
   },
   {
    "duration": 335,
    "start_time": "2023-06-07T10:22:49.856Z"
   },
   {
    "duration": 241,
    "start_time": "2023-06-07T10:22:50.194Z"
   },
   {
    "duration": 234,
    "start_time": "2023-06-07T10:22:50.437Z"
   },
   {
    "duration": 46,
    "start_time": "2023-06-07T10:22:50.673Z"
   },
   {
    "duration": 51,
    "start_time": "2023-06-07T10:22:50.721Z"
   },
   {
    "duration": 7,
    "start_time": "2023-06-07T10:22:50.775Z"
   },
   {
    "duration": 12,
    "start_time": "2023-06-07T10:22:50.785Z"
   },
   {
    "duration": 9,
    "start_time": "2023-06-07T10:22:50.799Z"
   },
   {
    "duration": 16,
    "start_time": "2023-06-07T10:22:50.810Z"
   },
   {
    "duration": 35,
    "start_time": "2023-06-07T10:22:50.828Z"
   },
   {
    "duration": 9,
    "start_time": "2023-06-07T10:22:50.865Z"
   },
   {
    "duration": 17,
    "start_time": "2023-06-07T10:22:50.876Z"
   },
   {
    "duration": 6,
    "start_time": "2023-06-07T10:22:50.896Z"
   },
   {
    "duration": 13,
    "start_time": "2023-06-07T10:22:50.905Z"
   },
   {
    "duration": 27,
    "start_time": "2023-06-07T10:22:50.921Z"
   },
   {
    "duration": 32,
    "start_time": "2023-06-07T10:22:50.951Z"
   },
   {
    "duration": 12,
    "start_time": "2023-06-07T10:22:50.985Z"
   },
   {
    "duration": 13,
    "start_time": "2023-06-07T10:22:51.002Z"
   },
   {
    "duration": 13,
    "start_time": "2023-06-07T10:22:51.018Z"
   },
   {
    "duration": 25,
    "start_time": "2023-06-07T10:22:51.033Z"
   },
   {
    "duration": 13,
    "start_time": "2023-06-07T10:22:51.061Z"
   },
   {
    "duration": 29,
    "start_time": "2023-06-07T10:22:51.076Z"
   },
   {
    "duration": 17,
    "start_time": "2023-06-07T10:22:51.107Z"
   },
   {
    "duration": 6,
    "start_time": "2023-06-07T10:22:51.126Z"
   },
   {
    "duration": 1141,
    "start_time": "2023-06-07T10:52:10.325Z"
   },
   {
    "duration": 3,
    "start_time": "2023-06-07T10:52:11.468Z"
   },
   {
    "duration": 52,
    "start_time": "2023-06-07T10:52:11.473Z"
   },
   {
    "duration": 11,
    "start_time": "2023-06-07T10:52:11.526Z"
   },
   {
    "duration": 35,
    "start_time": "2023-06-07T10:52:11.540Z"
   },
   {
    "duration": 10,
    "start_time": "2023-06-07T10:52:11.577Z"
   },
   {
    "duration": 19,
    "start_time": "2023-06-07T10:52:11.589Z"
   },
   {
    "duration": 17,
    "start_time": "2023-06-07T10:52:11.610Z"
   },
   {
    "duration": 24,
    "start_time": "2023-06-07T10:52:11.629Z"
   },
   {
    "duration": 11,
    "start_time": "2023-06-07T10:52:11.654Z"
   },
   {
    "duration": 4,
    "start_time": "2023-06-07T10:52:11.667Z"
   },
   {
    "duration": 15,
    "start_time": "2023-06-07T10:52:11.672Z"
   },
   {
    "duration": 138,
    "start_time": "2023-06-07T10:52:11.688Z"
   },
   {
    "duration": 124,
    "start_time": "2023-06-07T10:52:11.829Z"
   },
   {
    "duration": 5,
    "start_time": "2023-06-07T10:52:11.955Z"
   },
   {
    "duration": 11,
    "start_time": "2023-06-07T10:52:11.961Z"
   },
   {
    "duration": 136,
    "start_time": "2023-06-07T10:52:11.974Z"
   },
   {
    "duration": 170,
    "start_time": "2023-06-07T10:52:12.115Z"
   },
   {
    "duration": 188,
    "start_time": "2023-06-07T10:52:12.287Z"
   },
   {
    "duration": 23,
    "start_time": "2023-06-07T10:52:12.477Z"
   },
   {
    "duration": 22,
    "start_time": "2023-06-07T10:52:12.502Z"
   },
   {
    "duration": 3,
    "start_time": "2023-06-07T10:52:12.526Z"
   },
   {
    "duration": 195,
    "start_time": "2023-06-07T10:52:12.531Z"
   },
   {
    "duration": 241,
    "start_time": "2023-06-07T10:52:12.728Z"
   },
   {
    "duration": 154,
    "start_time": "2023-06-07T10:52:12.971Z"
   },
   {
    "duration": 176,
    "start_time": "2023-06-07T10:52:13.127Z"
   },
   {
    "duration": 29,
    "start_time": "2023-06-07T10:52:13.305Z"
   },
   {
    "duration": 15,
    "start_time": "2023-06-07T10:52:13.335Z"
   },
   {
    "duration": 9,
    "start_time": "2023-06-07T10:52:13.351Z"
   },
   {
    "duration": 17,
    "start_time": "2023-06-07T10:52:13.361Z"
   },
   {
    "duration": 29,
    "start_time": "2023-06-07T10:52:13.379Z"
   },
   {
    "duration": 15,
    "start_time": "2023-06-07T10:52:13.410Z"
   },
   {
    "duration": 26,
    "start_time": "2023-06-07T10:52:13.427Z"
   },
   {
    "duration": 11,
    "start_time": "2023-06-07T10:52:13.454Z"
   },
   {
    "duration": 31,
    "start_time": "2023-06-07T10:52:13.467Z"
   },
   {
    "duration": 12,
    "start_time": "2023-06-07T10:52:13.499Z"
   },
   {
    "duration": 23,
    "start_time": "2023-06-07T10:52:13.513Z"
   },
   {
    "duration": 29,
    "start_time": "2023-06-07T10:52:13.537Z"
   },
   {
    "duration": 10,
    "start_time": "2023-06-07T10:52:13.567Z"
   },
   {
    "duration": 17,
    "start_time": "2023-06-07T10:52:13.578Z"
   },
   {
    "duration": 15,
    "start_time": "2023-06-07T10:52:13.598Z"
   },
   {
    "duration": 10,
    "start_time": "2023-06-07T10:52:13.614Z"
   },
   {
    "duration": 28,
    "start_time": "2023-06-07T10:52:13.625Z"
   },
   {
    "duration": 20,
    "start_time": "2023-06-07T10:52:13.654Z"
   },
   {
    "duration": 18,
    "start_time": "2023-06-07T10:52:13.675Z"
   },
   {
    "duration": 25,
    "start_time": "2023-06-07T10:52:13.694Z"
   },
   {
    "duration": 21,
    "start_time": "2023-06-07T10:52:13.720Z"
   },
   {
    "duration": 8,
    "start_time": "2023-06-07T12:13:50.235Z"
   },
   {
    "duration": 4,
    "start_time": "2023-06-07T12:13:54.439Z"
   },
   {
    "duration": 4,
    "start_time": "2023-06-07T12:13:59.975Z"
   },
   {
    "duration": 6,
    "start_time": "2023-06-07T12:19:23.142Z"
   },
   {
    "duration": 109,
    "start_time": "2023-06-07T12:19:38.294Z"
   },
   {
    "duration": 4,
    "start_time": "2023-06-07T12:19:41.285Z"
   },
   {
    "duration": 6,
    "start_time": "2023-06-07T12:19:53.340Z"
   },
   {
    "duration": 3,
    "start_time": "2023-06-07T12:20:13.398Z"
   },
   {
    "duration": 202,
    "start_time": "2023-06-07T12:20:55.206Z"
   },
   {
    "duration": 315,
    "start_time": "2023-06-07T12:23:31.763Z"
   },
   {
    "duration": 269,
    "start_time": "2023-06-07T12:23:52.143Z"
   },
   {
    "duration": 1123,
    "start_time": "2023-06-07T19:46:08.903Z"
   },
   {
    "duration": 105,
    "start_time": "2023-06-07T19:47:48.683Z"
   },
   {
    "duration": 969,
    "start_time": "2023-06-07T19:47:55.756Z"
   },
   {
    "duration": 3,
    "start_time": "2023-06-07T19:47:56.726Z"
   },
   {
    "duration": 87,
    "start_time": "2023-06-07T19:47:56.730Z"
   },
   {
    "duration": 10,
    "start_time": "2023-06-07T19:47:56.819Z"
   },
   {
    "duration": 80,
    "start_time": "2023-06-07T19:47:56.830Z"
   },
   {
    "duration": 9,
    "start_time": "2023-06-07T19:47:56.912Z"
   },
   {
    "duration": 66,
    "start_time": "2023-06-07T19:47:56.922Z"
   },
   {
    "duration": 11,
    "start_time": "2023-06-07T19:47:56.990Z"
   },
   {
    "duration": 10,
    "start_time": "2023-06-07T19:47:57.002Z"
   },
   {
    "duration": 25,
    "start_time": "2023-06-07T19:47:57.014Z"
   },
   {
    "duration": 14,
    "start_time": "2023-06-07T19:47:57.040Z"
   },
   {
    "duration": 12,
    "start_time": "2023-06-07T19:47:57.055Z"
   },
   {
    "duration": 15,
    "start_time": "2023-06-07T19:47:57.069Z"
   },
   {
    "duration": 131,
    "start_time": "2023-06-07T19:47:57.086Z"
   },
   {
    "duration": 101,
    "start_time": "2023-06-07T19:47:57.218Z"
   },
   {
    "duration": 5,
    "start_time": "2023-06-07T19:47:57.320Z"
   },
   {
    "duration": 23,
    "start_time": "2023-06-07T19:47:57.326Z"
   },
   {
    "duration": 132,
    "start_time": "2023-06-07T19:47:57.350Z"
   },
   {
    "duration": 165,
    "start_time": "2023-06-07T19:47:57.483Z"
   },
   {
    "duration": 178,
    "start_time": "2023-06-07T19:47:57.649Z"
   },
   {
    "duration": 20,
    "start_time": "2023-06-07T19:47:57.829Z"
   },
   {
    "duration": 15,
    "start_time": "2023-06-07T19:47:57.850Z"
   },
   {
    "duration": 24,
    "start_time": "2023-06-07T19:47:57.866Z"
   },
   {
    "duration": 184,
    "start_time": "2023-06-07T19:47:57.891Z"
   },
   {
    "duration": 231,
    "start_time": "2023-06-07T19:47:58.077Z"
   },
   {
    "duration": 165,
    "start_time": "2023-06-07T19:47:58.309Z"
   },
   {
    "duration": 169,
    "start_time": "2023-06-07T19:47:58.476Z"
   },
   {
    "duration": 21,
    "start_time": "2023-06-07T19:47:58.647Z"
   },
   {
    "duration": 15,
    "start_time": "2023-06-07T19:47:58.669Z"
   },
   {
    "duration": 5,
    "start_time": "2023-06-07T19:47:58.685Z"
   },
   {
    "duration": 37,
    "start_time": "2023-06-07T19:47:58.691Z"
   },
   {
    "duration": 15,
    "start_time": "2023-06-07T19:47:58.730Z"
   },
   {
    "duration": 15,
    "start_time": "2023-06-07T19:47:58.746Z"
   },
   {
    "duration": 14,
    "start_time": "2023-06-07T19:47:58.763Z"
   },
   {
    "duration": 21,
    "start_time": "2023-06-07T19:47:58.778Z"
   },
   {
    "duration": 21,
    "start_time": "2023-06-07T19:47:58.800Z"
   },
   {
    "duration": 16,
    "start_time": "2023-06-07T19:47:58.822Z"
   },
   {
    "duration": 14,
    "start_time": "2023-06-07T19:47:58.839Z"
   },
   {
    "duration": 6,
    "start_time": "2023-06-07T19:47:58.855Z"
   },
   {
    "duration": 9,
    "start_time": "2023-06-07T19:47:58.862Z"
   },
   {
    "duration": 18,
    "start_time": "2023-06-07T19:47:58.872Z"
   },
   {
    "duration": 21,
    "start_time": "2023-06-07T19:47:58.891Z"
   },
   {
    "duration": 9,
    "start_time": "2023-06-07T19:47:58.914Z"
   },
   {
    "duration": 11,
    "start_time": "2023-06-07T19:47:58.924Z"
   },
   {
    "duration": 4,
    "start_time": "2023-06-07T19:47:58.936Z"
   },
   {
    "duration": 19,
    "start_time": "2023-06-07T19:47:58.942Z"
   },
   {
    "duration": 20,
    "start_time": "2023-06-07T19:47:58.963Z"
   },
   {
    "duration": 7,
    "start_time": "2023-06-07T19:47:58.985Z"
   },
   {
    "duration": 112,
    "start_time": "2023-06-07T19:49:26.484Z"
   },
   {
    "duration": 104,
    "start_time": "2023-06-07T19:50:32.518Z"
   },
   {
    "duration": 4,
    "start_time": "2023-06-07T19:50:54.127Z"
   },
   {
    "duration": 5,
    "start_time": "2023-06-07T19:53:11.706Z"
   },
   {
    "duration": 3,
    "start_time": "2023-06-07T19:53:44.886Z"
   },
   {
    "duration": 46,
    "start_time": "2023-06-08T05:50:35.460Z"
   },
   {
    "duration": 1253,
    "start_time": "2023-06-08T05:50:53.100Z"
   },
   {
    "duration": 4,
    "start_time": "2023-06-08T05:50:54.355Z"
   },
   {
    "duration": 107,
    "start_time": "2023-06-08T05:50:54.360Z"
   },
   {
    "duration": 11,
    "start_time": "2023-06-08T05:50:54.469Z"
   },
   {
    "duration": 159,
    "start_time": "2023-06-08T05:50:54.481Z"
   },
   {
    "duration": 10,
    "start_time": "2023-06-08T05:50:54.641Z"
   },
   {
    "duration": 61,
    "start_time": "2023-06-08T05:50:54.652Z"
   },
   {
    "duration": 15,
    "start_time": "2023-06-08T05:50:54.714Z"
   },
   {
    "duration": 4,
    "start_time": "2023-06-08T05:50:54.731Z"
   },
   {
    "duration": 17,
    "start_time": "2023-06-08T05:50:54.738Z"
   },
   {
    "duration": 8,
    "start_time": "2023-06-08T05:50:54.757Z"
   },
   {
    "duration": 4,
    "start_time": "2023-06-08T05:50:54.767Z"
   },
   {
    "duration": 6,
    "start_time": "2023-06-08T05:50:54.773Z"
   },
   {
    "duration": 149,
    "start_time": "2023-06-08T05:50:54.781Z"
   },
   {
    "duration": 121,
    "start_time": "2023-06-08T05:50:54.932Z"
   },
   {
    "duration": 6,
    "start_time": "2023-06-08T05:50:55.055Z"
   },
   {
    "duration": 6,
    "start_time": "2023-06-08T05:50:55.075Z"
   },
   {
    "duration": 166,
    "start_time": "2023-06-08T05:50:55.083Z"
   },
   {
    "duration": 188,
    "start_time": "2023-06-08T05:50:55.251Z"
   },
   {
    "duration": 224,
    "start_time": "2023-06-08T05:50:55.441Z"
   },
   {
    "duration": 25,
    "start_time": "2023-06-08T05:50:55.666Z"
   },
   {
    "duration": 8,
    "start_time": "2023-06-08T05:50:55.693Z"
   },
   {
    "duration": 4,
    "start_time": "2023-06-08T05:50:55.703Z"
   },
   {
    "duration": 202,
    "start_time": "2023-06-08T05:50:55.708Z"
   },
   {
    "duration": 281,
    "start_time": "2023-06-08T05:50:55.911Z"
   },
   {
    "duration": 191,
    "start_time": "2023-06-08T05:50:56.193Z"
   },
   {
    "duration": 204,
    "start_time": "2023-06-08T05:50:56.386Z"
   },
   {
    "duration": 25,
    "start_time": "2023-06-08T05:50:56.594Z"
   },
   {
    "duration": 17,
    "start_time": "2023-06-08T05:50:56.621Z"
   },
   {
    "duration": 4,
    "start_time": "2023-06-08T05:50:56.640Z"
   },
   {
    "duration": 6,
    "start_time": "2023-06-08T05:50:56.674Z"
   },
   {
    "duration": 5,
    "start_time": "2023-06-08T05:50:56.682Z"
   },
   {
    "duration": 4,
    "start_time": "2023-06-08T05:50:56.688Z"
   },
   {
    "duration": 8,
    "start_time": "2023-06-08T05:50:56.693Z"
   },
   {
    "duration": 7,
    "start_time": "2023-06-08T05:50:56.702Z"
   },
   {
    "duration": 5,
    "start_time": "2023-06-08T05:50:56.711Z"
   },
   {
    "duration": 12,
    "start_time": "2023-06-08T05:50:56.718Z"
   },
   {
    "duration": 37,
    "start_time": "2023-06-08T05:50:56.731Z"
   },
   {
    "duration": 9,
    "start_time": "2023-06-08T05:50:56.769Z"
   },
   {
    "duration": 6,
    "start_time": "2023-06-08T05:50:56.779Z"
   },
   {
    "duration": 12,
    "start_time": "2023-06-08T05:50:56.787Z"
   },
   {
    "duration": 9,
    "start_time": "2023-06-08T05:50:56.800Z"
   },
   {
    "duration": 12,
    "start_time": "2023-06-08T05:50:56.810Z"
   },
   {
    "duration": 8,
    "start_time": "2023-06-08T05:50:56.824Z"
   },
   {
    "duration": 5,
    "start_time": "2023-06-08T05:50:56.833Z"
   },
   {
    "duration": 7,
    "start_time": "2023-06-08T05:50:56.839Z"
   },
   {
    "duration": 10,
    "start_time": "2023-06-08T05:50:56.848Z"
   },
   {
    "duration": 17,
    "start_time": "2023-06-08T05:50:56.860Z"
   },
   {
    "duration": 101,
    "start_time": "2023-06-08T05:50:56.878Z"
   },
   {
    "duration": 1033,
    "start_time": "2023-06-08T05:51:35.291Z"
   },
   {
    "duration": 3,
    "start_time": "2023-06-08T05:51:36.325Z"
   },
   {
    "duration": 64,
    "start_time": "2023-06-08T05:51:36.329Z"
   },
   {
    "duration": 11,
    "start_time": "2023-06-08T05:51:36.394Z"
   },
   {
    "duration": 33,
    "start_time": "2023-06-08T05:51:36.407Z"
   },
   {
    "duration": 10,
    "start_time": "2023-06-08T05:51:36.442Z"
   },
   {
    "duration": 18,
    "start_time": "2023-06-08T05:51:36.453Z"
   },
   {
    "duration": 13,
    "start_time": "2023-06-08T05:51:36.472Z"
   },
   {
    "duration": 5,
    "start_time": "2023-06-08T05:51:36.486Z"
   },
   {
    "duration": 10,
    "start_time": "2023-06-08T05:51:36.493Z"
   },
   {
    "duration": 8,
    "start_time": "2023-06-08T05:51:36.505Z"
   },
   {
    "duration": 5,
    "start_time": "2023-06-08T05:51:36.514Z"
   },
   {
    "duration": 7,
    "start_time": "2023-06-08T05:51:36.520Z"
   },
   {
    "duration": 174,
    "start_time": "2023-06-08T05:51:36.529Z"
   },
   {
    "duration": 118,
    "start_time": "2023-06-08T05:51:36.704Z"
   },
   {
    "duration": 5,
    "start_time": "2023-06-08T05:51:36.823Z"
   },
   {
    "duration": 7,
    "start_time": "2023-06-08T05:51:36.830Z"
   },
   {
    "duration": 159,
    "start_time": "2023-06-08T05:51:36.838Z"
   },
   {
    "duration": 193,
    "start_time": "2023-06-08T05:51:36.999Z"
   },
   {
    "duration": 203,
    "start_time": "2023-06-08T05:51:37.193Z"
   },
   {
    "duration": 23,
    "start_time": "2023-06-08T05:51:37.398Z"
   },
   {
    "duration": 8,
    "start_time": "2023-06-08T05:51:37.423Z"
   },
   {
    "duration": 3,
    "start_time": "2023-06-08T05:51:37.432Z"
   },
   {
    "duration": 194,
    "start_time": "2023-06-08T05:51:37.437Z"
   },
   {
    "duration": 288,
    "start_time": "2023-06-08T05:51:37.633Z"
   },
   {
    "duration": 182,
    "start_time": "2023-06-08T05:51:37.923Z"
   },
   {
    "duration": 197,
    "start_time": "2023-06-08T05:51:38.107Z"
   },
   {
    "duration": 24,
    "start_time": "2023-06-08T05:51:38.306Z"
   },
   {
    "duration": 16,
    "start_time": "2023-06-08T05:51:38.332Z"
   },
   {
    "duration": 26,
    "start_time": "2023-06-08T05:51:38.349Z"
   },
   {
    "duration": 5,
    "start_time": "2023-06-08T05:51:38.377Z"
   },
   {
    "duration": 6,
    "start_time": "2023-06-08T05:51:38.383Z"
   },
   {
    "duration": 5,
    "start_time": "2023-06-08T05:51:38.390Z"
   },
   {
    "duration": 8,
    "start_time": "2023-06-08T05:51:38.396Z"
   },
   {
    "duration": 13,
    "start_time": "2023-06-08T05:51:38.405Z"
   },
   {
    "duration": 7,
    "start_time": "2023-06-08T05:51:38.420Z"
   },
   {
    "duration": 9,
    "start_time": "2023-06-08T05:51:38.428Z"
   },
   {
    "duration": 5,
    "start_time": "2023-06-08T05:51:38.438Z"
   },
   {
    "duration": 31,
    "start_time": "2023-06-08T05:51:38.444Z"
   },
   {
    "duration": 3,
    "start_time": "2023-06-08T05:51:38.477Z"
   },
   {
    "duration": 4,
    "start_time": "2023-06-08T05:51:38.484Z"
   },
   {
    "duration": 11,
    "start_time": "2023-06-08T05:51:38.489Z"
   },
   {
    "duration": 10,
    "start_time": "2023-06-08T05:51:38.501Z"
   },
   {
    "duration": 6,
    "start_time": "2023-06-08T05:51:38.513Z"
   },
   {
    "duration": 5,
    "start_time": "2023-06-08T05:51:38.520Z"
   },
   {
    "duration": 5,
    "start_time": "2023-06-08T05:51:38.527Z"
   },
   {
    "duration": 9,
    "start_time": "2023-06-08T05:51:38.534Z"
   },
   {
    "duration": 31,
    "start_time": "2023-06-08T05:51:38.544Z"
   },
   {
    "duration": 4,
    "start_time": "2023-06-08T05:51:38.576Z"
   },
   {
    "duration": 145,
    "start_time": "2023-06-08T05:52:04.808Z"
   },
   {
    "duration": 131,
    "start_time": "2023-06-08T05:53:31.540Z"
   },
   {
    "duration": 114,
    "start_time": "2023-06-08T05:53:41.683Z"
   },
   {
    "duration": 121,
    "start_time": "2023-06-08T05:53:47.616Z"
   },
   {
    "duration": 119,
    "start_time": "2023-06-08T05:53:51.014Z"
   },
   {
    "duration": 140,
    "start_time": "2023-06-08T05:54:03.388Z"
   },
   {
    "duration": 205,
    "start_time": "2023-06-08T05:54:21.447Z"
   },
   {
    "duration": 130,
    "start_time": "2023-06-08T05:54:40.691Z"
   },
   {
    "duration": 135,
    "start_time": "2023-06-08T06:05:23.489Z"
   },
   {
    "duration": 140,
    "start_time": "2023-06-08T06:09:32.200Z"
   },
   {
    "duration": 129,
    "start_time": "2023-06-08T06:09:48.608Z"
   },
   {
    "duration": 140,
    "start_time": "2023-06-08T06:10:03.628Z"
   },
   {
    "duration": 131,
    "start_time": "2023-06-08T06:10:06.998Z"
   },
   {
    "duration": 123,
    "start_time": "2023-06-08T06:10:28.451Z"
   },
   {
    "duration": 186,
    "start_time": "2023-06-08T06:11:14.275Z"
   },
   {
    "duration": 182,
    "start_time": "2023-06-08T06:11:20.344Z"
   },
   {
    "duration": 257,
    "start_time": "2023-06-08T06:11:35.807Z"
   },
   {
    "duration": 229,
    "start_time": "2023-06-08T06:12:01.324Z"
   },
   {
    "duration": 80,
    "start_time": "2023-06-08T06:15:57.443Z"
   },
   {
    "duration": 73,
    "start_time": "2023-06-08T06:16:14.540Z"
   },
   {
    "duration": 73,
    "start_time": "2023-06-08T06:16:20.585Z"
   },
   {
    "duration": 95,
    "start_time": "2023-06-08T06:16:57.795Z"
   },
   {
    "duration": 46,
    "start_time": "2023-06-08T06:18:49.134Z"
   },
   {
    "duration": 48,
    "start_time": "2023-06-08T06:19:03.133Z"
   },
   {
    "duration": 61,
    "start_time": "2023-06-08T06:19:18.166Z"
   },
   {
    "duration": 8,
    "start_time": "2023-06-08T06:19:28.926Z"
   },
   {
    "duration": 6,
    "start_time": "2023-06-08T06:19:45.606Z"
   },
   {
    "duration": 56,
    "start_time": "2023-06-08T06:22:37.618Z"
   },
   {
    "duration": 1000,
    "start_time": "2023-06-08T06:22:47.028Z"
   },
   {
    "duration": 2,
    "start_time": "2023-06-08T06:22:48.030Z"
   },
   {
    "duration": 40,
    "start_time": "2023-06-08T06:22:48.034Z"
   },
   {
    "duration": 18,
    "start_time": "2023-06-08T06:22:48.077Z"
   },
   {
    "duration": 36,
    "start_time": "2023-06-08T06:22:48.096Z"
   },
   {
    "duration": 12,
    "start_time": "2023-06-08T06:22:48.134Z"
   },
   {
    "duration": 20,
    "start_time": "2023-06-08T06:22:48.147Z"
   },
   {
    "duration": 14,
    "start_time": "2023-06-08T06:22:48.169Z"
   },
   {
    "duration": 34,
    "start_time": "2023-06-08T06:22:48.184Z"
   },
   {
    "duration": 11,
    "start_time": "2023-06-08T06:22:48.221Z"
   },
   {
    "duration": 10,
    "start_time": "2023-06-08T06:22:48.234Z"
   },
   {
    "duration": 5,
    "start_time": "2023-06-08T06:22:48.246Z"
   },
   {
    "duration": 6,
    "start_time": "2023-06-08T06:22:48.252Z"
   },
   {
    "duration": 160,
    "start_time": "2023-06-08T06:22:48.259Z"
   },
   {
    "duration": 91,
    "start_time": "2023-06-08T06:22:48.421Z"
   },
   {
    "duration": 42,
    "start_time": "2023-06-08T06:22:48.513Z"
   },
   {
    "duration": 0,
    "start_time": "2023-06-08T06:22:48.558Z"
   },
   {
    "duration": 0,
    "start_time": "2023-06-08T06:22:48.561Z"
   },
   {
    "duration": 0,
    "start_time": "2023-06-08T06:22:48.562Z"
   },
   {
    "duration": 0,
    "start_time": "2023-06-08T06:22:48.563Z"
   },
   {
    "duration": 0,
    "start_time": "2023-06-08T06:22:48.565Z"
   },
   {
    "duration": 0,
    "start_time": "2023-06-08T06:22:48.566Z"
   },
   {
    "duration": 0,
    "start_time": "2023-06-08T06:22:48.568Z"
   },
   {
    "duration": 0,
    "start_time": "2023-06-08T06:22:48.570Z"
   },
   {
    "duration": 0,
    "start_time": "2023-06-08T06:22:48.571Z"
   },
   {
    "duration": 0,
    "start_time": "2023-06-08T06:22:48.573Z"
   },
   {
    "duration": 0,
    "start_time": "2023-06-08T06:22:48.574Z"
   },
   {
    "duration": 0,
    "start_time": "2023-06-08T06:22:48.576Z"
   },
   {
    "duration": 0,
    "start_time": "2023-06-08T06:22:48.578Z"
   },
   {
    "duration": 0,
    "start_time": "2023-06-08T06:22:48.579Z"
   },
   {
    "duration": 0,
    "start_time": "2023-06-08T06:22:48.581Z"
   },
   {
    "duration": 0,
    "start_time": "2023-06-08T06:22:48.582Z"
   },
   {
    "duration": 0,
    "start_time": "2023-06-08T06:22:48.583Z"
   },
   {
    "duration": 0,
    "start_time": "2023-06-08T06:22:48.585Z"
   },
   {
    "duration": 0,
    "start_time": "2023-06-08T06:22:48.586Z"
   },
   {
    "duration": 0,
    "start_time": "2023-06-08T06:22:48.587Z"
   },
   {
    "duration": 0,
    "start_time": "2023-06-08T06:22:48.588Z"
   },
   {
    "duration": 0,
    "start_time": "2023-06-08T06:22:48.589Z"
   },
   {
    "duration": 0,
    "start_time": "2023-06-08T06:22:48.590Z"
   },
   {
    "duration": 0,
    "start_time": "2023-06-08T06:22:48.591Z"
   },
   {
    "duration": 0,
    "start_time": "2023-06-08T06:22:48.592Z"
   },
   {
    "duration": 0,
    "start_time": "2023-06-08T06:22:48.593Z"
   },
   {
    "duration": 0,
    "start_time": "2023-06-08T06:22:48.594Z"
   },
   {
    "duration": 0,
    "start_time": "2023-06-08T06:22:48.595Z"
   },
   {
    "duration": 0,
    "start_time": "2023-06-08T06:22:48.596Z"
   },
   {
    "duration": 0,
    "start_time": "2023-06-08T06:22:48.597Z"
   },
   {
    "duration": 0,
    "start_time": "2023-06-08T06:22:48.598Z"
   },
   {
    "duration": 0,
    "start_time": "2023-06-08T06:22:48.599Z"
   },
   {
    "duration": 0,
    "start_time": "2023-06-08T06:22:48.600Z"
   },
   {
    "duration": 6,
    "start_time": "2023-06-08T06:23:08.526Z"
   },
   {
    "duration": 6,
    "start_time": "2023-06-08T06:24:29.791Z"
   },
   {
    "duration": 97,
    "start_time": "2023-06-08T06:39:36.037Z"
   },
   {
    "duration": 1187,
    "start_time": "2023-06-08T06:39:41.055Z"
   },
   {
    "duration": 3,
    "start_time": "2023-06-08T06:39:42.244Z"
   },
   {
    "duration": 47,
    "start_time": "2023-06-08T06:39:42.249Z"
   },
   {
    "duration": 15,
    "start_time": "2023-06-08T06:39:42.298Z"
   },
   {
    "duration": 44,
    "start_time": "2023-06-08T06:39:42.315Z"
   },
   {
    "duration": 22,
    "start_time": "2023-06-08T06:39:42.361Z"
   },
   {
    "duration": 20,
    "start_time": "2023-06-08T06:39:42.385Z"
   },
   {
    "duration": 16,
    "start_time": "2023-06-08T06:39:42.407Z"
   },
   {
    "duration": 5,
    "start_time": "2023-06-08T06:39:42.425Z"
   },
   {
    "duration": 13,
    "start_time": "2023-06-08T06:39:42.434Z"
   },
   {
    "duration": 36,
    "start_time": "2023-06-08T06:39:42.448Z"
   },
   {
    "duration": 6,
    "start_time": "2023-06-08T06:39:42.486Z"
   },
   {
    "duration": 8,
    "start_time": "2023-06-08T06:39:42.495Z"
   },
   {
    "duration": 214,
    "start_time": "2023-06-08T06:39:42.505Z"
   },
   {
    "duration": 108,
    "start_time": "2023-06-08T06:39:42.721Z"
   },
   {
    "duration": 5,
    "start_time": "2023-06-08T06:39:42.831Z"
   },
   {
    "duration": 10,
    "start_time": "2023-06-08T06:39:42.838Z"
   },
   {
    "duration": 167,
    "start_time": "2023-06-08T06:39:42.849Z"
   },
   {
    "duration": 206,
    "start_time": "2023-06-08T06:39:43.018Z"
   },
   {
    "duration": 249,
    "start_time": "2023-06-08T06:39:43.226Z"
   },
   {
    "duration": 27,
    "start_time": "2023-06-08T06:39:43.477Z"
   },
   {
    "duration": 11,
    "start_time": "2023-06-08T06:39:43.506Z"
   },
   {
    "duration": 4,
    "start_time": "2023-06-08T06:39:43.518Z"
   },
   {
    "duration": 214,
    "start_time": "2023-06-08T06:39:43.524Z"
   },
   {
    "duration": 314,
    "start_time": "2023-06-08T06:39:43.740Z"
   },
   {
    "duration": 254,
    "start_time": "2023-06-08T06:39:44.056Z"
   },
   {
    "duration": 202,
    "start_time": "2023-06-08T06:39:44.311Z"
   },
   {
    "duration": 26,
    "start_time": "2023-06-08T06:39:44.516Z"
   },
   {
    "duration": 32,
    "start_time": "2023-06-08T06:39:44.543Z"
   },
   {
    "duration": 5,
    "start_time": "2023-06-08T06:39:44.576Z"
   },
   {
    "duration": 6,
    "start_time": "2023-06-08T06:39:44.583Z"
   },
   {
    "duration": 17,
    "start_time": "2023-06-08T06:39:44.590Z"
   },
   {
    "duration": 7,
    "start_time": "2023-06-08T06:39:44.608Z"
   },
   {
    "duration": 21,
    "start_time": "2023-06-08T06:39:44.617Z"
   },
   {
    "duration": 5,
    "start_time": "2023-06-08T06:39:44.640Z"
   },
   {
    "duration": 29,
    "start_time": "2023-06-08T06:39:44.647Z"
   },
   {
    "duration": 28,
    "start_time": "2023-06-08T06:39:44.678Z"
   },
   {
    "duration": 16,
    "start_time": "2023-06-08T06:39:44.707Z"
   },
   {
    "duration": 5,
    "start_time": "2023-06-08T06:39:44.725Z"
   },
   {
    "duration": 5,
    "start_time": "2023-06-08T06:39:44.732Z"
   },
   {
    "duration": 8,
    "start_time": "2023-06-08T06:39:44.739Z"
   },
   {
    "duration": 4,
    "start_time": "2023-06-08T06:39:44.749Z"
   },
   {
    "duration": 7,
    "start_time": "2023-06-08T06:39:44.754Z"
   },
   {
    "duration": 14,
    "start_time": "2023-06-08T06:39:44.762Z"
   },
   {
    "duration": 4,
    "start_time": "2023-06-08T06:39:44.777Z"
   },
   {
    "duration": 6,
    "start_time": "2023-06-08T06:39:44.782Z"
   },
   {
    "duration": 9,
    "start_time": "2023-06-08T06:39:44.789Z"
   },
   {
    "duration": 15,
    "start_time": "2023-06-08T06:39:44.800Z"
   },
   {
    "duration": 1148,
    "start_time": "2023-06-09T10:22:51.662Z"
   },
   {
    "duration": 3,
    "start_time": "2023-06-09T10:22:52.812Z"
   },
   {
    "duration": 43,
    "start_time": "2023-06-09T10:22:52.817Z"
   },
   {
    "duration": 11,
    "start_time": "2023-06-09T10:22:52.861Z"
   },
   {
    "duration": 50,
    "start_time": "2023-06-09T10:22:52.874Z"
   },
   {
    "duration": 11,
    "start_time": "2023-06-09T10:22:52.925Z"
   },
   {
    "duration": 29,
    "start_time": "2023-06-09T10:22:52.938Z"
   },
   {
    "duration": 12,
    "start_time": "2023-06-09T10:22:52.969Z"
   },
   {
    "duration": 4,
    "start_time": "2023-06-09T10:22:52.983Z"
   },
   {
    "duration": 12,
    "start_time": "2023-06-09T10:22:52.988Z"
   },
   {
    "duration": 9,
    "start_time": "2023-06-09T10:22:53.002Z"
   },
   {
    "duration": 5,
    "start_time": "2023-06-09T10:22:53.013Z"
   },
   {
    "duration": 39,
    "start_time": "2023-06-09T10:22:53.019Z"
   },
   {
    "duration": 173,
    "start_time": "2023-06-09T10:22:53.061Z"
   },
   {
    "duration": 82,
    "start_time": "2023-06-09T10:22:53.236Z"
   },
   {
    "duration": 6,
    "start_time": "2023-06-09T10:22:53.319Z"
   },
   {
    "duration": 11,
    "start_time": "2023-06-09T10:22:53.327Z"
   },
   {
    "duration": 195,
    "start_time": "2023-06-09T10:22:53.340Z"
   },
   {
    "duration": 220,
    "start_time": "2023-06-09T10:22:53.537Z"
   },
   {
    "duration": 309,
    "start_time": "2023-06-09T10:22:53.758Z"
   },
   {
    "duration": 36,
    "start_time": "2023-06-09T10:22:54.069Z"
   },
   {
    "duration": 13,
    "start_time": "2023-06-09T10:22:54.107Z"
   },
   {
    "duration": 19,
    "start_time": "2023-06-09T10:22:54.123Z"
   },
   {
    "duration": 227,
    "start_time": "2023-06-09T10:22:54.144Z"
   },
   {
    "duration": 296,
    "start_time": "2023-06-09T10:22:54.373Z"
   },
   {
    "duration": 185,
    "start_time": "2023-06-09T10:22:54.670Z"
   },
   {
    "duration": 223,
    "start_time": "2023-06-09T10:22:54.857Z"
   },
   {
    "duration": 34,
    "start_time": "2023-06-09T10:22:55.082Z"
   },
   {
    "duration": 39,
    "start_time": "2023-06-09T10:22:55.118Z"
   },
   {
    "duration": 5,
    "start_time": "2023-06-09T10:22:55.159Z"
   },
   {
    "duration": 17,
    "start_time": "2023-06-09T10:22:55.165Z"
   },
   {
    "duration": 42,
    "start_time": "2023-06-09T10:22:55.183Z"
   },
   {
    "duration": 15,
    "start_time": "2023-06-09T10:22:55.226Z"
   },
   {
    "duration": 11,
    "start_time": "2023-06-09T10:22:55.242Z"
   },
   {
    "duration": 18,
    "start_time": "2023-06-09T10:22:55.255Z"
   },
   {
    "duration": 16,
    "start_time": "2023-06-09T10:22:55.275Z"
   },
   {
    "duration": 8,
    "start_time": "2023-06-09T10:22:55.293Z"
   },
   {
    "duration": 22,
    "start_time": "2023-06-09T10:22:55.303Z"
   },
   {
    "duration": 12,
    "start_time": "2023-06-09T10:22:55.327Z"
   },
   {
    "duration": 21,
    "start_time": "2023-06-09T10:22:55.341Z"
   },
   {
    "duration": 16,
    "start_time": "2023-06-09T10:22:55.366Z"
   },
   {
    "duration": 20,
    "start_time": "2023-06-09T10:22:55.383Z"
   },
   {
    "duration": 15,
    "start_time": "2023-06-09T10:22:55.405Z"
   },
   {
    "duration": 10,
    "start_time": "2023-06-09T10:22:55.422Z"
   },
   {
    "duration": 4,
    "start_time": "2023-06-09T10:22:55.433Z"
   },
   {
    "duration": 7,
    "start_time": "2023-06-09T10:22:55.439Z"
   },
   {
    "duration": 11,
    "start_time": "2023-06-09T10:22:55.448Z"
   },
   {
    "duration": 18,
    "start_time": "2023-06-09T10:22:55.461Z"
   },
   {
    "duration": 1247,
    "start_time": "2023-06-09T10:55:15.156Z"
   },
   {
    "duration": 3,
    "start_time": "2023-06-09T10:55:16.405Z"
   },
   {
    "duration": 46,
    "start_time": "2023-06-09T10:55:16.410Z"
   },
   {
    "duration": 13,
    "start_time": "2023-06-09T10:55:16.457Z"
   },
   {
    "duration": 45,
    "start_time": "2023-06-09T10:55:16.472Z"
   },
   {
    "duration": 14,
    "start_time": "2023-06-09T10:55:16.519Z"
   },
   {
    "duration": 88,
    "start_time": "2023-06-09T10:55:16.535Z"
   },
   {
    "duration": 109,
    "start_time": "2023-06-09T10:55:16.626Z"
   },
   {
    "duration": 6,
    "start_time": "2023-06-09T10:55:16.737Z"
   },
   {
    "duration": 15,
    "start_time": "2023-06-09T10:55:16.745Z"
   },
   {
    "duration": 23,
    "start_time": "2023-06-09T10:55:16.762Z"
   },
   {
    "duration": 16,
    "start_time": "2023-06-09T10:55:16.788Z"
   },
   {
    "duration": 26,
    "start_time": "2023-06-09T10:55:16.806Z"
   },
   {
    "duration": 202,
    "start_time": "2023-06-09T10:55:16.836Z"
   },
   {
    "duration": 99,
    "start_time": "2023-06-09T10:55:17.040Z"
   },
   {
    "duration": 7,
    "start_time": "2023-06-09T10:55:17.140Z"
   },
   {
    "duration": 13,
    "start_time": "2023-06-09T10:55:17.148Z"
   },
   {
    "duration": 18,
    "start_time": "2023-06-09T10:55:17.163Z"
   },
   {
    "duration": 188,
    "start_time": "2023-06-09T10:55:17.183Z"
   },
   {
    "duration": 223,
    "start_time": "2023-06-09T10:55:17.373Z"
   },
   {
    "duration": 265,
    "start_time": "2023-06-09T10:55:17.598Z"
   },
   {
    "duration": 32,
    "start_time": "2023-06-09T10:55:17.865Z"
   },
   {
    "duration": 28,
    "start_time": "2023-06-09T10:55:17.899Z"
   },
   {
    "duration": 26,
    "start_time": "2023-06-09T10:55:17.929Z"
   },
   {
    "duration": 217,
    "start_time": "2023-06-09T10:55:17.957Z"
   },
   {
    "duration": 329,
    "start_time": "2023-06-09T10:55:18.176Z"
   },
   {
    "duration": 210,
    "start_time": "2023-06-09T10:55:18.507Z"
   },
   {
    "duration": 246,
    "start_time": "2023-06-09T10:55:18.719Z"
   },
   {
    "duration": 31,
    "start_time": "2023-06-09T10:55:18.966Z"
   },
   {
    "duration": 19,
    "start_time": "2023-06-09T10:55:18.999Z"
   },
   {
    "duration": 6,
    "start_time": "2023-06-09T10:55:19.020Z"
   },
   {
    "duration": 43,
    "start_time": "2023-06-09T10:55:19.028Z"
   },
   {
    "duration": 14,
    "start_time": "2023-06-09T10:55:19.073Z"
   },
   {
    "duration": 24,
    "start_time": "2023-06-09T10:55:19.088Z"
   },
   {
    "duration": 32,
    "start_time": "2023-06-09T10:55:19.114Z"
   },
   {
    "duration": 28,
    "start_time": "2023-06-09T10:55:19.148Z"
   },
   {
    "duration": 14,
    "start_time": "2023-06-09T10:55:19.178Z"
   },
   {
    "duration": 19,
    "start_time": "2023-06-09T10:55:19.194Z"
   },
   {
    "duration": 20,
    "start_time": "2023-06-09T10:55:19.216Z"
   },
   {
    "duration": 9,
    "start_time": "2023-06-09T10:55:19.238Z"
   },
   {
    "duration": 19,
    "start_time": "2023-06-09T10:55:19.252Z"
   },
   {
    "duration": 9,
    "start_time": "2023-06-09T10:55:19.273Z"
   },
   {
    "duration": 17,
    "start_time": "2023-06-09T10:55:19.284Z"
   },
   {
    "duration": 15,
    "start_time": "2023-06-09T10:55:19.302Z"
   },
   {
    "duration": 7,
    "start_time": "2023-06-09T10:55:19.318Z"
   },
   {
    "duration": 25,
    "start_time": "2023-06-09T10:55:19.327Z"
   },
   {
    "duration": 28,
    "start_time": "2023-06-09T10:55:19.355Z"
   },
   {
    "duration": 31,
    "start_time": "2023-06-09T10:55:19.386Z"
   },
   {
    "duration": 21,
    "start_time": "2023-06-09T10:55:19.419Z"
   },
   {
    "duration": 105,
    "start_time": "2023-06-09T10:55:35.624Z"
   },
   {
    "duration": 7,
    "start_time": "2023-06-09T10:55:43.826Z"
   },
   {
    "duration": 5,
    "start_time": "2023-06-09T10:55:56.486Z"
   },
   {
    "duration": 49,
    "start_time": "2023-06-09T12:17:21.468Z"
   },
   {
    "duration": 1314,
    "start_time": "2023-06-09T12:17:30.747Z"
   },
   {
    "duration": 3,
    "start_time": "2023-06-09T12:17:32.064Z"
   },
   {
    "duration": 132,
    "start_time": "2023-06-09T12:17:32.068Z"
   },
   {
    "duration": 12,
    "start_time": "2023-06-09T12:17:32.202Z"
   },
   {
    "duration": 180,
    "start_time": "2023-06-09T12:17:32.215Z"
   },
   {
    "duration": 13,
    "start_time": "2023-06-09T12:17:32.398Z"
   },
   {
    "duration": 80,
    "start_time": "2023-06-09T12:17:32.413Z"
   },
   {
    "duration": 15,
    "start_time": "2023-06-09T12:17:32.495Z"
   },
   {
    "duration": 16,
    "start_time": "2023-06-09T12:17:32.512Z"
   },
   {
    "duration": 18,
    "start_time": "2023-06-09T12:17:32.531Z"
   },
   {
    "duration": 19,
    "start_time": "2023-06-09T12:17:32.551Z"
   },
   {
    "duration": 15,
    "start_time": "2023-06-09T12:17:32.572Z"
   },
   {
    "duration": 14,
    "start_time": "2023-06-09T12:17:32.588Z"
   },
   {
    "duration": 183,
    "start_time": "2023-06-09T12:17:32.604Z"
   },
   {
    "duration": 88,
    "start_time": "2023-06-09T12:17:32.789Z"
   },
   {
    "duration": 5,
    "start_time": "2023-06-09T12:17:32.878Z"
   },
   {
    "duration": 17,
    "start_time": "2023-06-09T12:17:32.885Z"
   },
   {
    "duration": 35,
    "start_time": "2023-06-09T12:17:32.903Z"
   },
   {
    "duration": 208,
    "start_time": "2023-06-09T12:17:32.939Z"
   },
   {
    "duration": 197,
    "start_time": "2023-06-09T12:17:33.149Z"
   },
   {
    "duration": 247,
    "start_time": "2023-06-09T12:17:33.347Z"
   },
   {
    "duration": 25,
    "start_time": "2023-06-09T12:17:33.596Z"
   },
   {
    "duration": 9,
    "start_time": "2023-06-09T12:17:33.622Z"
   },
   {
    "duration": 34,
    "start_time": "2023-06-09T12:17:33.633Z"
   },
   {
    "duration": 228,
    "start_time": "2023-06-09T12:17:33.669Z"
   },
   {
    "duration": 290,
    "start_time": "2023-06-09T12:17:33.899Z"
   },
   {
    "duration": 190,
    "start_time": "2023-06-09T12:17:34.190Z"
   },
   {
    "duration": 229,
    "start_time": "2023-06-09T12:17:34.384Z"
   },
   {
    "duration": 42,
    "start_time": "2023-06-09T12:17:34.615Z"
   },
   {
    "duration": 17,
    "start_time": "2023-06-09T12:17:34.667Z"
   },
   {
    "duration": 7,
    "start_time": "2023-06-09T12:17:34.685Z"
   },
   {
    "duration": 6,
    "start_time": "2023-06-09T12:17:34.693Z"
   },
   {
    "duration": 22,
    "start_time": "2023-06-09T12:17:34.700Z"
   },
   {
    "duration": 8,
    "start_time": "2023-06-09T12:17:34.723Z"
   },
   {
    "duration": 8,
    "start_time": "2023-06-09T12:17:34.732Z"
   },
   {
    "duration": 4,
    "start_time": "2023-06-09T12:17:34.742Z"
   },
   {
    "duration": 9,
    "start_time": "2023-06-09T12:17:34.753Z"
   },
   {
    "duration": 9,
    "start_time": "2023-06-09T12:17:34.763Z"
   },
   {
    "duration": 9,
    "start_time": "2023-06-09T12:17:34.773Z"
   },
   {
    "duration": 13,
    "start_time": "2023-06-09T12:17:34.784Z"
   },
   {
    "duration": 23,
    "start_time": "2023-06-09T12:17:34.798Z"
   },
   {
    "duration": 6,
    "start_time": "2023-06-09T12:17:34.822Z"
   },
   {
    "duration": 4,
    "start_time": "2023-06-09T12:17:34.829Z"
   },
   {
    "duration": 8,
    "start_time": "2023-06-09T12:17:34.835Z"
   },
   {
    "duration": 6,
    "start_time": "2023-06-09T12:17:34.844Z"
   },
   {
    "duration": 3,
    "start_time": "2023-06-09T12:17:34.862Z"
   },
   {
    "duration": 11,
    "start_time": "2023-06-09T12:17:34.867Z"
   },
   {
    "duration": 9,
    "start_time": "2023-06-09T12:17:34.879Z"
   },
   {
    "duration": 11,
    "start_time": "2023-06-09T12:17:34.889Z"
   },
   {
    "duration": 5,
    "start_time": "2023-06-09T12:26:56.268Z"
   },
   {
    "duration": 7,
    "start_time": "2023-06-09T12:27:01.383Z"
   },
   {
    "duration": 6,
    "start_time": "2023-06-09T12:27:08.077Z"
   },
   {
    "duration": 6,
    "start_time": "2023-06-09T12:27:25.474Z"
   },
   {
    "duration": 7,
    "start_time": "2023-06-09T12:27:32.873Z"
   },
   {
    "duration": 7,
    "start_time": "2023-06-09T12:27:51.435Z"
   },
   {
    "duration": 8,
    "start_time": "2023-06-09T12:28:35.031Z"
   },
   {
    "duration": 59,
    "start_time": "2023-06-09T12:29:34.857Z"
   },
   {
    "duration": 66,
    "start_time": "2023-06-09T12:29:42.495Z"
   },
   {
    "duration": 9,
    "start_time": "2023-06-09T12:29:48.572Z"
   },
   {
    "duration": 65,
    "start_time": "2023-06-09T12:30:09.540Z"
   },
   {
    "duration": 12,
    "start_time": "2023-06-09T12:30:15.054Z"
   }
  ],
  "kernelspec": {
   "display_name": "Python 3 (ipykernel)",
   "language": "python",
   "name": "python3"
  },
  "language_info": {
   "codemirror_mode": {
    "name": "ipython",
    "version": 3
   },
   "file_extension": ".py",
   "mimetype": "text/x-python",
   "name": "python",
   "nbconvert_exporter": "python",
   "pygments_lexer": "ipython3",
   "version": "3.9.16"
  },
  "toc": {
   "base_numbering": 1,
   "nav_menu": {},
   "number_sections": true,
   "sideBar": true,
   "skip_h1_title": true,
   "title_cell": "Table of Contents",
   "title_sidebar": "Contents",
   "toc_cell": false,
   "toc_position": {
    "height": "calc(100% - 180px)",
    "left": "10px",
    "top": "150px",
    "width": "328.528px"
   },
   "toc_section_display": true,
   "toc_window_display": true
  }
 },
 "nbformat": 4,
 "nbformat_minor": 5
}
