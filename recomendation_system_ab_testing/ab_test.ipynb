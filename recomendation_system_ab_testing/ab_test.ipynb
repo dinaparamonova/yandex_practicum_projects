{
 "cells": [
  {
   "cell_type": "markdown",
   "id": "e4ce1a32",
   "metadata": {},
   "source": [
    "# А/B-тестирование изменений по улучшению рекомендательной системы"
   ]
  },
  {
   "cell_type": "markdown",
   "id": "25646113",
   "metadata": {},
   "source": [
    "**Задача**: было проведено A/B тестирование по улучшению рекомендательной системы. Для одной группы пользователей ничего не изменилось, для второй - изменилась рекомендательная система. Необходимо оценить корректность проведения теста и проанализировать его результаты. Успешными результатами является увеличение конверсии из посетителя сайта в покупатели.\n",
    "В случае, если результаты будут признаны успешными, рекомендовать внедрение новой рекомендательной системы всем пользователям.\n",
    "\n",
    "**Данные**: в нашем распоряжении 4 датасета с календарем маркетинговых исследований за 2020 года, данные новых пользователей, их события и участники тестирования. \n",
    "\n",
    "**Техническое задание**:\n",
    " - `Название теста`: recommender_system_test\n",
    " - `Группы`: А (контрольная), B (новая платёжная воронка)\n",
    " - `Дата запуска`: 2020-12-07\n",
    " - `Дата остановки набора новых пользователей`: 2020-12-21\n",
    " - `Дата остановки`: 2021-01-04\n",
    " - `Ожидаемое количество участников теста`: 15% новых пользователей из региона EU\n",
    " - `Назначение теста`: тестирование изменений, связанных с внедрением улучшенной рекомендательной системы\n",
    " - `Ожидаемый эффект`: за 14 дней с момента регистрации в системе  пользователи покажут улучшение каждой метрики (конверсия в просмотр карточек товара, просмотр корзины, покупка) не менее, чем на 5 процентных пунктов.\n",
    "\n",
    "**План работы**:\n",
    "Предобработаем данные, проведем проверку корректности проведения теста, проведем исследовательский анализ и проверим результаты A/B тестирования. В результате мы сможем сделать вывод о том, состоялся ли тест и какие дал результаты.\n",
    "\n",
    "Приступим к предобработке данных.\n"
   ]
  },
  {
   "cell_type": "markdown",
   "id": "b4a1d013",
   "metadata": {},
   "source": [
    "## Предобработка данных"
   ]
  },
  {
   "cell_type": "markdown",
   "id": "9e07715e",
   "metadata": {},
   "source": [
    "Импортируем бибиотеки и прочитаем предоставленные таблицы."
   ]
  },
  {
   "cell_type": "code",
   "execution_count": 73,
   "id": "5a90794d",
   "metadata": {},
   "outputs": [],
   "source": [
    "import pandas as pd\n",
    "from datetime import datetime, timedelta\n",
    "import matplotlib.pyplot as plt\n",
    "import numpy as np\n",
    "import seaborn as sns\n",
    "import plotly.express as px\n",
    "from plotly import graph_objects as go\n",
    "from scipy import stats as st\n",
    "import math as mth\n",
    "import re\n",
    "from IPython.display import Image"
   ]
  },
  {
   "cell_type": "code",
   "execution_count": 2,
   "id": "c6703077",
   "metadata": {
    "scrolled": true
   },
   "outputs": [],
   "source": [
    "mark_events = pd.read_csv(\"ab_project_marketing_events.csv\")\n",
    "new_users = pd.read_csv(\"final_ab_new_users.csv\")\n",
    "events = pd.read_csv(\"final_ab_events.csv\")\n",
    "participants = pd.read_csv(\"final_ab_participants.csv\")"
   ]
  },
  {
   "cell_type": "markdown",
   "id": "b612244e",
   "metadata": {},
   "source": [
    "Напишем функцию, которая выведет всю необходимую первичную информацию и проверит дубликаты. Применим ее к таблицам."
   ]
  },
  {
   "cell_type": "code",
   "execution_count": 3,
   "id": "f7ba9a4d",
   "metadata": {},
   "outputs": [],
   "source": [
    "def prev (table, table_name):\n",
    "    print(f'Информация по таблице {table_name}:')\n",
    "    print('*'*50)\n",
    "    table.info()\n",
    "    print('*'*50)\n",
    "    print(f'Количество явных дубликатов в таблице {table_name}: {table.duplicated().sum()}')\n",
    "    display(table.head())"
   ]
  },
  {
   "cell_type": "markdown",
   "id": "65e4f1c7",
   "metadata": {},
   "source": [
    "### Календарь маркетинговых событий mark_events 2020 года"
   ]
  },
  {
   "cell_type": "code",
   "execution_count": 4,
   "id": "751ad22d",
   "metadata": {},
   "outputs": [
    {
     "name": "stdout",
     "output_type": "stream",
     "text": [
      "Информация по таблице mark_events:\n",
      "**************************************************\n",
      "<class 'pandas.core.frame.DataFrame'>\n",
      "RangeIndex: 14 entries, 0 to 13\n",
      "Data columns (total 4 columns):\n",
      " #   Column     Non-Null Count  Dtype \n",
      "---  ------     --------------  ----- \n",
      " 0   name       14 non-null     object\n",
      " 1   regions    14 non-null     object\n",
      " 2   start_dt   14 non-null     object\n",
      " 3   finish_dt  14 non-null     object\n",
      "dtypes: object(4)\n",
      "memory usage: 576.0+ bytes\n",
      "**************************************************\n",
      "Количество явных дубликатов в таблице mark_events: 0\n"
     ]
    },
    {
     "data": {
      "text/html": [
       "<div>\n",
       "<style scoped>\n",
       "    .dataframe tbody tr th:only-of-type {\n",
       "        vertical-align: middle;\n",
       "    }\n",
       "\n",
       "    .dataframe tbody tr th {\n",
       "        vertical-align: top;\n",
       "    }\n",
       "\n",
       "    .dataframe thead th {\n",
       "        text-align: right;\n",
       "    }\n",
       "</style>\n",
       "<table border=\"1\" class=\"dataframe\">\n",
       "  <thead>\n",
       "    <tr style=\"text-align: right;\">\n",
       "      <th></th>\n",
       "      <th>name</th>\n",
       "      <th>regions</th>\n",
       "      <th>start_dt</th>\n",
       "      <th>finish_dt</th>\n",
       "    </tr>\n",
       "  </thead>\n",
       "  <tbody>\n",
       "    <tr>\n",
       "      <th>0</th>\n",
       "      <td>Christmas&amp;New Year Promo</td>\n",
       "      <td>EU, N.America</td>\n",
       "      <td>2020-12-25</td>\n",
       "      <td>2021-01-03</td>\n",
       "    </tr>\n",
       "    <tr>\n",
       "      <th>1</th>\n",
       "      <td>St. Valentine's Day Giveaway</td>\n",
       "      <td>EU, CIS, APAC, N.America</td>\n",
       "      <td>2020-02-14</td>\n",
       "      <td>2020-02-16</td>\n",
       "    </tr>\n",
       "    <tr>\n",
       "      <th>2</th>\n",
       "      <td>St. Patric's Day Promo</td>\n",
       "      <td>EU, N.America</td>\n",
       "      <td>2020-03-17</td>\n",
       "      <td>2020-03-19</td>\n",
       "    </tr>\n",
       "    <tr>\n",
       "      <th>3</th>\n",
       "      <td>Easter Promo</td>\n",
       "      <td>EU, CIS, APAC, N.America</td>\n",
       "      <td>2020-04-12</td>\n",
       "      <td>2020-04-19</td>\n",
       "    </tr>\n",
       "    <tr>\n",
       "      <th>4</th>\n",
       "      <td>4th of July Promo</td>\n",
       "      <td>N.America</td>\n",
       "      <td>2020-07-04</td>\n",
       "      <td>2020-07-11</td>\n",
       "    </tr>\n",
       "  </tbody>\n",
       "</table>\n",
       "</div>"
      ],
      "text/plain": [
       "                           name                   regions    start_dt  \\\n",
       "0      Christmas&New Year Promo             EU, N.America  2020-12-25   \n",
       "1  St. Valentine's Day Giveaway  EU, CIS, APAC, N.America  2020-02-14   \n",
       "2        St. Patric's Day Promo             EU, N.America  2020-03-17   \n",
       "3                  Easter Promo  EU, CIS, APAC, N.America  2020-04-12   \n",
       "4             4th of July Promo                 N.America  2020-07-04   \n",
       "\n",
       "    finish_dt  \n",
       "0  2021-01-03  \n",
       "1  2020-02-16  \n",
       "2  2020-03-19  \n",
       "3  2020-04-19  \n",
       "4  2020-07-11  "
      ]
     },
     "metadata": {},
     "output_type": "display_data"
    }
   ],
   "source": [
    "prev (mark_events, 'mark_events')"
   ]
  },
  {
   "cell_type": "markdown",
   "id": "0ed4c7d6",
   "metadata": {},
   "source": [
    "В исходных данных 4 столбца и 14 строк.\n",
    "\n",
    "Столбцы:\n",
    "\n",
    " - `name` - название акции\n",
    " - `regions` - регионы проведения акции\n",
    " - `start_dt` - дата начала\n",
    " - `finish_dt` - дата окончания\n",
    " \n",
    " Пропусков нет."
   ]
  },
  {
   "cell_type": "markdown",
   "id": "3d9bcc6a",
   "metadata": {},
   "source": [
    "Поменяем формат даты в start_dt и finish_dt."
   ]
  },
  {
   "cell_type": "code",
   "execution_count": 5,
   "id": "e841fdeb",
   "metadata": {},
   "outputs": [],
   "source": [
    "mark_events['start_dt'] = pd.to_datetime(mark_events['start_dt'], format='%Y-%m-%d')\n",
    "mark_events['finish_dt'] = pd.to_datetime(mark_events['finish_dt'], format='%Y-%m-%d')"
   ]
  },
  {
   "cell_type": "markdown",
   "id": "c396eb1e",
   "metadata": {},
   "source": [
    "Посмотрим, какие даты охватывают события."
   ]
  },
  {
   "cell_type": "code",
   "execution_count": 6,
   "id": "374d050f",
   "metadata": {},
   "outputs": [
    {
     "name": "stdout",
     "output_type": "stream",
     "text": [
      "Начало маркетинговых событий в промежутке с 2020-01-25 00:00:00 по 2020-12-30 00:00:00.\n"
     ]
    }
   ],
   "source": [
    "d1 = mark_events['start_dt'].min()\n",
    "d2 = mark_events['start_dt'].max()\n",
    "print(f'Начало маркетинговых событий в промежутке с {d1} по {d2}.')"
   ]
  },
  {
   "cell_type": "code",
   "execution_count": 7,
   "id": "63780a0b",
   "metadata": {},
   "outputs": [
    {
     "name": "stdout",
     "output_type": "stream",
     "text": [
      "Конец маркетинговых мероприятий в промежутке с 2020-02-07 00:00:00 по 2021-01-07 00:00:00.\n"
     ]
    }
   ],
   "source": [
    "d1 = mark_events['finish_dt'].min()\n",
    "d2 = mark_events['finish_dt'].max()\n",
    "print(f'Конец маркетинговых мероприятий в промежутке с {d1} по {d2}.')"
   ]
  },
  {
   "cell_type": "markdown",
   "id": "dbf816ac",
   "metadata": {},
   "source": [
    "### Новые пользователи new_users"
   ]
  },
  {
   "cell_type": "code",
   "execution_count": 8,
   "id": "5e335558",
   "metadata": {},
   "outputs": [
    {
     "name": "stdout",
     "output_type": "stream",
     "text": [
      "Информация по таблице new_users:\n",
      "**************************************************\n",
      "<class 'pandas.core.frame.DataFrame'>\n",
      "RangeIndex: 61733 entries, 0 to 61732\n",
      "Data columns (total 4 columns):\n",
      " #   Column      Non-Null Count  Dtype \n",
      "---  ------      --------------  ----- \n",
      " 0   user_id     61733 non-null  object\n",
      " 1   first_date  61733 non-null  object\n",
      " 2   region      61733 non-null  object\n",
      " 3   device      61733 non-null  object\n",
      "dtypes: object(4)\n",
      "memory usage: 1.9+ MB\n",
      "**************************************************\n",
      "Количество явных дубликатов в таблице new_users: 0\n"
     ]
    },
    {
     "data": {
      "text/html": [
       "<div>\n",
       "<style scoped>\n",
       "    .dataframe tbody tr th:only-of-type {\n",
       "        vertical-align: middle;\n",
       "    }\n",
       "\n",
       "    .dataframe tbody tr th {\n",
       "        vertical-align: top;\n",
       "    }\n",
       "\n",
       "    .dataframe thead th {\n",
       "        text-align: right;\n",
       "    }\n",
       "</style>\n",
       "<table border=\"1\" class=\"dataframe\">\n",
       "  <thead>\n",
       "    <tr style=\"text-align: right;\">\n",
       "      <th></th>\n",
       "      <th>user_id</th>\n",
       "      <th>first_date</th>\n",
       "      <th>region</th>\n",
       "      <th>device</th>\n",
       "    </tr>\n",
       "  </thead>\n",
       "  <tbody>\n",
       "    <tr>\n",
       "      <th>0</th>\n",
       "      <td>D72A72121175D8BE</td>\n",
       "      <td>2020-12-07</td>\n",
       "      <td>EU</td>\n",
       "      <td>PC</td>\n",
       "    </tr>\n",
       "    <tr>\n",
       "      <th>1</th>\n",
       "      <td>F1C668619DFE6E65</td>\n",
       "      <td>2020-12-07</td>\n",
       "      <td>N.America</td>\n",
       "      <td>Android</td>\n",
       "    </tr>\n",
       "    <tr>\n",
       "      <th>2</th>\n",
       "      <td>2E1BF1D4C37EA01F</td>\n",
       "      <td>2020-12-07</td>\n",
       "      <td>EU</td>\n",
       "      <td>PC</td>\n",
       "    </tr>\n",
       "    <tr>\n",
       "      <th>3</th>\n",
       "      <td>50734A22C0C63768</td>\n",
       "      <td>2020-12-07</td>\n",
       "      <td>EU</td>\n",
       "      <td>iPhone</td>\n",
       "    </tr>\n",
       "    <tr>\n",
       "      <th>4</th>\n",
       "      <td>E1BDDCE0DAFA2679</td>\n",
       "      <td>2020-12-07</td>\n",
       "      <td>N.America</td>\n",
       "      <td>iPhone</td>\n",
       "    </tr>\n",
       "  </tbody>\n",
       "</table>\n",
       "</div>"
      ],
      "text/plain": [
       "            user_id  first_date     region   device\n",
       "0  D72A72121175D8BE  2020-12-07         EU       PC\n",
       "1  F1C668619DFE6E65  2020-12-07  N.America  Android\n",
       "2  2E1BF1D4C37EA01F  2020-12-07         EU       PC\n",
       "3  50734A22C0C63768  2020-12-07         EU   iPhone\n",
       "4  E1BDDCE0DAFA2679  2020-12-07  N.America   iPhone"
      ]
     },
     "metadata": {},
     "output_type": "display_data"
    }
   ],
   "source": [
    "prev (new_users, 'new_users')"
   ]
  },
  {
   "cell_type": "markdown",
   "id": "a2923bad",
   "metadata": {},
   "source": [
    "В исходных данных 4 столбца и 61733 строк.\n",
    "\n",
    "Столбцы:\n",
    "\n",
    " - `user_id` — идентификатор пользователя\n",
    " - `first_date` — дата регистрации\n",
    " - `region` — регион\n",
    " - `device` — устройство, с которого пользователь зарегистрировался\n",
    " \n",
    " Пропусков нет."
   ]
  },
  {
   "cell_type": "markdown",
   "id": "51e27369",
   "metadata": {},
   "source": [
    "Поменяем формат даты в first_date."
   ]
  },
  {
   "cell_type": "code",
   "execution_count": 9,
   "id": "47b9e1c3",
   "metadata": {},
   "outputs": [],
   "source": [
    "new_users['first_date'] = pd.to_datetime(new_users['first_date'], format='%Y-%m-%d')"
   ]
  },
  {
   "cell_type": "markdown",
   "id": "a9556b1d",
   "metadata": {},
   "source": [
    "Посмотрим, какой период охватывают данные."
   ]
  },
  {
   "cell_type": "code",
   "execution_count": 10,
   "id": "0b7ff758",
   "metadata": {},
   "outputs": [
    {
     "name": "stdout",
     "output_type": "stream",
     "text": [
      "Данные охватывают промежуток с 2020-12-07 00:00:00 по 2020-12-23 00:00:00.\n"
     ]
    }
   ],
   "source": [
    "d1 = new_users['first_date'].min()\n",
    "d2 = new_users['first_date'].max()\n",
    "print(f'Данные охватывают промежуток с {d1} по {d2}.')"
   ]
  },
  {
   "cell_type": "markdown",
   "id": "a8a5f4df",
   "metadata": {},
   "source": [
    "### События новых пользователей events"
   ]
  },
  {
   "cell_type": "code",
   "execution_count": 11,
   "id": "fdb1ce14",
   "metadata": {},
   "outputs": [
    {
     "name": "stdout",
     "output_type": "stream",
     "text": [
      "Информация по таблице events:\n",
      "**************************************************\n",
      "<class 'pandas.core.frame.DataFrame'>\n",
      "RangeIndex: 440317 entries, 0 to 440316\n",
      "Data columns (total 4 columns):\n",
      " #   Column      Non-Null Count   Dtype  \n",
      "---  ------      --------------   -----  \n",
      " 0   user_id     440317 non-null  object \n",
      " 1   event_dt    440317 non-null  object \n",
      " 2   event_name  440317 non-null  object \n",
      " 3   details     62740 non-null   float64\n",
      "dtypes: float64(1), object(3)\n",
      "memory usage: 13.4+ MB\n",
      "**************************************************\n",
      "Количество явных дубликатов в таблице events: 0\n"
     ]
    },
    {
     "data": {
      "text/html": [
       "<div>\n",
       "<style scoped>\n",
       "    .dataframe tbody tr th:only-of-type {\n",
       "        vertical-align: middle;\n",
       "    }\n",
       "\n",
       "    .dataframe tbody tr th {\n",
       "        vertical-align: top;\n",
       "    }\n",
       "\n",
       "    .dataframe thead th {\n",
       "        text-align: right;\n",
       "    }\n",
       "</style>\n",
       "<table border=\"1\" class=\"dataframe\">\n",
       "  <thead>\n",
       "    <tr style=\"text-align: right;\">\n",
       "      <th></th>\n",
       "      <th>user_id</th>\n",
       "      <th>event_dt</th>\n",
       "      <th>event_name</th>\n",
       "      <th>details</th>\n",
       "    </tr>\n",
       "  </thead>\n",
       "  <tbody>\n",
       "    <tr>\n",
       "      <th>0</th>\n",
       "      <td>E1BDDCE0DAFA2679</td>\n",
       "      <td>2020-12-07 20:22:03</td>\n",
       "      <td>purchase</td>\n",
       "      <td>99.99</td>\n",
       "    </tr>\n",
       "    <tr>\n",
       "      <th>1</th>\n",
       "      <td>7B6452F081F49504</td>\n",
       "      <td>2020-12-07 09:22:53</td>\n",
       "      <td>purchase</td>\n",
       "      <td>9.99</td>\n",
       "    </tr>\n",
       "    <tr>\n",
       "      <th>2</th>\n",
       "      <td>9CD9F34546DF254C</td>\n",
       "      <td>2020-12-07 12:59:29</td>\n",
       "      <td>purchase</td>\n",
       "      <td>4.99</td>\n",
       "    </tr>\n",
       "    <tr>\n",
       "      <th>3</th>\n",
       "      <td>96F27A054B191457</td>\n",
       "      <td>2020-12-07 04:02:40</td>\n",
       "      <td>purchase</td>\n",
       "      <td>4.99</td>\n",
       "    </tr>\n",
       "    <tr>\n",
       "      <th>4</th>\n",
       "      <td>1FD7660FDF94CA1F</td>\n",
       "      <td>2020-12-07 10:15:09</td>\n",
       "      <td>purchase</td>\n",
       "      <td>4.99</td>\n",
       "    </tr>\n",
       "  </tbody>\n",
       "</table>\n",
       "</div>"
      ],
      "text/plain": [
       "            user_id             event_dt event_name  details\n",
       "0  E1BDDCE0DAFA2679  2020-12-07 20:22:03   purchase    99.99\n",
       "1  7B6452F081F49504  2020-12-07 09:22:53   purchase     9.99\n",
       "2  9CD9F34546DF254C  2020-12-07 12:59:29   purchase     4.99\n",
       "3  96F27A054B191457  2020-12-07 04:02:40   purchase     4.99\n",
       "4  1FD7660FDF94CA1F  2020-12-07 10:15:09   purchase     4.99"
      ]
     },
     "metadata": {},
     "output_type": "display_data"
    }
   ],
   "source": [
    "prev (events, 'events')"
   ]
  },
  {
   "cell_type": "markdown",
   "id": "bac199ae",
   "metadata": {},
   "source": [
    "В исходных данных 4 столбца и 440317 строк.\n",
    "\n",
    "Столбцы:\n",
    "\n",
    " - `user_id` — идентификатор пользователя\n",
    " - `event_dt` — дата события\n",
    " - `event_name` — тип события\n",
    " - `details` — доп. данные для события.\n",
    " \n",
    "В столбце details есть пропуски. "
   ]
  },
  {
   "cell_type": "markdown",
   "id": "97ebec89",
   "metadata": {},
   "source": [
    "Поменяем формат даты в first_date и создадим новую колонку с датой без времени."
   ]
  },
  {
   "cell_type": "code",
   "execution_count": 12,
   "id": "c22a6aa3",
   "metadata": {},
   "outputs": [],
   "source": [
    "events['event_dt'] = pd.to_datetime(events['event_dt'], format='%Y-%m-%d %H:%M:%S')\n",
    "events['event_dt_cut'] = events['event_dt'].dt.date\n",
    "events['event_dt_cut'] = pd.to_datetime(events['event_dt_cut'] )"
   ]
  },
  {
   "cell_type": "code",
   "execution_count": 13,
   "id": "c60d72da",
   "metadata": {},
   "outputs": [
    {
     "data": {
      "text/html": [
       "<div>\n",
       "<style scoped>\n",
       "    .dataframe tbody tr th:only-of-type {\n",
       "        vertical-align: middle;\n",
       "    }\n",
       "\n",
       "    .dataframe tbody tr th {\n",
       "        vertical-align: top;\n",
       "    }\n",
       "\n",
       "    .dataframe thead th {\n",
       "        text-align: right;\n",
       "    }\n",
       "</style>\n",
       "<table border=\"1\" class=\"dataframe\">\n",
       "  <thead>\n",
       "    <tr style=\"text-align: right;\">\n",
       "      <th></th>\n",
       "      <th>user_id</th>\n",
       "      <th>event_dt</th>\n",
       "      <th>event_name</th>\n",
       "      <th>details</th>\n",
       "      <th>event_dt_cut</th>\n",
       "    </tr>\n",
       "  </thead>\n",
       "  <tbody>\n",
       "    <tr>\n",
       "      <th>0</th>\n",
       "      <td>E1BDDCE0DAFA2679</td>\n",
       "      <td>2020-12-07 20:22:03</td>\n",
       "      <td>purchase</td>\n",
       "      <td>99.99</td>\n",
       "      <td>2020-12-07</td>\n",
       "    </tr>\n",
       "    <tr>\n",
       "      <th>1</th>\n",
       "      <td>7B6452F081F49504</td>\n",
       "      <td>2020-12-07 09:22:53</td>\n",
       "      <td>purchase</td>\n",
       "      <td>9.99</td>\n",
       "      <td>2020-12-07</td>\n",
       "    </tr>\n",
       "    <tr>\n",
       "      <th>2</th>\n",
       "      <td>9CD9F34546DF254C</td>\n",
       "      <td>2020-12-07 12:59:29</td>\n",
       "      <td>purchase</td>\n",
       "      <td>4.99</td>\n",
       "      <td>2020-12-07</td>\n",
       "    </tr>\n",
       "    <tr>\n",
       "      <th>3</th>\n",
       "      <td>96F27A054B191457</td>\n",
       "      <td>2020-12-07 04:02:40</td>\n",
       "      <td>purchase</td>\n",
       "      <td>4.99</td>\n",
       "      <td>2020-12-07</td>\n",
       "    </tr>\n",
       "    <tr>\n",
       "      <th>4</th>\n",
       "      <td>1FD7660FDF94CA1F</td>\n",
       "      <td>2020-12-07 10:15:09</td>\n",
       "      <td>purchase</td>\n",
       "      <td>4.99</td>\n",
       "      <td>2020-12-07</td>\n",
       "    </tr>\n",
       "  </tbody>\n",
       "</table>\n",
       "</div>"
      ],
      "text/plain": [
       "            user_id            event_dt event_name  details event_dt_cut\n",
       "0  E1BDDCE0DAFA2679 2020-12-07 20:22:03   purchase    99.99   2020-12-07\n",
       "1  7B6452F081F49504 2020-12-07 09:22:53   purchase     9.99   2020-12-07\n",
       "2  9CD9F34546DF254C 2020-12-07 12:59:29   purchase     4.99   2020-12-07\n",
       "3  96F27A054B191457 2020-12-07 04:02:40   purchase     4.99   2020-12-07\n",
       "4  1FD7660FDF94CA1F 2020-12-07 10:15:09   purchase     4.99   2020-12-07"
      ]
     },
     "execution_count": 13,
     "metadata": {},
     "output_type": "execute_result"
    }
   ],
   "source": [
    "events.head()"
   ]
  },
  {
   "cell_type": "markdown",
   "id": "306607f4",
   "metadata": {},
   "source": [
    "Посмотрим, какие даты описывают события."
   ]
  },
  {
   "cell_type": "code",
   "execution_count": 14,
   "id": "aa212495",
   "metadata": {},
   "outputs": [
    {
     "name": "stdout",
     "output_type": "stream",
     "text": [
      "Данные охватывают промежуток с 2020-12-07 00:00:00 по 2020-12-30 00:00:00.\n"
     ]
    }
   ],
   "source": [
    "d1 = events['event_dt_cut'].min()\n",
    "d2 = events['event_dt_cut'].max()\n",
    "print(f'Данные охватывают промежуток с {d1} по {d2}.')"
   ]
  },
  {
   "cell_type": "markdown",
   "id": "2f375ca6",
   "metadata": {},
   "source": [
    "Посмотрим, какие типы событий присутствуют в таблице."
   ]
  },
  {
   "cell_type": "code",
   "execution_count": 15,
   "id": "045db02e",
   "metadata": {},
   "outputs": [
    {
     "data": {
      "text/plain": [
       "login           189552\n",
       "product_page    125563\n",
       "purchase         62740\n",
       "product_cart     62462\n",
       "Name: event_name, dtype: int64"
      ]
     },
     "execution_count": 15,
     "metadata": {},
     "output_type": "execute_result"
    }
   ],
   "source": [
    "events['event_name'].value_counts()"
   ]
  },
  {
   "cell_type": "markdown",
   "id": "8c7335e8",
   "metadata": {},
   "source": [
    "В таблице 4 вида событий:\n",
    " - `login` - логин\n",
    " - `product_page` - просмотр страницы товара\n",
    " - `purchase` - покупка\n",
    " - `product_cart` - просмотр корзины"
   ]
  },
  {
   "cell_type": "code",
   "execution_count": 16,
   "id": "48a5b0e1",
   "metadata": {},
   "outputs": [
    {
     "data": {
      "text/plain": [
       "event_name\n",
       "login               0\n",
       "product_cart        0\n",
       "product_page        0\n",
       "purchase        62740\n",
       "Name: details, dtype: int64"
      ]
     },
     "execution_count": 16,
     "metadata": {},
     "output_type": "execute_result"
    }
   ],
   "source": [
    "events.groupby('event_name')['details'].count()"
   ]
  },
  {
   "cell_type": "markdown",
   "id": "adc9c3f8",
   "metadata": {},
   "source": [
    "Details заполнены только для вида события purchase и содержат стоимость покупки в долларах."
   ]
  },
  {
   "cell_type": "markdown",
   "id": "c1a6159f",
   "metadata": {},
   "source": [
    "### Участники теста participants"
   ]
  },
  {
   "cell_type": "code",
   "execution_count": 17,
   "id": "d973507a",
   "metadata": {},
   "outputs": [
    {
     "name": "stdout",
     "output_type": "stream",
     "text": [
      "Информация по таблице participants:\n",
      "**************************************************\n",
      "<class 'pandas.core.frame.DataFrame'>\n",
      "RangeIndex: 18268 entries, 0 to 18267\n",
      "Data columns (total 3 columns):\n",
      " #   Column   Non-Null Count  Dtype \n",
      "---  ------   --------------  ----- \n",
      " 0   user_id  18268 non-null  object\n",
      " 1   group    18268 non-null  object\n",
      " 2   ab_test  18268 non-null  object\n",
      "dtypes: object(3)\n",
      "memory usage: 428.3+ KB\n",
      "**************************************************\n",
      "Количество явных дубликатов в таблице participants: 0\n"
     ]
    },
    {
     "data": {
      "text/html": [
       "<div>\n",
       "<style scoped>\n",
       "    .dataframe tbody tr th:only-of-type {\n",
       "        vertical-align: middle;\n",
       "    }\n",
       "\n",
       "    .dataframe tbody tr th {\n",
       "        vertical-align: top;\n",
       "    }\n",
       "\n",
       "    .dataframe thead th {\n",
       "        text-align: right;\n",
       "    }\n",
       "</style>\n",
       "<table border=\"1\" class=\"dataframe\">\n",
       "  <thead>\n",
       "    <tr style=\"text-align: right;\">\n",
       "      <th></th>\n",
       "      <th>user_id</th>\n",
       "      <th>group</th>\n",
       "      <th>ab_test</th>\n",
       "    </tr>\n",
       "  </thead>\n",
       "  <tbody>\n",
       "    <tr>\n",
       "      <th>0</th>\n",
       "      <td>D1ABA3E2887B6A73</td>\n",
       "      <td>A</td>\n",
       "      <td>recommender_system_test</td>\n",
       "    </tr>\n",
       "    <tr>\n",
       "      <th>1</th>\n",
       "      <td>A7A3664BD6242119</td>\n",
       "      <td>A</td>\n",
       "      <td>recommender_system_test</td>\n",
       "    </tr>\n",
       "    <tr>\n",
       "      <th>2</th>\n",
       "      <td>DABC14FDDFADD29E</td>\n",
       "      <td>A</td>\n",
       "      <td>recommender_system_test</td>\n",
       "    </tr>\n",
       "    <tr>\n",
       "      <th>3</th>\n",
       "      <td>04988C5DF189632E</td>\n",
       "      <td>A</td>\n",
       "      <td>recommender_system_test</td>\n",
       "    </tr>\n",
       "    <tr>\n",
       "      <th>4</th>\n",
       "      <td>482F14783456D21B</td>\n",
       "      <td>B</td>\n",
       "      <td>recommender_system_test</td>\n",
       "    </tr>\n",
       "  </tbody>\n",
       "</table>\n",
       "</div>"
      ],
      "text/plain": [
       "            user_id group                  ab_test\n",
       "0  D1ABA3E2887B6A73     A  recommender_system_test\n",
       "1  A7A3664BD6242119     A  recommender_system_test\n",
       "2  DABC14FDDFADD29E     A  recommender_system_test\n",
       "3  04988C5DF189632E     A  recommender_system_test\n",
       "4  482F14783456D21B     B  recommender_system_test"
      ]
     },
     "metadata": {},
     "output_type": "display_data"
    }
   ],
   "source": [
    "prev (participants, 'participants')"
   ]
  },
  {
   "cell_type": "markdown",
   "id": "1afc2df4",
   "metadata": {},
   "source": [
    "В исходных данных 3 столбца и 18268 строк.\n",
    "\n",
    "Столбцы:\n",
    "\n",
    " - `user_id` — идентификатор пользователя\n",
    " - `group` — группа пользователя\n",
    " - `ab_test` — название теста\n",
    " \n",
    "Пропусков нет."
   ]
  },
  {
   "cell_type": "markdown",
   "id": "1d47fd7c",
   "metadata": {},
   "source": [
    "Проверим, какие еще тесты есть в таблице, кроме нашего."
   ]
  },
  {
   "cell_type": "code",
   "execution_count": 18,
   "id": "dcfae3ce",
   "metadata": {},
   "outputs": [
    {
     "data": {
      "text/plain": [
       "interface_eu_test          11567\n",
       "recommender_system_test     6701\n",
       "Name: ab_test, dtype: int64"
      ]
     },
     "execution_count": 18,
     "metadata": {},
     "output_type": "execute_result"
    }
   ],
   "source": [
    "participants['ab_test'].value_counts()"
   ]
  },
  {
   "cell_type": "markdown",
   "id": "de898f10",
   "metadata": {},
   "source": [
    "## Оценка корректности проведения теста"
   ]
  },
  {
   "cell_type": "markdown",
   "id": "07534211",
   "metadata": {},
   "source": [
    "Пройдемся по каждому пункту нашего тех.задания и проверим, соответствуют ли им наши данные."
   ]
  },
  {
   "cell_type": "markdown",
   "id": "17007da3",
   "metadata": {},
   "source": [
    "**1.** Проверим, есть ли в данных тест, который мы должны проверить."
   ]
  },
  {
   "cell_type": "code",
   "execution_count": 19,
   "id": "d61754b8",
   "metadata": {},
   "outputs": [
    {
     "data": {
      "text/plain": [
       "6701"
      ]
     },
     "execution_count": 19,
     "metadata": {},
     "output_type": "execute_result"
    }
   ],
   "source": [
    "participants.loc[participants['ab_test'] == 'recommender_system_test']['ab_test'].count()"
   ]
  },
  {
   "cell_type": "markdown",
   "id": "b8a94709",
   "metadata": {},
   "source": [
    "В нужном датасете 6701 строк с нужным тестом. "
   ]
  },
  {
   "cell_type": "markdown",
   "id": "c2c086e5",
   "metadata": {},
   "source": [
    "**2.** Проверим, есть ли внутри теста нужные группы."
   ]
  },
  {
   "cell_type": "code",
   "execution_count": 20,
   "id": "b2ad9c92",
   "metadata": {},
   "outputs": [
    {
     "data": {
      "text/html": [
       "<div>\n",
       "<style scoped>\n",
       "    .dataframe tbody tr th:only-of-type {\n",
       "        vertical-align: middle;\n",
       "    }\n",
       "\n",
       "    .dataframe tbody tr th {\n",
       "        vertical-align: top;\n",
       "    }\n",
       "\n",
       "    .dataframe thead th {\n",
       "        text-align: right;\n",
       "    }\n",
       "</style>\n",
       "<table border=\"1\" class=\"dataframe\">\n",
       "  <thead>\n",
       "    <tr style=\"text-align: right;\">\n",
       "      <th></th>\n",
       "      <th>user_id</th>\n",
       "      <th>ab_test</th>\n",
       "    </tr>\n",
       "    <tr>\n",
       "      <th>group</th>\n",
       "      <th></th>\n",
       "      <th></th>\n",
       "    </tr>\n",
       "  </thead>\n",
       "  <tbody>\n",
       "    <tr>\n",
       "      <th>A</th>\n",
       "      <td>3824</td>\n",
       "      <td>3824</td>\n",
       "    </tr>\n",
       "    <tr>\n",
       "      <th>B</th>\n",
       "      <td>2877</td>\n",
       "      <td>2877</td>\n",
       "    </tr>\n",
       "  </tbody>\n",
       "</table>\n",
       "</div>"
      ],
      "text/plain": [
       "       user_id  ab_test\n",
       "group                  \n",
       "A         3824     3824\n",
       "B         2877     2877"
      ]
     },
     "execution_count": 20,
     "metadata": {},
     "output_type": "execute_result"
    }
   ],
   "source": [
    "participants.loc[participants['ab_test'] == 'recommender_system_test'].groupby('group').count()"
   ]
  },
  {
   "cell_type": "markdown",
   "id": "75411fec",
   "metadata": {},
   "source": [
    "Присутствуют обе группы."
   ]
  },
  {
   "cell_type": "markdown",
   "id": "2ed394d4",
   "metadata": {},
   "source": [
    "**3.** В соответствии  тех. заданием пользователи должны набираться  с 12 по 21 декабря 20 года. Выберем пользователей из нужного региона и нужного нам теста и проверим даты."
   ]
  },
  {
   "cell_type": "code",
   "execution_count": 21,
   "id": "41ef73fc",
   "metadata": {},
   "outputs": [],
   "source": [
    "new_users_our = new_users.loc[new_users['region'] == 'EU'].merge(participants.loc[participants['ab_test'] == 'recommender_system_test'], on = 'user_id')"
   ]
  },
  {
   "cell_type": "code",
   "execution_count": 22,
   "id": "4cdd2fde",
   "metadata": {},
   "outputs": [
    {
     "name": "stdout",
     "output_type": "stream",
     "text": [
      "Данные охватывают промежуток с 2020-12-07 00:00:00 по 2020-12-21 00:00:00, что соответствует тех.заданию.\n"
     ]
    }
   ],
   "source": [
    "d1 = new_users_our['first_date'].min()\n",
    "d2 = new_users_our['first_date'].max()\n",
    "print(f'Данные охватывают промежуток с {d1} по {d2}, что соответствует тех.заданию.')"
   ]
  },
  {
   "cell_type": "markdown",
   "id": "c519c9b7",
   "metadata": {},
   "source": [
    "**4.** Дата остановки теста означает дату, до которой наши пользователи совершали события. В соответствии с тех.заданием они должны совершать события до 4.01, но мы уже проверили, что в дашем датасете есть данные только до 30.12, то есть он не охватывает 5 нужных дней. Необходимо иметь это ввиду в дальнейшем анализе.\n"
   ]
  },
  {
   "cell_type": "markdown",
   "id": "6234aa66",
   "metadata": {},
   "source": [
    "**5.** По условиям тех.задания нам необходимо 15% новых участников из региона EU. Соберем всех участников из EU в новом датасете:"
   ]
  },
  {
   "cell_type": "code",
   "execution_count": 23,
   "id": "6bae4b00",
   "metadata": {},
   "outputs": [],
   "source": [
    "participants_eu = new_users.loc[new_users['region'] == 'EU'].merge(participants.loc[participants['ab_test'] == 'recommender_system_test'], on = 'user_id')"
   ]
  },
  {
   "cell_type": "code",
   "execution_count": 24,
   "id": "0da1da8a",
   "metadata": {},
   "outputs": [
    {
     "data": {
      "text/plain": [
       "13.725956343202938"
      ]
     },
     "execution_count": 24,
     "metadata": {},
     "output_type": "execute_result"
    }
   ],
   "source": [
    "participants_eu['user_id'].count()/new_users.loc[new_users['region'] == 'EU'].count()[0]*100"
   ]
  },
  {
   "cell_type": "markdown",
   "id": "9f204bfd",
   "metadata": {},
   "source": [
    "Условие по 15% новых участников из EU выполняется."
   ]
  },
  {
   "cell_type": "markdown",
   "id": "b5084be1",
   "metadata": {},
   "source": [
    "**6.** Проверим, нет ли пользователей, попавших в оба теста. Для этого создадим вспомогательные таблицы."
   ]
  },
  {
   "cell_type": "code",
   "execution_count": 25,
   "id": "4bb570a9",
   "metadata": {},
   "outputs": [],
   "source": [
    "recommender_system_test = participants.loc[(participants['ab_test'] == 'recommender_system_test')]\n",
    "interface_eu_test = participants.loc[(participants['ab_test'] == 'interface_eu_test')]"
   ]
  },
  {
   "cell_type": "markdown",
   "id": "328552a9",
   "metadata": {},
   "source": [
    "Объединим их по user_id."
   ]
  },
  {
   "cell_type": "code",
   "execution_count": 26,
   "id": "6f814206",
   "metadata": {},
   "outputs": [
    {
     "data": {
      "text/html": [
       "<div>\n",
       "<style scoped>\n",
       "    .dataframe tbody tr th:only-of-type {\n",
       "        vertical-align: middle;\n",
       "    }\n",
       "\n",
       "    .dataframe tbody tr th {\n",
       "        vertical-align: top;\n",
       "    }\n",
       "\n",
       "    .dataframe thead th {\n",
       "        text-align: right;\n",
       "    }\n",
       "</style>\n",
       "<table border=\"1\" class=\"dataframe\">\n",
       "  <thead>\n",
       "    <tr style=\"text-align: right;\">\n",
       "      <th></th>\n",
       "      <th>user_id</th>\n",
       "      <th>group_x</th>\n",
       "      <th>ab_test_x</th>\n",
       "      <th>group_y</th>\n",
       "      <th>ab_test_y</th>\n",
       "    </tr>\n",
       "  </thead>\n",
       "  <tbody>\n",
       "    <tr>\n",
       "      <th>0</th>\n",
       "      <td>DABC14FDDFADD29E</td>\n",
       "      <td>A</td>\n",
       "      <td>recommender_system_test</td>\n",
       "      <td>A</td>\n",
       "      <td>interface_eu_test</td>\n",
       "    </tr>\n",
       "    <tr>\n",
       "      <th>1</th>\n",
       "      <td>04988C5DF189632E</td>\n",
       "      <td>A</td>\n",
       "      <td>recommender_system_test</td>\n",
       "      <td>A</td>\n",
       "      <td>interface_eu_test</td>\n",
       "    </tr>\n",
       "    <tr>\n",
       "      <th>2</th>\n",
       "      <td>B3A2485649E4A012</td>\n",
       "      <td>A</td>\n",
       "      <td>recommender_system_test</td>\n",
       "      <td>A</td>\n",
       "      <td>interface_eu_test</td>\n",
       "    </tr>\n",
       "    <tr>\n",
       "      <th>3</th>\n",
       "      <td>EAFB9027A27D510C</td>\n",
       "      <td>B</td>\n",
       "      <td>recommender_system_test</td>\n",
       "      <td>A</td>\n",
       "      <td>interface_eu_test</td>\n",
       "    </tr>\n",
       "    <tr>\n",
       "      <th>4</th>\n",
       "      <td>5D5E6EE92AF6E9E0</td>\n",
       "      <td>B</td>\n",
       "      <td>recommender_system_test</td>\n",
       "      <td>B</td>\n",
       "      <td>interface_eu_test</td>\n",
       "    </tr>\n",
       "    <tr>\n",
       "      <th>...</th>\n",
       "      <td>...</td>\n",
       "      <td>...</td>\n",
       "      <td>...</td>\n",
       "      <td>...</td>\n",
       "      <td>...</td>\n",
       "    </tr>\n",
       "    <tr>\n",
       "      <th>1597</th>\n",
       "      <td>C2DC7B6881CE6E30</td>\n",
       "      <td>B</td>\n",
       "      <td>recommender_system_test</td>\n",
       "      <td>B</td>\n",
       "      <td>interface_eu_test</td>\n",
       "    </tr>\n",
       "    <tr>\n",
       "      <th>1598</th>\n",
       "      <td>EA29547AB3C0CB9C</td>\n",
       "      <td>B</td>\n",
       "      <td>recommender_system_test</td>\n",
       "      <td>A</td>\n",
       "      <td>interface_eu_test</td>\n",
       "    </tr>\n",
       "    <tr>\n",
       "      <th>1599</th>\n",
       "      <td>9A44E27079666291</td>\n",
       "      <td>B</td>\n",
       "      <td>recommender_system_test</td>\n",
       "      <td>A</td>\n",
       "      <td>interface_eu_test</td>\n",
       "    </tr>\n",
       "    <tr>\n",
       "      <th>1600</th>\n",
       "      <td>FA86D8DFAD3ADADE</td>\n",
       "      <td>A</td>\n",
       "      <td>recommender_system_test</td>\n",
       "      <td>A</td>\n",
       "      <td>interface_eu_test</td>\n",
       "    </tr>\n",
       "    <tr>\n",
       "      <th>1601</th>\n",
       "      <td>95401934D6D6D4FC</td>\n",
       "      <td>B</td>\n",
       "      <td>recommender_system_test</td>\n",
       "      <td>A</td>\n",
       "      <td>interface_eu_test</td>\n",
       "    </tr>\n",
       "  </tbody>\n",
       "</table>\n",
       "<p>1602 rows × 5 columns</p>\n",
       "</div>"
      ],
      "text/plain": [
       "               user_id group_x                ab_test_x group_y  \\\n",
       "0     DABC14FDDFADD29E       A  recommender_system_test       A   \n",
       "1     04988C5DF189632E       A  recommender_system_test       A   \n",
       "2     B3A2485649E4A012       A  recommender_system_test       A   \n",
       "3     EAFB9027A27D510C       B  recommender_system_test       A   \n",
       "4     5D5E6EE92AF6E9E0       B  recommender_system_test       B   \n",
       "...                ...     ...                      ...     ...   \n",
       "1597  C2DC7B6881CE6E30       B  recommender_system_test       B   \n",
       "1598  EA29547AB3C0CB9C       B  recommender_system_test       A   \n",
       "1599  9A44E27079666291       B  recommender_system_test       A   \n",
       "1600  FA86D8DFAD3ADADE       A  recommender_system_test       A   \n",
       "1601  95401934D6D6D4FC       B  recommender_system_test       A   \n",
       "\n",
       "              ab_test_y  \n",
       "0     interface_eu_test  \n",
       "1     interface_eu_test  \n",
       "2     interface_eu_test  \n",
       "3     interface_eu_test  \n",
       "4     interface_eu_test  \n",
       "...                 ...  \n",
       "1597  interface_eu_test  \n",
       "1598  interface_eu_test  \n",
       "1599  interface_eu_test  \n",
       "1600  interface_eu_test  \n",
       "1601  interface_eu_test  \n",
       "\n",
       "[1602 rows x 5 columns]"
      ]
     },
     "execution_count": 26,
     "metadata": {},
     "output_type": "execute_result"
    }
   ],
   "source": [
    "common_users = recommender_system_test.merge(interface_eu_test, on='user_id')\n",
    "common_users"
   ]
  },
  {
   "cell_type": "markdown",
   "id": "37756311",
   "metadata": {},
   "source": [
    "Таких пользователей 1602, и удалить их мы не можем, тк они составляют 24% наших данных. Участники, попавшие в групп А второго теста не подтвергались никакому воздействию, поэтому их можно оставить. Посмотрим, сколько пользователей попало в группу В второго теста."
   ]
  },
  {
   "cell_type": "code",
   "execution_count": 27,
   "id": "4deab79e",
   "metadata": {},
   "outputs": [
    {
     "data": {
      "text/plain": [
       "783"
      ]
     },
     "execution_count": 27,
     "metadata": {},
     "output_type": "execute_result"
    }
   ],
   "source": [
    "common_users.loc[common_users['group_y'] == 'B']['user_id'].count()"
   ]
  },
  {
   "cell_type": "markdown",
   "id": "b281b08c",
   "metadata": {},
   "source": [
    "Таких пользователей 783 человека, что составляет 11% наших участников. Проверим, как они распределились между нашими группами А и В."
   ]
  },
  {
   "cell_type": "code",
   "execution_count": 28,
   "id": "5781c5f5",
   "metadata": {},
   "outputs": [],
   "source": [
    "list_of_B = common_users.loc[common_users['group_y'] == 'B']['user_id'].tolist()"
   ]
  },
  {
   "cell_type": "code",
   "execution_count": 29,
   "id": "7a8c74ab",
   "metadata": {},
   "outputs": [
    {
     "data": {
      "text/plain": [
       "group_x  group_y\n",
       "A        B          439\n",
       "B        B          344\n",
       "dtype: int64"
      ]
     },
     "execution_count": 29,
     "metadata": {},
     "output_type": "execute_result"
    }
   ],
   "source": [
    "b_users = common_users[common_users['user_id'].isin(list_of_B)]\n",
    "b_users.groupby(['group_x', 'group_y']).size()"
   ]
  },
  {
   "cell_type": "markdown",
   "id": "05319441",
   "metadata": {},
   "source": [
    "Итак, мы получили данные, что пользователи группы В второго теста, на которых оказывалось какое-то влияение, распределились примерно равномерно между нашими группами А и В. Будем считать, что и влияние на них распределилось достаточно равномерно, и оставим этих пользователей в датасете."
   ]
  },
  {
   "cell_type": "markdown",
   "id": "1cb480bf",
   "metadata": {},
   "source": [
    "**7.** Определим возраст каждого событий, чтобы проверить горизонт событий 14 дней.\n",
    "Для этого создадим таблицу с датой регистрации и всеми событиями пользователя."
   ]
  },
  {
   "cell_type": "code",
   "execution_count": 30,
   "id": "70b572b2",
   "metadata": {},
   "outputs": [
    {
     "data": {
      "text/html": [
       "<div>\n",
       "<style scoped>\n",
       "    .dataframe tbody tr th:only-of-type {\n",
       "        vertical-align: middle;\n",
       "    }\n",
       "\n",
       "    .dataframe tbody tr th {\n",
       "        vertical-align: top;\n",
       "    }\n",
       "\n",
       "    .dataframe thead th {\n",
       "        text-align: right;\n",
       "    }\n",
       "</style>\n",
       "<table border=\"1\" class=\"dataframe\">\n",
       "  <thead>\n",
       "    <tr style=\"text-align: right;\">\n",
       "      <th></th>\n",
       "      <th>user_id</th>\n",
       "      <th>event_dt</th>\n",
       "      <th>event_name</th>\n",
       "      <th>details</th>\n",
       "      <th>event_dt_cut</th>\n",
       "      <th>first_date</th>\n",
       "      <th>region</th>\n",
       "      <th>device</th>\n",
       "    </tr>\n",
       "  </thead>\n",
       "  <tbody>\n",
       "    <tr>\n",
       "      <th>0</th>\n",
       "      <td>E1BDDCE0DAFA2679</td>\n",
       "      <td>2020-12-07 20:22:03</td>\n",
       "      <td>purchase</td>\n",
       "      <td>99.99</td>\n",
       "      <td>2020-12-07</td>\n",
       "      <td>2020-12-07</td>\n",
       "      <td>N.America</td>\n",
       "      <td>iPhone</td>\n",
       "    </tr>\n",
       "    <tr>\n",
       "      <th>1</th>\n",
       "      <td>7B6452F081F49504</td>\n",
       "      <td>2020-12-07 09:22:53</td>\n",
       "      <td>purchase</td>\n",
       "      <td>9.99</td>\n",
       "      <td>2020-12-07</td>\n",
       "      <td>2020-12-07</td>\n",
       "      <td>EU</td>\n",
       "      <td>iPhone</td>\n",
       "    </tr>\n",
       "    <tr>\n",
       "      <th>2</th>\n",
       "      <td>9CD9F34546DF254C</td>\n",
       "      <td>2020-12-07 12:59:29</td>\n",
       "      <td>purchase</td>\n",
       "      <td>4.99</td>\n",
       "      <td>2020-12-07</td>\n",
       "      <td>2020-12-07</td>\n",
       "      <td>N.America</td>\n",
       "      <td>iPhone</td>\n",
       "    </tr>\n",
       "    <tr>\n",
       "      <th>3</th>\n",
       "      <td>96F27A054B191457</td>\n",
       "      <td>2020-12-07 04:02:40</td>\n",
       "      <td>purchase</td>\n",
       "      <td>4.99</td>\n",
       "      <td>2020-12-07</td>\n",
       "      <td>2020-12-07</td>\n",
       "      <td>EU</td>\n",
       "      <td>iPhone</td>\n",
       "    </tr>\n",
       "    <tr>\n",
       "      <th>4</th>\n",
       "      <td>1FD7660FDF94CA1F</td>\n",
       "      <td>2020-12-07 10:15:09</td>\n",
       "      <td>purchase</td>\n",
       "      <td>4.99</td>\n",
       "      <td>2020-12-07</td>\n",
       "      <td>2020-12-07</td>\n",
       "      <td>EU</td>\n",
       "      <td>Android</td>\n",
       "    </tr>\n",
       "  </tbody>\n",
       "</table>\n",
       "</div>"
      ],
      "text/plain": [
       "            user_id            event_dt event_name  details event_dt_cut  \\\n",
       "0  E1BDDCE0DAFA2679 2020-12-07 20:22:03   purchase    99.99   2020-12-07   \n",
       "1  7B6452F081F49504 2020-12-07 09:22:53   purchase     9.99   2020-12-07   \n",
       "2  9CD9F34546DF254C 2020-12-07 12:59:29   purchase     4.99   2020-12-07   \n",
       "3  96F27A054B191457 2020-12-07 04:02:40   purchase     4.99   2020-12-07   \n",
       "4  1FD7660FDF94CA1F 2020-12-07 10:15:09   purchase     4.99   2020-12-07   \n",
       "\n",
       "  first_date     region   device  \n",
       "0 2020-12-07  N.America   iPhone  \n",
       "1 2020-12-07         EU   iPhone  \n",
       "2 2020-12-07  N.America   iPhone  \n",
       "3 2020-12-07         EU   iPhone  \n",
       "4 2020-12-07         EU  Android  "
      ]
     },
     "execution_count": 30,
     "metadata": {},
     "output_type": "execute_result"
    }
   ],
   "source": [
    "events = events.merge(new_users, on='user_id', how='left')\n",
    "events.head()"
   ]
  },
  {
   "cell_type": "code",
   "execution_count": 31,
   "id": "5f814ae0",
   "metadata": {},
   "outputs": [],
   "source": [
    "events['life'] = (events['event_dt_cut'] - events['first_date']).dt.days"
   ]
  },
  {
   "cell_type": "markdown",
   "id": "870694ff",
   "metadata": {},
   "source": [
    "Отфильтруем датасет так, чтобы остались только события возрастом не более 14 дней."
   ]
  },
  {
   "cell_type": "code",
   "execution_count": 32,
   "id": "1515fb18",
   "metadata": {},
   "outputs": [],
   "source": [
    "events_14 = events.loc[events['life'] <= 14]"
   ]
  },
  {
   "cell_type": "markdown",
   "id": "c4430e0b",
   "metadata": {},
   "source": [
    "Проверим, как распределяются события по дням. "
   ]
  },
  {
   "cell_type": "code",
   "execution_count": 33,
   "id": "c49dfaff",
   "metadata": {},
   "outputs": [
    {
     "data": {
      "image/png": "[encoded data removed]",
      "text/plain": [
       "<Figure size 1000x600 with 1 Axes>"
      ]
     },
     "metadata": {},
     "output_type": "display_data"
    }
   ],
   "source": [
    "events_grouped = events_14.groupby(['life', 'event_name']).size().reset_index(name='count')\n",
    "fig, ax = plt.subplots(figsize=(10, 6))\n",
    "sns.barplot(x='life', y='count', hue='event_name', data=events_grouped, ax=ax)\n",
    "ax.set_title('Количество событий в день')\n",
    "ax.grid(True)\n",
    "plt.show()"
   ]
  },
  {
   "cell_type": "markdown",
   "id": "bab8bc83",
   "metadata": {},
   "source": [
    "Видим, что с каждым днем количество событий значительно уменьшается, и основная масса совершается в первые дни.\n",
    "Соответственно мы можем оставить всех пользователей, включая тех, кто не успел прожить 14 дней."
   ]
  },
  {
   "cell_type": "markdown",
   "id": "7b968a5a",
   "metadata": {},
   "source": [
    "Мы проверили все услови технического задания, переходим к исследовательскому анализу данных."
   ]
  },
  {
   "cell_type": "markdown",
   "id": "583f5dae",
   "metadata": {},
   "source": [
    "## Исследовальский анализ данных"
   ]
  },
  {
   "cell_type": "markdown",
   "id": "d5d3819e",
   "metadata": {},
   "source": [
    "Создадим отфильтрованную таблицу, которую будем анализировать. В нее попадут только участники нашего тест из EU, зарегистрированные в нужные даты и с событиями не старше 14 дней. "
   ]
  },
  {
   "cell_type": "code",
   "execution_count": 34,
   "id": "abba0b92",
   "metadata": {},
   "outputs": [],
   "source": [
    "data = participants.loc[participants['ab_test'] == 'recommender_system_test'].merge(events_14, on='user_id', how='inner').merge(new_users.loc[new_users['region'] == 'EU'], on='user_id', how='inner')"
   ]
  },
  {
   "cell_type": "code",
   "execution_count": 35,
   "id": "19aeec2c",
   "metadata": {},
   "outputs": [
    {
     "data": {
      "text/html": [
       "<div>\n",
       "<style scoped>\n",
       "    .dataframe tbody tr th:only-of-type {\n",
       "        vertical-align: middle;\n",
       "    }\n",
       "\n",
       "    .dataframe tbody tr th {\n",
       "        vertical-align: top;\n",
       "    }\n",
       "\n",
       "    .dataframe thead th {\n",
       "        text-align: right;\n",
       "    }\n",
       "</style>\n",
       "<table border=\"1\" class=\"dataframe\">\n",
       "  <thead>\n",
       "    <tr style=\"text-align: right;\">\n",
       "      <th></th>\n",
       "      <th>user_id</th>\n",
       "      <th>group</th>\n",
       "      <th>ab_test</th>\n",
       "      <th>event_dt</th>\n",
       "      <th>event_name</th>\n",
       "      <th>details</th>\n",
       "      <th>event_dt_cut</th>\n",
       "      <th>first_date_x</th>\n",
       "      <th>region_x</th>\n",
       "      <th>device_x</th>\n",
       "      <th>life</th>\n",
       "    </tr>\n",
       "  </thead>\n",
       "  <tbody>\n",
       "    <tr>\n",
       "      <th>0</th>\n",
       "      <td>D1ABA3E2887B6A73</td>\n",
       "      <td>A</td>\n",
       "      <td>recommender_system_test</td>\n",
       "      <td>2020-12-07 14:43:27</td>\n",
       "      <td>purchase</td>\n",
       "      <td>99.99</td>\n",
       "      <td>2020-12-07</td>\n",
       "      <td>2020-12-07</td>\n",
       "      <td>EU</td>\n",
       "      <td>PC</td>\n",
       "      <td>0</td>\n",
       "    </tr>\n",
       "    <tr>\n",
       "      <th>1</th>\n",
       "      <td>D1ABA3E2887B6A73</td>\n",
       "      <td>A</td>\n",
       "      <td>recommender_system_test</td>\n",
       "      <td>2020-12-07 14:43:29</td>\n",
       "      <td>product_cart</td>\n",
       "      <td>NaN</td>\n",
       "      <td>2020-12-07</td>\n",
       "      <td>2020-12-07</td>\n",
       "      <td>EU</td>\n",
       "      <td>PC</td>\n",
       "      <td>0</td>\n",
       "    </tr>\n",
       "    <tr>\n",
       "      <th>2</th>\n",
       "      <td>D1ABA3E2887B6A73</td>\n",
       "      <td>A</td>\n",
       "      <td>recommender_system_test</td>\n",
       "      <td>2020-12-07 14:43:27</td>\n",
       "      <td>product_page</td>\n",
       "      <td>NaN</td>\n",
       "      <td>2020-12-07</td>\n",
       "      <td>2020-12-07</td>\n",
       "      <td>EU</td>\n",
       "      <td>PC</td>\n",
       "      <td>0</td>\n",
       "    </tr>\n",
       "    <tr>\n",
       "      <th>3</th>\n",
       "      <td>D1ABA3E2887B6A73</td>\n",
       "      <td>A</td>\n",
       "      <td>recommender_system_test</td>\n",
       "      <td>2020-12-07 14:43:27</td>\n",
       "      <td>login</td>\n",
       "      <td>NaN</td>\n",
       "      <td>2020-12-07</td>\n",
       "      <td>2020-12-07</td>\n",
       "      <td>EU</td>\n",
       "      <td>PC</td>\n",
       "      <td>0</td>\n",
       "    </tr>\n",
       "    <tr>\n",
       "      <th>4</th>\n",
       "      <td>A7A3664BD6242119</td>\n",
       "      <td>A</td>\n",
       "      <td>recommender_system_test</td>\n",
       "      <td>2020-12-20 15:46:06</td>\n",
       "      <td>product_page</td>\n",
       "      <td>NaN</td>\n",
       "      <td>2020-12-20</td>\n",
       "      <td>2020-12-20</td>\n",
       "      <td>EU</td>\n",
       "      <td>iPhone</td>\n",
       "      <td>0</td>\n",
       "    </tr>\n",
       "  </tbody>\n",
       "</table>\n",
       "</div>"
      ],
      "text/plain": [
       "            user_id group                  ab_test            event_dt  \\\n",
       "0  D1ABA3E2887B6A73     A  recommender_system_test 2020-12-07 14:43:27   \n",
       "1  D1ABA3E2887B6A73     A  recommender_system_test 2020-12-07 14:43:29   \n",
       "2  D1ABA3E2887B6A73     A  recommender_system_test 2020-12-07 14:43:27   \n",
       "3  D1ABA3E2887B6A73     A  recommender_system_test 2020-12-07 14:43:27   \n",
       "4  A7A3664BD6242119     A  recommender_system_test 2020-12-20 15:46:06   \n",
       "\n",
       "     event_name  details event_dt_cut first_date_x region_x device_x  life  \n",
       "0      purchase    99.99   2020-12-07   2020-12-07       EU       PC     0  \n",
       "1  product_cart      NaN   2020-12-07   2020-12-07       EU       PC     0  \n",
       "2  product_page      NaN   2020-12-07   2020-12-07       EU       PC     0  \n",
       "3         login      NaN   2020-12-07   2020-12-07       EU       PC     0  \n",
       "4  product_page      NaN   2020-12-20   2020-12-20       EU   iPhone     0  "
      ]
     },
     "execution_count": 35,
     "metadata": {},
     "output_type": "execute_result"
    }
   ],
   "source": [
    "data = data.drop(columns=['first_date_y', 'region_y', 'device_y'])\n",
    "data.head()"
   ]
  },
  {
   "cell_type": "markdown",
   "id": "8a7cf8a8",
   "metadata": {},
   "source": [
    "Проверим, сколько в итоге у нас событий в каждой группе."
   ]
  },
  {
   "cell_type": "code",
   "execution_count": 36,
   "id": "7c574500",
   "metadata": {},
   "outputs": [
    {
     "data": {
      "text/plain": [
       "A    17977\n",
       "B     4851\n",
       "Name: group, dtype: int64"
      ]
     },
     "execution_count": 36,
     "metadata": {},
     "output_type": "execute_result"
    }
   ],
   "source": [
    "data['group'].value_counts()"
   ]
  },
  {
   "cell_type": "markdown",
   "id": "60bb6578",
   "metadata": {},
   "source": [
    "В группе В меньше событий в 3,7 раз."
   ]
  },
  {
   "cell_type": "markdown",
   "id": "05036063",
   "metadata": {},
   "source": [
    "Проверим, сколько пользователей в каждой группе."
   ]
  },
  {
   "cell_type": "code",
   "execution_count": 37,
   "id": "dbdb651d",
   "metadata": {},
   "outputs": [
    {
     "name": "stdout",
     "output_type": "stream",
     "text": [
      "В группе А 2604 уникальных пользователей. В группе В 877 уникальных пользователей.\n"
     ]
    }
   ],
   "source": [
    "a = data.loc[data['group'] == 'A']['user_id'].nunique()\n",
    "b = data.loc[data['group'] == 'B']['user_id'].nunique()\n",
    "print(f'В группе А {a} уникальных пользователей. В группе В {b} уникальных пользователей.')"
   ]
  },
  {
   "cell_type": "markdown",
   "id": "28b58b3f",
   "metadata": {},
   "source": [
    "### Динамика набора пользователей в группы"
   ]
  },
  {
   "cell_type": "markdown",
   "id": "3b322515",
   "metadata": {},
   "source": [
    "Посмотрим на динамику набора пользователей в группы теста."
   ]
  },
  {
   "cell_type": "code",
   "execution_count": 38,
   "id": "38e86db2",
   "metadata": {},
   "outputs": [
    {
     "data": {
      "image/png": "[encoded data removed]",
      "text/plain": [
       "<Figure size 900x500 with 1 Axes>"
      ]
     },
     "metadata": {},
     "output_type": "display_data"
    }
   ],
   "source": [
    "fig, ax = plt.subplots(figsize=(9, 5))\n",
    "data.loc[data['group'] == 'A'].groupby('first_date_x')['user_id'].count().plot(kind='line', grid = True, label = 'A')\n",
    "data.loc[data['group'] == 'B'].groupby('first_date_x')['user_id'].count().plot(kind='line',grid = True, label = 'B')\n",
    "plt.title('Динамика набора пользователей в группы А и В')\n",
    "plt.xlabel('Дата')\n",
    "plt.ylabel('Количество')\n",
    "plt.legend()\n",
    "plt.show()"
   ]
  },
  {
   "cell_type": "markdown",
   "id": "00bec279",
   "metadata": {},
   "source": [
    "Проверим цикличность набора пользователей в группы по дням недели. Для этого создадим новую колонку с днем недели зарегистрированного пользователя."
   ]
  },
  {
   "cell_type": "code",
   "execution_count": 39,
   "id": "76a0f7c1",
   "metadata": {},
   "outputs": [
    {
     "data": {
      "text/html": [
       "<div>\n",
       "<style scoped>\n",
       "    .dataframe tbody tr th:only-of-type {\n",
       "        vertical-align: middle;\n",
       "    }\n",
       "\n",
       "    .dataframe tbody tr th {\n",
       "        vertical-align: top;\n",
       "    }\n",
       "\n",
       "    .dataframe thead th {\n",
       "        text-align: right;\n",
       "    }\n",
       "</style>\n",
       "<table border=\"1\" class=\"dataframe\">\n",
       "  <thead>\n",
       "    <tr style=\"text-align: right;\">\n",
       "      <th></th>\n",
       "      <th>user_id</th>\n",
       "      <th>group</th>\n",
       "      <th>ab_test</th>\n",
       "      <th>event_dt</th>\n",
       "      <th>event_name</th>\n",
       "      <th>details</th>\n",
       "      <th>event_dt_cut</th>\n",
       "      <th>first_date_x</th>\n",
       "      <th>region_x</th>\n",
       "      <th>device_x</th>\n",
       "      <th>life</th>\n",
       "      <th>reg_weekday</th>\n",
       "    </tr>\n",
       "  </thead>\n",
       "  <tbody>\n",
       "    <tr>\n",
       "      <th>0</th>\n",
       "      <td>D1ABA3E2887B6A73</td>\n",
       "      <td>A</td>\n",
       "      <td>recommender_system_test</td>\n",
       "      <td>2020-12-07 14:43:27</td>\n",
       "      <td>purchase</td>\n",
       "      <td>99.99</td>\n",
       "      <td>2020-12-07</td>\n",
       "      <td>2020-12-07</td>\n",
       "      <td>EU</td>\n",
       "      <td>PC</td>\n",
       "      <td>0</td>\n",
       "      <td>0</td>\n",
       "    </tr>\n",
       "    <tr>\n",
       "      <th>1</th>\n",
       "      <td>D1ABA3E2887B6A73</td>\n",
       "      <td>A</td>\n",
       "      <td>recommender_system_test</td>\n",
       "      <td>2020-12-07 14:43:29</td>\n",
       "      <td>product_cart</td>\n",
       "      <td>NaN</td>\n",
       "      <td>2020-12-07</td>\n",
       "      <td>2020-12-07</td>\n",
       "      <td>EU</td>\n",
       "      <td>PC</td>\n",
       "      <td>0</td>\n",
       "      <td>0</td>\n",
       "    </tr>\n",
       "    <tr>\n",
       "      <th>2</th>\n",
       "      <td>D1ABA3E2887B6A73</td>\n",
       "      <td>A</td>\n",
       "      <td>recommender_system_test</td>\n",
       "      <td>2020-12-07 14:43:27</td>\n",
       "      <td>product_page</td>\n",
       "      <td>NaN</td>\n",
       "      <td>2020-12-07</td>\n",
       "      <td>2020-12-07</td>\n",
       "      <td>EU</td>\n",
       "      <td>PC</td>\n",
       "      <td>0</td>\n",
       "      <td>0</td>\n",
       "    </tr>\n",
       "    <tr>\n",
       "      <th>3</th>\n",
       "      <td>D1ABA3E2887B6A73</td>\n",
       "      <td>A</td>\n",
       "      <td>recommender_system_test</td>\n",
       "      <td>2020-12-07 14:43:27</td>\n",
       "      <td>login</td>\n",
       "      <td>NaN</td>\n",
       "      <td>2020-12-07</td>\n",
       "      <td>2020-12-07</td>\n",
       "      <td>EU</td>\n",
       "      <td>PC</td>\n",
       "      <td>0</td>\n",
       "      <td>0</td>\n",
       "    </tr>\n",
       "    <tr>\n",
       "      <th>4</th>\n",
       "      <td>A7A3664BD6242119</td>\n",
       "      <td>A</td>\n",
       "      <td>recommender_system_test</td>\n",
       "      <td>2020-12-20 15:46:06</td>\n",
       "      <td>product_page</td>\n",
       "      <td>NaN</td>\n",
       "      <td>2020-12-20</td>\n",
       "      <td>2020-12-20</td>\n",
       "      <td>EU</td>\n",
       "      <td>iPhone</td>\n",
       "      <td>0</td>\n",
       "      <td>6</td>\n",
       "    </tr>\n",
       "  </tbody>\n",
       "</table>\n",
       "</div>"
      ],
      "text/plain": [
       "            user_id group                  ab_test            event_dt  \\\n",
       "0  D1ABA3E2887B6A73     A  recommender_system_test 2020-12-07 14:43:27   \n",
       "1  D1ABA3E2887B6A73     A  recommender_system_test 2020-12-07 14:43:29   \n",
       "2  D1ABA3E2887B6A73     A  recommender_system_test 2020-12-07 14:43:27   \n",
       "3  D1ABA3E2887B6A73     A  recommender_system_test 2020-12-07 14:43:27   \n",
       "4  A7A3664BD6242119     A  recommender_system_test 2020-12-20 15:46:06   \n",
       "\n",
       "     event_name  details event_dt_cut first_date_x region_x device_x  life  \\\n",
       "0      purchase    99.99   2020-12-07   2020-12-07       EU       PC     0   \n",
       "1  product_cart      NaN   2020-12-07   2020-12-07       EU       PC     0   \n",
       "2  product_page      NaN   2020-12-07   2020-12-07       EU       PC     0   \n",
       "3         login      NaN   2020-12-07   2020-12-07       EU       PC     0   \n",
       "4  product_page      NaN   2020-12-20   2020-12-20       EU   iPhone     0   \n",
       "\n",
       "   reg_weekday  \n",
       "0            0  \n",
       "1            0  \n",
       "2            0  \n",
       "3            0  \n",
       "4            6  "
      ]
     },
     "execution_count": 39,
     "metadata": {},
     "output_type": "execute_result"
    }
   ],
   "source": [
    "data['reg_weekday'] = pd.DatetimeIndex(data['first_date_x']).weekday\n",
    "data.head()"
   ]
  },
  {
   "cell_type": "code",
   "execution_count": 40,
   "id": "ea9f5c6a",
   "metadata": {},
   "outputs": [
    {
     "data": {
      "image/png": "[encoded data removed]",
      "text/plain": [
       "<Figure size 900x500 with 1 Axes>"
      ]
     },
     "metadata": {},
     "output_type": "display_data"
    }
   ],
   "source": [
    "fig, ax = plt.subplots(figsize=(9, 5))\n",
    "data.loc[data['group'] == 'A'].groupby('reg_weekday')['user_id'].count().plot(kind='line', grid = True, label = 'A')\n",
    "data.loc[data['group'] == 'B'].groupby('reg_weekday')['user_id'].count().plot(kind='line',grid = True, label = 'B')\n",
    "plt.title('Динамика набора пользователей в группы А и В по дням недели')\n",
    "plt.xlabel('Дата')\n",
    "plt.ylabel('Количество')\n",
    "plt.legend()\n",
    "plt.show()"
   ]
  },
  {
   "cell_type": "markdown",
   "id": "7ccce68b",
   "metadata": {},
   "source": [
    "Видим, что по дням недели пользователи набирались равномерно: больше всего в понедельник, и далее примерно одинаковые количество по другим дням."
   ]
  },
  {
   "cell_type": "markdown",
   "id": "3b79a8c5",
   "metadata": {},
   "source": [
    "### Количество событий на пользователя"
   ]
  },
  {
   "cell_type": "markdown",
   "id": "f8bc130f",
   "metadata": {},
   "source": [
    "Проверим среднее количество событий на пользователя в каждой группе."
   ]
  },
  {
   "cell_type": "code",
   "execution_count": 41,
   "id": "71ebbb20",
   "metadata": {},
   "outputs": [
    {
     "name": "stdout",
     "output_type": "stream",
     "text": [
      "Среднее количество событий на пользователя в группе А составляет 6.9 событий.\n"
     ]
    }
   ],
   "source": [
    "a = data.loc[data['group'] == 'A']['event_name'].count() / data.loc[data['group'] == 'A']['user_id'].nunique()\n",
    "print(f'Среднее количество событий на пользователя в группе А составляет {a.round(1)} событий.')"
   ]
  },
  {
   "cell_type": "code",
   "execution_count": 42,
   "id": "2a88f53f",
   "metadata": {},
   "outputs": [
    {
     "name": "stdout",
     "output_type": "stream",
     "text": [
      "Среднее количество событий на пользователя в группе B составляет 5.5 событий.\n"
     ]
    }
   ],
   "source": [
    "b = data.loc[data['group'] == 'B']['event_name'].count() / data.loc[data['group'] == 'B']['user_id'].nunique()\n",
    "print(f'Среднее количество событий на пользователя в группе B составляет {b.round(1)} событий.')"
   ]
  },
  {
   "cell_type": "code",
   "execution_count": 43,
   "id": "7da04550",
   "metadata": {},
   "outputs": [
    {
     "name": "stdout",
     "output_type": "stream",
     "text": [
      "В группе А на 19.9% больше событий на пользователя, чем в группе B.\n"
     ]
    }
   ],
   "source": [
    "print(f'В группе А на {((1-b/a)*100).round(1)}% больше событий на пользователя, чем в группе B.')"
   ]
  },
  {
   "cell_type": "markdown",
   "id": "744925e8",
   "metadata": {},
   "source": [
    "### Пересечение с другими маркетинговыми активностями"
   ]
  },
  {
   "cell_type": "markdown",
   "id": "12d11cec",
   "metadata": {},
   "source": [
    "Проверим, проходили в наши даты другие маркетинговые мероприятия и оказывали ли они влияние."
   ]
  },
  {
   "cell_type": "markdown",
   "id": "23027986",
   "metadata": {},
   "source": [
    "Построим график количества событий по дням."
   ]
  },
  {
   "cell_type": "code",
   "execution_count": 44,
   "id": "a55e2959",
   "metadata": {},
   "outputs": [
    {
     "data": {
      "image/png": "[encoded data removed]",
      "text/plain": [
       "<Figure size 900x500 with 1 Axes>"
      ]
     },
     "metadata": {},
     "output_type": "display_data"
    }
   ],
   "source": [
    "fig, ax = plt.subplots(figsize=(9, 5))\n",
    "data.loc[data['event_name'] == 'purchase'].groupby('event_dt_cut')['event_name'].count().plot(kind='line', grid = True, label='purchase')\n",
    "data.loc[data['event_name'] == 'product_cart'].groupby('event_dt_cut')['event_name'].count().plot(kind='line', grid = True, label='product_cart')\n",
    "data.loc[data['event_name'] == 'login'].groupby('event_dt_cut')['event_name'].count().plot(kind='line', grid = True, label='login')\n",
    "data.loc[data['event_name'] == 'product_page'].groupby('event_dt_cut')['event_name'].count().plot(kind='line', grid = True, label='product_page')\n",
    "plt.title('Распределение событий по дням')\n",
    "plt.xlabel('Дата')\n",
    "plt.ylabel('Количество')\n",
    "plt.legend()\n",
    "plt.show()"
   ]
  },
  {
   "cell_type": "markdown",
   "id": "e19515b9",
   "metadata": {},
   "source": [
    "Теперь посмотрим на распределение этих событий по группам А и В."
   ]
  },
  {
   "cell_type": "code",
   "execution_count": 45,
   "id": "bcffc612",
   "metadata": {},
   "outputs": [
    {
     "data": {
      "image/png": "[encoded data removed]",
      "text/plain": [
       "<Figure size 900x500 with 1 Axes>"
      ]
     },
     "metadata": {},
     "output_type": "display_data"
    }
   ],
   "source": [
    "fig, ax = plt.subplots(figsize=(9, 5))\n",
    "data.loc[data['group'] == 'A'].groupby('event_dt_cut')['event_name'].count().plot(kind='line', grid = True, label='A')\n",
    "data.loc[data['group'] == 'B'].groupby('event_dt_cut')['event_name'].count().plot(kind='line', grid = True, label='B')\n",
    "plt.title('Распределение событий по дням')\n",
    "plt.xlabel('Дата')\n",
    "plt.ylabel('Количество')\n",
    "plt.legend()\n",
    "plt.show()"
   ]
  },
  {
   "cell_type": "markdown",
   "id": "e5cafed0",
   "metadata": {},
   "source": [
    "В группе В события происходили достаточно равномерно, а группе А после 13 декабря количество событий начало увеличиваться с пиком 22 декабря, далее начало плавно снижаться."
   ]
  },
  {
   "cell_type": "markdown",
   "id": "57e0b88f",
   "metadata": {},
   "source": [
    "Проверим пересечение акций с нашим тестом."
   ]
  },
  {
   "cell_type": "code",
   "execution_count": 46,
   "id": "6632ba28",
   "metadata": {},
   "outputs": [],
   "source": [
    "reg = re.compile(r\"EU\") #регулярное выражение для поиска строк, содержащих \"EU\""
   ]
  },
  {
   "cell_type": "code",
   "execution_count": 47,
   "id": "1a384204",
   "metadata": {},
   "outputs": [
    {
     "data": {
      "text/html": [
       "<div>\n",
       "<style scoped>\n",
       "    .dataframe tbody tr th:only-of-type {\n",
       "        vertical-align: middle;\n",
       "    }\n",
       "\n",
       "    .dataframe tbody tr th {\n",
       "        vertical-align: top;\n",
       "    }\n",
       "\n",
       "    .dataframe thead th {\n",
       "        text-align: right;\n",
       "    }\n",
       "</style>\n",
       "<table border=\"1\" class=\"dataframe\">\n",
       "  <thead>\n",
       "    <tr style=\"text-align: right;\">\n",
       "      <th></th>\n",
       "      <th>name</th>\n",
       "      <th>regions</th>\n",
       "      <th>start_dt</th>\n",
       "      <th>finish_dt</th>\n",
       "    </tr>\n",
       "  </thead>\n",
       "  <tbody>\n",
       "    <tr>\n",
       "      <th>0</th>\n",
       "      <td>Christmas&amp;New Year Promo</td>\n",
       "      <td>EU, N.America</td>\n",
       "      <td>2020-12-25</td>\n",
       "      <td>2021-01-03</td>\n",
       "    </tr>\n",
       "  </tbody>\n",
       "</table>\n",
       "</div>"
      ],
      "text/plain": [
       "                       name        regions   start_dt  finish_dt\n",
       "0  Christmas&New Year Promo  EU, N.America 2020-12-25 2021-01-03"
      ]
     },
     "execution_count": 47,
     "metadata": {},
     "output_type": "execute_result"
    }
   ],
   "source": [
    "mark_events.loc[(mark_events['start_dt'] < '2021-01-04') & (mark_events['finish_dt'] > '2020-12-07') & (mark_events['regions'].str.contains(reg))]"
   ]
  },
  {
   "cell_type": "markdown",
   "id": "80d5dcb1",
   "metadata": {},
   "source": [
    "С нашим тестом в нашем регионе пересекается одна акция \"Christmas&New Year Promo\". Началась она 25 января и не оказала влияния на рост количества событий ни одного вида."
   ]
  },
  {
   "cell_type": "markdown",
   "id": "652d0d64",
   "metadata": {},
   "source": [
    "### Продуктовые воронки"
   ]
  },
  {
   "cell_type": "markdown",
   "id": "4931ab16",
   "metadata": {},
   "source": [
    "Построим сводную таблицу по количеству действий по группам А и В и продуктовые воронки."
   ]
  },
  {
   "cell_type": "code",
   "execution_count": 48,
   "id": "bb3b26d9",
   "metadata": {},
   "outputs": [
    {
     "data": {
      "text/html": [
       "<div>\n",
       "<style scoped>\n",
       "    .dataframe tbody tr th:only-of-type {\n",
       "        vertical-align: middle;\n",
       "    }\n",
       "\n",
       "    .dataframe tbody tr th {\n",
       "        vertical-align: top;\n",
       "    }\n",
       "\n",
       "    .dataframe thead th {\n",
       "        text-align: right;\n",
       "    }\n",
       "</style>\n",
       "<table border=\"1\" class=\"dataframe\">\n",
       "  <thead>\n",
       "    <tr style=\"text-align: right;\">\n",
       "      <th></th>\n",
       "      <th>event_name</th>\n",
       "      <th>count</th>\n",
       "    </tr>\n",
       "  </thead>\n",
       "  <tbody>\n",
       "    <tr>\n",
       "      <th>0</th>\n",
       "      <td>login</td>\n",
       "      <td>2604</td>\n",
       "    </tr>\n",
       "    <tr>\n",
       "      <th>1</th>\n",
       "      <td>product_cart</td>\n",
       "      <td>782</td>\n",
       "    </tr>\n",
       "    <tr>\n",
       "      <th>2</th>\n",
       "      <td>product_page</td>\n",
       "      <td>1685</td>\n",
       "    </tr>\n",
       "    <tr>\n",
       "      <th>3</th>\n",
       "      <td>purchase</td>\n",
       "      <td>833</td>\n",
       "    </tr>\n",
       "  </tbody>\n",
       "</table>\n",
       "</div>"
      ],
      "text/plain": [
       "     event_name  count\n",
       "0         login   2604\n",
       "1  product_cart    782\n",
       "2  product_page   1685\n",
       "3      purchase    833"
      ]
     },
     "execution_count": 48,
     "metadata": {},
     "output_type": "execute_result"
    }
   ],
   "source": [
    "pivotA = data.loc[data['group'] == 'A'].pivot_table(index='user_id', columns='event_name', aggfunc='nunique')['ab_test'].count()\n",
    "pivotA = pivotA.reset_index()\n",
    "pivotA = pivotA.rename(columns={pivotA.columns[1]: \"count\"})\n",
    "pivotA\n"
   ]
  },
  {
   "cell_type": "code",
   "execution_count": 49,
   "id": "2daf20f5",
   "metadata": {},
   "outputs": [
    {
     "data": {
      "text/html": [
       "<div>\n",
       "<style scoped>\n",
       "    .dataframe tbody tr th:only-of-type {\n",
       "        vertical-align: middle;\n",
       "    }\n",
       "\n",
       "    .dataframe tbody tr th {\n",
       "        vertical-align: top;\n",
       "    }\n",
       "\n",
       "    .dataframe thead th {\n",
       "        text-align: right;\n",
       "    }\n",
       "</style>\n",
       "<table border=\"1\" class=\"dataframe\">\n",
       "  <thead>\n",
       "    <tr style=\"text-align: right;\">\n",
       "      <th></th>\n",
       "      <th>event_name</th>\n",
       "      <th>count</th>\n",
       "      <th>rest</th>\n",
       "    </tr>\n",
       "  </thead>\n",
       "  <tbody>\n",
       "    <tr>\n",
       "      <th>0</th>\n",
       "      <td>login</td>\n",
       "      <td>2604</td>\n",
       "      <td>100.00</td>\n",
       "    </tr>\n",
       "    <tr>\n",
       "      <th>2</th>\n",
       "      <td>product_page</td>\n",
       "      <td>1685</td>\n",
       "      <td>64.71</td>\n",
       "    </tr>\n",
       "    <tr>\n",
       "      <th>1</th>\n",
       "      <td>product_cart</td>\n",
       "      <td>782</td>\n",
       "      <td>30.03</td>\n",
       "    </tr>\n",
       "    <tr>\n",
       "      <th>3</th>\n",
       "      <td>purchase</td>\n",
       "      <td>833</td>\n",
       "      <td>31.99</td>\n",
       "    </tr>\n",
       "  </tbody>\n",
       "</table>\n",
       "</div>"
      ],
      "text/plain": [
       "     event_name  count    rest\n",
       "0         login   2604  100.00\n",
       "2  product_page   1685   64.71\n",
       "1  product_cart    782   30.03\n",
       "3      purchase    833   31.99"
      ]
     },
     "execution_count": 49,
     "metadata": {},
     "output_type": "execute_result"
    }
   ],
   "source": [
    "new_index = [0, 2, 1, 3]\n",
    "pivotA = pivotA.reindex(new_index)\n",
    "pivotA['rest']= ((pivotA['count']/ pivotA['count'][0])*100).round(2)\n",
    "pivotA['rest'] = pivotA['rest'].fillna(100)\n",
    "pivotA"
   ]
  },
  {
   "cell_type": "code",
   "execution_count": 50,
   "id": "ec73139e",
   "metadata": {},
   "outputs": [
    {
     "data": {
      "text/html": [
       "<div>\n",
       "<style scoped>\n",
       "    .dataframe tbody tr th:only-of-type {\n",
       "        vertical-align: middle;\n",
       "    }\n",
       "\n",
       "    .dataframe tbody tr th {\n",
       "        vertical-align: top;\n",
       "    }\n",
       "\n",
       "    .dataframe thead th {\n",
       "        text-align: right;\n",
       "    }\n",
       "</style>\n",
       "<table border=\"1\" class=\"dataframe\">\n",
       "  <thead>\n",
       "    <tr style=\"text-align: right;\">\n",
       "      <th></th>\n",
       "      <th>event_name</th>\n",
       "      <th>count</th>\n",
       "    </tr>\n",
       "  </thead>\n",
       "  <tbody>\n",
       "    <tr>\n",
       "      <th>0</th>\n",
       "      <td>login</td>\n",
       "      <td>876</td>\n",
       "    </tr>\n",
       "    <tr>\n",
       "      <th>1</th>\n",
       "      <td>product_cart</td>\n",
       "      <td>244</td>\n",
       "    </tr>\n",
       "    <tr>\n",
       "      <th>2</th>\n",
       "      <td>product_page</td>\n",
       "      <td>493</td>\n",
       "    </tr>\n",
       "    <tr>\n",
       "      <th>3</th>\n",
       "      <td>purchase</td>\n",
       "      <td>249</td>\n",
       "    </tr>\n",
       "  </tbody>\n",
       "</table>\n",
       "</div>"
      ],
      "text/plain": [
       "     event_name  count\n",
       "0         login    876\n",
       "1  product_cart    244\n",
       "2  product_page    493\n",
       "3      purchase    249"
      ]
     },
     "execution_count": 50,
     "metadata": {},
     "output_type": "execute_result"
    }
   ],
   "source": [
    "pivotB = data.loc[data['group'] == 'B'].pivot_table(index='user_id', columns='event_name', aggfunc='nunique')['ab_test'].count()\n",
    "pivotB = pivotB.reset_index()\n",
    "pivotB = pivotB.rename(columns={pivotB.columns[1]: \"count\"})\n",
    "pivotB"
   ]
  },
  {
   "cell_type": "code",
   "execution_count": 51,
   "id": "3521f9e1",
   "metadata": {},
   "outputs": [
    {
     "data": {
      "text/html": [
       "<div>\n",
       "<style scoped>\n",
       "    .dataframe tbody tr th:only-of-type {\n",
       "        vertical-align: middle;\n",
       "    }\n",
       "\n",
       "    .dataframe tbody tr th {\n",
       "        vertical-align: top;\n",
       "    }\n",
       "\n",
       "    .dataframe thead th {\n",
       "        text-align: right;\n",
       "    }\n",
       "</style>\n",
       "<table border=\"1\" class=\"dataframe\">\n",
       "  <thead>\n",
       "    <tr style=\"text-align: right;\">\n",
       "      <th></th>\n",
       "      <th>event_name</th>\n",
       "      <th>count</th>\n",
       "      <th>rest</th>\n",
       "    </tr>\n",
       "  </thead>\n",
       "  <tbody>\n",
       "    <tr>\n",
       "      <th>0</th>\n",
       "      <td>login</td>\n",
       "      <td>876</td>\n",
       "      <td>100.00</td>\n",
       "    </tr>\n",
       "    <tr>\n",
       "      <th>2</th>\n",
       "      <td>product_page</td>\n",
       "      <td>493</td>\n",
       "      <td>56.28</td>\n",
       "    </tr>\n",
       "    <tr>\n",
       "      <th>1</th>\n",
       "      <td>product_cart</td>\n",
       "      <td>244</td>\n",
       "      <td>27.85</td>\n",
       "    </tr>\n",
       "    <tr>\n",
       "      <th>3</th>\n",
       "      <td>purchase</td>\n",
       "      <td>249</td>\n",
       "      <td>28.42</td>\n",
       "    </tr>\n",
       "  </tbody>\n",
       "</table>\n",
       "</div>"
      ],
      "text/plain": [
       "     event_name  count    rest\n",
       "0         login    876  100.00\n",
       "2  product_page    493   56.28\n",
       "1  product_cart    244   27.85\n",
       "3      purchase    249   28.42"
      ]
     },
     "execution_count": 51,
     "metadata": {},
     "output_type": "execute_result"
    }
   ],
   "source": [
    "new_index = [0, 2, 1, 3]\n",
    "pivotB = pivotB.reindex(new_index)\n",
    "pivotB['rest']= ((pivotB['count']/ pivotB['count'][0])*100).round(2)\n",
    "pivotB['rest'] = pivotB['rest'].fillna(100)\n",
    "pivotB"
   ]
  },
  {
   "cell_type": "code",
   "execution_count": 52,
   "id": "076175b1",
   "metadata": {},
   "outputs": [
    {
     "data": {
      "text/html": [
       "<div>\n",
       "<style scoped>\n",
       "    .dataframe tbody tr th:only-of-type {\n",
       "        vertical-align: middle;\n",
       "    }\n",
       "\n",
       "    .dataframe tbody tr th {\n",
       "        vertical-align: top;\n",
       "    }\n",
       "\n",
       "    .dataframe thead th {\n",
       "        text-align: right;\n",
       "    }\n",
       "</style>\n",
       "<table border=\"1\" class=\"dataframe\">\n",
       "  <thead>\n",
       "    <tr style=\"text-align: right;\">\n",
       "      <th></th>\n",
       "      <th>event_name</th>\n",
       "      <th>count_a</th>\n",
       "      <th>rest_a</th>\n",
       "      <th>count_b</th>\n",
       "      <th>rest_b</th>\n",
       "    </tr>\n",
       "  </thead>\n",
       "  <tbody>\n",
       "    <tr>\n",
       "      <th>0</th>\n",
       "      <td>login</td>\n",
       "      <td>2604</td>\n",
       "      <td>100.00</td>\n",
       "      <td>876</td>\n",
       "      <td>100.00</td>\n",
       "    </tr>\n",
       "    <tr>\n",
       "      <th>1</th>\n",
       "      <td>product_page</td>\n",
       "      <td>1685</td>\n",
       "      <td>64.71</td>\n",
       "      <td>493</td>\n",
       "      <td>56.28</td>\n",
       "    </tr>\n",
       "    <tr>\n",
       "      <th>2</th>\n",
       "      <td>product_cart</td>\n",
       "      <td>782</td>\n",
       "      <td>30.03</td>\n",
       "      <td>244</td>\n",
       "      <td>27.85</td>\n",
       "    </tr>\n",
       "    <tr>\n",
       "      <th>3</th>\n",
       "      <td>purchase</td>\n",
       "      <td>833</td>\n",
       "      <td>31.99</td>\n",
       "      <td>249</td>\n",
       "      <td>28.42</td>\n",
       "    </tr>\n",
       "  </tbody>\n",
       "</table>\n",
       "</div>"
      ],
      "text/plain": [
       "     event_name  count_a  rest_a  count_b  rest_b\n",
       "0         login     2604  100.00      876  100.00\n",
       "1  product_page     1685   64.71      493   56.28\n",
       "2  product_cart      782   30.03      244   27.85\n",
       "3      purchase      833   31.99      249   28.42"
      ]
     },
     "execution_count": 52,
     "metadata": {},
     "output_type": "execute_result"
    }
   ],
   "source": [
    "pivot = pivotA.merge(pivotB, on = 'event_name')\n",
    "pivot = pivot.rename(columns={'count_x': 'count_a', 'rest_x': 'rest_a', 'count_y': 'count_b', 'rest_y': 'rest_b', }) \n",
    "pivot"
   ]
  },
  {
   "cell_type": "markdown",
   "id": "8f03af4d",
   "metadata": {},
   "source": [
    "Построим продуктовую воронку."
   ]
  },
  {
   "cell_type": "code",
   "execution_count": 75,
   "id": "015ae2d1",
   "metadata": {},
   "outputs": [
    {
     "data": {
      "image/jpeg": "[encoded data removed]",
      "text/plain": [
       "<IPython.core.display.Image object>"
      ]
     },
     "execution_count": 75,
     "metadata": {},
     "output_type": "execute_result"
    }
   ],
   "source": [
    "fig = go.Figure()\n",
    "\n",
    "fig.add_trace(go.Funnel(\n",
    "    name = 'A',\n",
    "    y = ['login', 'product_page', 'product_cart', 'purchase'],\n",
    "    x = pivot['count_a'].tolist(),\n",
    "    textinfo = \"value+percent initial\"))\n",
    "\n",
    "fig.add_trace(go.Funnel(\n",
    "    name = 'B', orientation = \"h\",\n",
    "     y = ['login', 'product_page', 'product_cart', 'purchase'],\n",
    "    x = pivot['count_b'].tolist(),\n",
    "    textposition = \"inside\",\n",
    "    textinfo = \"value+percent initial\"))\n",
    "\n",
    "fig.update_layout(title=\"Продуктовая воронка в группах А и B\")\n",
    "\n",
    "Image(\"1.jpg\")\n"
   ]
  },
  {
   "cell_type": "markdown",
   "id": "c4970f5a",
   "metadata": {},
   "source": [
    "Исходя из продуктовой воронки, конверсия на каждом этапе в экспериментальной группе не увеличилась, а снизилась. Проверим с помощью статистических методов снизилась ли конверсия или же осталась на том же уровне."
   ]
  },
  {
   "cell_type": "markdown",
   "id": "655c5b5d",
   "metadata": {},
   "source": [
    "## Оценка результатов A/B-тестирования"
   ]
  },
  {
   "cell_type": "markdown",
   "id": "838b2660",
   "metadata": {},
   "source": [
    "Назначим уровень статистической значимости 0.05. Таким образом вероятность ошибки первого рода (отклонение верной нулевой гипотезы) будет составлять 5%. Будет проводиться двусторонний тест.\n",
    "\n",
    "H0 - между долями нет значимой разницы. Альтернативная гипотеза H1: между долями есть значимая разница."
   ]
  },
  {
   "cell_type": "code",
   "execution_count": 54,
   "id": "db5f03e3",
   "metadata": {},
   "outputs": [],
   "source": [
    "alpha = .05 #уровень статистической значимости без поправки Бонферрони"
   ]
  },
  {
   "cell_type": "markdown",
   "id": "249a8eb2",
   "metadata": {},
   "source": [
    "Вероятность получения ложного срабатывания возрастает при проведении нескольких проверок гипотез. Нам нужно провести три проверки, поэтому можно воспользоваться поправкой Бонферрони.\n",
    "\n",
    "Уровень статистической значимости с учетом поправки:"
   ]
  },
  {
   "cell_type": "code",
   "execution_count": 55,
   "id": "ce5442e1",
   "metadata": {},
   "outputs": [
    {
     "name": "stdout",
     "output_type": "stream",
     "text": [
      "Уровень стат. значимости с учетом поправки: 0.016666666666666666\n"
     ]
    }
   ],
   "source": [
    "print(f'Уровень стат. значимости с учетом поправки: {0.05/3}')"
   ]
  },
  {
   "cell_type": "code",
   "execution_count": 56,
   "id": "d1108d53",
   "metadata": {},
   "outputs": [],
   "source": [
    "alpha = .017  #уровень статистической значимости с учетом поправки Бонферрони"
   ]
  },
  {
   "cell_type": "markdown",
   "id": "9de7c0b2",
   "metadata": {},
   "source": [
    "### login - product_page"
   ]
  },
  {
   "cell_type": "code",
   "execution_count": 57,
   "id": "804d86c3",
   "metadata": {},
   "outputs": [],
   "source": [
    "successes = np.array([pivotA['count'][2], pivotB['count'][2]])\n",
    "trials = np.array([pivotA['count'][0], pivotB['count'][0]])"
   ]
  },
  {
   "cell_type": "code",
   "execution_count": 58,
   "id": "b91192aa",
   "metadata": {},
   "outputs": [],
   "source": [
    "p1 = successes[0]/trials[0]  # пропорция успехов в группе А\n",
    "p2 = successes[1]/trials[1] # пропорция успехов в группе В"
   ]
  },
  {
   "cell_type": "code",
   "execution_count": 59,
   "id": "f3b8d042",
   "metadata": {},
   "outputs": [],
   "source": [
    "p_combined = (successes[0] + successes[1]) / (trials[0] + trials[1]) #пропорция успехов в комбинированном датасете\n",
    "difference = p1 - p2  #разница пропорций в датасетах"
   ]
  },
  {
   "cell_type": "markdown",
   "id": "3d785ffd",
   "metadata": {},
   "source": [
    "Считаем статистику в стандартных отклонениях стандартного нормального распределения: "
   ]
  },
  {
   "cell_type": "code",
   "execution_count": 60,
   "id": "ef133ee1",
   "metadata": {},
   "outputs": [],
   "source": [
    "z_value = difference / mth.sqrt(p_combined * (1 - p_combined) * (1/trials[0] + 1/trials[1]))\n",
    "distr = st.norm(0, 1)  #задаем стандартное нормальное распределение (среднее 0, ст.отклонение 1)"
   ]
  },
  {
   "cell_type": "code",
   "execution_count": 61,
   "id": "d9a54b1e",
   "metadata": {},
   "outputs": [
    {
     "name": "stdout",
     "output_type": "stream",
     "text": [
      "p-значение:  8.195976000324734e-06\n",
      "Отвергаем нулевую гипотезу: между долями есть значимая разница.\n"
     ]
    }
   ],
   "source": [
    "p_value = (1 - distr.cdf(abs(z_value))) * 2\n",
    "\n",
    "print('p-значение: ', p_value)\n",
    "\n",
    "if p_value < alpha:\n",
    "    print('Отвергаем нулевую гипотезу: между долями есть значимая разница.')\n",
    "else:\n",
    "    print(\n",
    "        'Не получилось отвергнуть нулевую гипотезу, нет оснований считать доли разными.'\n",
    "    ) "
   ]
  },
  {
   "cell_type": "markdown",
   "id": "5ee15d8f",
   "metadata": {},
   "source": [
    "Таким образом, между долями разницы нет: конверсия от login к product_page одинакова для обеих групп.\n",
    "Проверим тоже самое для перехода product_page - product_cart."
   ]
  },
  {
   "cell_type": "markdown",
   "id": "bd55e795",
   "metadata": {},
   "source": [
    "### product_page - product_cart"
   ]
  },
  {
   "cell_type": "code",
   "execution_count": 62,
   "id": "7d77b41f",
   "metadata": {},
   "outputs": [],
   "source": [
    "successes = np.array([pivotA['count'][1], pivotB['count'][1]])\n",
    "trials = np.array([pivotA['count'][2], pivotB['count'][2]])"
   ]
  },
  {
   "cell_type": "code",
   "execution_count": 63,
   "id": "37458d9b",
   "metadata": {},
   "outputs": [],
   "source": [
    "p1 = successes[0]/trials[0]  # пропорция успехов в группе А\n",
    "p2 = successes[1]/trials[1] # пропорция успехов в группе В"
   ]
  },
  {
   "cell_type": "code",
   "execution_count": 64,
   "id": "2194465b",
   "metadata": {},
   "outputs": [],
   "source": [
    "p_combined = (successes[0] + successes[1]) / (trials[0] + trials[1])   #пропорция успехов в комбинированном датасете\n",
    "difference = p1 - p2   #разница пропорций в датасетах"
   ]
  },
  {
   "cell_type": "code",
   "execution_count": 65,
   "id": "6fe86111",
   "metadata": {},
   "outputs": [],
   "source": [
    "z_value = difference / mth.sqrt(p_combined * (1 - p_combined) * (1/trials[0] + 1/trials[1]))\n",
    "distr = st.norm(0, 1)  #задаем стандартное нормальное распределение (среднее 0, ст.отклонение 1)"
   ]
  },
  {
   "cell_type": "code",
   "execution_count": 66,
   "id": "29cdc063",
   "metadata": {},
   "outputs": [
    {
     "name": "stdout",
     "output_type": "stream",
     "text": [
      "p-значение:  0.2276722007959906\n",
      "Не получилось отвергнуть нулевую гипотезу, нет оснований считать доли разными.\n"
     ]
    }
   ],
   "source": [
    "p_value = (1 - distr.cdf(abs(z_value))) * 2\n",
    "\n",
    "print('p-значение: ', p_value)\n",
    "\n",
    "if p_value < alpha:\n",
    "    print('Отвергаем нулевую гипотезу: между долями есть значимая разница.')\n",
    "else:\n",
    "    print(\n",
    "        'Не получилось отвергнуть нулевую гипотезу, нет оснований считать доли разными.'\n",
    "    ) "
   ]
  },
  {
   "cell_type": "markdown",
   "id": "6ec3d92b",
   "metadata": {},
   "source": [
    "При переходе от product_page к product_cart конверсия в группе В по сравнению с группой А не изменилась."
   ]
  },
  {
   "cell_type": "markdown",
   "id": "6689c9d2",
   "metadata": {},
   "source": [
    "### product_cart - purchase"
   ]
  },
  {
   "cell_type": "code",
   "execution_count": 67,
   "id": "639d1d90",
   "metadata": {},
   "outputs": [],
   "source": [
    "successes = np.array([pivotA['count'][3], pivotB['count'][3]])\n",
    "trials = np.array([pivotA['count'][0], pivotB['count'][0]])"
   ]
  },
  {
   "cell_type": "code",
   "execution_count": 68,
   "id": "a413bb43",
   "metadata": {},
   "outputs": [],
   "source": [
    "p1 = successes[0]/trials[0]  # пропорция успехов в группе А\n",
    "p2 = successes[1]/trials[1] # пропорция успехов в группе В"
   ]
  },
  {
   "cell_type": "code",
   "execution_count": 69,
   "id": "e51785de",
   "metadata": {},
   "outputs": [],
   "source": [
    "p_combined = (successes[0] + successes[1]) / (trials[0] + trials[1]) #пропорция успехов в комбинированном датасете\n",
    "difference = p1 - p2  #разница пропорций в датасетах"
   ]
  },
  {
   "cell_type": "code",
   "execution_count": 70,
   "id": "d59afb58",
   "metadata": {},
   "outputs": [],
   "source": [
    "z_value = difference / mth.sqrt(p_combined * (1 - p_combined) * (1/trials[0] + 1/trials[1]))\n",
    "distr = st.norm(0, 1)  #задаем стандартное нормальное распределение (среднее 0, ст.отклонение 1)"
   ]
  },
  {
   "cell_type": "code",
   "execution_count": 71,
   "id": "1d08b8bb",
   "metadata": {},
   "outputs": [
    {
     "name": "stdout",
     "output_type": "stream",
     "text": [
      "p-значение:  0.04864766695042433\n",
      "Не получилось отвергнуть нулевую гипотезу, нет оснований считать доли разными.\n"
     ]
    }
   ],
   "source": [
    "p_value = (1 - distr.cdf(abs(z_value))) * 2\n",
    "\n",
    "print('p-значение: ', p_value)\n",
    "\n",
    "if p_value < alpha:\n",
    "    print('Отвергаем нулевую гипотезу: между долями есть значимая разница.')\n",
    "else:\n",
    "    print(\n",
    "        'Не получилось отвергнуть нулевую гипотезу, нет оснований считать доли разными.'\n",
    "    ) "
   ]
  },
  {
   "cell_type": "markdown",
   "id": "21cdc55d",
   "metadata": {},
   "source": [
    "Разницы между средними значениями двух выборок нет. При проведении теста конверсия покупки не изменилась."
   ]
  },
  {
   "cell_type": "markdown",
   "id": "3be5cd87",
   "metadata": {},
   "source": [
    "## Выводы"
   ]
  },
  {
   "cell_type": "markdown",
   "id": "d8d88ceb",
   "metadata": {},
   "source": [
    "В этом исследованиия мы должны были оценить корректность проведения теста по улучшению рекомендательной системы и проанализировать его результаты. \n",
    "\n",
    "Первым этапом мы провели предобработку данных: прочитали все таблицы, проверили пропуски и дубликаты, привели к нужным типам данных, добавили необходимые для дальнейшего анализа столбцы. \n",
    "\n",
    "На следующем этапе мы проверили соответствие теста заданному техническому заданию: проверили наличие нужного теста и нужных групп, проверили даты набора и количество участников, изучили пользователей, попавших одновременно в два теста и возраст событий. Мы пришли к выводу, что данные соответствуют техническому заданию и перешли к исследовательскому анализу данных.\n",
    "\n",
    "В исследовательском анализе мы изучили динамику набора пользователей в группы: пользователи группы В набирались достаточно равномерно, тогда как пользователи группы А набирались одновременно с В до 13 декаря, после чего в группе А начался взрывной рост набора пользователей. Больше всего пользователей набиралось по понедельникам. Также мы изучили количество событий на пользователя: в группе А на 19.9% больше событий на пользователя, чем в группе B. Мы проверили пересечение с другими маркетинговыми активностями и выяснили, что одновременно с нашей акцией проходила еще одна, однако она не оказала влияния на количество событий. После этого мы получили 2 продуктовые воронки для группы А и группы В, по результатам которой увидели, что конверсия событий в экспериментальной группе хуже, чем в контрольной: 32% в контрольной группе дошли до покупки, тогда как в экспериментальной этот показатель составил только 28%.\n",
    "\n",
    "С помощью статистических тестов мы смогли проверить, корректен ли полученный результат: можем ли мы сделать вывод о том, что в экспериментальной группе конверсия действительно оказалась хуже, или же снижение статистически не значимо. Мы проверили три шага в каждой из групп: login - product_page, product_page - product_cart, product_cart - purchase с учетом поправки Бонферрони. Получили, что уменьшение конверсии на всех шагах статистически не значимо. Таким образом, конверсия всех шагов на одном и том же уровне для обеих групп.\n",
    "\n",
    "Мы можем сделать вывод, что новая рекомендательная система не сработала и не стоит тратить ресурсы на ее внедрение."
   ]
  }
 ],
 "metadata": {
  "ExecuteTimeLog": [
   {
    "duration": 1625,
    "start_time": "2023-10-23T06:56:15.485Z"
   },
   {
    "duration": 189,
    "start_time": "2023-10-23T06:56:17.112Z"
   },
   {
    "duration": 0,
    "start_time": "2023-10-23T06:56:17.306Z"
   },
   {
    "duration": 0,
    "start_time": "2023-10-23T06:56:17.307Z"
   },
   {
    "duration": 0,
    "start_time": "2023-10-23T06:56:17.308Z"
   },
   {
    "duration": 1,
    "start_time": "2023-10-23T06:56:17.310Z"
   },
   {
    "duration": 0,
    "start_time": "2023-10-23T06:56:17.312Z"
   },
   {
    "duration": 0,
    "start_time": "2023-10-23T06:56:17.313Z"
   },
   {
    "duration": 0,
    "start_time": "2023-10-23T06:56:17.314Z"
   },
   {
    "duration": 0,
    "start_time": "2023-10-23T06:56:17.316Z"
   },
   {
    "duration": 0,
    "start_time": "2023-10-23T06:56:17.328Z"
   },
   {
    "duration": 0,
    "start_time": "2023-10-23T06:56:17.330Z"
   },
   {
    "duration": 0,
    "start_time": "2023-10-23T06:56:17.332Z"
   },
   {
    "duration": 0,
    "start_time": "2023-10-23T06:56:17.334Z"
   },
   {
    "duration": 1,
    "start_time": "2023-10-23T06:56:17.337Z"
   },
   {
    "duration": 0,
    "start_time": "2023-10-23T06:56:17.345Z"
   },
   {
    "duration": 0,
    "start_time": "2023-10-23T06:56:17.346Z"
   },
   {
    "duration": 0,
    "start_time": "2023-10-23T06:56:17.347Z"
   },
   {
    "duration": 0,
    "start_time": "2023-10-23T06:56:17.349Z"
   },
   {
    "duration": 0,
    "start_time": "2023-10-23T06:56:17.350Z"
   },
   {
    "duration": 0,
    "start_time": "2023-10-23T06:56:17.351Z"
   },
   {
    "duration": 0,
    "start_time": "2023-10-23T06:56:17.352Z"
   },
   {
    "duration": 0,
    "start_time": "2023-10-23T06:56:17.353Z"
   },
   {
    "duration": 1,
    "start_time": "2023-10-23T06:56:17.354Z"
   },
   {
    "duration": 0,
    "start_time": "2023-10-23T06:56:17.356Z"
   },
   {
    "duration": 0,
    "start_time": "2023-10-23T06:56:17.357Z"
   },
   {
    "duration": 0,
    "start_time": "2023-10-23T06:56:17.358Z"
   },
   {
    "duration": 0,
    "start_time": "2023-10-23T06:56:17.359Z"
   },
   {
    "duration": 0,
    "start_time": "2023-10-23T06:56:17.360Z"
   },
   {
    "duration": 0,
    "start_time": "2023-10-23T06:56:17.361Z"
   },
   {
    "duration": 0,
    "start_time": "2023-10-23T06:56:17.362Z"
   },
   {
    "duration": 0,
    "start_time": "2023-10-23T06:56:17.364Z"
   },
   {
    "duration": 0,
    "start_time": "2023-10-23T06:56:17.365Z"
   },
   {
    "duration": 0,
    "start_time": "2023-10-23T06:56:17.366Z"
   },
   {
    "duration": 0,
    "start_time": "2023-10-23T06:56:17.368Z"
   },
   {
    "duration": 0,
    "start_time": "2023-10-23T06:56:17.369Z"
   },
   {
    "duration": 0,
    "start_time": "2023-10-23T06:56:17.369Z"
   },
   {
    "duration": 0,
    "start_time": "2023-10-23T06:56:17.370Z"
   },
   {
    "duration": 0,
    "start_time": "2023-10-23T06:56:17.371Z"
   },
   {
    "duration": 0,
    "start_time": "2023-10-23T06:56:17.414Z"
   },
   {
    "duration": 0,
    "start_time": "2023-10-23T06:56:17.415Z"
   },
   {
    "duration": 0,
    "start_time": "2023-10-23T06:56:17.420Z"
   },
   {
    "duration": 0,
    "start_time": "2023-10-23T06:56:17.421Z"
   },
   {
    "duration": 0,
    "start_time": "2023-10-23T06:56:17.423Z"
   },
   {
    "duration": 0,
    "start_time": "2023-10-23T06:56:17.424Z"
   },
   {
    "duration": 0,
    "start_time": "2023-10-23T06:56:17.426Z"
   },
   {
    "duration": 0,
    "start_time": "2023-10-23T06:56:17.427Z"
   },
   {
    "duration": 0,
    "start_time": "2023-10-23T06:56:17.429Z"
   },
   {
    "duration": 0,
    "start_time": "2023-10-23T06:56:17.430Z"
   },
   {
    "duration": 0,
    "start_time": "2023-10-23T06:56:17.431Z"
   },
   {
    "duration": 0,
    "start_time": "2023-10-23T06:56:17.440Z"
   },
   {
    "duration": 0,
    "start_time": "2023-10-23T06:56:17.442Z"
   },
   {
    "duration": 0,
    "start_time": "2023-10-23T06:56:17.446Z"
   },
   {
    "duration": 0,
    "start_time": "2023-10-23T06:56:17.448Z"
   },
   {
    "duration": 0,
    "start_time": "2023-10-23T06:56:17.450Z"
   },
   {
    "duration": 0,
    "start_time": "2023-10-23T06:56:17.452Z"
   },
   {
    "duration": 0,
    "start_time": "2023-10-23T06:56:17.454Z"
   },
   {
    "duration": 0,
    "start_time": "2023-10-23T06:56:17.457Z"
   },
   {
    "duration": 0,
    "start_time": "2023-10-23T06:56:17.459Z"
   },
   {
    "duration": 0,
    "start_time": "2023-10-23T06:56:17.461Z"
   },
   {
    "duration": 0,
    "start_time": "2023-10-23T06:56:17.463Z"
   },
   {
    "duration": 0,
    "start_time": "2023-10-23T06:56:17.466Z"
   },
   {
    "duration": 0,
    "start_time": "2023-10-23T06:56:17.468Z"
   },
   {
    "duration": 0,
    "start_time": "2023-10-23T06:56:17.469Z"
   },
   {
    "duration": 0,
    "start_time": "2023-10-23T06:56:17.470Z"
   },
   {
    "duration": 0,
    "start_time": "2023-10-23T06:56:17.471Z"
   },
   {
    "duration": 0,
    "start_time": "2023-10-23T06:56:17.472Z"
   },
   {
    "duration": 48,
    "start_time": "2023-10-23T07:02:03.211Z"
   },
   {
    "duration": 1610,
    "start_time": "2023-10-23T07:02:36.856Z"
   },
   {
    "duration": 1129,
    "start_time": "2023-10-23T07:02:38.468Z"
   },
   {
    "duration": 16,
    "start_time": "2023-10-23T07:02:39.599Z"
   },
   {
    "duration": 22,
    "start_time": "2023-10-23T07:02:39.618Z"
   },
   {
    "duration": 5,
    "start_time": "2023-10-23T07:02:39.641Z"
   },
   {
    "duration": 23,
    "start_time": "2023-10-23T07:02:39.648Z"
   },
   {
    "duration": 11,
    "start_time": "2023-10-23T07:02:39.673Z"
   },
   {
    "duration": 66,
    "start_time": "2023-10-23T07:02:39.686Z"
   },
   {
    "duration": 13,
    "start_time": "2023-10-23T07:02:39.753Z"
   },
   {
    "duration": 6,
    "start_time": "2023-10-23T07:02:39.769Z"
   },
   {
    "duration": 405,
    "start_time": "2023-10-23T07:02:39.777Z"
   },
   {
    "duration": 340,
    "start_time": "2023-10-23T07:02:40.183Z"
   },
   {
    "duration": 12,
    "start_time": "2023-10-23T07:02:40.525Z"
   },
   {
    "duration": 22,
    "start_time": "2023-10-23T07:02:40.539Z"
   },
   {
    "duration": 70,
    "start_time": "2023-10-23T07:02:40.563Z"
   },
   {
    "duration": 39,
    "start_time": "2023-10-23T07:02:40.635Z"
   },
   {
    "duration": 38,
    "start_time": "2023-10-23T07:02:40.675Z"
   },
   {
    "duration": 7,
    "start_time": "2023-10-23T07:02:40.715Z"
   },
   {
    "duration": 10,
    "start_time": "2023-10-23T07:02:40.724Z"
   },
   {
    "duration": 19,
    "start_time": "2023-10-23T07:02:40.736Z"
   },
   {
    "duration": 12,
    "start_time": "2023-10-23T07:02:40.756Z"
   },
   {
    "duration": 13,
    "start_time": "2023-10-23T07:02:40.770Z"
   },
   {
    "duration": 66,
    "start_time": "2023-10-23T07:02:40.785Z"
   },
   {
    "duration": 18,
    "start_time": "2023-10-23T07:02:40.853Z"
   },
   {
    "duration": 12,
    "start_time": "2023-10-23T07:02:40.873Z"
   },
   {
    "duration": 28,
    "start_time": "2023-10-23T07:02:40.887Z"
   },
   {
    "duration": 16,
    "start_time": "2023-10-23T07:02:40.916Z"
   },
   {
    "duration": 15,
    "start_time": "2023-10-23T07:02:40.936Z"
   },
   {
    "duration": 14,
    "start_time": "2023-10-23T07:02:40.952Z"
   },
   {
    "duration": 226,
    "start_time": "2023-10-23T07:02:40.967Z"
   },
   {
    "duration": 27,
    "start_time": "2023-10-23T07:02:41.195Z"
   },
   {
    "duration": 116,
    "start_time": "2023-10-23T07:02:41.223Z"
   },
   {
    "duration": 501,
    "start_time": "2023-10-23T07:02:41.341Z"
   },
   {
    "duration": 184,
    "start_time": "2023-10-23T07:02:41.843Z"
   },
   {
    "duration": 20,
    "start_time": "2023-10-23T07:02:42.029Z"
   },
   {
    "duration": 41,
    "start_time": "2023-10-23T07:02:42.051Z"
   },
   {
    "duration": 33,
    "start_time": "2023-10-23T07:02:42.094Z"
   },
   {
    "duration": 292,
    "start_time": "2023-10-23T07:02:42.128Z"
   },
   {
    "duration": 18,
    "start_time": "2023-10-23T07:02:42.422Z"
   },
   {
    "duration": 209,
    "start_time": "2023-10-23T07:02:42.442Z"
   },
   {
    "duration": 13,
    "start_time": "2023-10-23T07:02:42.653Z"
   },
   {
    "duration": 16,
    "start_time": "2023-10-23T07:02:42.668Z"
   },
   {
    "duration": 18,
    "start_time": "2023-10-23T07:02:42.686Z"
   },
   {
    "duration": 363,
    "start_time": "2023-10-23T07:02:42.706Z"
   },
   {
    "duration": 11,
    "start_time": "2023-10-23T07:02:43.071Z"
   },
   {
    "duration": 86,
    "start_time": "2023-10-23T07:02:43.083Z"
   },
   {
    "duration": 11,
    "start_time": "2023-10-23T07:02:43.170Z"
   },
   {
    "duration": 272,
    "start_time": "2023-10-23T07:02:43.202Z"
   },
   {
    "duration": 39,
    "start_time": "2023-10-23T07:02:43.476Z"
   },
   {
    "duration": 12,
    "start_time": "2023-10-23T07:02:43.517Z"
   },
   {
    "duration": 87,
    "start_time": "2023-10-23T07:02:43.531Z"
   },
   {
    "duration": 10,
    "start_time": "2023-10-23T07:02:43.621Z"
   },
   {
    "duration": 13,
    "start_time": "2023-10-23T07:02:43.633Z"
   },
   {
    "duration": 10,
    "start_time": "2023-10-23T07:02:43.648Z"
   },
   {
    "duration": 11,
    "start_time": "2023-10-23T07:02:43.660Z"
   },
   {
    "duration": 27,
    "start_time": "2023-10-23T07:02:43.673Z"
   },
   {
    "duration": 12,
    "start_time": "2023-10-23T07:02:43.710Z"
   },
   {
    "duration": 32,
    "start_time": "2023-10-23T07:02:43.724Z"
   },
   {
    "duration": 32,
    "start_time": "2023-10-23T07:02:43.758Z"
   },
   {
    "duration": 29,
    "start_time": "2023-10-23T07:02:43.792Z"
   },
   {
    "duration": 22,
    "start_time": "2023-10-23T07:02:43.823Z"
   },
   {
    "duration": 25,
    "start_time": "2023-10-23T07:02:43.847Z"
   },
   {
    "duration": 26,
    "start_time": "2023-10-23T07:02:43.874Z"
   },
   {
    "duration": 13,
    "start_time": "2023-10-23T07:02:43.902Z"
   },
   {
    "duration": 9,
    "start_time": "2023-10-23T07:02:43.917Z"
   },
   {
    "duration": 25,
    "start_time": "2023-10-23T07:02:43.927Z"
   },
   {
    "duration": 17,
    "start_time": "2023-10-23T07:02:43.955Z"
   },
   {
    "duration": 1426,
    "start_time": "2023-10-23T10:16:20.391Z"
   },
   {
    "duration": 1128,
    "start_time": "2023-10-23T10:16:21.819Z"
   },
   {
    "duration": 4,
    "start_time": "2023-10-23T10:16:22.953Z"
   },
   {
    "duration": 46,
    "start_time": "2023-10-23T10:16:22.959Z"
   },
   {
    "duration": 7,
    "start_time": "2023-10-23T10:16:23.008Z"
   },
   {
    "duration": 17,
    "start_time": "2023-10-23T10:16:23.017Z"
   },
   {
    "duration": 6,
    "start_time": "2023-10-23T10:16:23.036Z"
   },
   {
    "duration": 104,
    "start_time": "2023-10-23T10:16:23.043Z"
   },
   {
    "duration": 20,
    "start_time": "2023-10-23T10:16:23.150Z"
   },
   {
    "duration": 5,
    "start_time": "2023-10-23T10:16:23.172Z"
   },
   {
    "duration": 396,
    "start_time": "2023-10-23T10:16:23.179Z"
   },
   {
    "duration": 300,
    "start_time": "2023-10-23T10:16:23.577Z"
   },
   {
    "duration": 10,
    "start_time": "2023-10-23T10:16:23.878Z"
   },
   {
    "duration": 18,
    "start_time": "2023-10-23T10:16:23.889Z"
   },
   {
    "duration": 67,
    "start_time": "2023-10-23T10:16:23.908Z"
   },
   {
    "duration": 63,
    "start_time": "2023-10-23T10:16:23.976Z"
   },
   {
    "duration": 27,
    "start_time": "2023-10-23T10:16:24.043Z"
   },
   {
    "duration": 38,
    "start_time": "2023-10-23T10:16:24.072Z"
   },
   {
    "duration": 26,
    "start_time": "2023-10-23T10:16:24.112Z"
   },
   {
    "duration": 28,
    "start_time": "2023-10-23T10:16:24.140Z"
   },
   {
    "duration": 17,
    "start_time": "2023-10-23T10:16:24.170Z"
   },
   {
    "duration": 21,
    "start_time": "2023-10-23T10:16:24.189Z"
   },
   {
    "duration": 53,
    "start_time": "2023-10-23T10:16:24.212Z"
   },
   {
    "duration": 19,
    "start_time": "2023-10-23T10:16:24.266Z"
   },
   {
    "duration": 21,
    "start_time": "2023-10-23T10:16:24.287Z"
   },
   {
    "duration": 32,
    "start_time": "2023-10-23T10:16:24.310Z"
   },
   {
    "duration": 6,
    "start_time": "2023-10-23T10:16:24.346Z"
   },
   {
    "duration": 8,
    "start_time": "2023-10-23T10:16:24.355Z"
   },
   {
    "duration": 21,
    "start_time": "2023-10-23T10:16:24.366Z"
   },
   {
    "duration": 201,
    "start_time": "2023-10-23T10:16:24.389Z"
   },
   {
    "duration": 26,
    "start_time": "2023-10-23T10:16:24.592Z"
   },
   {
    "duration": 100,
    "start_time": "2023-10-23T10:16:24.620Z"
   },
   {
    "duration": 447,
    "start_time": "2023-10-23T10:16:24.721Z"
   },
   {
    "duration": 161,
    "start_time": "2023-10-23T10:16:25.169Z"
   },
   {
    "duration": 24,
    "start_time": "2023-10-23T10:16:25.331Z"
   },
   {
    "duration": 10,
    "start_time": "2023-10-23T10:16:25.356Z"
   },
   {
    "duration": 48,
    "start_time": "2023-10-23T10:16:25.367Z"
   },
   {
    "duration": 266,
    "start_time": "2023-10-23T10:16:25.417Z"
   },
   {
    "duration": 23,
    "start_time": "2023-10-23T10:16:25.685Z"
   },
   {
    "duration": 200,
    "start_time": "2023-10-23T10:16:25.710Z"
   },
   {
    "duration": 18,
    "start_time": "2023-10-23T10:16:25.912Z"
   },
   {
    "duration": 17,
    "start_time": "2023-10-23T10:16:25.932Z"
   },
   {
    "duration": 23,
    "start_time": "2023-10-23T10:16:25.952Z"
   },
   {
    "duration": 386,
    "start_time": "2023-10-23T10:16:25.977Z"
   },
   {
    "duration": 15,
    "start_time": "2023-10-23T10:16:26.365Z"
   },
   {
    "duration": 108,
    "start_time": "2023-10-23T10:16:26.381Z"
   },
   {
    "duration": 21,
    "start_time": "2023-10-23T10:16:26.491Z"
   },
   {
    "duration": 522,
    "start_time": "2023-10-23T10:16:26.513Z"
   },
   {
    "duration": 85,
    "start_time": "2023-10-23T10:16:27.037Z"
   },
   {
    "duration": 13,
    "start_time": "2023-10-23T10:16:27.124Z"
   },
   {
    "duration": 21,
    "start_time": "2023-10-23T10:16:27.139Z"
   },
   {
    "duration": 3,
    "start_time": "2023-10-23T10:16:27.208Z"
   },
   {
    "duration": 5,
    "start_time": "2023-10-23T10:16:27.212Z"
   },
   {
    "duration": 4,
    "start_time": "2023-10-23T10:16:27.219Z"
   },
   {
    "duration": 4,
    "start_time": "2023-10-23T10:16:27.225Z"
   },
   {
    "duration": 18,
    "start_time": "2023-10-23T10:16:27.231Z"
   },
   {
    "duration": 13,
    "start_time": "2023-10-23T10:16:27.250Z"
   },
   {
    "duration": 5,
    "start_time": "2023-10-23T10:16:27.265Z"
   },
   {
    "duration": 15,
    "start_time": "2023-10-23T10:16:27.271Z"
   },
   {
    "duration": 3,
    "start_time": "2023-10-23T10:16:27.288Z"
   },
   {
    "duration": 5,
    "start_time": "2023-10-23T10:16:27.306Z"
   },
   {
    "duration": 6,
    "start_time": "2023-10-23T10:16:27.313Z"
   },
   {
    "duration": 9,
    "start_time": "2023-10-23T10:16:27.321Z"
   },
   {
    "duration": 23,
    "start_time": "2023-10-23T10:16:27.331Z"
   },
   {
    "duration": 16,
    "start_time": "2023-10-23T10:16:27.356Z"
   },
   {
    "duration": 7,
    "start_time": "2023-10-23T10:16:27.374Z"
   },
   {
    "duration": 31,
    "start_time": "2023-10-23T10:16:27.383Z"
   },
   {
    "duration": 8,
    "start_time": "2023-10-23T10:22:23.892Z"
   },
   {
    "duration": 119,
    "start_time": "2023-10-23T10:26:31.722Z"
   },
   {
    "duration": 60,
    "start_time": "2023-10-23T12:14:56.572Z"
   },
   {
    "duration": 1585,
    "start_time": "2023-10-23T12:15:03.500Z"
   },
   {
    "duration": 1176,
    "start_time": "2023-10-23T12:15:05.087Z"
   },
   {
    "duration": 4,
    "start_time": "2023-10-23T12:15:06.265Z"
   },
   {
    "duration": 27,
    "start_time": "2023-10-23T12:15:06.271Z"
   },
   {
    "duration": 5,
    "start_time": "2023-10-23T12:15:06.300Z"
   },
   {
    "duration": 8,
    "start_time": "2023-10-23T12:15:06.307Z"
   },
   {
    "duration": 5,
    "start_time": "2023-10-23T12:15:06.317Z"
   },
   {
    "duration": 74,
    "start_time": "2023-10-23T12:15:06.324Z"
   },
   {
    "duration": 15,
    "start_time": "2023-10-23T12:15:06.400Z"
   },
   {
    "duration": 5,
    "start_time": "2023-10-23T12:15:06.418Z"
   },
   {
    "duration": 401,
    "start_time": "2023-10-23T12:15:06.447Z"
   },
   {
    "duration": 344,
    "start_time": "2023-10-23T12:15:06.850Z"
   },
   {
    "duration": 10,
    "start_time": "2023-10-23T12:15:07.196Z"
   },
   {
    "duration": 26,
    "start_time": "2023-10-23T12:15:07.208Z"
   },
   {
    "duration": 60,
    "start_time": "2023-10-23T12:15:07.236Z"
   },
   {
    "duration": 44,
    "start_time": "2023-10-23T12:15:07.297Z"
   },
   {
    "duration": 27,
    "start_time": "2023-10-23T12:15:07.343Z"
   },
   {
    "duration": 8,
    "start_time": "2023-10-23T12:15:07.371Z"
   },
   {
    "duration": 9,
    "start_time": "2023-10-23T12:15:07.380Z"
   },
   {
    "duration": 13,
    "start_time": "2023-10-23T12:15:07.391Z"
   },
   {
    "duration": 42,
    "start_time": "2023-10-23T12:15:07.405Z"
   },
   {
    "duration": 5,
    "start_time": "2023-10-23T12:15:07.449Z"
   },
   {
    "duration": 29,
    "start_time": "2023-10-23T12:15:07.456Z"
   },
   {
    "duration": 19,
    "start_time": "2023-10-23T12:15:07.487Z"
   },
   {
    "duration": 7,
    "start_time": "2023-10-23T12:15:07.508Z"
   },
   {
    "duration": 49,
    "start_time": "2023-10-23T12:15:07.517Z"
   },
   {
    "duration": 6,
    "start_time": "2023-10-23T12:15:07.567Z"
   },
   {
    "duration": 10,
    "start_time": "2023-10-23T12:15:07.577Z"
   },
   {
    "duration": 12,
    "start_time": "2023-10-23T12:15:07.588Z"
   },
   {
    "duration": 250,
    "start_time": "2023-10-23T12:15:07.601Z"
   },
   {
    "duration": 18,
    "start_time": "2023-10-23T12:15:07.853Z"
   },
   {
    "duration": 105,
    "start_time": "2023-10-23T12:15:07.873Z"
   },
   {
    "duration": 544,
    "start_time": "2023-10-23T12:15:07.980Z"
   },
   {
    "duration": 128,
    "start_time": "2023-10-23T12:15:08.526Z"
   },
   {
    "duration": 18,
    "start_time": "2023-10-23T12:15:08.656Z"
   },
   {
    "duration": 8,
    "start_time": "2023-10-23T12:15:08.676Z"
   },
   {
    "duration": 18,
    "start_time": "2023-10-23T12:15:08.686Z"
   },
   {
    "duration": 270,
    "start_time": "2023-10-23T12:15:08.706Z"
   },
   {
    "duration": 17,
    "start_time": "2023-10-23T12:15:08.978Z"
   },
   {
    "duration": 233,
    "start_time": "2023-10-23T12:15:08.997Z"
   },
   {
    "duration": 21,
    "start_time": "2023-10-23T12:15:09.232Z"
   },
   {
    "duration": 11,
    "start_time": "2023-10-23T12:15:09.255Z"
   },
   {
    "duration": 13,
    "start_time": "2023-10-23T12:15:09.268Z"
   },
   {
    "duration": 390,
    "start_time": "2023-10-23T12:15:09.282Z"
   },
   {
    "duration": 11,
    "start_time": "2023-10-23T12:15:09.674Z"
   },
   {
    "duration": 83,
    "start_time": "2023-10-23T12:15:09.687Z"
   },
   {
    "duration": 12,
    "start_time": "2023-10-23T12:15:09.772Z"
   },
   {
    "duration": 310,
    "start_time": "2023-10-23T12:15:09.786Z"
   },
   {
    "duration": 70,
    "start_time": "2023-10-23T12:15:10.098Z"
   },
   {
    "duration": 16,
    "start_time": "2023-10-23T12:15:10.170Z"
   },
   {
    "duration": 66,
    "start_time": "2023-10-23T12:15:10.187Z"
   },
   {
    "duration": 11,
    "start_time": "2023-10-23T12:15:10.255Z"
   },
   {
    "duration": 10,
    "start_time": "2023-10-23T12:15:10.267Z"
   },
   {
    "duration": 13,
    "start_time": "2023-10-23T12:15:10.279Z"
   },
   {
    "duration": 56,
    "start_time": "2023-10-23T12:15:10.294Z"
   },
   {
    "duration": 10,
    "start_time": "2023-10-23T12:15:10.351Z"
   },
   {
    "duration": 14,
    "start_time": "2023-10-23T12:15:10.363Z"
   },
   {
    "duration": 16,
    "start_time": "2023-10-23T12:15:10.379Z"
   },
   {
    "duration": 17,
    "start_time": "2023-10-23T12:15:10.396Z"
   },
   {
    "duration": 7,
    "start_time": "2023-10-23T12:15:10.448Z"
   },
   {
    "duration": 11,
    "start_time": "2023-10-23T12:15:10.457Z"
   },
   {
    "duration": 17,
    "start_time": "2023-10-23T12:15:10.470Z"
   },
   {
    "duration": 6,
    "start_time": "2023-10-23T12:15:10.489Z"
   },
   {
    "duration": 5,
    "start_time": "2023-10-23T12:15:10.496Z"
   },
   {
    "duration": 12,
    "start_time": "2023-10-23T12:15:10.502Z"
   },
   {
    "duration": 5,
    "start_time": "2023-10-23T12:15:10.547Z"
   },
   {
    "duration": 8,
    "start_time": "2023-10-23T12:15:10.553Z"
   },
   {
    "duration": 10,
    "start_time": "2023-10-23T12:18:21.415Z"
   },
   {
    "duration": 10,
    "start_time": "2023-10-23T12:18:37.984Z"
   },
   {
    "duration": 4,
    "start_time": "2023-10-23T12:18:39.430Z"
   },
   {
    "duration": 27,
    "start_time": "2023-10-23T12:20:50.138Z"
   },
   {
    "duration": 4,
    "start_time": "2023-10-23T12:21:43.794Z"
   },
   {
    "duration": 1288,
    "start_time": "2023-10-23T12:22:12.690Z"
   },
   {
    "duration": 634,
    "start_time": "2023-10-23T12:22:13.980Z"
   },
   {
    "duration": 4,
    "start_time": "2023-10-23T12:22:14.616Z"
   },
   {
    "duration": 41,
    "start_time": "2023-10-23T12:22:14.622Z"
   },
   {
    "duration": 9,
    "start_time": "2023-10-23T12:22:14.665Z"
   },
   {
    "duration": 29,
    "start_time": "2023-10-23T12:22:14.675Z"
   },
   {
    "duration": 12,
    "start_time": "2023-10-23T12:22:14.706Z"
   },
   {
    "duration": 71,
    "start_time": "2023-10-23T12:22:14.719Z"
   },
   {
    "duration": 13,
    "start_time": "2023-10-23T12:22:14.791Z"
   },
   {
    "duration": 5,
    "start_time": "2023-10-23T12:22:14.806Z"
   },
   {
    "duration": 397,
    "start_time": "2023-10-23T12:22:14.812Z"
   },
   {
    "duration": 376,
    "start_time": "2023-10-23T12:22:15.211Z"
   },
   {
    "duration": 11,
    "start_time": "2023-10-23T12:22:15.588Z"
   },
   {
    "duration": 14,
    "start_time": "2023-10-23T12:22:15.601Z"
   },
   {
    "duration": 77,
    "start_time": "2023-10-23T12:22:15.617Z"
   },
   {
    "duration": 60,
    "start_time": "2023-10-23T12:22:15.695Z"
   },
   {
    "duration": 25,
    "start_time": "2023-10-23T12:22:15.757Z"
   },
   {
    "duration": 7,
    "start_time": "2023-10-23T12:22:15.784Z"
   },
   {
    "duration": 7,
    "start_time": "2023-10-23T12:22:15.793Z"
   },
   {
    "duration": 17,
    "start_time": "2023-10-23T12:22:15.802Z"
   },
   {
    "duration": 33,
    "start_time": "2023-10-23T12:22:15.847Z"
   },
   {
    "duration": 5,
    "start_time": "2023-10-23T12:22:15.881Z"
   },
   {
    "duration": 33,
    "start_time": "2023-10-23T12:22:15.888Z"
   },
   {
    "duration": 39,
    "start_time": "2023-10-23T12:22:15.923Z"
   },
   {
    "duration": 10,
    "start_time": "2023-10-23T12:22:15.964Z"
   },
   {
    "duration": 21,
    "start_time": "2023-10-23T12:22:15.976Z"
   },
   {
    "duration": 6,
    "start_time": "2023-10-23T12:22:15.999Z"
   },
   {
    "duration": 38,
    "start_time": "2023-10-23T12:22:16.009Z"
   },
   {
    "duration": 10,
    "start_time": "2023-10-23T12:22:16.049Z"
   },
   {
    "duration": 223,
    "start_time": "2023-10-23T12:22:16.061Z"
   },
   {
    "duration": 15,
    "start_time": "2023-10-23T12:22:16.286Z"
   },
   {
    "duration": 108,
    "start_time": "2023-10-23T12:22:16.302Z"
   },
   {
    "duration": 505,
    "start_time": "2023-10-23T12:22:16.412Z"
   },
   {
    "duration": 176,
    "start_time": "2023-10-23T12:22:16.919Z"
   },
   {
    "duration": 18,
    "start_time": "2023-10-23T12:22:17.097Z"
   },
   {
    "duration": 19,
    "start_time": "2023-10-23T12:22:17.117Z"
   },
   {
    "duration": 46,
    "start_time": "2023-10-23T12:22:17.137Z"
   },
   {
    "duration": 300,
    "start_time": "2023-10-23T12:22:17.185Z"
   },
   {
    "duration": 16,
    "start_time": "2023-10-23T12:22:17.487Z"
   },
   {
    "duration": 206,
    "start_time": "2023-10-23T12:22:17.505Z"
   },
   {
    "duration": 15,
    "start_time": "2023-10-23T12:22:17.713Z"
   },
   {
    "duration": 23,
    "start_time": "2023-10-23T12:22:17.730Z"
   },
   {
    "duration": 10,
    "start_time": "2023-10-23T12:22:17.755Z"
   },
   {
    "duration": 336,
    "start_time": "2023-10-23T12:22:17.767Z"
   },
   {
    "duration": 13,
    "start_time": "2023-10-23T12:22:18.105Z"
   },
   {
    "duration": 86,
    "start_time": "2023-10-23T12:22:18.119Z"
   },
   {
    "duration": 10,
    "start_time": "2023-10-23T12:22:18.207Z"
   },
   {
    "duration": 294,
    "start_time": "2023-10-23T12:22:18.219Z"
   },
   {
    "duration": 42,
    "start_time": "2023-10-23T12:22:18.514Z"
   },
   {
    "duration": 11,
    "start_time": "2023-10-23T12:22:18.558Z"
   },
   {
    "duration": 26,
    "start_time": "2023-10-23T12:22:18.570Z"
   },
   {
    "duration": 3,
    "start_time": "2023-10-23T12:22:18.647Z"
   },
   {
    "duration": 47,
    "start_time": "2023-10-23T12:22:18.651Z"
   },
   {
    "duration": 75,
    "start_time": "2023-10-23T12:22:18.700Z"
   },
   {
    "duration": 101,
    "start_time": "2023-10-23T12:22:18.777Z"
   },
   {
    "duration": 17,
    "start_time": "2023-10-23T12:22:18.880Z"
   },
   {
    "duration": 7,
    "start_time": "2023-10-23T12:22:18.899Z"
   },
   {
    "duration": 13,
    "start_time": "2023-10-23T12:22:18.908Z"
   },
   {
    "duration": 22,
    "start_time": "2023-10-23T12:22:18.923Z"
   },
   {
    "duration": 27,
    "start_time": "2023-10-23T12:22:18.947Z"
   },
   {
    "duration": 20,
    "start_time": "2023-10-23T12:22:18.976Z"
   },
   {
    "duration": 14,
    "start_time": "2023-10-23T12:22:18.998Z"
   },
   {
    "duration": 48,
    "start_time": "2023-10-23T12:22:19.014Z"
   },
   {
    "duration": 139,
    "start_time": "2023-10-23T12:22:19.064Z"
   },
   {
    "duration": 5,
    "start_time": "2023-10-23T12:22:19.205Z"
   },
   {
    "duration": 14,
    "start_time": "2023-10-23T12:22:19.212Z"
   },
   {
    "duration": 6,
    "start_time": "2023-10-23T12:22:19.227Z"
   },
   {
    "duration": 245,
    "start_time": "2023-10-23T12:23:05.593Z"
   },
   {
    "duration": 296,
    "start_time": "2023-10-23T13:49:00.326Z"
   },
   {
    "duration": 105,
    "start_time": "2023-10-23T13:54:11.637Z"
   },
   {
    "duration": 4,
    "start_time": "2023-10-23T13:57:15.702Z"
   },
   {
    "duration": 3,
    "start_time": "2023-10-23T13:57:49.385Z"
   },
   {
    "duration": 10,
    "start_time": "2023-10-23T13:58:24.990Z"
   },
   {
    "duration": 40,
    "start_time": "2023-10-23T14:02:57.715Z"
   },
   {
    "duration": 12,
    "start_time": "2023-10-23T14:03:06.162Z"
   },
   {
    "duration": 130,
    "start_time": "2023-10-23T14:04:05.872Z"
   },
   {
    "duration": 7,
    "start_time": "2023-10-23T14:04:12.336Z"
   },
   {
    "duration": 13,
    "start_time": "2023-10-23T14:04:16.224Z"
   },
   {
    "duration": 13,
    "start_time": "2023-10-23T14:06:16.790Z"
   },
   {
    "duration": 13,
    "start_time": "2023-10-23T14:07:44.286Z"
   },
   {
    "duration": 11,
    "start_time": "2023-10-23T14:08:13.280Z"
   },
   {
    "duration": 10,
    "start_time": "2023-10-23T14:09:17.557Z"
   },
   {
    "duration": 10,
    "start_time": "2023-10-23T14:09:28.252Z"
   },
   {
    "duration": 1409,
    "start_time": "2023-10-23T14:09:36.679Z"
   },
   {
    "duration": 670,
    "start_time": "2023-10-23T14:09:38.091Z"
   },
   {
    "duration": 4,
    "start_time": "2023-10-23T14:09:38.763Z"
   },
   {
    "duration": 34,
    "start_time": "2023-10-23T14:09:38.768Z"
   },
   {
    "duration": 8,
    "start_time": "2023-10-23T14:09:38.804Z"
   },
   {
    "duration": 13,
    "start_time": "2023-10-23T14:09:38.814Z"
   },
   {
    "duration": 9,
    "start_time": "2023-10-23T14:09:38.829Z"
   },
   {
    "duration": 69,
    "start_time": "2023-10-23T14:09:38.840Z"
   },
   {
    "duration": 17,
    "start_time": "2023-10-23T14:09:38.912Z"
   },
   {
    "duration": 5,
    "start_time": "2023-10-23T14:09:38.947Z"
   },
   {
    "duration": 394,
    "start_time": "2023-10-23T14:09:38.955Z"
   },
   {
    "duration": 341,
    "start_time": "2023-10-23T14:09:39.351Z"
   },
   {
    "duration": 11,
    "start_time": "2023-10-23T14:09:39.694Z"
   },
   {
    "duration": 19,
    "start_time": "2023-10-23T14:09:39.706Z"
   },
   {
    "duration": 62,
    "start_time": "2023-10-23T14:09:39.727Z"
   },
   {
    "duration": 61,
    "start_time": "2023-10-23T14:09:39.791Z"
   },
   {
    "duration": 26,
    "start_time": "2023-10-23T14:09:39.854Z"
   },
   {
    "duration": 12,
    "start_time": "2023-10-23T14:09:39.882Z"
   },
   {
    "duration": 14,
    "start_time": "2023-10-23T14:09:39.897Z"
   },
   {
    "duration": 36,
    "start_time": "2023-10-23T14:09:39.912Z"
   },
   {
    "duration": 33,
    "start_time": "2023-10-23T14:09:39.950Z"
   },
   {
    "duration": 6,
    "start_time": "2023-10-23T14:09:39.985Z"
   },
   {
    "duration": 70,
    "start_time": "2023-10-23T14:09:39.993Z"
   },
   {
    "duration": 21,
    "start_time": "2023-10-23T14:09:40.064Z"
   },
   {
    "duration": 22,
    "start_time": "2023-10-23T14:09:40.087Z"
   },
   {
    "duration": 24,
    "start_time": "2023-10-23T14:09:40.113Z"
   },
   {
    "duration": 13,
    "start_time": "2023-10-23T14:09:40.138Z"
   },
   {
    "duration": 16,
    "start_time": "2023-10-23T14:09:40.155Z"
   },
   {
    "duration": 27,
    "start_time": "2023-10-23T14:09:40.173Z"
   },
   {
    "duration": 209,
    "start_time": "2023-10-23T14:09:40.202Z"
   },
   {
    "duration": 15,
    "start_time": "2023-10-23T14:09:40.413Z"
   },
   {
    "duration": 109,
    "start_time": "2023-10-23T14:09:40.430Z"
   },
   {
    "duration": 515,
    "start_time": "2023-10-23T14:09:40.541Z"
   },
   {
    "duration": 184,
    "start_time": "2023-10-23T14:09:41.058Z"
   },
   {
    "duration": 19,
    "start_time": "2023-10-23T14:09:41.246Z"
   },
   {
    "duration": 8,
    "start_time": "2023-10-23T14:09:41.267Z"
   },
   {
    "duration": 20,
    "start_time": "2023-10-23T14:09:41.278Z"
   },
   {
    "duration": 273,
    "start_time": "2023-10-23T14:09:41.299Z"
   },
   {
    "duration": 17,
    "start_time": "2023-10-23T14:09:41.574Z"
   },
   {
    "duration": 218,
    "start_time": "2023-10-23T14:09:41.593Z"
   },
   {
    "duration": 16,
    "start_time": "2023-10-23T14:09:41.813Z"
   },
   {
    "duration": 27,
    "start_time": "2023-10-23T14:09:41.831Z"
   },
   {
    "duration": 4,
    "start_time": "2023-10-23T14:09:41.860Z"
   },
   {
    "duration": 359,
    "start_time": "2023-10-23T14:09:41.866Z"
   },
   {
    "duration": 289,
    "start_time": "2023-10-23T14:09:42.226Z"
   },
   {
    "duration": 3,
    "start_time": "2023-10-23T14:09:42.517Z"
   },
   {
    "duration": 26,
    "start_time": "2023-10-23T14:09:42.521Z"
   },
   {
    "duration": 158,
    "start_time": "2023-10-23T14:09:42.549Z"
   },
   {
    "duration": 11,
    "start_time": "2023-10-23T14:09:42.709Z"
   },
   {
    "duration": 54,
    "start_time": "2023-10-23T14:09:42.722Z"
   },
   {
    "duration": 11,
    "start_time": "2023-10-23T14:09:42.777Z"
   },
   {
    "duration": 17,
    "start_time": "2023-10-23T14:09:42.790Z"
   },
   {
    "duration": 173,
    "start_time": "2023-10-23T14:09:42.809Z"
   },
   {
    "duration": 22,
    "start_time": "2023-10-23T14:09:42.984Z"
   },
   {
    "duration": 89,
    "start_time": "2023-10-23T14:09:43.007Z"
   },
   {
    "duration": 50,
    "start_time": "2023-10-23T14:09:43.098Z"
   },
   {
    "duration": 13,
    "start_time": "2023-10-23T14:09:43.150Z"
   },
   {
    "duration": 19,
    "start_time": "2023-10-23T14:09:43.166Z"
   },
   {
    "duration": 7,
    "start_time": "2023-10-23T14:09:43.187Z"
   },
   {
    "duration": 13,
    "start_time": "2023-10-23T14:09:43.196Z"
   },
   {
    "duration": 17,
    "start_time": "2023-10-23T14:09:43.212Z"
   },
   {
    "duration": 5,
    "start_time": "2023-10-23T14:09:43.232Z"
   },
   {
    "duration": 15,
    "start_time": "2023-10-23T14:09:43.247Z"
   },
   {
    "duration": 24,
    "start_time": "2023-10-23T14:09:43.264Z"
   },
   {
    "duration": 20,
    "start_time": "2023-10-23T14:09:43.291Z"
   },
   {
    "duration": 11,
    "start_time": "2023-10-23T14:09:43.314Z"
   },
   {
    "duration": 10,
    "start_time": "2023-10-23T14:09:43.326Z"
   },
   {
    "duration": 36,
    "start_time": "2023-10-23T14:09:43.338Z"
   },
   {
    "duration": 41,
    "start_time": "2023-10-23T14:09:43.376Z"
   },
   {
    "duration": 10,
    "start_time": "2023-10-23T14:09:43.419Z"
   },
   {
    "duration": 21,
    "start_time": "2023-10-23T14:09:43.431Z"
   },
   {
    "duration": 19,
    "start_time": "2023-10-23T14:09:43.454Z"
   },
   {
    "duration": 7,
    "start_time": "2023-10-23T14:09:43.475Z"
   },
   {
    "duration": 19,
    "start_time": "2023-10-23T14:09:43.484Z"
   },
   {
    "duration": 14,
    "start_time": "2023-10-23T14:11:02.233Z"
   },
   {
    "duration": 11,
    "start_time": "2023-10-23T14:19:29.747Z"
   },
   {
    "duration": 133,
    "start_time": "2023-10-23T14:20:46.403Z"
   },
   {
    "duration": 11,
    "start_time": "2023-10-23T14:20:58.975Z"
   },
   {
    "duration": 11,
    "start_time": "2023-10-23T14:21:18.002Z"
   },
   {
    "duration": 3,
    "start_time": "2023-10-23T14:23:58.151Z"
   },
   {
    "duration": 4,
    "start_time": "2023-10-23T14:24:07.334Z"
   },
   {
    "duration": 3,
    "start_time": "2023-10-23T14:24:26.299Z"
   },
   {
    "duration": 3,
    "start_time": "2023-10-23T14:24:38.115Z"
   },
   {
    "duration": 3,
    "start_time": "2023-10-23T14:24:40.250Z"
   },
   {
    "duration": 3,
    "start_time": "2023-10-23T14:24:41.886Z"
   },
   {
    "duration": 4,
    "start_time": "2023-10-23T14:24:43.914Z"
   },
   {
    "duration": 5,
    "start_time": "2023-10-23T14:24:46.194Z"
   },
   {
    "duration": 4,
    "start_time": "2023-10-23T14:26:15.530Z"
   },
   {
    "duration": 3,
    "start_time": "2023-10-23T14:26:16.985Z"
   },
   {
    "duration": 4,
    "start_time": "2023-10-23T14:26:21.290Z"
   },
   {
    "duration": 6,
    "start_time": "2023-10-23T14:26:22.598Z"
   },
   {
    "duration": 5,
    "start_time": "2023-10-23T14:26:26.880Z"
   },
   {
    "duration": 4,
    "start_time": "2023-10-23T14:26:33.843Z"
   },
   {
    "duration": 3,
    "start_time": "2023-10-23T14:26:35.657Z"
   },
   {
    "duration": 3,
    "start_time": "2023-10-23T14:26:37.511Z"
   },
   {
    "duration": 5,
    "start_time": "2023-10-23T14:26:39.102Z"
   },
   {
    "duration": 5,
    "start_time": "2023-10-23T14:26:46.990Z"
   },
   {
    "duration": 1369,
    "start_time": "2023-10-23T16:45:40.396Z"
   },
   {
    "duration": 1134,
    "start_time": "2023-10-23T16:45:41.777Z"
   },
   {
    "duration": 4,
    "start_time": "2023-10-23T16:45:42.913Z"
   },
   {
    "duration": 28,
    "start_time": "2023-10-23T16:45:42.919Z"
   },
   {
    "duration": 11,
    "start_time": "2023-10-23T16:45:42.949Z"
   },
   {
    "duration": 11,
    "start_time": "2023-10-23T16:45:42.961Z"
   },
   {
    "duration": 9,
    "start_time": "2023-10-23T16:45:42.982Z"
   },
   {
    "duration": 45,
    "start_time": "2023-10-23T16:45:42.993Z"
   },
   {
    "duration": 27,
    "start_time": "2023-10-23T16:45:43.045Z"
   },
   {
    "duration": 4,
    "start_time": "2023-10-23T16:45:43.075Z"
   },
   {
    "duration": 347,
    "start_time": "2023-10-23T16:45:43.080Z"
   },
   {
    "duration": 336,
    "start_time": "2023-10-23T16:45:43.428Z"
   },
   {
    "duration": 15,
    "start_time": "2023-10-23T16:45:43.765Z"
   },
   {
    "duration": 13,
    "start_time": "2023-10-23T16:45:43.781Z"
   },
   {
    "duration": 65,
    "start_time": "2023-10-23T16:45:43.795Z"
   },
   {
    "duration": 51,
    "start_time": "2023-10-23T16:45:43.869Z"
   },
   {
    "duration": 32,
    "start_time": "2023-10-23T16:45:43.922Z"
   },
   {
    "duration": 16,
    "start_time": "2023-10-23T16:45:43.955Z"
   },
   {
    "duration": 6,
    "start_time": "2023-10-23T16:45:43.985Z"
   },
   {
    "duration": 32,
    "start_time": "2023-10-23T16:45:43.993Z"
   },
   {
    "duration": 57,
    "start_time": "2023-10-23T16:45:44.026Z"
   },
   {
    "duration": 4,
    "start_time": "2023-10-23T16:45:44.084Z"
   },
   {
    "duration": 31,
    "start_time": "2023-10-23T16:45:44.089Z"
   },
   {
    "duration": 15,
    "start_time": "2023-10-23T16:45:44.122Z"
   },
   {
    "duration": 34,
    "start_time": "2023-10-23T16:45:44.138Z"
   },
   {
    "duration": 25,
    "start_time": "2023-10-23T16:45:44.174Z"
   },
   {
    "duration": 4,
    "start_time": "2023-10-23T16:45:44.200Z"
   },
   {
    "duration": 6,
    "start_time": "2023-10-23T16:45:44.207Z"
   },
   {
    "duration": 9,
    "start_time": "2023-10-23T16:45:44.215Z"
   },
   {
    "duration": 190,
    "start_time": "2023-10-23T16:45:44.225Z"
   },
   {
    "duration": 11,
    "start_time": "2023-10-23T16:45:44.416Z"
   },
   {
    "duration": 108,
    "start_time": "2023-10-23T16:45:44.428Z"
   },
   {
    "duration": 459,
    "start_time": "2023-10-23T16:45:44.538Z"
   },
   {
    "duration": 178,
    "start_time": "2023-10-23T16:45:44.998Z"
   },
   {
    "duration": 18,
    "start_time": "2023-10-23T16:45:45.181Z"
   },
   {
    "duration": 17,
    "start_time": "2023-10-23T16:45:45.201Z"
   },
   {
    "duration": 19,
    "start_time": "2023-10-23T16:45:45.219Z"
   },
   {
    "duration": 233,
    "start_time": "2023-10-23T16:45:45.251Z"
   },
   {
    "duration": 13,
    "start_time": "2023-10-23T16:45:45.489Z"
   },
   {
    "duration": 208,
    "start_time": "2023-10-23T16:45:45.503Z"
   },
   {
    "duration": 11,
    "start_time": "2023-10-23T16:45:45.713Z"
   },
   {
    "duration": 26,
    "start_time": "2023-10-23T16:45:45.726Z"
   },
   {
    "duration": 5,
    "start_time": "2023-10-23T16:45:45.753Z"
   },
   {
    "duration": 308,
    "start_time": "2023-10-23T16:45:45.759Z"
   },
   {
    "duration": 269,
    "start_time": "2023-10-23T16:45:46.068Z"
   },
   {
    "duration": 12,
    "start_time": "2023-10-23T16:45:46.339Z"
   },
   {
    "duration": 23,
    "start_time": "2023-10-23T16:45:46.355Z"
   },
   {
    "duration": 135,
    "start_time": "2023-10-23T16:45:46.387Z"
   },
   {
    "duration": 9,
    "start_time": "2023-10-23T16:45:46.524Z"
   },
   {
    "duration": 64,
    "start_time": "2023-10-23T16:45:46.534Z"
   },
   {
    "duration": 9,
    "start_time": "2023-10-23T16:45:46.600Z"
   },
   {
    "duration": 14,
    "start_time": "2023-10-23T16:45:46.611Z"
   },
   {
    "duration": 529,
    "start_time": "2023-10-23T16:45:46.627Z"
   },
   {
    "duration": 7,
    "start_time": "2023-10-23T16:45:47.171Z"
   },
   {
    "duration": 4,
    "start_time": "2023-10-23T16:45:47.181Z"
   },
   {
    "duration": 12,
    "start_time": "2023-10-23T16:45:47.186Z"
   },
   {
    "duration": 6,
    "start_time": "2023-10-23T16:45:47.200Z"
   },
   {
    "duration": 7,
    "start_time": "2023-10-23T16:45:47.208Z"
   },
   {
    "duration": 5,
    "start_time": "2023-10-23T16:45:47.217Z"
   },
   {
    "duration": 9,
    "start_time": "2023-10-23T16:45:47.246Z"
   },
   {
    "duration": 20,
    "start_time": "2023-10-23T16:45:47.256Z"
   },
   {
    "duration": 12,
    "start_time": "2023-10-23T16:45:47.277Z"
   },
   {
    "duration": 32,
    "start_time": "2023-10-23T16:45:47.291Z"
   },
   {
    "duration": 11,
    "start_time": "2023-10-23T16:45:47.325Z"
   },
   {
    "duration": 22,
    "start_time": "2023-10-23T16:45:47.338Z"
   },
   {
    "duration": 26,
    "start_time": "2023-10-23T16:45:47.362Z"
   },
   {
    "duration": 4,
    "start_time": "2023-10-23T16:45:47.390Z"
   },
   {
    "duration": 8,
    "start_time": "2023-10-23T16:45:47.395Z"
   },
   {
    "duration": 5,
    "start_time": "2023-10-23T16:45:47.405Z"
   },
   {
    "duration": 5,
    "start_time": "2023-10-23T16:45:47.412Z"
   },
   {
    "duration": 11,
    "start_time": "2023-10-23T16:45:47.418Z"
   }
  ],
  "kernelspec": {
   "display_name": "Python 3 (ipykernel)",
   "language": "python",
   "name": "python3"
  },
  "language_info": {
   "codemirror_mode": {
    "name": "ipython",
    "version": 3
   },
   "file_extension": ".py",
   "mimetype": "text/x-python",
   "name": "python",
   "nbconvert_exporter": "python",
   "pygments_lexer": "ipython3",
   "version": "3.10.9"
  },
  "toc": {
   "base_numbering": 1,
   "nav_menu": {},
   "number_sections": true,
   "sideBar": true,
   "skip_h1_title": true,
   "title_cell": "Table of Contents",
   "title_sidebar": "Contents",
   "toc_cell": false,
   "toc_position": {
    "height": "calc(100% - 180px)",
    "left": "10px",
    "top": "150px",
    "width": "328.528px"
   },
   "toc_section_display": true,
   "toc_window_display": true
  }
 },
 "nbformat": 4,
 "nbformat_minor": 5
}
