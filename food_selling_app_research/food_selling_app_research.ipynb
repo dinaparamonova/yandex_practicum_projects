{
 "cells": [
  {
   "cell_type": "markdown",
   "metadata": {},
   "source": [
    "# Изучение воронки продаж и результатов эксперимента по смене шрифтов в приложении продуктов питания"
   ]
  },
  {
   "cell_type": "markdown",
   "metadata": {},
   "source": [
    "Исследование на данных стартапа по продаже продуктов питания в приложении.\n",
    "\n",
    "**Цель исследования** <br> \n",
    "Необходимо оценить целесообразность замены шрифтов во всем приложении.\n",
    "\n",
    "**Данные** <br>\n",
    "В нашем распоряжении логи пользователей с 2019-07-25 по 2019-08-07, а также разделение пользователей на три группы для последующего проведения экспериментов: две контрольные со старыми шрифтами и одну экспериментальную — с новыми.\n",
    "\n",
    "**Ход исследования** <br>\n",
    "Необходимо разобраться, как ведут себя пользователи мобильного приложения. \n",
    "Для этого:\n",
    "- подготовим данные, \n",
    "- оценим их качество, \n",
    "- изучим воронку продаж, \n",
    "- дадим рекомендации по проблемным местам воронки, \n",
    "- проверим гипотезы о том, как замена шрифтов в приложении повлияет на поведение пользователей и конверсию.\n",
    "\n",
    "Приступим к предобработке данных.\n"
   ]
  },
  {
   "cell_type": "markdown",
   "metadata": {},
   "source": [
    "### Изучение общей информации и подготовка данных"
   ]
  },
  {
   "cell_type": "markdown",
   "metadata": {},
   "source": [
    "Загрузим библиотеки и датафрейм, посмотрим на первые строки, изучим общую информацию."
   ]
  },
  {
   "cell_type": "code",
   "execution_count": 1,
   "metadata": {},
   "outputs": [],
   "source": [
    "import pandas as pd\n",
    "import matplotlib.pyplot as plt \n",
    "from scipy import stats as st\n",
    "import numpy as np\n",
    "import math as mth\n",
    "from scipy.stats import norm\n",
    "import datetime\n",
    "import plotly.express as px\n",
    "from plotly import graph_objects as go\n",
    "from IPython.display import Image"
   ]
  },
  {
   "cell_type": "code",
   "execution_count": 2,
   "metadata": {},
   "outputs": [
    {
     "data": {
      "text/html": [
       "<div>\n",
       "<style scoped>\n",
       "    .dataframe tbody tr th:only-of-type {\n",
       "        vertical-align: middle;\n",
       "    }\n",
       "\n",
       "    .dataframe tbody tr th {\n",
       "        vertical-align: top;\n",
       "    }\n",
       "\n",
       "    .dataframe thead th {\n",
       "        text-align: right;\n",
       "    }\n",
       "</style>\n",
       "<table border=\"1\" class=\"dataframe\">\n",
       "  <thead>\n",
       "    <tr style=\"text-align: right;\">\n",
       "      <th></th>\n",
       "      <th>EventName</th>\n",
       "      <th>DeviceIDHash</th>\n",
       "      <th>EventTimestamp</th>\n",
       "      <th>ExpId</th>\n",
       "    </tr>\n",
       "  </thead>\n",
       "  <tbody>\n",
       "    <tr>\n",
       "      <th>0</th>\n",
       "      <td>MainScreenAppear</td>\n",
       "      <td>4575588528974610257</td>\n",
       "      <td>1564029816</td>\n",
       "      <td>246</td>\n",
       "    </tr>\n",
       "    <tr>\n",
       "      <th>1</th>\n",
       "      <td>MainScreenAppear</td>\n",
       "      <td>7416695313311560658</td>\n",
       "      <td>1564053102</td>\n",
       "      <td>246</td>\n",
       "    </tr>\n",
       "    <tr>\n",
       "      <th>2</th>\n",
       "      <td>PaymentScreenSuccessful</td>\n",
       "      <td>3518123091307005509</td>\n",
       "      <td>1564054127</td>\n",
       "      <td>248</td>\n",
       "    </tr>\n",
       "    <tr>\n",
       "      <th>3</th>\n",
       "      <td>CartScreenAppear</td>\n",
       "      <td>3518123091307005509</td>\n",
       "      <td>1564054127</td>\n",
       "      <td>248</td>\n",
       "    </tr>\n",
       "    <tr>\n",
       "      <th>4</th>\n",
       "      <td>PaymentScreenSuccessful</td>\n",
       "      <td>6217807653094995999</td>\n",
       "      <td>1564055322</td>\n",
       "      <td>248</td>\n",
       "    </tr>\n",
       "  </tbody>\n",
       "</table>\n",
       "</div>"
      ],
      "text/plain": [
       "                 EventName         DeviceIDHash  EventTimestamp  ExpId\n",
       "0         MainScreenAppear  4575588528974610257      1564029816    246\n",
       "1         MainScreenAppear  7416695313311560658      1564053102    246\n",
       "2  PaymentScreenSuccessful  3518123091307005509      1564054127    248\n",
       "3         CartScreenAppear  3518123091307005509      1564054127    248\n",
       "4  PaymentScreenSuccessful  6217807653094995999      1564055322    248"
      ]
     },
     "execution_count": 2,
     "metadata": {},
     "output_type": "execute_result"
    }
   ],
   "source": [
    "logs = pd.read_csv(r'logs_exp.csv', delimiter='\\t')\n",
    "logs.head()"
   ]
  },
  {
   "cell_type": "markdown",
   "metadata": {},
   "source": [
    "Выведем необходимую первичную информацию, проверим явные дубликаты и удалим их, приведем названия столбцов к общепринятому виду. "
   ]
  },
  {
   "cell_type": "code",
   "execution_count": 3,
   "metadata": {},
   "outputs": [
    {
     "name": "stdout",
     "output_type": "stream",
     "text": [
      "Информация по таблице logs:\n",
      "**************************************************\n",
      "Количество явных дубликатов в первичной таблице logs: 413\n",
      "Все явные дубликаты удалены.\n",
      "**************************************************\n",
      "<class 'pandas.core.frame.DataFrame'>\n",
      "RangeIndex: 243713 entries, 0 to 243712\n",
      "Data columns (total 4 columns):\n",
      " #   Column          Non-Null Count   Dtype \n",
      "---  ------          --------------   ----- \n",
      " 0   EventName       243713 non-null  object\n",
      " 1   DeviceIDHash    243713 non-null  int64 \n",
      " 2   EventTimestamp  243713 non-null  int64 \n",
      " 3   ExpId           243713 non-null  int64 \n",
      "dtypes: int64(3), object(1)\n",
      "memory usage: 7.4+ MB\n"
     ]
    },
    {
     "data": {
      "text/html": [
       "<div>\n",
       "<style scoped>\n",
       "    .dataframe tbody tr th:only-of-type {\n",
       "        vertical-align: middle;\n",
       "    }\n",
       "\n",
       "    .dataframe tbody tr th {\n",
       "        vertical-align: top;\n",
       "    }\n",
       "\n",
       "    .dataframe thead th {\n",
       "        text-align: right;\n",
       "    }\n",
       "</style>\n",
       "<table border=\"1\" class=\"dataframe\">\n",
       "  <thead>\n",
       "    <tr style=\"text-align: right;\">\n",
       "      <th></th>\n",
       "      <th>event_name</th>\n",
       "      <th>device_id</th>\n",
       "      <th>event_time</th>\n",
       "      <th>exp_id</th>\n",
       "    </tr>\n",
       "  </thead>\n",
       "  <tbody>\n",
       "    <tr>\n",
       "      <th>0</th>\n",
       "      <td>MainScreenAppear</td>\n",
       "      <td>4575588528974610257</td>\n",
       "      <td>1564029816</td>\n",
       "      <td>246</td>\n",
       "    </tr>\n",
       "    <tr>\n",
       "      <th>1</th>\n",
       "      <td>MainScreenAppear</td>\n",
       "      <td>7416695313311560658</td>\n",
       "      <td>1564053102</td>\n",
       "      <td>246</td>\n",
       "    </tr>\n",
       "    <tr>\n",
       "      <th>2</th>\n",
       "      <td>PaymentScreenSuccessful</td>\n",
       "      <td>3518123091307005509</td>\n",
       "      <td>1564054127</td>\n",
       "      <td>248</td>\n",
       "    </tr>\n",
       "    <tr>\n",
       "      <th>3</th>\n",
       "      <td>CartScreenAppear</td>\n",
       "      <td>3518123091307005509</td>\n",
       "      <td>1564054127</td>\n",
       "      <td>248</td>\n",
       "    </tr>\n",
       "    <tr>\n",
       "      <th>4</th>\n",
       "      <td>PaymentScreenSuccessful</td>\n",
       "      <td>6217807653094995999</td>\n",
       "      <td>1564055322</td>\n",
       "      <td>248</td>\n",
       "    </tr>\n",
       "  </tbody>\n",
       "</table>\n",
       "</div>"
      ],
      "text/plain": [
       "                event_name            device_id  event_time  exp_id\n",
       "0         MainScreenAppear  4575588528974610257  1564029816     246\n",
       "1         MainScreenAppear  7416695313311560658  1564053102     246\n",
       "2  PaymentScreenSuccessful  3518123091307005509  1564054127     248\n",
       "3         CartScreenAppear  3518123091307005509  1564054127     248\n",
       "4  PaymentScreenSuccessful  6217807653094995999  1564055322     248"
      ]
     },
     "execution_count": 3,
     "metadata": {},
     "output_type": "execute_result"
    }
   ],
   "source": [
    "print(f'Информация по таблице logs:')\n",
    "print('*'*50)\n",
    "print(f'Количество явных дубликатов в первичной таблице logs: {logs.duplicated().sum()}')\n",
    "logs = logs.drop_duplicates().reset_index(drop=True)\n",
    "print('Все явные дубликаты удалены.')\n",
    "print('*'*50)\n",
    "logs.info()\n",
    "logs = logs.rename(columns={'EventName': 'event_name', 'DeviceIDHash': 'device_id', 'EventTimestamp': 'event_time', 'ExpId': 'exp_id'})\n",
    "logs.head()"
   ]
  },
  {
   "cell_type": "markdown",
   "metadata": {},
   "source": [
    "В таблице 4 столбца и 243 713 строк. Пропусков нет.\n",
    "\n",
    "Столбца event_time имеет неудобный формат (количество секунд, прошедших с 1 января 1970 года), приведем к типа datetime, а также добавим стобец event_date только с датой сразу после столбца с полной датой."
   ]
  },
  {
   "cell_type": "code",
   "execution_count": 4,
   "metadata": {},
   "outputs": [],
   "source": [
    "logs['event_time'] = logs['event_time'].apply(lambda x: datetime.datetime.fromtimestamp(x))\n",
    "logs['event_date'] = logs['event_time'].dt.date\n",
    "logs['event_date'] = pd.to_datetime(logs['event_date'])\n",
    "logs = logs.reindex(columns=['event_name', 'device_id', 'event_time', 'event_date', 'exp_id'])"
   ]
  },
  {
   "cell_type": "code",
   "execution_count": 5,
   "metadata": {},
   "outputs": [
    {
     "data": {
      "text/html": [
       "<div>\n",
       "<style scoped>\n",
       "    .dataframe tbody tr th:only-of-type {\n",
       "        vertical-align: middle;\n",
       "    }\n",
       "\n",
       "    .dataframe tbody tr th {\n",
       "        vertical-align: top;\n",
       "    }\n",
       "\n",
       "    .dataframe thead th {\n",
       "        text-align: right;\n",
       "    }\n",
       "</style>\n",
       "<table border=\"1\" class=\"dataframe\">\n",
       "  <thead>\n",
       "    <tr style=\"text-align: right;\">\n",
       "      <th></th>\n",
       "      <th>event_name</th>\n",
       "      <th>device_id</th>\n",
       "      <th>event_time</th>\n",
       "      <th>event_date</th>\n",
       "      <th>exp_id</th>\n",
       "    </tr>\n",
       "  </thead>\n",
       "  <tbody>\n",
       "    <tr>\n",
       "      <th>0</th>\n",
       "      <td>MainScreenAppear</td>\n",
       "      <td>4575588528974610257</td>\n",
       "      <td>2019-07-25 07:43:36</td>\n",
       "      <td>2019-07-25</td>\n",
       "      <td>246</td>\n",
       "    </tr>\n",
       "    <tr>\n",
       "      <th>1</th>\n",
       "      <td>MainScreenAppear</td>\n",
       "      <td>7416695313311560658</td>\n",
       "      <td>2019-07-25 14:11:42</td>\n",
       "      <td>2019-07-25</td>\n",
       "      <td>246</td>\n",
       "    </tr>\n",
       "    <tr>\n",
       "      <th>2</th>\n",
       "      <td>PaymentScreenSuccessful</td>\n",
       "      <td>3518123091307005509</td>\n",
       "      <td>2019-07-25 14:28:47</td>\n",
       "      <td>2019-07-25</td>\n",
       "      <td>248</td>\n",
       "    </tr>\n",
       "    <tr>\n",
       "      <th>3</th>\n",
       "      <td>CartScreenAppear</td>\n",
       "      <td>3518123091307005509</td>\n",
       "      <td>2019-07-25 14:28:47</td>\n",
       "      <td>2019-07-25</td>\n",
       "      <td>248</td>\n",
       "    </tr>\n",
       "    <tr>\n",
       "      <th>4</th>\n",
       "      <td>PaymentScreenSuccessful</td>\n",
       "      <td>6217807653094995999</td>\n",
       "      <td>2019-07-25 14:48:42</td>\n",
       "      <td>2019-07-25</td>\n",
       "      <td>248</td>\n",
       "    </tr>\n",
       "  </tbody>\n",
       "</table>\n",
       "</div>"
      ],
      "text/plain": [
       "                event_name            device_id          event_time  \\\n",
       "0         MainScreenAppear  4575588528974610257 2019-07-25 07:43:36   \n",
       "1         MainScreenAppear  7416695313311560658 2019-07-25 14:11:42   \n",
       "2  PaymentScreenSuccessful  3518123091307005509 2019-07-25 14:28:47   \n",
       "3         CartScreenAppear  3518123091307005509 2019-07-25 14:28:47   \n",
       "4  PaymentScreenSuccessful  6217807653094995999 2019-07-25 14:48:42   \n",
       "\n",
       "  event_date  exp_id  \n",
       "0 2019-07-25     246  \n",
       "1 2019-07-25     246  \n",
       "2 2019-07-25     248  \n",
       "3 2019-07-25     248  \n",
       "4 2019-07-25     248  "
      ]
     },
     "execution_count": 5,
     "metadata": {},
     "output_type": "execute_result"
    }
   ],
   "source": [
    "logs.head()"
   ]
  },
  {
   "cell_type": "markdown",
   "metadata": {},
   "source": [
    "Структура таблицы:\n",
    "\n",
    "- `event_name` — название события,\n",
    "- `device_id` — уникальный идентификатор пользователя,\n",
    "- `event_time` —  дата и время события,\n",
    "- `event_date` —  дата события,\n",
    "- `exp_id` — номер эксперимента: 246 и 247 — контрольные группы, а 248 — экспериментальная."
   ]
  },
  {
   "cell_type": "markdown",
   "metadata": {},
   "source": [
    "Предобработка данных окончена: таблица имеет читабельный вид и нужные для дальнейшего анализа столбцы в нужных форматах, явные дубликаты удалены. Переходим к изучению самих данных."
   ]
  },
  {
   "cell_type": "markdown",
   "metadata": {},
   "source": [
    "### Анализ временных данных"
   ]
  },
  {
   "cell_type": "markdown",
   "metadata": {},
   "source": [
    "Посмотрим, данными за какой период мы располагаем."
   ]
  },
  {
   "cell_type": "code",
   "execution_count": 6,
   "metadata": {},
   "outputs": [
    {
     "name": "stdout",
     "output_type": "stream",
     "text": [
      "Данные собраны за период с 2019-07-25 00:00:00 по 2019-08-08 00:00:00.\n"
     ]
    }
   ],
   "source": [
    "d1 = logs['event_date'].min()\n",
    "d2 = logs['event_date'].max()\n",
    "print(f'Данные собраны за период с {d1} по {d2}.')"
   ]
  },
  {
   "cell_type": "markdown",
   "metadata": {},
   "source": [
    "Изучим, как меняется количество данных в зависимости от времени."
   ]
  },
  {
   "cell_type": "code",
   "execution_count": 7,
   "metadata": {},
   "outputs": [
    {
     "data": {
      "text/plain": [
       "2019-07-25        9\n",
       "2019-07-26       30\n",
       "2019-07-27       55\n",
       "2019-07-28      104\n",
       "2019-07-29      181\n",
       "2019-07-30      397\n",
       "2019-07-31     1213\n",
       "2019-08-01    35767\n",
       "2019-08-02    35571\n",
       "2019-08-03    33602\n",
       "2019-08-04    32583\n",
       "2019-08-05    36075\n",
       "2019-08-06    36270\n",
       "2019-08-07    31788\n",
       "2019-08-08       68\n",
       "Name: event_date, dtype: int64"
      ]
     },
     "execution_count": 7,
     "metadata": {},
     "output_type": "execute_result"
    }
   ],
   "source": [
    "logs['event_date'].value_counts().sort_index(ascending=True)"
   ]
  },
  {
   "cell_type": "code",
   "execution_count": 8,
   "metadata": {},
   "outputs": [
    {
     "data": {
      "image/png": "[encoded data removed]",
      "text/plain": [
       "<Figure size 640x480 with 1 Axes>"
      ]
     },
     "metadata": {},
     "output_type": "display_data"
    }
   ],
   "source": [
    "logs['event_date'].value_counts().sort_index(ascending=True).plot(kind='bar')\n",
    "plt.title('Количество событий по датам')\n",
    "plt.xlabel('Дата')\n",
    "plt.ylabel('Количество')\n",
    "plt.grid()\n",
    "plt.show()"
   ]
  },
  {
   "cell_type": "markdown",
   "metadata": {},
   "source": [
    "Судя по тому, что начиная с 1 августа держится примерно одинаковое количество событий, а в период до 1 августа событий несравнимо меньше, можно сделать вывод, что данные до 1 августа неполные. \n",
    "\n",
    "Посмотрим на данные не только по дате, но и по времени:"
   ]
  },
  {
   "cell_type": "code",
   "execution_count": 9,
   "metadata": {},
   "outputs": [
    {
     "data": {
      "image/png": "[encoded data removed]",
      "text/plain": [
       "<Figure size 1400x500 with 1 Axes>"
      ]
     },
     "metadata": {},
     "output_type": "display_data"
    }
   ],
   "source": [
    "logs['event_time'].hist(bins=336, figsize=(14, 5))\n",
    "plt.grid(True)\n",
    "plt.title('Количество событий по датам')\n",
    "plt.xlabel('Дата')\n",
    "plt.ylabel('Количество')\n",
    "plt.show()"
   ]
  },
  {
   "cell_type": "markdown",
   "metadata": {},
   "source": [
    "Видим, что в ночные часы активности не много, в основном все события происходят днем."
   ]
  },
  {
   "cell_type": "markdown",
   "metadata": {},
   "source": [
    "Посмотрим на данные переходного периода - 31 июля и 1 августа."
   ]
  },
  {
   "cell_type": "code",
   "execution_count": 10,
   "metadata": {},
   "outputs": [
    {
     "data": {
      "image/png": "[encoded data removed]",
      "text/plain": [
       "<Figure size 1400x500 with 1 Axes>"
      ]
     },
     "metadata": {},
     "output_type": "display_data"
    }
   ],
   "source": [
    "logs[(logs['event_time'] > '2019.07.31 00:00:00') & (logs['event_time'] < '2019.08.02 00:00:00')]['event_time'].hist(bins=48, figsize=(14, 5))\n",
    "plt.grid(True)\n",
    "plt.title('Количество событий 31 июля и 1 августа')\n",
    "plt.xlabel('Дата')\n",
    "plt.ylabel('Количество')\n",
    "plt.show()"
   ]
  },
  {
   "cell_type": "markdown",
   "metadata": {},
   "source": [
    "Видим, что тест был запущен в районе 21 часа 31 июля. В это время начинается всплеск на графике, далее он ведет себя равномерно по датам и времени."
   ]
  },
  {
   "cell_type": "markdown",
   "metadata": {},
   "source": [
    "Посчитаем сколько всего событий в нашем логе и количество уникальных пользователей до удаления данных."
   ]
  },
  {
   "cell_type": "code",
   "execution_count": 11,
   "metadata": {},
   "outputs": [
    {
     "name": "stdout",
     "output_type": "stream",
     "text": [
      "Количество событий в логе: 243713\n"
     ]
    }
   ],
   "source": [
    "shape1 = logs.shape[0]\n",
    "print(f'Количество событий в логе: {shape1}')"
   ]
  },
  {
   "cell_type": "code",
   "execution_count": 12,
   "metadata": {},
   "outputs": [
    {
     "name": "stdout",
     "output_type": "stream",
     "text": [
      "Количество уникальных событий в логе: 5\n"
     ]
    }
   ],
   "source": [
    "unique1 = logs['event_name'].nunique()\n",
    "print(f'Количество уникальных событий в логе: {unique1}')"
   ]
  },
  {
   "cell_type": "code",
   "execution_count": 13,
   "metadata": {},
   "outputs": [
    {
     "name": "stdout",
     "output_type": "stream",
     "text": [
      "Количество уникальных пользователей в логе: 7551\n"
     ]
    }
   ],
   "source": [
    "unique_users1 = logs['device_id'].nunique()\n",
    "print(f'Количество уникальных пользователей в логе: {unique_users1}')"
   ]
  },
  {
   "cell_type": "markdown",
   "metadata": {},
   "source": [
    "Чтобы понять, сколько уникальных событий приходится на пользователя, создадим таблицу с количеством событий каждого юзера и посмотрим на их распределение."
   ]
  },
  {
   "cell_type": "code",
   "execution_count": 14,
   "metadata": {},
   "outputs": [
    {
     "data": {
      "text/html": [
       "<div>\n",
       "<style scoped>\n",
       "    .dataframe tbody tr th:only-of-type {\n",
       "        vertical-align: middle;\n",
       "    }\n",
       "\n",
       "    .dataframe tbody tr th {\n",
       "        vertical-align: top;\n",
       "    }\n",
       "\n",
       "    .dataframe thead th {\n",
       "        text-align: right;\n",
       "    }\n",
       "</style>\n",
       "<table border=\"1\" class=\"dataframe\">\n",
       "  <thead>\n",
       "    <tr style=\"text-align: right;\">\n",
       "      <th></th>\n",
       "      <th>device_id</th>\n",
       "      <th>number_of_events</th>\n",
       "    </tr>\n",
       "  </thead>\n",
       "  <tbody>\n",
       "    <tr>\n",
       "      <th>0</th>\n",
       "      <td>6888746892508752</td>\n",
       "      <td>1</td>\n",
       "    </tr>\n",
       "    <tr>\n",
       "      <th>1</th>\n",
       "      <td>6909561520679493</td>\n",
       "      <td>5</td>\n",
       "    </tr>\n",
       "    <tr>\n",
       "      <th>2</th>\n",
       "      <td>6922444491712477</td>\n",
       "      <td>47</td>\n",
       "    </tr>\n",
       "    <tr>\n",
       "      <th>3</th>\n",
       "      <td>7435777799948366</td>\n",
       "      <td>6</td>\n",
       "    </tr>\n",
       "    <tr>\n",
       "      <th>4</th>\n",
       "      <td>7702139951469979</td>\n",
       "      <td>137</td>\n",
       "    </tr>\n",
       "  </tbody>\n",
       "</table>\n",
       "</div>"
      ],
      "text/plain": [
       "          device_id  number_of_events\n",
       "0  6888746892508752                 1\n",
       "1  6909561520679493                 5\n",
       "2  6922444491712477                47\n",
       "3  7435777799948366                 6\n",
       "4  7702139951469979               137"
      ]
     },
     "execution_count": 14,
     "metadata": {},
     "output_type": "execute_result"
    }
   ],
   "source": [
    "events_by_users = (\n",
    "    logs\n",
    "    .groupby('device_id')\n",
    "    .agg({'event_name': 'count'})\n",
    "    .rename(columns={'event_name':'number_of_events'})\n",
    "    .reset_index()\n",
    ")\n",
    "events_by_users.head()"
   ]
  },
  {
   "cell_type": "code",
   "execution_count": 15,
   "metadata": {},
   "outputs": [
    {
     "data": {
      "text/plain": [
       "count    7551.000000\n",
       "mean       32.275593\n",
       "std        65.154219\n",
       "min         1.000000\n",
       "25%         9.000000\n",
       "50%        20.000000\n",
       "75%        37.000000\n",
       "max      2307.000000\n",
       "Name: number_of_events, dtype: float64"
      ]
     },
     "execution_count": 15,
     "metadata": {},
     "output_type": "execute_result"
    }
   ],
   "source": [
    "events_by_users['number_of_events'].describe()"
   ]
  },
  {
   "cell_type": "markdown",
   "metadata": {},
   "source": [
    "Таким образом, на грязных данных на одного пользователя приходится в среднем 32 события, медиана - 20 событий на человека."
   ]
  },
  {
   "cell_type": "markdown",
   "metadata": {},
   "source": [
    "Построим диаграмму рассеивания, чтобы посмотреть на выбросы."
   ]
  },
  {
   "cell_type": "code",
   "execution_count": 16,
   "metadata": {},
   "outputs": [
    {
     "data": {
      "image/png": "[encoded data removed]",
      "text/plain": [
       "<Figure size 640x480 with 1 Axes>"
      ]
     },
     "metadata": {},
     "output_type": "display_data"
    }
   ],
   "source": [
    "plt.scatter(events_by_users['device_id'], events_by_users['number_of_events'])\n",
    "plt.grid(True)\n",
    "plt.title('Диаграмма рассеивания событий')\n",
    "plt.xlabel('Пользователь')\n",
    "plt.ylabel('Количество событий')\n",
    "plt.show()"
   ]
  },
  {
   "cell_type": "markdown",
   "metadata": {},
   "source": [
    "Видим небольшое количество выбросов. Посчитам 95 и 99 перцентиль."
   ]
  },
  {
   "cell_type": "code",
   "execution_count": 17,
   "metadata": {},
   "outputs": [
    {
     "data": {
      "text/plain": [
       "array([ 89. , 200.5])"
      ]
     },
     "execution_count": 17,
     "metadata": {},
     "output_type": "execute_result"
    }
   ],
   "source": [
    "np.percentile(events_by_users['number_of_events'], [95, 99])"
   ]
  },
  {
   "cell_type": "markdown",
   "metadata": {},
   "source": [
    "До 5% покупателей оформляли больше, чем 89 заказов. И только 1% пользователей оформлял заказ более 200 раз. \n",
    "Отбросим всех пользователей, которые сделали более 200 заказов."
   ]
  },
  {
   "cell_type": "code",
   "execution_count": 18,
   "metadata": {},
   "outputs": [],
   "source": [
    "list_of_strange_users = events_by_users.loc[events_by_users['number_of_events'] > 200, 'device_id'].tolist()"
   ]
  },
  {
   "cell_type": "markdown",
   "metadata": {},
   "source": [
    "Удалим из нашей таблицы logs всех юзеров из листа list_of_strange_users."
   ]
  },
  {
   "cell_type": "code",
   "execution_count": 19,
   "metadata": {},
   "outputs": [],
   "source": [
    "logs = logs[~logs['device_id'].isin(list_of_strange_users)]"
   ]
  },
  {
   "cell_type": "markdown",
   "metadata": {},
   "source": [
    "Также отбросим все данные до 1 августа, так как они могут исказить картину."
   ]
  },
  {
   "cell_type": "code",
   "execution_count": 20,
   "metadata": {},
   "outputs": [],
   "source": [
    "logs = logs[logs['event_date'] > '2019-07-31']"
   ]
  },
  {
   "cell_type": "code",
   "execution_count": 21,
   "metadata": {},
   "outputs": [
    {
     "name": "stdout",
     "output_type": "stream",
     "text": [
      "Данные собраны за период с 2019-08-01 00:00:00 по 2019-08-08 00:00:00.\n"
     ]
    }
   ],
   "source": [
    "d1 = logs['event_date'].min()\n",
    "d2 = logs['event_date'].max()\n",
    "print(f'Данные собраны за период с {d1} по {d2}.')"
   ]
  },
  {
   "cell_type": "markdown",
   "metadata": {},
   "source": [
    "Проверим, как изменилось количество событий, пользователей, и среднее количество событий на пользователя после удаления."
   ]
  },
  {
   "cell_type": "code",
   "execution_count": 22,
   "metadata": {},
   "outputs": [
    {
     "name": "stdout",
     "output_type": "stream",
     "text": [
      "В логе стало на 14.91% меньше событий.\n"
     ]
    }
   ],
   "source": [
    "shape2 = logs.shape[0]\n",
    "print(f'В логе стало на {100-shape2/shape1*100:.2f}% меньше событий.')"
   ]
  },
  {
   "cell_type": "code",
   "execution_count": 23,
   "metadata": {},
   "outputs": [
    {
     "name": "stdout",
     "output_type": "stream",
     "text": [
      "Количество уникальных событий в логе: 5\n",
      "Количество уникальных событий не изменилось.\n"
     ]
    }
   ],
   "source": [
    "unique2 = logs['event_name'].nunique()\n",
    "print(f'Количество уникальных событий в логе: {unique1}')\n",
    "\n",
    "if unique2 == unique1:\n",
    "    print('Количество уникальных событий не изменилось.')"
   ]
  },
  {
   "cell_type": "code",
   "execution_count": 24,
   "metadata": {},
   "outputs": [
    {
     "name": "stdout",
     "output_type": "stream",
     "text": [
      "В логе стало на 1.2% меньше уникальных пользователей.\n"
     ]
    }
   ],
   "source": [
    "unique_users2 = logs['device_id'].nunique()\n",
    "print(f'В логе стало на {100-unique_users2/unique_users1*100:.1f}% меньше уникальных пользователей.')"
   ]
  },
  {
   "cell_type": "code",
   "execution_count": 25,
   "metadata": {},
   "outputs": [
    {
     "data": {
      "text/plain": [
       "count    7462.000000\n",
       "mean       27.789601\n",
       "std        27.727438\n",
       "min         1.000000\n",
       "25%         9.000000\n",
       "50%        19.000000\n",
       "75%        36.000000\n",
       "max       199.000000\n",
       "Name: number_of_events, dtype: float64"
      ]
     },
     "execution_count": 25,
     "metadata": {},
     "output_type": "execute_result"
    }
   ],
   "source": [
    "events_by_users2 = (\n",
    "    logs\n",
    "    .groupby('device_id')\n",
    "    .agg({'event_name': 'count'})\n",
    "    .rename(columns={'event_name':'number_of_events'})\n",
    "    .reset_index()\n",
    ")\n",
    "events_by_users2['number_of_events'].describe()"
   ]
  },
  {
   "cell_type": "markdown",
   "metadata": {},
   "source": [
    "Таким образом, на очищенных данных на одного пользователя приходится в среднем 28 событий, медиана - 19 событий на человека."
   ]
  },
  {
   "cell_type": "markdown",
   "metadata": {},
   "source": [
    "Провели очистку данных. Теперь проверим, есть ли в данных пользователи из всех трёх экспериментальных групп."
   ]
  },
  {
   "cell_type": "code",
   "execution_count": 26,
   "metadata": {},
   "outputs": [
    {
     "data": {
      "image/png": "[encoded data removed]",
      "text/plain": [
       "<Figure size 640x480 with 1 Axes>"
      ]
     },
     "metadata": {},
     "output_type": "display_data"
    }
   ],
   "source": [
    "logs['exp_id'].value_counts().plot(kind='bar')\n",
    "plt.title('Количество событий в каждой группе')\n",
    "plt.xlabel('Номер эксперимента')\n",
    "plt.ylabel('Количество')\n",
    "plt.grid()\n",
    "plt.show()"
   ]
  },
  {
   "cell_type": "markdown",
   "metadata": {},
   "source": [
    "В каждой группе примерно одинаковое количество событий. Переходим к анализу воронки продаж."
   ]
  },
  {
   "cell_type": "markdown",
   "metadata": {},
   "source": [
    "### Анализ воронки продаж"
   ]
  },
  {
   "cell_type": "markdown",
   "metadata": {},
   "source": [
    "Посмотрим на воронку продаж в разрезе всех событий и в разрезе уникальных пользователей. Сначала посмотрим на все события лога."
   ]
  },
  {
   "cell_type": "code",
   "execution_count": 27,
   "metadata": {},
   "outputs": [
    {
     "data": {
      "text/plain": [
       "MainScreenAppear           113801\n",
       "OffersScreenAppear          41113\n",
       "CartScreenAppear            29279\n",
       "PaymentScreenSuccessful     22187\n",
       "Tutorial                      986\n",
       "Name: event_name, dtype: int64"
      ]
     },
     "execution_count": 27,
     "metadata": {},
     "output_type": "execute_result"
    }
   ],
   "source": [
    "counts = logs['event_name'].value_counts()\n",
    "counts"
   ]
  },
  {
   "cell_type": "markdown",
   "metadata": {},
   "source": [
    "Видим 5 последовательных событий воронки продаж:\n",
    "    \n",
    "- `MainScreenAppear` — главный экран,\n",
    "- `OffersScreenAppear` — предложения,\n",
    "- `CartScreenAppear` —  корзина,\n",
    "- `PaymentScreenSuccessful` —  успешная оплата,\n",
    "- `Tutorial` — инструкция."
   ]
  },
  {
   "cell_type": "code",
   "execution_count": 28,
   "metadata": {},
   "outputs": [
    {
     "data": {
      "image/png": "[encoded data removed]",
      "text/plain": [
       "<Figure size 640x480 with 1 Axes>"
      ]
     },
     "metadata": {},
     "output_type": "display_data"
    }
   ],
   "source": [
    "logs['event_name'].value_counts().plot(kind='bar')\n",
    "plt.title('Количество id на каждом событии воронки')\n",
    "plt.xlabel('Количество')\n",
    "plt.ylabel('Событие')\n",
    "plt.xticks(rotation=60)\n",
    "plt.grid()\n",
    "plt.show()"
   ]
  },
  {
   "cell_type": "code",
   "execution_count": 29,
   "metadata": {},
   "outputs": [
    {
     "data": {
      "text/plain": [
       "MainScreenAppear             NaN\n",
       "OffersScreenAppear         36.13\n",
       "CartScreenAppear           71.22\n",
       "PaymentScreenSuccessful    75.78\n",
       "Tutorial                    4.44\n",
       "Name: event_name, dtype: float64"
      ]
     },
     "execution_count": 29,
     "metadata": {},
     "output_type": "execute_result"
    }
   ],
   "source": [
    "counts_pers = counts/counts.shift(1)*100\n",
    "counts_pers.round(2)"
   ]
  },
  {
   "cell_type": "markdown",
   "metadata": {},
   "source": [
    "Из 113 тыс показов главного экрана только 36% (примерно 40 тыс) дошли до просмотра предложений, далее 71% (29 тыс) перешел на следующий этап (просмотр корзины), 75% (22 тыс) оформили покупку, и далее всего 4,5% из них (980 человек) дошли до чтения инструкций."
   ]
  },
  {
   "cell_type": "markdown",
   "metadata": {},
   "source": [
    "Построим график распределения событий по дням."
   ]
  },
  {
   "cell_type": "code",
   "execution_count": 30,
   "metadata": {},
   "outputs": [
    {
     "data": {
      "image/png": "[encoded data removed]",
      "text/plain": [
       "<Figure size 1000x500 with 1 Axes>"
      ]
     },
     "metadata": {},
     "output_type": "display_data"
    }
   ],
   "source": [
    "events = logs.pivot_table(index='event_date', columns='event_name', values='device_id', aggfunc=('count'))\n",
    "events.plot(kind='line', figsize=(10, 5))\n",
    "ax = plt.gca()\n",
    "ax.set_xlim([18109, 18115]) #формат количества дней с 1 января 1970 года\n",
    "plt.ylabel('День эксперимента')\n",
    "plt.ylabel('Кол-во событий в день')\n",
    "plt.title('Кол-во событий по категориям в день')\n",
    "plt.legend(loc='center right')\n",
    "plt.grid()\n",
    "plt.show()"
   ]
  },
  {
   "cell_type": "markdown",
   "metadata": {},
   "source": [
    "Видим, что на главную страницу пользователи заходили неравномерно: 3 , 4 и 7 августа было меньше посещений. Это может быть связанно с днями недели, праздниками, с техническими проблемами в приложении, либо с нашими рекламными кампаниями, которые могли повысить посещаемость в другие дни.\n",
    "\n",
    "Остальные события распределены по дням равномерно."
   ]
  },
  {
   "cell_type": "markdown",
   "metadata": {},
   "source": [
    "Проведем расчеты и построение воронки продаж по уникальным пользователям. Для этого создадим сводную таблицу."
   ]
  },
  {
   "cell_type": "code",
   "execution_count": 31,
   "metadata": {},
   "outputs": [
    {
     "data": {
      "text/plain": [
       "event_name\n",
       "MainScreenAppear           7348\n",
       "OffersScreenAppear         4521\n",
       "CartScreenAppear           3660\n",
       "PaymentScreenSuccessful    3464\n",
       "Tutorial                    827\n",
       "dtype: int64"
      ]
     },
     "execution_count": 31,
     "metadata": {},
     "output_type": "execute_result"
    }
   ],
   "source": [
    "pivot_users = logs.pivot_table(index = 'device_id', columns = 'event_name', values = 'event_date', aggfunc='first').count()\n",
    "pivot = pivot_users.sort_values(ascending = False)\n",
    "pivot"
   ]
  },
  {
   "cell_type": "code",
   "execution_count": 32,
   "metadata": {},
   "outputs": [
    {
     "data": {
      "text/plain": [
       "event_name\n",
       "MainScreenAppear             NaN\n",
       "OffersScreenAppear         61.53\n",
       "CartScreenAppear           80.96\n",
       "PaymentScreenSuccessful    94.64\n",
       "Tutorial                   23.87\n",
       "dtype: float64"
      ]
     },
     "execution_count": 32,
     "metadata": {},
     "output_type": "execute_result"
    }
   ],
   "source": [
    "counts_pers_un = pivot/pivot.shift(1)*100\n",
    "counts_pers_un.round(2)"
   ]
  },
  {
   "cell_type": "markdown",
   "metadata": {},
   "source": [
    "Итак, мы видим, что значительная часть потенциальных покупателей (почти 40%) не переходят с главной страницы на страницу с предложениями. Рекомендации для маркетологов настроить вид этой страницы так, чтобы возможность перехода на страницы с предложениями стала заметнее для пользователе. Чтобы пользователи видели этот переход (кнопку, ссылку) и хотели его произвести.\n",
    "\n",
    "Среди тех, кто увидел предложения, 80% что-то положили в корзину, это хороший показатель. Очевидно, нам есть что предложить покупателям, и у них есть желание это приобрести.\n",
    "\n",
    "На этапе оплаты исчезает 6% пользователей. Соотественно, мы можем попробовать напомнить им о том, что в корзине есть товары.\n",
    "\n",
    "Инструкции же мало кто читает. Если это важная составляющая нашего бизнеса, то необходимо понять, что происходит на этом этапе и почему люди не хотят (или не могут) ее прочитать.\n",
    "\n",
    "Чтение туториала не является часть воронки, поэтому построим график воронки без него."
   ]
  },
  {
   "cell_type": "code",
   "execution_count": 33,
   "metadata": {},
   "outputs": [
    {
     "data": {
      "image/jpeg": "[encoded data removed]",
      "text/plain": [
       "<IPython.core.display.Image object>"
      ]
     },
     "execution_count": 33,
     "metadata": {},
     "output_type": "execute_result"
    }
   ],
   "source": [
    "data1 = dict(\n",
    "    number=pivot[0:4],\n",
    "    События=[\"MainScreenAppear\", \"OffersScreenAppear\", \"CartScreenAppear\", \"PaymentScreenSuccessful\"])\n",
    "fig = px.funnel(data1, x='number', y='События')\n",
    "fig.update_layout(title=\"График воронки продаж\")\n",
    "\n",
    "Image(\"воронка.jpg\")"
   ]
  },
  {
   "cell_type": "markdown",
   "metadata": {},
   "source": [
    "Также посчитаем конверсию из посетителя в покупателя."
   ]
  },
  {
   "cell_type": "code",
   "execution_count": 34,
   "metadata": {},
   "outputs": [
    {
     "data": {
      "text/plain": [
       "3464"
      ]
     },
     "execution_count": 34,
     "metadata": {},
     "output_type": "execute_result"
    }
   ],
   "source": [
    "number_of_unique_success = logs[logs['event_name'] == 'PaymentScreenSuccessful']['device_id'].nunique()\n",
    "number_of_unique_success"
   ]
  },
  {
   "cell_type": "code",
   "execution_count": 35,
   "metadata": {},
   "outputs": [
    {
     "name": "stdout",
     "output_type": "stream",
     "text": [
      "Конверсия из просмотра страницы в покупку по уникальным пользователям составляет 46.42%\n"
     ]
    }
   ],
   "source": [
    "success = number_of_unique_success / unique_users2\n",
    "print(f'Конверсия из просмотра страницы в покупку по уникальным пользователям составляет {success*100:.2f}%')"
   ]
  },
  {
   "cell_type": "markdown",
   "metadata": {},
   "source": [
    "### Изучение результатов A/A/B-эксперимента"
   ]
  },
  {
   "cell_type": "markdown",
   "metadata": {},
   "source": [
    "Был проведен эксперимент по замене шрифтов во всем приложении. Пользователей поделили на три группы: 248 — экспериментальная группа, 246 и 247 — контрольные.\n"
   ]
  },
  {
   "cell_type": "markdown",
   "metadata": {},
   "source": [
    "Как мы выяснили ранее, в каждой из наших трех групп попало примерно одинаковое количество событий:"
   ]
  },
  {
   "cell_type": "code",
   "execution_count": 36,
   "metadata": {},
   "outputs": [
    {
     "data": {
      "text/plain": [
       "248    71188\n",
       "247    68545\n",
       "246    67633\n",
       "Name: exp_id, dtype: int64"
      ]
     },
     "execution_count": 36,
     "metadata": {},
     "output_type": "execute_result"
    }
   ],
   "source": [
    "logs['exp_id'].value_counts()"
   ]
  },
  {
   "cell_type": "markdown",
   "metadata": {},
   "source": [
    "Посмотрим, сколько уникальных пользователей попало в каждую группу."
   ]
  },
  {
   "cell_type": "code",
   "execution_count": 37,
   "metadata": {},
   "outputs": [
    {
     "data": {
      "text/plain": [
       "exp_id\n",
       "246    2456\n",
       "247    2495\n",
       "248    2511\n",
       "Name: device_id, dtype: int64"
      ]
     },
     "execution_count": 37,
     "metadata": {},
     "output_type": "execute_result"
    }
   ],
   "source": [
    "logs.groupby('exp_id')['device_id'].nunique()"
   ]
  },
  {
   "cell_type": "code",
   "execution_count": 38,
   "metadata": {},
   "outputs": [
    {
     "data": {
      "image/png": "[encoded data removed]",
      "text/plain": [
       "<Figure size 640x480 with 1 Axes>"
      ]
     },
     "metadata": {},
     "output_type": "display_data"
    }
   ],
   "source": [
    "logs.groupby('exp_id')['device_id'].nunique().plot(kind='bar')\n",
    "plt.title('Количество уникальных пользователей в каждой группе')\n",
    "plt.xlabel('Номер эксперимента')\n",
    "plt.ylabel('Количество')\n",
    "plt.grid()\n",
    "plt.show()"
   ]
  },
  {
   "cell_type": "markdown",
   "metadata": {},
   "source": [
    "Уникальные пользователи распределились тоже равномерно."
   ]
  },
  {
   "cell_type": "markdown",
   "metadata": {},
   "source": [
    "Проверим, есть ли пользователи, попавших сразу в несколько экспериментальных групп."
   ]
  },
  {
   "cell_type": "code",
   "execution_count": 39,
   "metadata": {},
   "outputs": [
    {
     "data": {
      "text/html": [
       "<div>\n",
       "<style scoped>\n",
       "    .dataframe tbody tr th:only-of-type {\n",
       "        vertical-align: middle;\n",
       "    }\n",
       "\n",
       "    .dataframe tbody tr th {\n",
       "        vertical-align: top;\n",
       "    }\n",
       "\n",
       "    .dataframe thead th {\n",
       "        text-align: right;\n",
       "    }\n",
       "</style>\n",
       "<table border=\"1\" class=\"dataframe\">\n",
       "  <thead>\n",
       "    <tr style=\"text-align: right;\">\n",
       "      <th></th>\n",
       "      <th>exp_id</th>\n",
       "    </tr>\n",
       "    <tr>\n",
       "      <th>device_id</th>\n",
       "      <th></th>\n",
       "    </tr>\n",
       "  </thead>\n",
       "  <tbody>\n",
       "    <tr>\n",
       "      <th>6888746892508752</th>\n",
       "      <td>1</td>\n",
       "    </tr>\n",
       "    <tr>\n",
       "      <th>6208308869477863893</th>\n",
       "      <td>1</td>\n",
       "    </tr>\n",
       "    <tr>\n",
       "      <th>6221557117339142225</th>\n",
       "      <td>1</td>\n",
       "    </tr>\n",
       "    <tr>\n",
       "      <th>6217807653094995999</th>\n",
       "      <td>1</td>\n",
       "    </tr>\n",
       "    <tr>\n",
       "      <th>6217295124800833842</th>\n",
       "      <td>1</td>\n",
       "    </tr>\n",
       "  </tbody>\n",
       "</table>\n",
       "</div>"
      ],
      "text/plain": [
       "                     exp_id\n",
       "device_id                  \n",
       "6888746892508752          1\n",
       "6208308869477863893       1\n",
       "6221557117339142225       1\n",
       "6217807653094995999       1\n",
       "6217295124800833842       1"
      ]
     },
     "execution_count": 39,
     "metadata": {},
     "output_type": "execute_result"
    }
   ],
   "source": [
    "logs.groupby(['device_id']).agg({'exp_id': 'nunique'}).sort_values(by = 'exp_id', ascending = False).head()"
   ]
  },
  {
   "cell_type": "markdown",
   "metadata": {},
   "source": [
    "Пользователи были распределены равномерно, попавших в несколько экспериментальных групп - нет."
   ]
  },
  {
   "cell_type": "markdown",
   "metadata": {},
   "source": [
    "Далее мы проведем несколько двусторонних тестов для определения статистической значимости  различий в 2-х группах."
   ]
  },
  {
   "cell_type": "markdown",
   "metadata": {},
   "source": [
    "Назначим уровень статистический значимости 0.05.  Таким образом вероятность ошибки первого рода (отклонение верной нулевой гипотезы) будет составлять 5%. Будет проводиться двусторонний тест.\n",
    "\n",
    "Создадим функцию:"
   ]
  },
  {
   "cell_type": "code",
   "execution_count": 40,
   "metadata": {},
   "outputs": [],
   "source": [
    "def stat_func(successes, trials):\n",
    "    alpha = 0.05\n",
    "    p1 = successes[0] / trials[0] # пропорция успехов в первой группе\n",
    "    p2 = successes[1] / trials[1] # пропорция успехов во второй группе\n",
    "    print(successes[0], successes[1], trials[0], trials[1])\n",
    "    p_combined = (successes[0] + successes[1]) / (trials[0] + trials[1]) # пропорцию успехов в комбинированном датасете\n",
    "    difference = p1 - p2 # разница пропорций в датасетах\n",
    "    z_value = difference / mth.sqrt(p_combined * (1 - p_combined) * (1 / trials[0] + 1 / trials[1])) # считаем статистику в ст.отклонениях стандартного нормального распределения\n",
    "    distr = st.norm(0, 1)  # задаем стандартное нормальное распределение (среднее 0, ст.отклонение 1)\n",
    "    p_value = (1 - distr.cdf(abs(z_value))) * 2\n",
    "    if p_value < alpha:\n",
    "        print('Отвергаем нулевую гипотезу: между долями есть значимая разница')\n",
    "    else:\n",
    "        print('Не получилось отвергнуть нулевую гипотезу, нет оснований считать доли разными')\n",
    "        print('p-значение: ', p_value.round(2))\n",
    "    return p_value"
   ]
  },
  {
   "cell_type": "markdown",
   "metadata": {},
   "source": [
    "Переходим к проверке гипотез.\n",
    "\n",
    "Сформулируем их:\n",
    "\n",
    "H0 - две генеральные совокупности равны, \n",
    "H1 (альтернативная гипотеза) - между генеральными совокупностями есть отличие."
   ]
  },
  {
   "cell_type": "markdown",
   "metadata": {},
   "source": [
    "#### Проверка результатов А/A-эксперимента (246, 247 - контрольные группы)"
   ]
  },
  {
   "cell_type": "markdown",
   "metadata": {},
   "source": [
    "У нас есть две контрольные группы для А/А-эксперимента. Проверим, находят ли статистические критерии разницу между выборками 246 и 247 для проверить корректности всех механизмов и расчётов."
   ]
  },
  {
   "cell_type": "markdown",
   "metadata": {},
   "source": [
    "Делаем срез данных по контрольным группам и проверяем количество уникальных пользователей, совершивших действие, в каждой группе."
   ]
  },
  {
   "cell_type": "code",
   "execution_count": 41,
   "metadata": {},
   "outputs": [
    {
     "data": {
      "text/html": [
       "<div>\n",
       "<style scoped>\n",
       "    .dataframe tbody tr th:only-of-type {\n",
       "        vertical-align: middle;\n",
       "    }\n",
       "\n",
       "    .dataframe tbody tr th {\n",
       "        vertical-align: top;\n",
       "    }\n",
       "\n",
       "    .dataframe thead th {\n",
       "        text-align: right;\n",
       "    }\n",
       "</style>\n",
       "<table border=\"1\" class=\"dataframe\">\n",
       "  <thead>\n",
       "    <tr style=\"text-align: right;\">\n",
       "      <th>exp_id</th>\n",
       "      <th>246</th>\n",
       "      <th>247</th>\n",
       "    </tr>\n",
       "    <tr>\n",
       "      <th>event_name</th>\n",
       "      <th></th>\n",
       "      <th></th>\n",
       "    </tr>\n",
       "  </thead>\n",
       "  <tbody>\n",
       "    <tr>\n",
       "      <th>CartScreenAppear</th>\n",
       "      <td>1238</td>\n",
       "      <td>1217</td>\n",
       "    </tr>\n",
       "    <tr>\n",
       "      <th>MainScreenAppear</th>\n",
       "      <td>2423</td>\n",
       "      <td>2457</td>\n",
       "    </tr>\n",
       "    <tr>\n",
       "      <th>OffersScreenAppear</th>\n",
       "      <td>1514</td>\n",
       "      <td>1502</td>\n",
       "    </tr>\n",
       "    <tr>\n",
       "      <th>PaymentScreenSuccessful</th>\n",
       "      <td>1172</td>\n",
       "      <td>1136</td>\n",
       "    </tr>\n",
       "    <tr>\n",
       "      <th>Tutorial</th>\n",
       "      <td>269</td>\n",
       "      <td>280</td>\n",
       "    </tr>\n",
       "  </tbody>\n",
       "</table>\n",
       "</div>"
      ],
      "text/plain": [
       "exp_id                    246   247\n",
       "event_name                         \n",
       "CartScreenAppear         1238  1217\n",
       "MainScreenAppear         2423  2457\n",
       "OffersScreenAppear       1514  1502\n",
       "PaymentScreenSuccessful  1172  1136\n",
       "Tutorial                  269   280"
      ]
     },
     "metadata": {},
     "output_type": "display_data"
    }
   ],
   "source": [
    "groups = [246, 247] \n",
    "data_for_aa = logs.query('exp_id in @groups') \n",
    "data_for_aa_pivot = data_for_aa.pivot_table(index = 'event_name', columns = 'exp_id', values = 'device_id', aggfunc=('nunique'))\n",
    "display(data_for_aa_pivot)"
   ]
  },
  {
   "cell_type": "markdown",
   "metadata": {},
   "source": [
    "Создаем цикл для подачи аргументов в функцию и проверяем результаты:"
   ]
  },
  {
   "cell_type": "code",
   "execution_count": 42,
   "metadata": {},
   "outputs": [
    {
     "name": "stdout",
     "output_type": "stream",
     "text": [
      "1238 1217 2484 2513\n",
      "Не получилось отвергнуть нулевую гипотезу, нет оснований считать доли разными\n",
      "p-значение:  0.32\n",
      "2423 2457 2484 2513\n",
      "Не получилось отвергнуть нулевую гипотезу, нет оснований считать доли разными\n",
      "p-значение:  0.6\n",
      "1514 1502 2484 2513\n",
      "Не получилось отвергнуть нулевую гипотезу, нет оснований считать доли разными\n",
      "p-значение:  0.39\n",
      "1172 1136 2484 2513\n",
      "Не получилось отвергнуть нулевую гипотезу, нет оснований считать доли разными\n",
      "p-значение:  0.16\n",
      "269 280 2484 2513\n",
      "Не получилось отвергнуть нулевую гипотезу, нет оснований считать доли разными\n",
      "p-значение:  0.72\n"
     ]
    }
   ],
   "source": [
    "for event_name in data_for_aa_pivot.index:\n",
    "    trials = np.array([2484, 2513])\n",
    "    success = list([data_for_aa_pivot.loc[event_name, 246], data_for_aa_pivot.loc[event_name, 247]])\n",
    "    stat_func(success, trials)"
   ]
  },
  {
   "cell_type": "markdown",
   "metadata": {},
   "source": [
    "Тест не показал статистических различий между двумя выборками-контрольными группами генеральной совокупности. "
   ]
  },
  {
   "cell_type": "markdown",
   "metadata": {},
   "source": [
    "#### Проверка результатов А/В-эксперимента (246 - контрольная, 248 - тестовая)"
   ]
  },
  {
   "cell_type": "markdown",
   "metadata": {},
   "source": [
    "Делаем срез данных по контрольным группам и проверяем количество уникальных пользователей, совершивших действие, в каждой группе."
   ]
  },
  {
   "cell_type": "code",
   "execution_count": 43,
   "metadata": {},
   "outputs": [
    {
     "data": {
      "text/html": [
       "<div>\n",
       "<style scoped>\n",
       "    .dataframe tbody tr th:only-of-type {\n",
       "        vertical-align: middle;\n",
       "    }\n",
       "\n",
       "    .dataframe tbody tr th {\n",
       "        vertical-align: top;\n",
       "    }\n",
       "\n",
       "    .dataframe thead th {\n",
       "        text-align: right;\n",
       "    }\n",
       "</style>\n",
       "<table border=\"1\" class=\"dataframe\">\n",
       "  <thead>\n",
       "    <tr style=\"text-align: right;\">\n",
       "      <th>exp_id</th>\n",
       "      <th>246</th>\n",
       "      <th>248</th>\n",
       "    </tr>\n",
       "    <tr>\n",
       "      <th>event_name</th>\n",
       "      <th></th>\n",
       "      <th></th>\n",
       "    </tr>\n",
       "  </thead>\n",
       "  <tbody>\n",
       "    <tr>\n",
       "      <th>CartScreenAppear</th>\n",
       "      <td>1238</td>\n",
       "      <td>1205</td>\n",
       "    </tr>\n",
       "    <tr>\n",
       "      <th>MainScreenAppear</th>\n",
       "      <td>2423</td>\n",
       "      <td>2468</td>\n",
       "    </tr>\n",
       "    <tr>\n",
       "      <th>OffersScreenAppear</th>\n",
       "      <td>1514</td>\n",
       "      <td>1505</td>\n",
       "    </tr>\n",
       "    <tr>\n",
       "      <th>PaymentScreenSuccessful</th>\n",
       "      <td>1172</td>\n",
       "      <td>1156</td>\n",
       "    </tr>\n",
       "    <tr>\n",
       "      <th>Tutorial</th>\n",
       "      <td>269</td>\n",
       "      <td>278</td>\n",
       "    </tr>\n",
       "  </tbody>\n",
       "</table>\n",
       "</div>"
      ],
      "text/plain": [
       "exp_id                    246   248\n",
       "event_name                         \n",
       "CartScreenAppear         1238  1205\n",
       "MainScreenAppear         2423  2468\n",
       "OffersScreenAppear       1514  1505\n",
       "PaymentScreenSuccessful  1172  1156\n",
       "Tutorial                  269   278"
      ]
     },
     "metadata": {},
     "output_type": "display_data"
    }
   ],
   "source": [
    "groups = [246, 248] \n",
    "data_for_ab1 = logs.query('exp_id in @groups') \n",
    "data_for_ab1_pivot = data_for_ab1.pivot_table(index = 'event_name', columns = 'exp_id', values = 'device_id', aggfunc=('nunique'))\n",
    "display(data_for_ab1_pivot)"
   ]
  },
  {
   "cell_type": "markdown",
   "metadata": {},
   "source": [
    "Создаем цикл для подачи аргументов в функцию и проверяем результаты:"
   ]
  },
  {
   "cell_type": "code",
   "execution_count": 44,
   "metadata": {},
   "outputs": [
    {
     "name": "stdout",
     "output_type": "stream",
     "text": [
      "1238 1205 2484 2537\n",
      "Не получилось отвергнуть нулевую гипотезу, нет оснований считать доли разными\n",
      "p-значение:  0.1\n",
      "2423 2468 2484 2537\n",
      "Не получилось отвергнуть нулевую гипотезу, нет оснований считать доли разными\n",
      "p-значение:  0.56\n",
      "1514 1505 2484 2537\n",
      "Не получилось отвергнуть нулевую гипотезу, нет оснований считать доли разными\n",
      "p-значение:  0.24\n",
      "1172 1156 2484 2537\n",
      "Не получилось отвергнуть нулевую гипотезу, нет оснований считать доли разными\n",
      "p-значение:  0.25\n",
      "269 278 2484 2537\n",
      "Не получилось отвергнуть нулевую гипотезу, нет оснований считать доли разными\n",
      "p-значение:  0.88\n"
     ]
    }
   ],
   "source": [
    "for event_name in data_for_ab1_pivot.index:\n",
    "    trials = np.array([2484, 2537])\n",
    "    success = list([data_for_ab1_pivot.loc[event_name, 246], data_for_ab1_pivot.loc[event_name, 248]])\n",
    "    stat_func(success, trials)"
   ]
  },
  {
   "cell_type": "markdown",
   "metadata": {},
   "source": [
    "Тест не показал статистических различий между двумя выборками (контрольной и экспериментальной группами) генеральной совокупности."
   ]
  },
  {
   "cell_type": "markdown",
   "metadata": {},
   "source": [
    "#### Проверка результатов А/В-эксперимента (247 - контрольная, 248 - тестовая)"
   ]
  },
  {
   "cell_type": "markdown",
   "metadata": {},
   "source": [
    "Делаем срез данных по контрольным группам и проверяем количество уникальных пользователей, совершивших действие, в каждой группе."
   ]
  },
  {
   "cell_type": "code",
   "execution_count": 45,
   "metadata": {},
   "outputs": [
    {
     "data": {
      "text/html": [
       "<div>\n",
       "<style scoped>\n",
       "    .dataframe tbody tr th:only-of-type {\n",
       "        vertical-align: middle;\n",
       "    }\n",
       "\n",
       "    .dataframe tbody tr th {\n",
       "        vertical-align: top;\n",
       "    }\n",
       "\n",
       "    .dataframe thead th {\n",
       "        text-align: right;\n",
       "    }\n",
       "</style>\n",
       "<table border=\"1\" class=\"dataframe\">\n",
       "  <thead>\n",
       "    <tr style=\"text-align: right;\">\n",
       "      <th>exp_id</th>\n",
       "      <th>247</th>\n",
       "      <th>248</th>\n",
       "    </tr>\n",
       "    <tr>\n",
       "      <th>event_name</th>\n",
       "      <th></th>\n",
       "      <th></th>\n",
       "    </tr>\n",
       "  </thead>\n",
       "  <tbody>\n",
       "    <tr>\n",
       "      <th>CartScreenAppear</th>\n",
       "      <td>1217</td>\n",
       "      <td>1205</td>\n",
       "    </tr>\n",
       "    <tr>\n",
       "      <th>MainScreenAppear</th>\n",
       "      <td>2457</td>\n",
       "      <td>2468</td>\n",
       "    </tr>\n",
       "    <tr>\n",
       "      <th>OffersScreenAppear</th>\n",
       "      <td>1502</td>\n",
       "      <td>1505</td>\n",
       "    </tr>\n",
       "    <tr>\n",
       "      <th>PaymentScreenSuccessful</th>\n",
       "      <td>1136</td>\n",
       "      <td>1156</td>\n",
       "    </tr>\n",
       "    <tr>\n",
       "      <th>Tutorial</th>\n",
       "      <td>280</td>\n",
       "      <td>278</td>\n",
       "    </tr>\n",
       "  </tbody>\n",
       "</table>\n",
       "</div>"
      ],
      "text/plain": [
       "exp_id                    247   248\n",
       "event_name                         \n",
       "CartScreenAppear         1217  1205\n",
       "MainScreenAppear         2457  2468\n",
       "OffersScreenAppear       1502  1505\n",
       "PaymentScreenSuccessful  1136  1156\n",
       "Tutorial                  280   278"
      ]
     },
     "metadata": {},
     "output_type": "display_data"
    }
   ],
   "source": [
    "groups = [247, 248] \n",
    "data_for_ab2 = logs.query('exp_id in @groups') \n",
    "data_for_ab2_pivot = data_for_ab2.pivot_table(index = 'event_name', columns = 'exp_id', values = 'device_id', aggfunc=('nunique'))\n",
    "display(data_for_ab2_pivot)"
   ]
  },
  {
   "cell_type": "markdown",
   "metadata": {},
   "source": [
    "Создаем цикл для подачи аргументов в функцию и проверяем результаты:"
   ]
  },
  {
   "cell_type": "code",
   "execution_count": 46,
   "metadata": {},
   "outputs": [
    {
     "name": "stdout",
     "output_type": "stream",
     "text": [
      "1217 1205 2513 2537\n",
      "Не получилось отвергнуть нулевую гипотезу, нет оснований считать доли разными\n",
      "p-значение:  0.51\n",
      "2457 2468 2513 2537\n",
      "Не получилось отвергнуть нулевую гипотезу, нет оснований считать доли разными\n",
      "p-значение:  0.26\n",
      "1502 1505 2513 2537\n",
      "Не получилось отвергнуть нулевую гипотезу, нет оснований считать доли разными\n",
      "p-значение:  0.75\n",
      "1136 1156 2513 2537\n",
      "Не получилось отвергнуть нулевую гипотезу, нет оснований считать доли разными\n",
      "p-значение:  0.8\n",
      "280 278 2513 2537\n",
      "Не получилось отвергнуть нулевую гипотезу, нет оснований считать доли разными\n",
      "p-значение:  0.83\n"
     ]
    }
   ],
   "source": [
    "for event_name in data_for_ab2_pivot.index:\n",
    "    trials = np.array([2513, 2537])\n",
    "    success = list([data_for_ab2_pivot.loc[event_name, 247], data_for_ab2_pivot.loc[event_name, 248]])\n",
    "    stat_func(success, trials)"
   ]
  },
  {
   "cell_type": "markdown",
   "metadata": {},
   "source": [
    "Тест не показал статистических различий между двумя выборками (контрольной и экспериментальной группами) генеральной совокупности."
   ]
  },
  {
   "cell_type": "markdown",
   "metadata": {},
   "source": [
    "#### Проверка результатов (А+A)/В-эксперимента (246+247 - контрольная, 248 - тестовая)"
   ]
  },
  {
   "cell_type": "markdown",
   "metadata": {},
   "source": [
    "Делаем срез данных по контрольным группам и проверяем количество уникальных пользователей, совершивших действие, в каждой группе. Просуммируем результаты двух контрольных групп."
   ]
  },
  {
   "cell_type": "code",
   "execution_count": 47,
   "metadata": {},
   "outputs": [
    {
     "data": {
      "text/html": [
       "<div>\n",
       "<style scoped>\n",
       "    .dataframe tbody tr th:only-of-type {\n",
       "        vertical-align: middle;\n",
       "    }\n",
       "\n",
       "    .dataframe tbody tr th {\n",
       "        vertical-align: top;\n",
       "    }\n",
       "\n",
       "    .dataframe thead th {\n",
       "        text-align: right;\n",
       "    }\n",
       "</style>\n",
       "<table border=\"1\" class=\"dataframe\">\n",
       "  <thead>\n",
       "    <tr style=\"text-align: right;\">\n",
       "      <th>exp_id</th>\n",
       "      <th>A+A</th>\n",
       "      <th>248</th>\n",
       "    </tr>\n",
       "    <tr>\n",
       "      <th>event_name</th>\n",
       "      <th></th>\n",
       "      <th></th>\n",
       "    </tr>\n",
       "  </thead>\n",
       "  <tbody>\n",
       "    <tr>\n",
       "      <th>CartScreenAppear</th>\n",
       "      <td>2455</td>\n",
       "      <td>1205</td>\n",
       "    </tr>\n",
       "    <tr>\n",
       "      <th>MainScreenAppear</th>\n",
       "      <td>4880</td>\n",
       "      <td>2468</td>\n",
       "    </tr>\n",
       "    <tr>\n",
       "      <th>OffersScreenAppear</th>\n",
       "      <td>3016</td>\n",
       "      <td>1505</td>\n",
       "    </tr>\n",
       "    <tr>\n",
       "      <th>PaymentScreenSuccessful</th>\n",
       "      <td>2308</td>\n",
       "      <td>1156</td>\n",
       "    </tr>\n",
       "    <tr>\n",
       "      <th>Tutorial</th>\n",
       "      <td>549</td>\n",
       "      <td>278</td>\n",
       "    </tr>\n",
       "  </tbody>\n",
       "</table>\n",
       "</div>"
      ],
      "text/plain": [
       "exp_id                    A+A   248\n",
       "event_name                         \n",
       "CartScreenAppear         2455  1205\n",
       "MainScreenAppear         4880  2468\n",
       "OffersScreenAppear       3016  1505\n",
       "PaymentScreenSuccessful  2308  1156\n",
       "Tutorial                  549   278"
      ]
     },
     "metadata": {},
     "output_type": "display_data"
    }
   ],
   "source": [
    "data_for_aab_pivot = logs.pivot_table(index = 'event_name', columns = 'exp_id', values = 'device_id', aggfunc=('nunique'))\n",
    "\n",
    "data_for_aab_pivot['A+A'] = data_for_aab_pivot[246] + data_for_aab_pivot[247]\n",
    "\n",
    "display(data_for_aab_pivot[['A+A', 248]])"
   ]
  },
  {
   "cell_type": "markdown",
   "metadata": {},
   "source": [
    "Создаем цикл для подачи аргументов в функцию и проверяем результаты:"
   ]
  },
  {
   "cell_type": "code",
   "execution_count": 48,
   "metadata": {},
   "outputs": [
    {
     "name": "stdout",
     "output_type": "stream",
     "text": [
      "2455 1205 4997 2537\n",
      "Не получилось отвергнуть нулевую гипотезу, нет оснований считать доли разными\n",
      "p-значение:  0.18\n",
      "4880 2468 4997 2537\n",
      "Не получилось отвергнуть нулевую гипотезу, нет оснований считать доли разными\n",
      "p-значение:  0.32\n",
      "3016 1505 4997 2537\n",
      "Не получилось отвергнуть нулевую гипотезу, нет оснований считать доли разными\n",
      "p-значение:  0.39\n",
      "2308 1156 4997 2537\n",
      "Не получилось отвергнуть нулевую гипотезу, нет оснований считать доли разными\n",
      "p-значение:  0.61\n",
      "549 278 4997 2537\n",
      "Не получилось отвергнуть нулевую гипотезу, нет оснований считать доли разными\n",
      "p-значение:  0.97\n"
     ]
    }
   ],
   "source": [
    "for event_name in data_for_aab_pivot.index:\n",
    "    trials = np.array([4997, 2537])\n",
    "    success = list([data_for_aab_pivot.loc[event_name, 'A+A'], data_for_aab_pivot.loc[event_name, 248]])\n",
    "    stat_func(success, trials)"
   ]
  },
  {
   "cell_type": "markdown",
   "metadata": {},
   "source": [
    "Тест не показал статистических различий между двумя выборками (суммарной контрольной и экспериментальной группами) генеральной совокупности."
   ]
  },
  {
   "cell_type": "markdown",
   "metadata": {},
   "source": [
    "#### Поправка Бонферрони "
   ]
  },
  {
   "cell_type": "markdown",
   "metadata": {},
   "source": [
    "Вероятность получения ложного срабатывания возрастает при проведении нескольких проверок гипотез. Мы провели сразу четыре проверки, поэтому можно воспользоваться поправкой Бонферрони. \n",
    "\n",
    "Уровень статистической значимости с учетом поправки:"
   ]
  },
  {
   "cell_type": "code",
   "execution_count": 49,
   "metadata": {},
   "outputs": [
    {
     "name": "stdout",
     "output_type": "stream",
     "text": [
      "Новый уровень стат. значимости с учетом поправки: 0.0125\n"
     ]
    }
   ],
   "source": [
    "print(f'Новый уровень стат. значимости с учетом поправки: {0.05/4}')"
   ]
  },
  {
   "cell_type": "markdown",
   "metadata": {},
   "source": [
    "При проведении теста с учетом поправки результаты не изменились. Оставляем общепринятый уровень 0.05."
   ]
  },
  {
   "cell_type": "markdown",
   "metadata": {},
   "source": [
    "#### Выводы по результатам проведения тестов"
   ]
  },
  {
   "cell_type": "markdown",
   "metadata": {},
   "source": [
    "По результатам всех четырех проведенных тестов различий между выборками не обнаружено.  Мы можем остановить проведение теста и сделать выводы, что изменение шрифтов не оказывает влияния на поведение пользователей и не влияет на конверсию.\n",
    "\n",
    "Мы использовали уровень статистической значимости 0,05 (общепринятый стандартный уровень), но также провели тесты с учетом поправки Бонферрони с уровнем стат. значимости 0.0125. Результаты не отличаются. "
   ]
  },
  {
   "cell_type": "markdown",
   "metadata": {},
   "source": [
    "### Выводы"
   ]
  },
  {
   "cell_type": "markdown",
   "metadata": {},
   "source": [
    "Было проведено исследование на данных логов приложения по продаже продуктов питания. \n",
    "\n",
    "На первом этапе мы провели предобработку данных, удалили дубликаты, поменяли типы данных, добавили необходимые для дальнейшего анализа столбцы. Итоговая таблица имеет 5 столбцов: название события, id пользователя, дата события со временем, дата события и номер эксперимента (246 и 247 — контрольные группы, а 248 — экспериментальная). \n",
    "\n",
    "Также мы увидели, что не все данные в логах адекватны и полны и отбросили неполную часть. В результате мы оставили данные за неделю с 1 по 7 августа 2019 года. Также были отброшены пользователи, находящиеся в 99-перцентиле по количеству заказов (паталогически высокое количество заказов за период).\n",
    "\n",
    "Далее мы изучили воронку продаж. Полный цикл действий пользователя выглядит так: главный экран - чтение предложений - корзина - успешная оплата - чтение инструкций. С главного экрана до предложений не доходить примерно 40% пользователей, на следующем этапе (корзина) мы теряем еще 20% пользователей, далее 94% из них оформляют покупку, и всего 24% доходят до чтения инструкций.\n",
    "\n",
    "Конверсию из посетителя в покупателя составляет 46%.\n",
    "\n",
    "В рекомендация для отдела маркетинга: сделать заметнее кнопку с предложениями и активнее стимулировать людей переходить в них. Также стоит напоминать о лежащих в корзинах продуктах. Для технической поддержки запрос разобраться, почему всего 24% доходит до инструкций, вероятно, существует какая-то техническая проблема.\n",
    "\n",
    "Далее мы переходим к проверке статистических гипотез. Нам нужно понять, стоит ли вкладывать деньги в замену шрифтов во всем приложении. Мы провели 4 статистических теста: тест для оценки двух контрольных групп, два теста для сравнения контролных и экспериментальной группы и тест для суммарной контрольной группы с экспериментальной.\n",
    "\n",
    "Провели эти тесты с двумя уровнями статистической значимости: общепринятой 0.05 и с поправкой Бонферрони 0.0125.\n",
    "\n",
    "Ни один из проведенных тестов не смог отвергнуть нулевую гипотезу, которая гласила, что две генеральные совокупности равны.\n",
    "\n",
    "Таким образом, мы сделали вывод, что замена шрифтов не влияет на поведение пользователей и финансирование в эту идею не имеет смысла."
   ]
  }
 ],
 "metadata": {
  "ExecuteTimeLog": [
   {
    "duration": 1542,
    "start_time": "2023-08-29T08:18:59.599Z"
   },
   {
    "duration": 637,
    "start_time": "2023-08-29T08:23:08.994Z"
   },
   {
    "duration": 3,
    "start_time": "2023-08-29T08:23:11.134Z"
   },
   {
    "duration": 24,
    "start_time": "2023-08-29T08:23:43.958Z"
   },
   {
    "duration": 342,
    "start_time": "2023-08-29T08:24:00.013Z"
   },
   {
    "duration": 176,
    "start_time": "2023-08-29T08:24:42.858Z"
   },
   {
    "duration": 22,
    "start_time": "2023-08-29T08:24:45.357Z"
   },
   {
    "duration": 170,
    "start_time": "2023-08-29T08:25:01.715Z"
   },
   {
    "duration": 4,
    "start_time": "2023-08-29T08:26:34.807Z"
   },
   {
    "duration": 82,
    "start_time": "2023-08-29T08:26:53.638Z"
   },
   {
    "duration": 4,
    "start_time": "2023-08-29T08:54:42.602Z"
   },
   {
    "duration": 4,
    "start_time": "2023-08-29T08:58:57.098Z"
   },
   {
    "duration": 20,
    "start_time": "2023-08-29T08:59:07.947Z"
   },
   {
    "duration": 74,
    "start_time": "2023-08-29T08:59:33.523Z"
   },
   {
    "duration": 1204,
    "start_time": "2023-08-29T09:00:09.750Z"
   },
   {
    "duration": 98,
    "start_time": "2023-08-29T09:01:05.407Z"
   },
   {
    "duration": 95,
    "start_time": "2023-08-29T09:01:21.726Z"
   },
   {
    "duration": 1250,
    "start_time": "2023-08-29T09:02:13.691Z"
   },
   {
    "duration": 198,
    "start_time": "2023-08-29T09:02:14.943Z"
   },
   {
    "duration": 119,
    "start_time": "2023-08-29T09:02:15.143Z"
   },
   {
    "duration": 107,
    "start_time": "2023-08-29T09:02:36.350Z"
   },
   {
    "duration": 111,
    "start_time": "2023-08-29T09:02:45.818Z"
   },
   {
    "duration": 1208,
    "start_time": "2023-08-29T09:03:02.098Z"
   },
   {
    "duration": 185,
    "start_time": "2023-08-29T09:03:03.308Z"
   },
   {
    "duration": 107,
    "start_time": "2023-08-29T09:03:03.495Z"
   },
   {
    "duration": 173,
    "start_time": "2023-08-29T09:06:23.849Z"
   },
   {
    "duration": 155,
    "start_time": "2023-08-29T09:06:33.377Z"
   },
   {
    "duration": 151,
    "start_time": "2023-08-29T09:07:12.669Z"
   },
   {
    "duration": 1162,
    "start_time": "2023-08-29T09:07:25.466Z"
   },
   {
    "duration": 189,
    "start_time": "2023-08-29T09:07:26.630Z"
   },
   {
    "duration": 184,
    "start_time": "2023-08-29T09:07:26.821Z"
   },
   {
    "duration": 310,
    "start_time": "2023-08-29T09:07:27.007Z"
   },
   {
    "duration": 160,
    "start_time": "2023-08-29T09:07:44.901Z"
   },
   {
    "duration": 231,
    "start_time": "2023-08-29T09:07:55.537Z"
   },
   {
    "duration": 152,
    "start_time": "2023-08-29T09:08:09.293Z"
   },
   {
    "duration": 1603,
    "start_time": "2023-08-29T09:08:15.032Z"
   },
   {
    "duration": 195,
    "start_time": "2023-08-29T09:08:16.638Z"
   },
   {
    "duration": 199,
    "start_time": "2023-08-29T09:08:16.835Z"
   },
   {
    "duration": 89,
    "start_time": "2023-08-29T09:08:17.036Z"
   },
   {
    "duration": 90,
    "start_time": "2023-08-29T09:09:39.767Z"
   },
   {
    "duration": 46,
    "start_time": "2023-08-29T09:19:39.163Z"
   },
   {
    "duration": 22,
    "start_time": "2023-08-29T09:19:47.682Z"
   },
   {
    "duration": 117,
    "start_time": "2023-08-29T09:21:42.771Z"
   },
   {
    "duration": 1171,
    "start_time": "2023-08-29T09:22:01.172Z"
   },
   {
    "duration": 205,
    "start_time": "2023-08-29T09:22:02.346Z"
   },
   {
    "duration": 189,
    "start_time": "2023-08-29T09:22:02.552Z"
   },
   {
    "duration": 163,
    "start_time": "2023-08-29T09:22:02.746Z"
   },
   {
    "duration": 21,
    "start_time": "2023-08-29T09:22:13.960Z"
   },
   {
    "duration": 1419,
    "start_time": "2023-08-29T09:23:27.914Z"
   },
   {
    "duration": 1542,
    "start_time": "2023-08-29T09:23:38.506Z"
   },
   {
    "duration": 1127,
    "start_time": "2023-08-29T09:23:58.491Z"
   },
   {
    "duration": 185,
    "start_time": "2023-08-29T09:23:59.620Z"
   },
   {
    "duration": 190,
    "start_time": "2023-08-29T09:23:59.807Z"
   },
   {
    "duration": 201,
    "start_time": "2023-08-29T09:23:59.998Z"
   },
   {
    "duration": 25,
    "start_time": "2023-08-29T09:24:14.601Z"
   },
   {
    "duration": 13,
    "start_time": "2023-08-29T09:24:23.733Z"
   },
   {
    "duration": 1133,
    "start_time": "2023-08-29T09:33:53.493Z"
   },
   {
    "duration": 1160,
    "start_time": "2023-08-29T09:34:08.525Z"
   },
   {
    "duration": 1231,
    "start_time": "2023-08-29T09:35:32.108Z"
   },
   {
    "duration": 1120,
    "start_time": "2023-08-29T09:35:41.705Z"
   },
   {
    "duration": 183,
    "start_time": "2023-08-29T09:35:42.827Z"
   },
   {
    "duration": 185,
    "start_time": "2023-08-29T09:35:43.012Z"
   },
   {
    "duration": 1354,
    "start_time": "2023-08-29T09:35:43.199Z"
   },
   {
    "duration": 0,
    "start_time": "2023-08-29T09:35:44.554Z"
   },
   {
    "duration": 1089,
    "start_time": "2023-08-29T09:35:58.069Z"
   },
   {
    "duration": 1223,
    "start_time": "2023-08-29T09:41:45.883Z"
   },
   {
    "duration": 1174,
    "start_time": "2023-08-29T09:42:24.786Z"
   },
   {
    "duration": 209,
    "start_time": "2023-08-29T09:42:25.962Z"
   },
   {
    "duration": 207,
    "start_time": "2023-08-29T09:42:26.174Z"
   },
   {
    "duration": 218,
    "start_time": "2023-08-29T09:42:26.383Z"
   },
   {
    "duration": 22,
    "start_time": "2023-08-29T09:42:26.603Z"
   },
   {
    "duration": 1237,
    "start_time": "2023-08-29T09:43:10.199Z"
   },
   {
    "duration": 1161,
    "start_time": "2023-08-29T09:43:21.177Z"
   },
   {
    "duration": 185,
    "start_time": "2023-08-29T09:43:22.340Z"
   },
   {
    "duration": 193,
    "start_time": "2023-08-29T09:43:22.526Z"
   },
   {
    "duration": 212,
    "start_time": "2023-08-29T09:43:22.721Z"
   },
   {
    "duration": 28,
    "start_time": "2023-08-29T09:43:22.935Z"
   },
   {
    "duration": 9,
    "start_time": "2023-08-29T09:44:06.235Z"
   },
   {
    "duration": 1169,
    "start_time": "2023-08-29T09:44:26.646Z"
   },
   {
    "duration": 1260,
    "start_time": "2023-08-29T09:44:33.672Z"
   },
   {
    "duration": 184,
    "start_time": "2023-08-29T09:44:34.934Z"
   },
   {
    "duration": 196,
    "start_time": "2023-08-29T09:44:35.119Z"
   },
   {
    "duration": 257,
    "start_time": "2023-08-29T09:44:35.318Z"
   },
   {
    "duration": 10,
    "start_time": "2023-08-29T09:44:35.577Z"
   },
   {
    "duration": 1471,
    "start_time": "2023-08-29T09:46:13.010Z"
   },
   {
    "duration": 1171,
    "start_time": "2023-08-29T09:46:27.862Z"
   },
   {
    "duration": 188,
    "start_time": "2023-08-29T09:46:29.035Z"
   },
   {
    "duration": 187,
    "start_time": "2023-08-29T09:46:29.226Z"
   },
   {
    "duration": 1609,
    "start_time": "2023-08-29T09:46:29.416Z"
   },
   {
    "duration": 0,
    "start_time": "2023-08-29T09:46:31.027Z"
   },
   {
    "duration": 1253,
    "start_time": "2023-08-29T09:47:07.796Z"
   },
   {
    "duration": 1185,
    "start_time": "2023-08-29T09:47:17.541Z"
   },
   {
    "duration": 187,
    "start_time": "2023-08-29T09:47:18.728Z"
   },
   {
    "duration": 192,
    "start_time": "2023-08-29T09:47:18.917Z"
   },
   {
    "duration": 259,
    "start_time": "2023-08-29T09:47:19.111Z"
   },
   {
    "duration": 9,
    "start_time": "2023-08-29T09:47:19.372Z"
   },
   {
    "duration": 1195,
    "start_time": "2023-08-29T09:49:08.783Z"
   },
   {
    "duration": 1202,
    "start_time": "2023-08-29T09:49:17.428Z"
   },
   {
    "duration": 189,
    "start_time": "2023-08-29T09:49:18.632Z"
   },
   {
    "duration": 198,
    "start_time": "2023-08-29T09:49:18.823Z"
   },
   {
    "duration": 289,
    "start_time": "2023-08-29T09:49:19.023Z"
   },
   {
    "duration": 10,
    "start_time": "2023-08-29T09:49:19.314Z"
   },
   {
    "duration": 213,
    "start_time": "2023-08-29T09:50:47.485Z"
   },
   {
    "duration": 27,
    "start_time": "2023-08-29T09:55:58.136Z"
   },
   {
    "duration": 119,
    "start_time": "2023-08-29T09:58:24.831Z"
   },
   {
    "duration": 26,
    "start_time": "2023-08-29T09:58:49.491Z"
   },
   {
    "duration": 26,
    "start_time": "2023-08-29T09:58:59.658Z"
   },
   {
    "duration": 101,
    "start_time": "2023-08-29T10:01:58.467Z"
   },
   {
    "duration": 176,
    "start_time": "2023-08-29T11:06:41.502Z"
   },
   {
    "duration": 175,
    "start_time": "2023-08-29T11:06:55.697Z"
   },
   {
    "duration": 160,
    "start_time": "2023-08-29T11:41:02.958Z"
   },
   {
    "duration": 174,
    "start_time": "2023-08-29T11:42:48.282Z"
   },
   {
    "duration": 168,
    "start_time": "2023-08-29T11:43:16.965Z"
   },
   {
    "duration": 168,
    "start_time": "2023-08-29T11:43:22.686Z"
   },
   {
    "duration": 171,
    "start_time": "2023-08-29T11:43:28.225Z"
   },
   {
    "duration": 165,
    "start_time": "2023-08-29T11:43:33.569Z"
   },
   {
    "duration": 167,
    "start_time": "2023-08-29T11:43:37.422Z"
   },
   {
    "duration": 245,
    "start_time": "2023-08-29T11:43:46.451Z"
   },
   {
    "duration": 173,
    "start_time": "2023-08-29T11:43:52.025Z"
   },
   {
    "duration": 183,
    "start_time": "2023-08-29T11:45:10.085Z"
   },
   {
    "duration": 13,
    "start_time": "2023-08-29T11:50:35.554Z"
   },
   {
    "duration": 26,
    "start_time": "2023-08-29T11:51:04.340Z"
   },
   {
    "duration": 8,
    "start_time": "2023-08-29T11:51:05.879Z"
   },
   {
    "duration": 23,
    "start_time": "2023-08-29T11:51:15.423Z"
   },
   {
    "duration": 25,
    "start_time": "2023-08-29T11:51:18.816Z"
   },
   {
    "duration": 5,
    "start_time": "2023-08-29T11:51:21.267Z"
   },
   {
    "duration": 7,
    "start_time": "2023-08-29T11:51:38.926Z"
   },
   {
    "duration": 27,
    "start_time": "2023-08-29T11:52:33.812Z"
   },
   {
    "duration": 24,
    "start_time": "2023-08-29T11:55:35.143Z"
   },
   {
    "duration": 5,
    "start_time": "2023-08-29T11:55:39.594Z"
   },
   {
    "duration": 7,
    "start_time": "2023-08-29T11:55:44.898Z"
   },
   {
    "duration": 8,
    "start_time": "2023-08-29T11:56:11.771Z"
   },
   {
    "duration": 92,
    "start_time": "2023-08-29T11:56:25.628Z"
   },
   {
    "duration": 15,
    "start_time": "2023-08-29T11:56:37.880Z"
   },
   {
    "duration": 10,
    "start_time": "2023-08-29T11:56:42.187Z"
   },
   {
    "duration": 20,
    "start_time": "2023-08-29T11:57:23.337Z"
   },
   {
    "duration": 20,
    "start_time": "2023-08-29T11:57:25.559Z"
   },
   {
    "duration": 18,
    "start_time": "2023-08-29T11:57:27.187Z"
   },
   {
    "duration": 13,
    "start_time": "2023-08-29T11:57:52.787Z"
   },
   {
    "duration": 1130,
    "start_time": "2023-08-29T11:57:58.206Z"
   },
   {
    "duration": 196,
    "start_time": "2023-08-29T11:57:59.338Z"
   },
   {
    "duration": 193,
    "start_time": "2023-08-29T11:57:59.535Z"
   },
   {
    "duration": 288,
    "start_time": "2023-08-29T11:57:59.730Z"
   },
   {
    "duration": 10,
    "start_time": "2023-08-29T11:58:00.021Z"
   },
   {
    "duration": 130,
    "start_time": "2023-08-29T11:58:00.047Z"
   },
   {
    "duration": 0,
    "start_time": "2023-08-29T11:58:00.179Z"
   },
   {
    "duration": 0,
    "start_time": "2023-08-29T11:58:00.181Z"
   },
   {
    "duration": 0,
    "start_time": "2023-08-29T11:58:00.183Z"
   },
   {
    "duration": 0,
    "start_time": "2023-08-29T11:58:00.184Z"
   },
   {
    "duration": 1194,
    "start_time": "2023-08-29T11:58:13.953Z"
   },
   {
    "duration": 202,
    "start_time": "2023-08-29T11:58:15.149Z"
   },
   {
    "duration": 208,
    "start_time": "2023-08-29T11:58:15.353Z"
   },
   {
    "duration": 358,
    "start_time": "2023-08-29T11:58:15.564Z"
   },
   {
    "duration": 10,
    "start_time": "2023-08-29T11:58:15.924Z"
   },
   {
    "duration": 41,
    "start_time": "2023-08-29T11:58:15.937Z"
   },
   {
    "duration": 24,
    "start_time": "2023-08-29T11:58:15.981Z"
   },
   {
    "duration": 14,
    "start_time": "2023-08-29T11:58:16.007Z"
   },
   {
    "duration": 214,
    "start_time": "2023-08-29T11:58:16.023Z"
   },
   {
    "duration": 112,
    "start_time": "2023-08-29T11:58:28.694Z"
   },
   {
    "duration": 15,
    "start_time": "2023-08-29T11:58:57.329Z"
   },
   {
    "duration": 14,
    "start_time": "2023-08-29T11:59:04.714Z"
   },
   {
    "duration": 5,
    "start_time": "2023-08-29T11:59:20.633Z"
   },
   {
    "duration": 9,
    "start_time": "2023-08-29T11:59:26.732Z"
   },
   {
    "duration": 13,
    "start_time": "2023-08-29T11:59:35.996Z"
   },
   {
    "duration": 9,
    "start_time": "2023-08-29T11:59:43.058Z"
   },
   {
    "duration": 25,
    "start_time": "2023-08-29T11:59:58.274Z"
   },
   {
    "duration": 8,
    "start_time": "2023-08-29T12:00:14.128Z"
   },
   {
    "duration": 8,
    "start_time": "2023-08-29T12:00:19.541Z"
   },
   {
    "duration": 7,
    "start_time": "2023-08-29T12:00:50.138Z"
   },
   {
    "duration": 9,
    "start_time": "2023-08-29T12:09:51.264Z"
   },
   {
    "duration": 9,
    "start_time": "2023-08-29T12:10:00.606Z"
   },
   {
    "duration": 258,
    "start_time": "2023-08-29T12:13:14.392Z"
   },
   {
    "duration": 10,
    "start_time": "2023-08-29T12:13:33.634Z"
   },
   {
    "duration": 259,
    "start_time": "2023-08-29T12:16:10.666Z"
   },
   {
    "duration": 248,
    "start_time": "2023-08-29T12:17:17.033Z"
   },
   {
    "duration": 269,
    "start_time": "2023-08-29T12:17:34.052Z"
   },
   {
    "duration": 24,
    "start_time": "2023-08-29T12:21:25.649Z"
   },
   {
    "duration": 1467,
    "start_time": "2023-08-29T12:21:41.156Z"
   },
   {
    "duration": 183,
    "start_time": "2023-08-29T12:21:42.625Z"
   },
   {
    "duration": 192,
    "start_time": "2023-08-29T12:21:42.812Z"
   },
   {
    "duration": 284,
    "start_time": "2023-08-29T12:21:43.006Z"
   },
   {
    "duration": 10,
    "start_time": "2023-08-29T12:21:43.292Z"
   },
   {
    "duration": 48,
    "start_time": "2023-08-29T12:21:43.304Z"
   },
   {
    "duration": 29,
    "start_time": "2023-08-29T12:21:43.354Z"
   },
   {
    "duration": 202,
    "start_time": "2023-08-29T12:21:43.385Z"
   },
   {
    "duration": 9,
    "start_time": "2023-08-29T12:21:43.590Z"
   },
   {
    "duration": 34,
    "start_time": "2023-08-29T12:21:43.601Z"
   },
   {
    "duration": 257,
    "start_time": "2023-08-29T12:21:43.637Z"
   },
   {
    "duration": 286,
    "start_time": "2023-08-29T12:21:43.896Z"
   },
   {
    "duration": 128,
    "start_time": "2023-08-29T12:21:44.184Z"
   },
   {
    "duration": 33,
    "start_time": "2023-08-29T12:21:53.707Z"
   },
   {
    "duration": 47,
    "start_time": "2023-08-29T12:22:08.750Z"
   },
   {
    "duration": 10,
    "start_time": "2023-08-29T12:23:00.797Z"
   },
   {
    "duration": 1105,
    "start_time": "2023-08-29T12:26:52.432Z"
   },
   {
    "duration": 9,
    "start_time": "2023-08-29T12:27:05.892Z"
   },
   {
    "duration": 24,
    "start_time": "2023-08-29T12:27:12.035Z"
   },
   {
    "duration": 1146,
    "start_time": "2023-08-29T12:27:54.174Z"
   },
   {
    "duration": 42,
    "start_time": "2023-08-29T12:28:51.072Z"
   },
   {
    "duration": 15,
    "start_time": "2023-08-29T12:30:30.845Z"
   },
   {
    "duration": 9,
    "start_time": "2023-08-29T12:30:59.618Z"
   },
   {
    "duration": 53,
    "start_time": "2023-08-29T12:31:07.189Z"
   },
   {
    "duration": 133,
    "start_time": "2023-08-29T12:32:18.792Z"
   },
   {
    "duration": 9,
    "start_time": "2023-08-29T12:32:42.662Z"
   },
   {
    "duration": 7,
    "start_time": "2023-08-29T12:33:00.216Z"
   },
   {
    "duration": 8,
    "start_time": "2023-08-29T12:33:04.087Z"
   },
   {
    "duration": 8,
    "start_time": "2023-08-29T12:33:25.023Z"
   },
   {
    "duration": 8,
    "start_time": "2023-08-29T12:33:48.505Z"
   },
   {
    "duration": 1161,
    "start_time": "2023-08-29T12:34:04.489Z"
   },
   {
    "duration": 191,
    "start_time": "2023-08-29T12:34:05.652Z"
   },
   {
    "duration": 194,
    "start_time": "2023-08-29T12:34:05.844Z"
   },
   {
    "duration": 306,
    "start_time": "2023-08-29T12:34:06.041Z"
   },
   {
    "duration": 12,
    "start_time": "2023-08-29T12:34:06.349Z"
   },
   {
    "duration": 47,
    "start_time": "2023-08-29T12:34:06.363Z"
   },
   {
    "duration": 46,
    "start_time": "2023-08-29T12:34:06.412Z"
   },
   {
    "duration": 223,
    "start_time": "2023-08-29T12:34:06.460Z"
   },
   {
    "duration": 8,
    "start_time": "2023-08-29T12:34:06.685Z"
   },
   {
    "duration": 29,
    "start_time": "2023-08-29T12:34:06.695Z"
   },
   {
    "duration": 72,
    "start_time": "2023-08-29T12:34:06.726Z"
   },
   {
    "duration": 1085,
    "start_time": "2023-08-29T12:34:06.799Z"
   },
   {
    "duration": 45,
    "start_time": "2023-08-29T12:34:07.886Z"
   },
   {
    "duration": 285,
    "start_time": "2023-08-29T12:34:07.946Z"
   },
   {
    "duration": 284,
    "start_time": "2023-08-29T12:34:08.233Z"
   },
   {
    "duration": 8,
    "start_time": "2023-08-29T12:34:08.519Z"
   },
   {
    "duration": 22,
    "start_time": "2023-08-29T12:34:08.529Z"
   },
   {
    "duration": 46,
    "start_time": "2023-08-29T12:34:08.552Z"
   },
   {
    "duration": 14,
    "start_time": "2023-08-29T12:34:13.303Z"
   },
   {
    "duration": 13,
    "start_time": "2023-08-29T12:34:53.860Z"
   },
   {
    "duration": 15,
    "start_time": "2023-08-29T12:35:01.807Z"
   },
   {
    "duration": 4,
    "start_time": "2023-08-29T12:35:39.968Z"
   },
   {
    "duration": 7,
    "start_time": "2023-08-29T12:36:05.933Z"
   },
   {
    "duration": 8,
    "start_time": "2023-08-29T12:36:15.068Z"
   },
   {
    "duration": 6,
    "start_time": "2023-08-29T12:36:18.331Z"
   },
   {
    "duration": 7,
    "start_time": "2023-08-29T12:36:32.635Z"
   },
   {
    "duration": 8,
    "start_time": "2023-08-29T12:36:37.112Z"
   },
   {
    "duration": 8,
    "start_time": "2023-08-29T12:36:43.612Z"
   },
   {
    "duration": 20,
    "start_time": "2023-08-29T12:51:40.737Z"
   },
   {
    "duration": 9,
    "start_time": "2023-08-29T12:52:25.840Z"
   },
   {
    "duration": 10,
    "start_time": "2023-08-29T12:52:30.794Z"
   },
   {
    "duration": 31,
    "start_time": "2023-08-29T12:58:46.912Z"
   },
   {
    "duration": 1092,
    "start_time": "2023-08-29T13:01:26.425Z"
   },
   {
    "duration": 1151,
    "start_time": "2023-08-29T13:03:17.712Z"
   },
   {
    "duration": 33,
    "start_time": "2023-08-29T13:03:47.443Z"
   },
   {
    "duration": 31,
    "start_time": "2023-08-29T13:08:13.350Z"
   },
   {
    "duration": 14,
    "start_time": "2023-08-29T13:09:15.419Z"
   },
   {
    "duration": 31,
    "start_time": "2023-08-29T13:09:54.935Z"
   },
   {
    "duration": 130,
    "start_time": "2023-08-29T13:10:14.943Z"
   },
   {
    "duration": 28,
    "start_time": "2023-08-29T13:10:23.886Z"
   },
   {
    "duration": 111,
    "start_time": "2023-08-29T13:11:40.649Z"
   },
   {
    "duration": 26,
    "start_time": "2023-08-29T13:11:43.334Z"
   },
   {
    "duration": 17,
    "start_time": "2023-08-29T13:13:51.414Z"
   },
   {
    "duration": 21,
    "start_time": "2023-08-29T13:13:55.730Z"
   },
   {
    "duration": 4,
    "start_time": "2023-08-29T13:14:00.641Z"
   },
   {
    "duration": 21,
    "start_time": "2023-08-29T13:14:07.582Z"
   },
   {
    "duration": 122,
    "start_time": "2023-08-29T13:14:43.654Z"
   },
   {
    "duration": 261,
    "start_time": "2023-08-29T13:15:01.841Z"
   },
   {
    "duration": 32,
    "start_time": "2023-08-29T13:15:09.073Z"
   },
   {
    "duration": 1135,
    "start_time": "2023-08-29T13:15:17.188Z"
   },
   {
    "duration": 190,
    "start_time": "2023-08-29T13:15:18.325Z"
   },
   {
    "duration": 188,
    "start_time": "2023-08-29T13:15:18.517Z"
   },
   {
    "duration": 293,
    "start_time": "2023-08-29T13:15:18.707Z"
   },
   {
    "duration": 14,
    "start_time": "2023-08-29T13:15:19.002Z"
   },
   {
    "duration": 49,
    "start_time": "2023-08-29T13:15:19.018Z"
   },
   {
    "duration": 35,
    "start_time": "2023-08-29T13:15:19.070Z"
   },
   {
    "duration": 44,
    "start_time": "2023-08-29T13:15:19.107Z"
   },
   {
    "duration": 22,
    "start_time": "2023-08-29T13:15:19.153Z"
   },
   {
    "duration": 10,
    "start_time": "2023-08-29T13:15:19.179Z"
   },
   {
    "duration": 1080,
    "start_time": "2023-08-29T13:15:19.191Z"
   },
   {
    "duration": 35,
    "start_time": "2023-08-29T13:15:20.273Z"
   },
   {
    "duration": 43,
    "start_time": "2023-08-29T13:15:20.310Z"
   },
   {
    "duration": 49,
    "start_time": "2023-08-29T13:15:20.355Z"
   },
   {
    "duration": 192,
    "start_time": "2023-08-29T13:15:20.406Z"
   },
   {
    "duration": 7,
    "start_time": "2023-08-29T13:15:20.599Z"
   },
   {
    "duration": 43,
    "start_time": "2023-08-29T13:15:20.607Z"
   },
   {
    "duration": 80,
    "start_time": "2023-08-29T13:15:20.652Z"
   },
   {
    "duration": 32,
    "start_time": "2023-08-29T13:15:20.733Z"
   },
   {
    "duration": 1064,
    "start_time": "2023-08-29T13:15:20.767Z"
   },
   {
    "duration": 56,
    "start_time": "2023-08-29T13:15:21.833Z"
   },
   {
    "duration": 273,
    "start_time": "2023-08-29T13:15:21.891Z"
   },
   {
    "duration": 271,
    "start_time": "2023-08-29T13:15:22.166Z"
   },
   {
    "duration": 15,
    "start_time": "2023-08-29T13:15:22.439Z"
   },
   {
    "duration": 16,
    "start_time": "2023-08-29T13:15:22.456Z"
   },
   {
    "duration": 26,
    "start_time": "2023-08-29T13:15:22.474Z"
   },
   {
    "duration": 42,
    "start_time": "2023-08-29T13:15:22.502Z"
   },
   {
    "duration": 22,
    "start_time": "2023-08-29T13:15:50.448Z"
   },
   {
    "duration": 5,
    "start_time": "2023-08-29T13:16:04.608Z"
   },
   {
    "duration": 24,
    "start_time": "2023-08-29T13:16:37.804Z"
   },
   {
    "duration": 22,
    "start_time": "2023-08-29T13:17:17.523Z"
   },
   {
    "duration": 21,
    "start_time": "2023-08-29T13:17:23.878Z"
   },
   {
    "duration": 22,
    "start_time": "2023-08-29T13:19:03.214Z"
   },
   {
    "duration": 5,
    "start_time": "2023-08-29T13:19:12.662Z"
   },
   {
    "duration": 22,
    "start_time": "2023-08-29T13:19:24.343Z"
   },
   {
    "duration": 114,
    "start_time": "2023-08-29T13:19:37.443Z"
   },
   {
    "duration": 21,
    "start_time": "2023-08-29T13:19:49.488Z"
   },
   {
    "duration": 37,
    "start_time": "2023-08-29T13:21:22.914Z"
   },
   {
    "duration": 16,
    "start_time": "2023-08-29T13:22:04.830Z"
   },
   {
    "duration": 16,
    "start_time": "2023-08-29T13:22:17.091Z"
   },
   {
    "duration": 1124,
    "start_time": "2023-08-29T13:22:46.195Z"
   },
   {
    "duration": 183,
    "start_time": "2023-08-29T13:22:47.321Z"
   },
   {
    "duration": 187,
    "start_time": "2023-08-29T13:22:47.506Z"
   },
   {
    "duration": 273,
    "start_time": "2023-08-29T13:22:47.695Z"
   },
   {
    "duration": 9,
    "start_time": "2023-08-29T13:22:47.970Z"
   },
   {
    "duration": 32,
    "start_time": "2023-08-29T13:22:47.981Z"
   },
   {
    "duration": 45,
    "start_time": "2023-08-29T13:22:48.015Z"
   },
   {
    "duration": 23,
    "start_time": "2023-08-29T13:22:48.062Z"
   },
   {
    "duration": 32,
    "start_time": "2023-08-29T13:22:48.087Z"
   },
   {
    "duration": 38,
    "start_time": "2023-08-29T13:22:48.123Z"
   },
   {
    "duration": 20,
    "start_time": "2023-08-29T13:22:48.163Z"
   },
   {
    "duration": 1090,
    "start_time": "2023-08-29T13:22:48.184Z"
   },
   {
    "duration": 31,
    "start_time": "2023-08-29T13:22:49.276Z"
   },
   {
    "duration": 19,
    "start_time": "2023-08-29T13:22:49.309Z"
   },
   {
    "duration": 25,
    "start_time": "2023-08-29T13:22:49.347Z"
   },
   {
    "duration": 226,
    "start_time": "2023-08-29T13:22:49.373Z"
   },
   {
    "duration": 7,
    "start_time": "2023-08-29T13:22:49.601Z"
   },
   {
    "duration": 12,
    "start_time": "2023-08-29T13:22:49.610Z"
   },
   {
    "duration": 72,
    "start_time": "2023-08-29T13:22:49.623Z"
   },
   {
    "duration": 32,
    "start_time": "2023-08-29T13:22:49.697Z"
   },
   {
    "duration": 1112,
    "start_time": "2023-08-29T13:22:49.730Z"
   },
   {
    "duration": 51,
    "start_time": "2023-08-29T13:22:50.846Z"
   },
   {
    "duration": 272,
    "start_time": "2023-08-29T13:22:50.899Z"
   },
   {
    "duration": 273,
    "start_time": "2023-08-29T13:22:51.173Z"
   },
   {
    "duration": 9,
    "start_time": "2023-08-29T13:22:51.448Z"
   },
   {
    "duration": 17,
    "start_time": "2023-08-29T13:22:51.458Z"
   },
   {
    "duration": 13,
    "start_time": "2023-08-29T13:22:51.476Z"
   },
   {
    "duration": 60,
    "start_time": "2023-08-29T13:22:51.492Z"
   },
   {
    "duration": 33,
    "start_time": "2023-08-29T13:23:35.990Z"
   },
   {
    "duration": 1360,
    "start_time": "2023-08-29T13:24:04.364Z"
   },
   {
    "duration": 1846,
    "start_time": "2023-08-29T13:24:29.350Z"
   },
   {
    "duration": 0,
    "start_time": "2023-08-29T13:24:31.198Z"
   },
   {
    "duration": 1185,
    "start_time": "2023-08-29T13:24:36.740Z"
   },
   {
    "duration": 185,
    "start_time": "2023-08-29T13:24:37.927Z"
   },
   {
    "duration": 185,
    "start_time": "2023-08-29T13:24:38.114Z"
   },
   {
    "duration": 269,
    "start_time": "2023-08-29T13:24:38.301Z"
   },
   {
    "duration": 30,
    "start_time": "2023-08-29T13:24:38.572Z"
   },
   {
    "duration": 45,
    "start_time": "2023-08-29T13:24:38.603Z"
   },
   {
    "duration": 49,
    "start_time": "2023-08-29T13:24:38.649Z"
   },
   {
    "duration": 30,
    "start_time": "2023-08-29T13:24:38.700Z"
   },
   {
    "duration": 32,
    "start_time": "2023-08-29T13:24:38.733Z"
   },
   {
    "duration": 22,
    "start_time": "2023-08-29T13:24:38.767Z"
   },
   {
    "duration": 11,
    "start_time": "2023-08-29T13:24:38.791Z"
   },
   {
    "duration": 1117,
    "start_time": "2023-08-29T13:24:38.804Z"
   },
   {
    "duration": 46,
    "start_time": "2023-08-29T13:24:39.923Z"
   },
   {
    "duration": 22,
    "start_time": "2023-08-29T13:24:39.971Z"
   },
   {
    "duration": 27,
    "start_time": "2023-08-29T13:24:39.995Z"
   },
   {
    "duration": 230,
    "start_time": "2023-08-29T13:24:40.024Z"
   },
   {
    "duration": 7,
    "start_time": "2023-08-29T13:24:40.256Z"
   },
   {
    "duration": 14,
    "start_time": "2023-08-29T13:24:40.265Z"
   },
   {
    "duration": 75,
    "start_time": "2023-08-29T13:24:40.281Z"
   },
   {
    "duration": 36,
    "start_time": "2023-08-29T13:24:40.358Z"
   },
   {
    "duration": 1064,
    "start_time": "2023-08-29T13:24:40.396Z"
   },
   {
    "duration": 51,
    "start_time": "2023-08-29T13:24:41.462Z"
   },
   {
    "duration": 277,
    "start_time": "2023-08-29T13:24:41.515Z"
   },
   {
    "duration": 278,
    "start_time": "2023-08-29T13:24:41.794Z"
   },
   {
    "duration": 9,
    "start_time": "2023-08-29T13:24:42.073Z"
   },
   {
    "duration": 15,
    "start_time": "2023-08-29T13:24:42.084Z"
   },
   {
    "duration": 14,
    "start_time": "2023-08-29T13:24:42.101Z"
   },
   {
    "duration": 63,
    "start_time": "2023-08-29T13:24:42.118Z"
   },
   {
    "duration": 1617,
    "start_time": "2023-08-29T13:25:30.202Z"
   },
   {
    "duration": 1123,
    "start_time": "2023-08-29T13:25:49.694Z"
   },
   {
    "duration": 189,
    "start_time": "2023-08-29T13:25:50.819Z"
   },
   {
    "duration": 188,
    "start_time": "2023-08-29T13:25:51.009Z"
   },
   {
    "duration": 304,
    "start_time": "2023-08-29T13:25:51.199Z"
   },
   {
    "duration": 24,
    "start_time": "2023-08-29T13:25:51.504Z"
   },
   {
    "duration": 17,
    "start_time": "2023-08-29T13:25:51.530Z"
   },
   {
    "duration": 10,
    "start_time": "2023-08-29T13:25:51.549Z"
   },
   {
    "duration": 15,
    "start_time": "2023-08-29T13:25:51.561Z"
   },
   {
    "duration": 21,
    "start_time": "2023-08-29T13:25:51.577Z"
   },
   {
    "duration": 55,
    "start_time": "2023-08-29T13:25:51.601Z"
   },
   {
    "duration": 8,
    "start_time": "2023-08-29T13:25:51.657Z"
   },
   {
    "duration": 1090,
    "start_time": "2023-08-29T13:25:51.667Z"
   },
   {
    "duration": 5,
    "start_time": "2023-08-29T13:25:52.759Z"
   },
   {
    "duration": 26,
    "start_time": "2023-08-29T13:25:52.765Z"
   },
   {
    "duration": 25,
    "start_time": "2023-08-29T13:25:52.792Z"
   },
   {
    "duration": 207,
    "start_time": "2023-08-29T13:25:52.818Z"
   },
   {
    "duration": 7,
    "start_time": "2023-08-29T13:25:53.026Z"
   },
   {
    "duration": 19,
    "start_time": "2023-08-29T13:25:53.034Z"
   },
   {
    "duration": 46,
    "start_time": "2023-08-29T13:25:53.055Z"
   },
   {
    "duration": 5,
    "start_time": "2023-08-29T13:25:53.102Z"
   },
   {
    "duration": 1097,
    "start_time": "2023-08-29T13:25:53.108Z"
   },
   {
    "duration": 58,
    "start_time": "2023-08-29T13:25:54.207Z"
   },
   {
    "duration": 261,
    "start_time": "2023-08-29T13:25:54.267Z"
   },
   {
    "duration": 270,
    "start_time": "2023-08-29T13:25:54.530Z"
   },
   {
    "duration": 10,
    "start_time": "2023-08-29T13:25:54.802Z"
   },
   {
    "duration": 33,
    "start_time": "2023-08-29T13:25:54.813Z"
   },
   {
    "duration": 13,
    "start_time": "2023-08-29T13:25:54.848Z"
   },
   {
    "duration": 5,
    "start_time": "2023-08-29T13:25:54.864Z"
   },
   {
    "duration": 11,
    "start_time": "2023-08-29T13:27:31.837Z"
   },
   {
    "duration": 11,
    "start_time": "2023-08-29T13:27:50.478Z"
   },
   {
    "duration": 14,
    "start_time": "2023-08-29T13:28:48.858Z"
   },
   {
    "duration": 111,
    "start_time": "2023-08-29T13:31:06.863Z"
   },
   {
    "duration": 4,
    "start_time": "2023-08-29T13:31:17.290Z"
   },
   {
    "duration": 12,
    "start_time": "2023-08-29T13:31:20.756Z"
   },
   {
    "duration": 12,
    "start_time": "2023-08-29T13:31:31.348Z"
   },
   {
    "duration": 10,
    "start_time": "2023-08-29T13:33:45.144Z"
   },
   {
    "duration": 12,
    "start_time": "2023-08-29T13:33:49.984Z"
   },
   {
    "duration": 1198,
    "start_time": "2023-08-29T13:33:54.357Z"
   },
   {
    "duration": 208,
    "start_time": "2023-08-29T13:33:55.557Z"
   },
   {
    "duration": 195,
    "start_time": "2023-08-29T13:33:55.766Z"
   },
   {
    "duration": 321,
    "start_time": "2023-08-29T13:33:55.963Z"
   },
   {
    "duration": 9,
    "start_time": "2023-08-29T13:33:56.286Z"
   },
   {
    "duration": 13,
    "start_time": "2023-08-29T13:33:56.296Z"
   },
   {
    "duration": 15,
    "start_time": "2023-08-29T13:33:56.311Z"
   },
   {
    "duration": 32,
    "start_time": "2023-08-29T13:33:56.328Z"
   },
   {
    "duration": 19,
    "start_time": "2023-08-29T13:33:56.362Z"
   },
   {
    "duration": 20,
    "start_time": "2023-08-29T13:33:56.383Z"
   },
   {
    "duration": 1088,
    "start_time": "2023-08-29T13:33:56.405Z"
   },
   {
    "duration": 6,
    "start_time": "2023-08-29T13:33:57.494Z"
   },
   {
    "duration": 31,
    "start_time": "2023-08-29T13:33:57.501Z"
   },
   {
    "duration": 35,
    "start_time": "2023-08-29T13:33:57.534Z"
   },
   {
    "duration": 201,
    "start_time": "2023-08-29T13:33:57.570Z"
   },
   {
    "duration": 6,
    "start_time": "2023-08-29T13:33:57.773Z"
   },
   {
    "duration": 30,
    "start_time": "2023-08-29T13:33:57.780Z"
   },
   {
    "duration": 45,
    "start_time": "2023-08-29T13:33:57.812Z"
   },
   {
    "duration": 5,
    "start_time": "2023-08-29T13:33:57.859Z"
   },
   {
    "duration": 1183,
    "start_time": "2023-08-29T13:33:57.866Z"
   },
   {
    "duration": 55,
    "start_time": "2023-08-29T13:33:59.050Z"
   },
   {
    "duration": 268,
    "start_time": "2023-08-29T13:33:59.107Z"
   },
   {
    "duration": 271,
    "start_time": "2023-08-29T13:33:59.376Z"
   },
   {
    "duration": 9,
    "start_time": "2023-08-29T13:33:59.648Z"
   },
   {
    "duration": 14,
    "start_time": "2023-08-29T13:33:59.659Z"
   },
   {
    "duration": 14,
    "start_time": "2023-08-29T13:33:59.674Z"
   },
   {
    "duration": 6,
    "start_time": "2023-08-29T13:33:59.689Z"
   },
   {
    "duration": 15,
    "start_time": "2023-08-29T13:34:15.802Z"
   },
   {
    "duration": 107,
    "start_time": "2023-08-29T13:34:53.319Z"
   },
   {
    "duration": 131,
    "start_time": "2023-08-29T13:34:57.798Z"
   },
   {
    "duration": 1133,
    "start_time": "2023-08-29T13:35:12.789Z"
   },
   {
    "duration": 194,
    "start_time": "2023-08-29T13:35:13.924Z"
   },
   {
    "duration": 185,
    "start_time": "2023-08-29T13:35:14.120Z"
   },
   {
    "duration": 306,
    "start_time": "2023-08-29T13:35:14.308Z"
   },
   {
    "duration": 10,
    "start_time": "2023-08-29T13:35:14.616Z"
   },
   {
    "duration": 19,
    "start_time": "2023-08-29T13:35:14.628Z"
   },
   {
    "duration": 9,
    "start_time": "2023-08-29T13:35:14.649Z"
   },
   {
    "duration": 235,
    "start_time": "2023-08-29T13:35:14.660Z"
   },
   {
    "duration": 14,
    "start_time": "2023-08-29T13:35:14.896Z"
   },
   {
    "duration": 35,
    "start_time": "2023-08-29T13:35:14.913Z"
   },
   {
    "duration": 30,
    "start_time": "2023-08-29T13:35:14.950Z"
   },
   {
    "duration": 1137,
    "start_time": "2023-08-29T13:35:14.982Z"
   },
   {
    "duration": 6,
    "start_time": "2023-08-29T13:35:16.121Z"
   },
   {
    "duration": 53,
    "start_time": "2023-08-29T13:35:16.130Z"
   },
   {
    "duration": 29,
    "start_time": "2023-08-29T13:35:16.186Z"
   },
   {
    "duration": 198,
    "start_time": "2023-08-29T13:35:16.217Z"
   },
   {
    "duration": 6,
    "start_time": "2023-08-29T13:35:16.418Z"
   },
   {
    "duration": 34,
    "start_time": "2023-08-29T13:35:16.426Z"
   },
   {
    "duration": 60,
    "start_time": "2023-08-29T13:35:16.462Z"
   },
   {
    "duration": 6,
    "start_time": "2023-08-29T13:35:16.524Z"
   },
   {
    "duration": 1055,
    "start_time": "2023-08-29T13:35:16.531Z"
   },
   {
    "duration": 43,
    "start_time": "2023-08-29T13:35:17.588Z"
   },
   {
    "duration": 265,
    "start_time": "2023-08-29T13:35:17.633Z"
   },
   {
    "duration": 272,
    "start_time": "2023-08-29T13:35:17.900Z"
   },
   {
    "duration": 9,
    "start_time": "2023-08-29T13:35:18.174Z"
   },
   {
    "duration": 16,
    "start_time": "2023-08-29T13:35:18.184Z"
   },
   {
    "duration": 33,
    "start_time": "2023-08-29T13:35:18.202Z"
   },
   {
    "duration": 5,
    "start_time": "2023-08-29T13:35:18.247Z"
   },
   {
    "duration": 166,
    "start_time": "2023-08-29T13:35:43.592Z"
   },
   {
    "duration": 173,
    "start_time": "2023-08-29T13:35:48.249Z"
   },
   {
    "duration": 1145,
    "start_time": "2023-08-29T13:35:55.991Z"
   },
   {
    "duration": 195,
    "start_time": "2023-08-29T13:35:57.138Z"
   },
   {
    "duration": 183,
    "start_time": "2023-08-29T13:35:57.334Z"
   },
   {
    "duration": 324,
    "start_time": "2023-08-29T13:35:57.519Z"
   },
   {
    "duration": 9,
    "start_time": "2023-08-29T13:35:57.846Z"
   },
   {
    "duration": 25,
    "start_time": "2023-08-29T13:35:57.857Z"
   },
   {
    "duration": 32,
    "start_time": "2023-08-29T13:35:57.884Z"
   },
   {
    "duration": 263,
    "start_time": "2023-08-29T13:35:57.918Z"
   },
   {
    "duration": 12,
    "start_time": "2023-08-29T13:35:58.183Z"
   },
   {
    "duration": 20,
    "start_time": "2023-08-29T13:35:58.197Z"
   },
   {
    "duration": 11,
    "start_time": "2023-08-29T13:35:58.247Z"
   },
   {
    "duration": 1122,
    "start_time": "2023-08-29T13:35:58.260Z"
   },
   {
    "duration": 5,
    "start_time": "2023-08-29T13:35:59.384Z"
   },
   {
    "duration": 53,
    "start_time": "2023-08-29T13:35:59.393Z"
   },
   {
    "duration": 25,
    "start_time": "2023-08-29T13:35:59.449Z"
   },
   {
    "duration": 192,
    "start_time": "2023-08-29T13:35:59.476Z"
   },
   {
    "duration": 7,
    "start_time": "2023-08-29T13:35:59.670Z"
   },
   {
    "duration": 12,
    "start_time": "2023-08-29T13:35:59.678Z"
   },
   {
    "duration": 65,
    "start_time": "2023-08-29T13:35:59.691Z"
   },
   {
    "duration": 5,
    "start_time": "2023-08-29T13:35:59.758Z"
   },
   {
    "duration": 1129,
    "start_time": "2023-08-29T13:35:59.764Z"
   },
   {
    "duration": 57,
    "start_time": "2023-08-29T13:36:00.895Z"
   },
   {
    "duration": 271,
    "start_time": "2023-08-29T13:36:00.954Z"
   },
   {
    "duration": 286,
    "start_time": "2023-08-29T13:36:01.227Z"
   },
   {
    "duration": 10,
    "start_time": "2023-08-29T13:36:01.515Z"
   },
   {
    "duration": 56,
    "start_time": "2023-08-29T13:36:01.526Z"
   },
   {
    "duration": 46,
    "start_time": "2023-08-29T13:36:01.584Z"
   },
   {
    "duration": 51,
    "start_time": "2023-08-29T13:36:01.631Z"
   },
   {
    "duration": 6,
    "start_time": "2023-08-29T13:38:41.496Z"
   },
   {
    "duration": 1289,
    "start_time": "2023-08-29T13:39:13.640Z"
   },
   {
    "duration": 192,
    "start_time": "2023-08-29T13:39:14.931Z"
   },
   {
    "duration": 193,
    "start_time": "2023-08-29T13:39:15.125Z"
   },
   {
    "duration": 333,
    "start_time": "2023-08-29T13:39:15.320Z"
   },
   {
    "duration": 11,
    "start_time": "2023-08-29T13:39:15.654Z"
   },
   {
    "duration": 8,
    "start_time": "2023-08-29T13:39:15.666Z"
   },
   {
    "duration": 7,
    "start_time": "2023-08-29T13:39:15.677Z"
   },
   {
    "duration": 269,
    "start_time": "2023-08-29T13:39:15.686Z"
   },
   {
    "duration": 13,
    "start_time": "2023-08-29T13:39:15.957Z"
   },
   {
    "duration": 7,
    "start_time": "2023-08-29T13:39:15.972Z"
   },
   {
    "duration": 30,
    "start_time": "2023-08-29T13:39:15.981Z"
   },
   {
    "duration": 44,
    "start_time": "2023-08-29T13:39:16.013Z"
   },
   {
    "duration": 1267,
    "start_time": "2023-08-29T13:39:16.059Z"
   },
   {
    "duration": 7,
    "start_time": "2023-08-29T13:39:17.328Z"
   },
   {
    "duration": 21,
    "start_time": "2023-08-29T13:39:17.348Z"
   },
   {
    "duration": 28,
    "start_time": "2023-08-29T13:39:17.370Z"
   },
   {
    "duration": 198,
    "start_time": "2023-08-29T13:39:17.400Z"
   },
   {
    "duration": 6,
    "start_time": "2023-08-29T13:39:17.600Z"
   },
   {
    "duration": 30,
    "start_time": "2023-08-29T13:39:17.608Z"
   },
   {
    "duration": 82,
    "start_time": "2023-08-29T13:39:17.640Z"
   },
   {
    "duration": 6,
    "start_time": "2023-08-29T13:39:17.723Z"
   },
   {
    "duration": 1140,
    "start_time": "2023-08-29T13:39:17.730Z"
   },
   {
    "duration": 44,
    "start_time": "2023-08-29T13:39:18.872Z"
   },
   {
    "duration": 294,
    "start_time": "2023-08-29T13:39:18.918Z"
   },
   {
    "duration": 270,
    "start_time": "2023-08-29T13:39:19.214Z"
   },
   {
    "duration": 10,
    "start_time": "2023-08-29T13:39:19.486Z"
   },
   {
    "duration": 20,
    "start_time": "2023-08-29T13:39:19.498Z"
   },
   {
    "duration": 33,
    "start_time": "2023-08-29T13:39:19.521Z"
   },
   {
    "duration": 11,
    "start_time": "2023-08-29T13:39:19.555Z"
   },
   {
    "duration": 22,
    "start_time": "2023-08-29T13:39:31.494Z"
   },
   {
    "duration": 4,
    "start_time": "2023-08-29T13:55:53.507Z"
   },
   {
    "duration": 5,
    "start_time": "2023-08-29T13:55:57.303Z"
   },
   {
    "duration": 76,
    "start_time": "2023-08-29T13:56:32.839Z"
   },
   {
    "duration": 108,
    "start_time": "2023-08-29T13:57:00.798Z"
   },
   {
    "duration": 1238,
    "start_time": "2023-08-29T13:57:05.342Z"
   },
   {
    "duration": 191,
    "start_time": "2023-08-29T13:57:06.582Z"
   },
   {
    "duration": 194,
    "start_time": "2023-08-29T13:57:06.775Z"
   },
   {
    "duration": 314,
    "start_time": "2023-08-29T13:57:06.971Z"
   },
   {
    "duration": 10,
    "start_time": "2023-08-29T13:57:07.286Z"
   },
   {
    "duration": 24,
    "start_time": "2023-08-29T13:57:07.298Z"
   },
   {
    "duration": 10,
    "start_time": "2023-08-29T13:57:07.324Z"
   },
   {
    "duration": 255,
    "start_time": "2023-08-29T13:57:07.336Z"
   },
   {
    "duration": 4,
    "start_time": "2023-08-29T13:57:07.593Z"
   },
   {
    "duration": 192,
    "start_time": "2023-08-29T13:57:07.600Z"
   },
   {
    "duration": 0,
    "start_time": "2023-08-29T13:57:07.794Z"
   },
   {
    "duration": 0,
    "start_time": "2023-08-29T13:57:07.795Z"
   },
   {
    "duration": 0,
    "start_time": "2023-08-29T13:57:07.797Z"
   },
   {
    "duration": 0,
    "start_time": "2023-08-29T13:57:07.798Z"
   },
   {
    "duration": 0,
    "start_time": "2023-08-29T13:57:07.799Z"
   },
   {
    "duration": 0,
    "start_time": "2023-08-29T13:57:07.800Z"
   },
   {
    "duration": 0,
    "start_time": "2023-08-29T13:57:07.801Z"
   },
   {
    "duration": 1,
    "start_time": "2023-08-29T13:57:07.802Z"
   },
   {
    "duration": 0,
    "start_time": "2023-08-29T13:57:07.805Z"
   },
   {
    "duration": 0,
    "start_time": "2023-08-29T13:57:07.806Z"
   },
   {
    "duration": 0,
    "start_time": "2023-08-29T13:57:07.807Z"
   },
   {
    "duration": 0,
    "start_time": "2023-08-29T13:57:07.809Z"
   },
   {
    "duration": 0,
    "start_time": "2023-08-29T13:57:07.810Z"
   },
   {
    "duration": 1,
    "start_time": "2023-08-29T13:57:07.811Z"
   },
   {
    "duration": 0,
    "start_time": "2023-08-29T13:57:07.813Z"
   },
   {
    "duration": 0,
    "start_time": "2023-08-29T13:57:07.815Z"
   },
   {
    "duration": 0,
    "start_time": "2023-08-29T13:57:07.816Z"
   },
   {
    "duration": 0,
    "start_time": "2023-08-29T13:57:07.818Z"
   },
   {
    "duration": 0,
    "start_time": "2023-08-29T13:57:07.819Z"
   },
   {
    "duration": 0,
    "start_time": "2023-08-29T13:57:07.821Z"
   },
   {
    "duration": 0,
    "start_time": "2023-08-29T13:57:07.822Z"
   },
   {
    "duration": 111,
    "start_time": "2023-08-29T13:58:24.892Z"
   },
   {
    "duration": 57,
    "start_time": "2023-08-29T13:58:40.535Z"
   },
   {
    "duration": 8,
    "start_time": "2023-08-29T14:00:36.303Z"
   },
   {
    "duration": 1210,
    "start_time": "2023-08-29T14:01:44.390Z"
   },
   {
    "duration": 11,
    "start_time": "2023-08-29T14:02:37.417Z"
   },
   {
    "duration": 6,
    "start_time": "2023-08-29T14:02:38.649Z"
   },
   {
    "duration": 100,
    "start_time": "2023-08-29T14:03:16.022Z"
   },
   {
    "duration": 1218,
    "start_time": "2023-08-29T14:05:22.313Z"
   },
   {
    "duration": 188,
    "start_time": "2023-08-29T14:05:23.534Z"
   },
   {
    "duration": 210,
    "start_time": "2023-08-29T14:05:23.724Z"
   },
   {
    "duration": 319,
    "start_time": "2023-08-29T14:05:23.936Z"
   },
   {
    "duration": 11,
    "start_time": "2023-08-29T14:05:24.257Z"
   },
   {
    "duration": 27,
    "start_time": "2023-08-29T14:05:24.270Z"
   },
   {
    "duration": 11,
    "start_time": "2023-08-29T14:05:24.299Z"
   },
   {
    "duration": 254,
    "start_time": "2023-08-29T14:05:24.312Z"
   },
   {
    "duration": 4,
    "start_time": "2023-08-29T14:05:24.568Z"
   },
   {
    "duration": 41,
    "start_time": "2023-08-29T14:05:24.575Z"
   },
   {
    "duration": 8,
    "start_time": "2023-08-29T14:05:24.618Z"
   },
   {
    "duration": 1247,
    "start_time": "2023-08-29T14:05:24.627Z"
   },
   {
    "duration": 11,
    "start_time": "2023-08-29T14:05:25.876Z"
   },
   {
    "duration": 15,
    "start_time": "2023-08-29T14:05:25.889Z"
   },
   {
    "duration": 26,
    "start_time": "2023-08-29T14:05:25.906Z"
   },
   {
    "duration": 28,
    "start_time": "2023-08-29T14:05:25.947Z"
   },
   {
    "duration": 248,
    "start_time": "2023-08-29T14:05:25.977Z"
   },
   {
    "duration": 8,
    "start_time": "2023-08-29T14:05:26.227Z"
   },
   {
    "duration": 11,
    "start_time": "2023-08-29T14:05:26.248Z"
   },
   {
    "duration": 60,
    "start_time": "2023-08-29T14:05:26.261Z"
   },
   {
    "duration": 6,
    "start_time": "2023-08-29T14:05:26.323Z"
   },
   {
    "duration": 1141,
    "start_time": "2023-08-29T14:05:26.330Z"
   },
   {
    "duration": 58,
    "start_time": "2023-08-29T14:05:27.473Z"
   },
   {
    "duration": 260,
    "start_time": "2023-08-29T14:05:27.546Z"
   },
   {
    "duration": 274,
    "start_time": "2023-08-29T14:05:27.808Z"
   },
   {
    "duration": 9,
    "start_time": "2023-08-29T14:05:28.084Z"
   },
   {
    "duration": 30,
    "start_time": "2023-08-29T14:05:28.094Z"
   },
   {
    "duration": 23,
    "start_time": "2023-08-29T14:05:28.127Z"
   },
   {
    "duration": 7,
    "start_time": "2023-08-29T14:05:28.151Z"
   },
   {
    "duration": 3,
    "start_time": "2023-08-29T14:05:53.853Z"
   },
   {
    "duration": 4,
    "start_time": "2023-08-29T14:06:44.976Z"
   },
   {
    "duration": 82,
    "start_time": "2023-08-29T14:07:59.565Z"
   },
   {
    "duration": 4,
    "start_time": "2023-08-29T14:08:03.712Z"
   },
   {
    "duration": 3,
    "start_time": "2023-08-29T14:08:11.448Z"
   },
   {
    "duration": 1190,
    "start_time": "2023-08-29T14:08:18.584Z"
   },
   {
    "duration": 189,
    "start_time": "2023-08-29T14:08:19.776Z"
   },
   {
    "duration": 204,
    "start_time": "2023-08-29T14:08:19.967Z"
   },
   {
    "duration": 327,
    "start_time": "2023-08-29T14:08:20.173Z"
   },
   {
    "duration": 9,
    "start_time": "2023-08-29T14:08:20.502Z"
   },
   {
    "duration": 18,
    "start_time": "2023-08-29T14:08:20.513Z"
   },
   {
    "duration": 42,
    "start_time": "2023-08-29T14:08:20.532Z"
   },
   {
    "duration": 284,
    "start_time": "2023-08-29T14:08:20.576Z"
   },
   {
    "duration": 4,
    "start_time": "2023-08-29T14:08:20.862Z"
   },
   {
    "duration": 48,
    "start_time": "2023-08-29T14:08:20.869Z"
   },
   {
    "duration": 9,
    "start_time": "2023-08-29T14:08:20.919Z"
   },
   {
    "duration": 1096,
    "start_time": "2023-08-29T14:08:20.930Z"
   },
   {
    "duration": 18,
    "start_time": "2023-08-29T14:08:22.029Z"
   },
   {
    "duration": 7,
    "start_time": "2023-08-29T14:08:22.049Z"
   },
   {
    "duration": 19,
    "start_time": "2023-08-29T14:08:22.057Z"
   },
   {
    "duration": 41,
    "start_time": "2023-08-29T14:08:22.079Z"
   },
   {
    "duration": 33,
    "start_time": "2023-08-29T14:08:22.123Z"
   },
   {
    "duration": 223,
    "start_time": "2023-08-29T14:08:22.159Z"
   },
   {
    "duration": 8,
    "start_time": "2023-08-29T14:08:22.383Z"
   },
   {
    "duration": 14,
    "start_time": "2023-08-29T14:08:22.393Z"
   },
   {
    "duration": 75,
    "start_time": "2023-08-29T14:08:22.409Z"
   },
   {
    "duration": 6,
    "start_time": "2023-08-29T14:08:22.486Z"
   },
   {
    "duration": 1145,
    "start_time": "2023-08-29T14:08:22.493Z"
   },
   {
    "duration": 47,
    "start_time": "2023-08-29T14:08:23.640Z"
   },
   {
    "duration": 273,
    "start_time": "2023-08-29T14:08:23.689Z"
   },
   {
    "duration": 304,
    "start_time": "2023-08-29T14:08:23.963Z"
   },
   {
    "duration": 9,
    "start_time": "2023-08-29T14:08:24.268Z"
   },
   {
    "duration": 18,
    "start_time": "2023-08-29T14:08:24.280Z"
   },
   {
    "duration": 30,
    "start_time": "2023-08-29T14:08:24.299Z"
   },
   {
    "duration": 28,
    "start_time": "2023-08-29T14:08:24.332Z"
   },
   {
    "duration": 107,
    "start_time": "2023-08-29T14:08:50.435Z"
   },
   {
    "duration": 4,
    "start_time": "2023-08-29T14:08:58.820Z"
   },
   {
    "duration": 3,
    "start_time": "2023-08-29T14:09:02.755Z"
   },
   {
    "duration": 197,
    "start_time": "2023-08-29T14:09:18.968Z"
   },
   {
    "duration": 104,
    "start_time": "2023-08-29T14:10:17.517Z"
   },
   {
    "duration": 3,
    "start_time": "2023-08-29T14:10:24.700Z"
   },
   {
    "duration": 4,
    "start_time": "2023-08-29T14:10:36.691Z"
   },
   {
    "duration": 3,
    "start_time": "2023-08-29T14:10:40.799Z"
   },
   {
    "duration": 30,
    "start_time": "2023-08-29T14:10:48.671Z"
   },
   {
    "duration": 147,
    "start_time": "2023-08-29T14:11:50.916Z"
   },
   {
    "duration": 207,
    "start_time": "2023-08-29T14:12:10.683Z"
   },
   {
    "duration": 31,
    "start_time": "2023-08-29T14:12:13.962Z"
   },
   {
    "duration": 13,
    "start_time": "2023-08-29T14:13:57.406Z"
   },
   {
    "duration": 8,
    "start_time": "2023-08-29T14:14:08.594Z"
   },
   {
    "duration": 8,
    "start_time": "2023-08-29T14:14:32.771Z"
   },
   {
    "duration": 13,
    "start_time": "2023-08-29T14:14:37.558Z"
   },
   {
    "duration": 8,
    "start_time": "2023-08-29T14:14:45.341Z"
   },
   {
    "duration": 8,
    "start_time": "2023-08-29T14:14:50.430Z"
   },
   {
    "duration": 178,
    "start_time": "2023-08-29T14:16:24.426Z"
   },
   {
    "duration": 7,
    "start_time": "2023-08-29T14:17:30.422Z"
   },
   {
    "duration": 117,
    "start_time": "2023-08-29T14:17:49.118Z"
   },
   {
    "duration": 170,
    "start_time": "2023-08-29T14:18:15.599Z"
   },
   {
    "duration": 229,
    "start_time": "2023-08-29T14:19:40.553Z"
   },
   {
    "duration": 142,
    "start_time": "2023-08-29T14:19:51.789Z"
   },
   {
    "duration": 36,
    "start_time": "2023-08-29T14:34:08.920Z"
   },
   {
    "duration": 1076,
    "start_time": "2023-08-29T14:38:26.290Z"
   },
   {
    "duration": 1055,
    "start_time": "2023-08-29T14:39:06.547Z"
   },
   {
    "duration": 1226,
    "start_time": "2023-08-29T14:39:15.293Z"
   },
   {
    "duration": 190,
    "start_time": "2023-08-29T14:39:16.521Z"
   },
   {
    "duration": 187,
    "start_time": "2023-08-29T14:39:16.712Z"
   },
   {
    "duration": 301,
    "start_time": "2023-08-29T14:39:16.901Z"
   },
   {
    "duration": 9,
    "start_time": "2023-08-29T14:39:17.204Z"
   },
   {
    "duration": 13,
    "start_time": "2023-08-29T14:39:17.215Z"
   },
   {
    "duration": 26,
    "start_time": "2023-08-29T14:39:17.230Z"
   },
   {
    "duration": 260,
    "start_time": "2023-08-29T14:39:17.258Z"
   },
   {
    "duration": 3,
    "start_time": "2023-08-29T14:39:17.520Z"
   },
   {
    "duration": 45,
    "start_time": "2023-08-29T14:39:17.526Z"
   },
   {
    "duration": 8,
    "start_time": "2023-08-29T14:39:17.573Z"
   },
   {
    "duration": 1098,
    "start_time": "2023-08-29T14:39:17.583Z"
   },
   {
    "duration": 14,
    "start_time": "2023-08-29T14:39:18.683Z"
   },
   {
    "duration": 8,
    "start_time": "2023-08-29T14:39:18.699Z"
   },
   {
    "duration": 24,
    "start_time": "2023-08-29T14:39:18.709Z"
   },
   {
    "duration": 39,
    "start_time": "2023-08-29T14:39:18.734Z"
   },
   {
    "duration": 9,
    "start_time": "2023-08-29T14:39:18.775Z"
   },
   {
    "duration": 1211,
    "start_time": "2023-08-29T14:39:18.786Z"
   },
   {
    "duration": 0,
    "start_time": "2023-08-29T14:39:19.999Z"
   },
   {
    "duration": 0,
    "start_time": "2023-08-29T14:39:20.001Z"
   },
   {
    "duration": 0,
    "start_time": "2023-08-29T14:39:20.003Z"
   },
   {
    "duration": 0,
    "start_time": "2023-08-29T14:39:20.004Z"
   },
   {
    "duration": 0,
    "start_time": "2023-08-29T14:39:20.006Z"
   },
   {
    "duration": 0,
    "start_time": "2023-08-29T14:39:20.007Z"
   },
   {
    "duration": 0,
    "start_time": "2023-08-29T14:39:20.009Z"
   },
   {
    "duration": 0,
    "start_time": "2023-08-29T14:39:20.010Z"
   },
   {
    "duration": 0,
    "start_time": "2023-08-29T14:39:20.011Z"
   },
   {
    "duration": 0,
    "start_time": "2023-08-29T14:39:20.013Z"
   },
   {
    "duration": 0,
    "start_time": "2023-08-29T14:39:20.014Z"
   },
   {
    "duration": 0,
    "start_time": "2023-08-29T14:39:20.016Z"
   },
   {
    "duration": 0,
    "start_time": "2023-08-29T14:39:20.047Z"
   },
   {
    "duration": 1053,
    "start_time": "2023-08-29T14:39:44.130Z"
   },
   {
    "duration": 1103,
    "start_time": "2023-08-29T14:39:50.319Z"
   },
   {
    "duration": 1103,
    "start_time": "2023-08-29T14:40:07.783Z"
   },
   {
    "duration": 1161,
    "start_time": "2023-08-29T14:41:04.446Z"
   },
   {
    "duration": 1076,
    "start_time": "2023-08-29T14:41:08.322Z"
   },
   {
    "duration": 1061,
    "start_time": "2023-08-29T14:41:25.507Z"
   },
   {
    "duration": 1077,
    "start_time": "2023-08-29T14:41:32.213Z"
   },
   {
    "duration": 1170,
    "start_time": "2023-08-29T14:42:05.823Z"
   },
   {
    "duration": 1289,
    "start_time": "2023-08-29T14:42:15.034Z"
   },
   {
    "duration": 1160,
    "start_time": "2023-08-29T14:42:36.160Z"
   },
   {
    "duration": 187,
    "start_time": "2023-08-29T14:42:37.322Z"
   },
   {
    "duration": 186,
    "start_time": "2023-08-29T14:42:37.511Z"
   },
   {
    "duration": 310,
    "start_time": "2023-08-29T14:42:37.700Z"
   },
   {
    "duration": 40,
    "start_time": "2023-08-29T14:42:38.012Z"
   },
   {
    "duration": 8,
    "start_time": "2023-08-29T14:42:38.053Z"
   },
   {
    "duration": 8,
    "start_time": "2023-08-29T14:42:38.062Z"
   },
   {
    "duration": 293,
    "start_time": "2023-08-29T14:42:38.072Z"
   },
   {
    "duration": 4,
    "start_time": "2023-08-29T14:42:38.366Z"
   },
   {
    "duration": 32,
    "start_time": "2023-08-29T14:42:38.373Z"
   },
   {
    "duration": 8,
    "start_time": "2023-08-29T14:42:38.407Z"
   },
   {
    "duration": 1137,
    "start_time": "2023-08-29T14:42:38.417Z"
   },
   {
    "duration": 10,
    "start_time": "2023-08-29T14:42:39.556Z"
   },
   {
    "duration": 22,
    "start_time": "2023-08-29T14:42:39.568Z"
   },
   {
    "duration": 24,
    "start_time": "2023-08-29T14:42:39.592Z"
   },
   {
    "duration": 52,
    "start_time": "2023-08-29T14:42:39.617Z"
   },
   {
    "duration": 11,
    "start_time": "2023-08-29T14:42:39.671Z"
   },
   {
    "duration": 1135,
    "start_time": "2023-08-29T14:42:39.684Z"
   },
   {
    "duration": 145,
    "start_time": "2023-08-29T14:42:40.820Z"
   },
   {
    "duration": 26,
    "start_time": "2023-08-29T14:42:40.967Z"
   },
   {
    "duration": 199,
    "start_time": "2023-08-29T14:42:40.995Z"
   },
   {
    "duration": 7,
    "start_time": "2023-08-29T14:42:41.196Z"
   },
   {
    "duration": 81,
    "start_time": "2023-08-29T14:42:41.205Z"
   },
   {
    "duration": 1110,
    "start_time": "2023-08-29T14:42:41.287Z"
   },
   {
    "duration": 51,
    "start_time": "2023-08-29T14:42:42.399Z"
   },
   {
    "duration": 280,
    "start_time": "2023-08-29T14:42:42.452Z"
   },
   {
    "duration": 274,
    "start_time": "2023-08-29T14:42:42.734Z"
   },
   {
    "duration": 10,
    "start_time": "2023-08-29T14:42:43.012Z"
   },
   {
    "duration": 29,
    "start_time": "2023-08-29T14:42:43.024Z"
   },
   {
    "duration": 14,
    "start_time": "2023-08-29T14:42:43.055Z"
   },
   {
    "duration": 19,
    "start_time": "2023-08-29T14:42:43.071Z"
   },
   {
    "duration": 47,
    "start_time": "2023-08-29T18:37:58.527Z"
   },
   {
    "duration": 33,
    "start_time": "2023-08-29T18:38:09.942Z"
   },
   {
    "duration": 22,
    "start_time": "2023-08-29T18:38:23.590Z"
   },
   {
    "duration": 31,
    "start_time": "2023-08-29T18:38:27.527Z"
   },
   {
    "duration": 36,
    "start_time": "2023-08-29T18:38:35.378Z"
   },
   {
    "duration": 23,
    "start_time": "2023-08-29T18:38:55.702Z"
   },
   {
    "duration": 23,
    "start_time": "2023-08-29T18:40:30.621Z"
   },
   {
    "duration": 25,
    "start_time": "2023-08-29T18:40:39.369Z"
   },
   {
    "duration": 25,
    "start_time": "2023-08-29T18:40:42.986Z"
   },
   {
    "duration": 22,
    "start_time": "2023-08-29T18:41:42.586Z"
   },
   {
    "duration": 26,
    "start_time": "2023-08-29T18:41:49.569Z"
   },
   {
    "duration": 34,
    "start_time": "2023-08-29T18:42:01.691Z"
   },
   {
    "duration": 7,
    "start_time": "2023-08-29T19:02:07.110Z"
   },
   {
    "duration": 5,
    "start_time": "2023-08-29T19:02:17.467Z"
   },
   {
    "duration": 7,
    "start_time": "2023-08-29T19:02:20.521Z"
   },
   {
    "duration": 9,
    "start_time": "2023-08-29T19:18:46.599Z"
   },
   {
    "duration": 41,
    "start_time": "2023-08-29T19:22:22.239Z"
   },
   {
    "duration": 151,
    "start_time": "2023-08-29T19:23:00.588Z"
   },
   {
    "duration": 164,
    "start_time": "2023-08-29T19:23:13.143Z"
   },
   {
    "duration": 75,
    "start_time": "2023-08-30T05:36:57.693Z"
   },
   {
    "duration": 7,
    "start_time": "2023-08-30T05:37:44.730Z"
   },
   {
    "duration": 1165,
    "start_time": "2023-08-30T05:37:48.821Z"
   },
   {
    "duration": 527,
    "start_time": "2023-08-30T05:37:49.988Z"
   },
   {
    "duration": 148,
    "start_time": "2023-08-30T05:37:50.517Z"
   },
   {
    "duration": 262,
    "start_time": "2023-08-30T05:37:50.667Z"
   },
   {
    "duration": 9,
    "start_time": "2023-08-30T05:37:50.931Z"
   },
   {
    "duration": 26,
    "start_time": "2023-08-30T05:37:50.942Z"
   },
   {
    "duration": 21,
    "start_time": "2023-08-30T05:37:50.970Z"
   },
   {
    "duration": 252,
    "start_time": "2023-08-30T05:37:50.993Z"
   },
   {
    "duration": 4,
    "start_time": "2023-08-30T05:37:51.246Z"
   },
   {
    "duration": 35,
    "start_time": "2023-08-30T05:37:51.253Z"
   },
   {
    "duration": 32,
    "start_time": "2023-08-30T05:37:51.290Z"
   },
   {
    "duration": 933,
    "start_time": "2023-08-30T05:37:51.324Z"
   },
   {
    "duration": 13,
    "start_time": "2023-08-30T05:37:52.259Z"
   },
   {
    "duration": 6,
    "start_time": "2023-08-30T05:37:52.273Z"
   },
   {
    "duration": 6,
    "start_time": "2023-08-30T05:37:52.281Z"
   },
   {
    "duration": 25,
    "start_time": "2023-08-30T05:37:52.289Z"
   },
   {
    "duration": 38,
    "start_time": "2023-08-30T05:37:52.316Z"
   },
   {
    "duration": 1061,
    "start_time": "2023-08-30T05:37:52.356Z"
   },
   {
    "duration": 122,
    "start_time": "2023-08-30T05:37:53.419Z"
   },
   {
    "duration": 39,
    "start_time": "2023-08-30T05:37:53.543Z"
   },
   {
    "duration": 179,
    "start_time": "2023-08-30T05:37:53.584Z"
   },
   {
    "duration": 5,
    "start_time": "2023-08-30T05:37:53.765Z"
   },
   {
    "duration": 22,
    "start_time": "2023-08-30T05:37:53.772Z"
   },
   {
    "duration": 125,
    "start_time": "2023-08-30T05:37:53.796Z"
   },
   {
    "duration": 0,
    "start_time": "2023-08-30T05:37:53.922Z"
   },
   {
    "duration": 0,
    "start_time": "2023-08-30T05:37:53.924Z"
   },
   {
    "duration": 0,
    "start_time": "2023-08-30T05:37:53.925Z"
   },
   {
    "duration": 19,
    "start_time": "2023-08-30T05:38:18.246Z"
   },
   {
    "duration": 298,
    "start_time": "2023-08-30T05:38:29.569Z"
   },
   {
    "duration": 237,
    "start_time": "2023-08-30T05:38:50.575Z"
   },
   {
    "duration": 236,
    "start_time": "2023-08-30T05:38:58.616Z"
   },
   {
    "duration": 264,
    "start_time": "2023-08-30T05:39:06.236Z"
   },
   {
    "duration": 1091,
    "start_time": "2023-08-30T05:50:27.026Z"
   },
   {
    "duration": 166,
    "start_time": "2023-08-30T05:50:28.119Z"
   },
   {
    "duration": 159,
    "start_time": "2023-08-30T05:50:28.287Z"
   },
   {
    "duration": 285,
    "start_time": "2023-08-30T05:50:28.451Z"
   },
   {
    "duration": 12,
    "start_time": "2023-08-30T05:50:28.738Z"
   },
   {
    "duration": 12,
    "start_time": "2023-08-30T05:50:28.752Z"
   },
   {
    "duration": 16,
    "start_time": "2023-08-30T05:50:28.765Z"
   },
   {
    "duration": 201,
    "start_time": "2023-08-30T05:50:28.782Z"
   },
   {
    "duration": 4,
    "start_time": "2023-08-30T05:50:28.984Z"
   },
   {
    "duration": 50,
    "start_time": "2023-08-30T05:50:28.991Z"
   },
   {
    "duration": 9,
    "start_time": "2023-08-30T05:50:29.042Z"
   },
   {
    "duration": 998,
    "start_time": "2023-08-30T05:50:29.052Z"
   },
   {
    "duration": 10,
    "start_time": "2023-08-30T05:50:30.052Z"
   },
   {
    "duration": 30,
    "start_time": "2023-08-30T05:50:30.063Z"
   },
   {
    "duration": 41,
    "start_time": "2023-08-30T05:50:30.095Z"
   },
   {
    "duration": 41,
    "start_time": "2023-08-30T05:50:30.138Z"
   },
   {
    "duration": 9,
    "start_time": "2023-08-30T05:50:30.181Z"
   },
   {
    "duration": 966,
    "start_time": "2023-08-30T05:50:30.192Z"
   },
   {
    "duration": 167,
    "start_time": "2023-08-30T05:50:31.160Z"
   },
   {
    "duration": 48,
    "start_time": "2023-08-30T05:50:31.329Z"
   },
   {
    "duration": 218,
    "start_time": "2023-08-30T05:50:31.379Z"
   },
   {
    "duration": 6,
    "start_time": "2023-08-30T05:50:31.599Z"
   },
   {
    "duration": 80,
    "start_time": "2023-08-30T05:50:31.606Z"
   },
   {
    "duration": 271,
    "start_time": "2023-08-30T05:50:31.688Z"
   },
   {
    "duration": 6,
    "start_time": "2023-08-30T05:50:31.961Z"
   },
   {
    "duration": 38,
    "start_time": "2023-08-30T05:50:31.969Z"
   },
   {
    "duration": 138,
    "start_time": "2023-08-30T05:50:32.008Z"
   },
   {
    "duration": 1093,
    "start_time": "2023-08-30T06:34:26.848Z"
   },
   {
    "duration": 232,
    "start_time": "2023-08-30T06:34:27.942Z"
   },
   {
    "duration": 154,
    "start_time": "2023-08-30T06:34:28.175Z"
   },
   {
    "duration": 287,
    "start_time": "2023-08-30T06:34:28.330Z"
   },
   {
    "duration": 9,
    "start_time": "2023-08-30T06:34:28.619Z"
   },
   {
    "duration": 19,
    "start_time": "2023-08-30T06:34:28.630Z"
   },
   {
    "duration": 9,
    "start_time": "2023-08-30T06:34:28.651Z"
   },
   {
    "duration": 279,
    "start_time": "2023-08-30T06:34:28.662Z"
   },
   {
    "duration": 3,
    "start_time": "2023-08-30T06:34:28.951Z"
   },
   {
    "duration": 30,
    "start_time": "2023-08-30T06:34:28.955Z"
   },
   {
    "duration": 6,
    "start_time": "2023-08-30T06:34:28.987Z"
   },
   {
    "duration": 965,
    "start_time": "2023-08-30T06:34:28.995Z"
   },
   {
    "duration": 10,
    "start_time": "2023-08-30T06:34:29.961Z"
   },
   {
    "duration": 5,
    "start_time": "2023-08-30T06:34:29.973Z"
   },
   {
    "duration": 11,
    "start_time": "2023-08-30T06:34:29.980Z"
   },
   {
    "duration": 30,
    "start_time": "2023-08-30T06:34:29.992Z"
   },
   {
    "duration": 51,
    "start_time": "2023-08-30T06:34:30.024Z"
   },
   {
    "duration": 1004,
    "start_time": "2023-08-30T06:34:30.076Z"
   },
   {
    "duration": 134,
    "start_time": "2023-08-30T06:34:31.082Z"
   },
   {
    "duration": 22,
    "start_time": "2023-08-30T06:34:31.218Z"
   },
   {
    "duration": 196,
    "start_time": "2023-08-30T06:34:31.249Z"
   },
   {
    "duration": 6,
    "start_time": "2023-08-30T06:34:31.447Z"
   },
   {
    "duration": 111,
    "start_time": "2023-08-30T06:34:31.454Z"
   },
   {
    "duration": 279,
    "start_time": "2023-08-30T06:34:31.567Z"
   },
   {
    "duration": 6,
    "start_time": "2023-08-30T06:34:31.849Z"
   },
   {
    "duration": 40,
    "start_time": "2023-08-30T06:34:31.856Z"
   },
   {
    "duration": 143,
    "start_time": "2023-08-30T06:34:31.897Z"
   },
   {
    "duration": 10,
    "start_time": "2023-08-30T06:34:32.042Z"
   },
   {
    "duration": 114,
    "start_time": "2023-08-30T07:06:22.320Z"
   },
   {
    "duration": 1121,
    "start_time": "2023-08-30T07:07:21.976Z"
   },
   {
    "duration": 166,
    "start_time": "2023-08-30T07:07:23.099Z"
   },
   {
    "duration": 184,
    "start_time": "2023-08-30T07:07:23.269Z"
   },
   {
    "duration": 336,
    "start_time": "2023-08-30T07:07:23.455Z"
   },
   {
    "duration": 9,
    "start_time": "2023-08-30T07:07:23.792Z"
   },
   {
    "duration": 23,
    "start_time": "2023-08-30T07:07:23.803Z"
   },
   {
    "duration": 9,
    "start_time": "2023-08-30T07:07:23.828Z"
   },
   {
    "duration": 224,
    "start_time": "2023-08-30T07:07:23.839Z"
   },
   {
    "duration": 4,
    "start_time": "2023-08-30T07:07:24.067Z"
   },
   {
    "duration": 38,
    "start_time": "2023-08-30T07:07:24.072Z"
   },
   {
    "duration": 9,
    "start_time": "2023-08-30T07:07:24.112Z"
   },
   {
    "duration": 1014,
    "start_time": "2023-08-30T07:07:24.123Z"
   },
   {
    "duration": 15,
    "start_time": "2023-08-30T07:07:25.141Z"
   },
   {
    "duration": 15,
    "start_time": "2023-08-30T07:07:25.158Z"
   },
   {
    "duration": 17,
    "start_time": "2023-08-30T07:07:25.175Z"
   },
   {
    "duration": 73,
    "start_time": "2023-08-30T07:07:25.194Z"
   },
   {
    "duration": 19,
    "start_time": "2023-08-30T07:07:25.269Z"
   },
   {
    "duration": 1459,
    "start_time": "2023-08-30T07:07:25.290Z"
   },
   {
    "duration": 133,
    "start_time": "2023-08-30T07:07:26.751Z"
   },
   {
    "duration": 24,
    "start_time": "2023-08-30T07:07:26.886Z"
   },
   {
    "duration": 217,
    "start_time": "2023-08-30T07:07:26.912Z"
   },
   {
    "duration": 6,
    "start_time": "2023-08-30T07:07:27.132Z"
   },
   {
    "duration": 35,
    "start_time": "2023-08-30T07:07:27.149Z"
   },
   {
    "duration": 296,
    "start_time": "2023-08-30T07:07:27.186Z"
   },
   {
    "duration": 8,
    "start_time": "2023-08-30T07:07:27.484Z"
   },
   {
    "duration": 39,
    "start_time": "2023-08-30T07:07:27.497Z"
   },
   {
    "duration": 142,
    "start_time": "2023-08-30T07:07:27.549Z"
   },
   {
    "duration": 4,
    "start_time": "2023-08-30T07:07:27.693Z"
   },
   {
    "duration": 164,
    "start_time": "2023-08-30T07:07:27.699Z"
   },
   {
    "duration": 23,
    "start_time": "2023-08-30T07:08:00.051Z"
   },
   {
    "duration": 69,
    "start_time": "2023-08-30T07:08:30.251Z"
   },
   {
    "duration": 94,
    "start_time": "2023-08-30T07:09:44.615Z"
   },
   {
    "duration": 17,
    "start_time": "2023-08-30T07:12:12.327Z"
   },
   {
    "duration": 3316,
    "start_time": "2023-08-30T07:12:54.113Z"
   },
   {
    "duration": 434,
    "start_time": "2023-08-30T07:12:57.433Z"
   },
   {
    "duration": 243,
    "start_time": "2023-08-30T07:12:57.869Z"
   },
   {
    "duration": 446,
    "start_time": "2023-08-30T07:12:58.115Z"
   },
   {
    "duration": 13,
    "start_time": "2023-08-30T07:12:58.563Z"
   },
   {
    "duration": 30,
    "start_time": "2023-08-30T07:12:58.578Z"
   },
   {
    "duration": 42,
    "start_time": "2023-08-30T07:12:58.611Z"
   },
   {
    "duration": 373,
    "start_time": "2023-08-30T07:12:58.656Z"
   },
   {
    "duration": 9,
    "start_time": "2023-08-30T07:12:59.032Z"
   },
   {
    "duration": 68,
    "start_time": "2023-08-30T07:12:59.045Z"
   },
   {
    "duration": 10,
    "start_time": "2023-08-30T07:12:59.115Z"
   },
   {
    "duration": 1750,
    "start_time": "2023-08-30T07:12:59.127Z"
   },
   {
    "duration": 14,
    "start_time": "2023-08-30T07:13:00.879Z"
   },
   {
    "duration": 99,
    "start_time": "2023-08-30T07:13:00.897Z"
   },
   {
    "duration": 54,
    "start_time": "2023-08-30T07:13:00.998Z"
   },
   {
    "duration": 111,
    "start_time": "2023-08-30T07:13:01.055Z"
   },
   {
    "duration": 53,
    "start_time": "2023-08-30T07:13:01.168Z"
   },
   {
    "duration": 1983,
    "start_time": "2023-08-30T07:13:01.223Z"
   },
   {
    "duration": 211,
    "start_time": "2023-08-30T07:13:03.208Z"
   },
   {
    "duration": 40,
    "start_time": "2023-08-30T07:13:03.422Z"
   },
   {
    "duration": 257,
    "start_time": "2023-08-30T07:13:03.465Z"
   },
   {
    "duration": 8,
    "start_time": "2023-08-30T07:13:03.725Z"
   },
   {
    "duration": 50,
    "start_time": "2023-08-30T07:13:03.735Z"
   },
   {
    "duration": 457,
    "start_time": "2023-08-30T07:13:03.787Z"
   },
   {
    "duration": 12,
    "start_time": "2023-08-30T07:13:04.246Z"
   },
   {
    "duration": 55,
    "start_time": "2023-08-30T07:13:04.260Z"
   },
   {
    "duration": 203,
    "start_time": "2023-08-30T07:13:04.317Z"
   },
   {
    "duration": 7,
    "start_time": "2023-08-30T07:13:04.526Z"
   },
   {
    "duration": 251,
    "start_time": "2023-08-30T07:13:04.534Z"
   },
   {
    "duration": 0,
    "start_time": "2023-08-30T07:13:04.787Z"
   },
   {
    "duration": 77,
    "start_time": "2023-08-30T07:14:24.338Z"
   },
   {
    "duration": 33,
    "start_time": "2023-08-30T07:14:43.542Z"
   },
   {
    "duration": 8,
    "start_time": "2023-08-30T07:15:17.757Z"
   },
   {
    "duration": 83,
    "start_time": "2023-08-30T07:15:20.462Z"
   },
   {
    "duration": 13,
    "start_time": "2023-08-30T07:15:22.197Z"
   },
   {
    "duration": 8,
    "start_time": "2023-08-30T07:15:35.577Z"
   },
   {
    "duration": 14,
    "start_time": "2023-08-30T07:15:38.081Z"
   },
   {
    "duration": 99,
    "start_time": "2023-08-30T07:22:31.450Z"
   },
   {
    "duration": 1991,
    "start_time": "2023-08-30T07:23:25.588Z"
   },
   {
    "duration": 15,
    "start_time": "2023-08-30T07:23:39.677Z"
   },
   {
    "duration": 104,
    "start_time": "2023-08-30T07:26:02.881Z"
   },
   {
    "duration": 139,
    "start_time": "2023-08-30T07:26:22.221Z"
   },
   {
    "duration": 14,
    "start_time": "2023-08-30T07:27:03.752Z"
   },
   {
    "duration": 2181,
    "start_time": "2023-08-30T07:27:28.487Z"
   },
   {
    "duration": 15,
    "start_time": "2023-08-30T07:27:38.545Z"
   },
   {
    "duration": 16,
    "start_time": "2023-08-30T07:30:42.423Z"
   },
   {
    "duration": 128,
    "start_time": "2023-08-30T07:30:55.285Z"
   },
   {
    "duration": 117,
    "start_time": "2023-08-30T07:31:03.399Z"
   },
   {
    "duration": 119,
    "start_time": "2023-08-30T07:32:44.338Z"
   },
   {
    "duration": 9,
    "start_time": "2023-08-30T07:33:13.722Z"
   },
   {
    "duration": 13,
    "start_time": "2023-08-30T07:33:26.020Z"
   },
   {
    "duration": 4,
    "start_time": "2023-08-30T07:53:04.992Z"
   },
   {
    "duration": 3,
    "start_time": "2023-08-30T07:53:09.669Z"
   },
   {
    "duration": 1097,
    "start_time": "2023-08-30T07:53:37.192Z"
   },
   {
    "duration": 163,
    "start_time": "2023-08-30T07:53:38.291Z"
   },
   {
    "duration": 245,
    "start_time": "2023-08-30T07:53:38.456Z"
   },
   {
    "duration": 273,
    "start_time": "2023-08-30T07:53:38.704Z"
   },
   {
    "duration": 8,
    "start_time": "2023-08-30T07:53:38.979Z"
   },
   {
    "duration": 22,
    "start_time": "2023-08-30T07:53:38.988Z"
   },
   {
    "duration": 21,
    "start_time": "2023-08-30T07:53:39.011Z"
   },
   {
    "duration": 211,
    "start_time": "2023-08-30T07:53:39.034Z"
   },
   {
    "duration": 3,
    "start_time": "2023-08-30T07:53:39.247Z"
   },
   {
    "duration": 42,
    "start_time": "2023-08-30T07:53:39.253Z"
   },
   {
    "duration": 6,
    "start_time": "2023-08-30T07:53:39.297Z"
   },
   {
    "duration": 1145,
    "start_time": "2023-08-30T07:53:39.304Z"
   },
   {
    "duration": 11,
    "start_time": "2023-08-30T07:53:40.451Z"
   },
   {
    "duration": 38,
    "start_time": "2023-08-30T07:53:40.465Z"
   },
   {
    "duration": 51,
    "start_time": "2023-08-30T07:53:40.505Z"
   },
   {
    "duration": 75,
    "start_time": "2023-08-30T07:53:40.558Z"
   },
   {
    "duration": 15,
    "start_time": "2023-08-30T07:53:40.635Z"
   },
   {
    "duration": 998,
    "start_time": "2023-08-30T07:53:40.652Z"
   },
   {
    "duration": 147,
    "start_time": "2023-08-30T07:53:41.651Z"
   },
   {
    "duration": 27,
    "start_time": "2023-08-30T07:53:41.800Z"
   },
   {
    "duration": 206,
    "start_time": "2023-08-30T07:53:41.829Z"
   },
   {
    "duration": 7,
    "start_time": "2023-08-30T07:53:42.037Z"
   },
   {
    "duration": 35,
    "start_time": "2023-08-30T07:53:42.050Z"
   },
   {
    "duration": 296,
    "start_time": "2023-08-30T07:53:42.086Z"
   },
   {
    "duration": 5,
    "start_time": "2023-08-30T07:53:42.385Z"
   },
   {
    "duration": 32,
    "start_time": "2023-08-30T07:53:42.392Z"
   },
   {
    "duration": 169,
    "start_time": "2023-08-30T07:53:42.426Z"
   },
   {
    "duration": 5,
    "start_time": "2023-08-30T07:53:42.598Z"
   },
   {
    "duration": 85,
    "start_time": "2023-08-30T07:53:42.604Z"
   },
   {
    "duration": 9,
    "start_time": "2023-08-30T07:53:42.691Z"
   },
   {
    "duration": 77,
    "start_time": "2023-08-30T07:53:42.701Z"
   },
   {
    "duration": 10,
    "start_time": "2023-08-30T07:53:42.780Z"
   },
   {
    "duration": 80,
    "start_time": "2023-08-30T07:53:42.791Z"
   },
   {
    "duration": 9,
    "start_time": "2023-08-30T07:53:42.872Z"
   },
   {
    "duration": 181,
    "start_time": "2023-08-30T07:53:42.882Z"
   },
   {
    "duration": 0,
    "start_time": "2023-08-30T07:53:43.065Z"
   },
   {
    "duration": 0,
    "start_time": "2023-08-30T07:53:43.066Z"
   },
   {
    "duration": 73,
    "start_time": "2023-08-30T07:54:23.552Z"
   },
   {
    "duration": 19,
    "start_time": "2023-08-30T07:54:25.441Z"
   },
   {
    "duration": 4,
    "start_time": "2023-08-30T07:57:50.280Z"
   },
   {
    "duration": 4,
    "start_time": "2023-08-30T07:58:31.807Z"
   },
   {
    "duration": 1284,
    "start_time": "2023-08-30T08:00:36.123Z"
   },
   {
    "duration": 369,
    "start_time": "2023-08-30T08:00:37.409Z"
   },
   {
    "duration": 208,
    "start_time": "2023-08-30T08:00:37.780Z"
   },
   {
    "duration": 329,
    "start_time": "2023-08-30T08:00:37.990Z"
   },
   {
    "duration": 11,
    "start_time": "2023-08-30T08:00:38.321Z"
   },
   {
    "duration": 18,
    "start_time": "2023-08-30T08:00:38.333Z"
   },
   {
    "duration": 23,
    "start_time": "2023-08-30T08:00:38.353Z"
   },
   {
    "duration": 253,
    "start_time": "2023-08-30T08:00:38.377Z"
   },
   {
    "duration": 3,
    "start_time": "2023-08-30T08:00:38.632Z"
   },
   {
    "duration": 63,
    "start_time": "2023-08-30T08:00:38.638Z"
   },
   {
    "duration": 10,
    "start_time": "2023-08-30T08:00:38.704Z"
   },
   {
    "duration": 1123,
    "start_time": "2023-08-30T08:00:38.716Z"
   },
   {
    "duration": 23,
    "start_time": "2023-08-30T08:00:39.841Z"
   },
   {
    "duration": 6,
    "start_time": "2023-08-30T08:00:39.869Z"
   },
   {
    "duration": 12,
    "start_time": "2023-08-30T08:00:39.876Z"
   },
   {
    "duration": 46,
    "start_time": "2023-08-30T08:00:39.890Z"
   },
   {
    "duration": 12,
    "start_time": "2023-08-30T08:00:39.938Z"
   },
   {
    "duration": 1064,
    "start_time": "2023-08-30T08:00:39.952Z"
   },
   {
    "duration": 150,
    "start_time": "2023-08-30T08:00:41.018Z"
   },
   {
    "duration": 23,
    "start_time": "2023-08-30T08:00:41.170Z"
   },
   {
    "duration": 207,
    "start_time": "2023-08-30T08:00:41.194Z"
   },
   {
    "duration": 8,
    "start_time": "2023-08-30T08:00:41.403Z"
   },
   {
    "duration": 34,
    "start_time": "2023-08-30T08:00:41.413Z"
   },
   {
    "duration": 285,
    "start_time": "2023-08-30T08:00:41.448Z"
   },
   {
    "duration": 8,
    "start_time": "2023-08-30T08:00:41.735Z"
   },
   {
    "duration": 54,
    "start_time": "2023-08-30T08:00:41.745Z"
   },
   {
    "duration": 164,
    "start_time": "2023-08-30T08:00:41.801Z"
   },
   {
    "duration": 9,
    "start_time": "2023-08-30T08:00:41.970Z"
   },
   {
    "duration": 103,
    "start_time": "2023-08-30T08:00:41.981Z"
   },
   {
    "duration": 11,
    "start_time": "2023-08-30T08:00:42.086Z"
   },
   {
    "duration": 106,
    "start_time": "2023-08-30T08:00:42.099Z"
   },
   {
    "duration": 10,
    "start_time": "2023-08-30T08:00:42.207Z"
   },
   {
    "duration": 93,
    "start_time": "2023-08-30T08:00:42.218Z"
   },
   {
    "duration": 18,
    "start_time": "2023-08-30T08:00:42.314Z"
   },
   {
    "duration": 90,
    "start_time": "2023-08-30T08:00:42.349Z"
   },
   {
    "duration": 21,
    "start_time": "2023-08-30T08:00:42.441Z"
   },
   {
    "duration": 4,
    "start_time": "2023-08-30T08:00:42.464Z"
   },
   {
    "duration": 194,
    "start_time": "2023-08-30T08:22:40.301Z"
   },
   {
    "duration": 4,
    "start_time": "2023-08-30T08:30:53.016Z"
   },
   {
    "duration": 1011,
    "start_time": "2023-08-30T08:53:17.270Z"
   },
   {
    "duration": 160,
    "start_time": "2023-08-30T08:53:18.283Z"
   },
   {
    "duration": 162,
    "start_time": "2023-08-30T08:53:18.445Z"
   },
   {
    "duration": 265,
    "start_time": "2023-08-30T08:53:18.609Z"
   },
   {
    "duration": 8,
    "start_time": "2023-08-30T08:53:18.876Z"
   },
   {
    "duration": 34,
    "start_time": "2023-08-30T08:53:18.886Z"
   },
   {
    "duration": 38,
    "start_time": "2023-08-30T08:53:18.922Z"
   },
   {
    "duration": 225,
    "start_time": "2023-08-30T08:53:18.963Z"
   },
   {
    "duration": 4,
    "start_time": "2023-08-30T08:53:19.189Z"
   },
   {
    "duration": 41,
    "start_time": "2023-08-30T08:53:19.196Z"
   },
   {
    "duration": 6,
    "start_time": "2023-08-30T08:53:19.239Z"
   },
   {
    "duration": 964,
    "start_time": "2023-08-30T08:53:19.249Z"
   },
   {
    "duration": 9,
    "start_time": "2023-08-30T08:53:20.215Z"
   },
   {
    "duration": 35,
    "start_time": "2023-08-30T08:53:20.225Z"
   },
   {
    "duration": 13,
    "start_time": "2023-08-30T08:53:20.261Z"
   },
   {
    "duration": 59,
    "start_time": "2023-08-30T08:53:20.277Z"
   },
   {
    "duration": 13,
    "start_time": "2023-08-30T08:53:20.338Z"
   },
   {
    "duration": 966,
    "start_time": "2023-08-30T08:53:20.353Z"
   },
   {
    "duration": 128,
    "start_time": "2023-08-30T08:53:21.321Z"
   },
   {
    "duration": 22,
    "start_time": "2023-08-30T08:53:21.451Z"
   },
   {
    "duration": 167,
    "start_time": "2023-08-30T08:53:21.474Z"
   },
   {
    "duration": 10,
    "start_time": "2023-08-30T08:53:21.643Z"
   },
   {
    "duration": 29,
    "start_time": "2023-08-30T08:53:21.654Z"
   },
   {
    "duration": 275,
    "start_time": "2023-08-30T08:53:21.685Z"
   },
   {
    "duration": 6,
    "start_time": "2023-08-30T08:53:21.962Z"
   },
   {
    "duration": 62,
    "start_time": "2023-08-30T08:53:21.969Z"
   },
   {
    "duration": 127,
    "start_time": "2023-08-30T08:53:22.033Z"
   },
   {
    "duration": 5,
    "start_time": "2023-08-30T08:53:22.163Z"
   },
   {
    "duration": 101,
    "start_time": "2023-08-30T08:53:22.169Z"
   },
   {
    "duration": 11,
    "start_time": "2023-08-30T08:53:22.271Z"
   },
   {
    "duration": 114,
    "start_time": "2023-08-30T08:53:22.284Z"
   },
   {
    "duration": 10,
    "start_time": "2023-08-30T08:53:22.400Z"
   },
   {
    "duration": 97,
    "start_time": "2023-08-30T08:53:22.411Z"
   },
   {
    "duration": 10,
    "start_time": "2023-08-30T08:53:22.509Z"
   },
   {
    "duration": 85,
    "start_time": "2023-08-30T08:53:22.520Z"
   },
   {
    "duration": 10,
    "start_time": "2023-08-30T08:53:22.606Z"
   },
   {
    "duration": 4,
    "start_time": "2023-08-30T08:53:22.617Z"
   },
   {
    "duration": 1275,
    "start_time": "2023-08-30T09:37:32.811Z"
   },
   {
    "duration": 580,
    "start_time": "2023-08-30T09:37:34.088Z"
   },
   {
    "duration": 205,
    "start_time": "2023-08-30T09:37:34.670Z"
   },
   {
    "duration": 305,
    "start_time": "2023-08-30T09:37:34.876Z"
   },
   {
    "duration": 17,
    "start_time": "2023-08-30T09:37:35.184Z"
   },
   {
    "duration": 29,
    "start_time": "2023-08-30T09:37:35.203Z"
   },
   {
    "duration": 15,
    "start_time": "2023-08-30T09:37:35.234Z"
   },
   {
    "duration": 243,
    "start_time": "2023-08-30T09:37:35.251Z"
   },
   {
    "duration": 6,
    "start_time": "2023-08-30T09:37:35.496Z"
   },
   {
    "duration": 55,
    "start_time": "2023-08-30T09:37:35.504Z"
   },
   {
    "duration": 15,
    "start_time": "2023-08-30T09:37:35.561Z"
   },
   {
    "duration": 1062,
    "start_time": "2023-08-30T09:37:35.578Z"
   },
   {
    "duration": 10,
    "start_time": "2023-08-30T09:37:36.641Z"
   },
   {
    "duration": 21,
    "start_time": "2023-08-30T09:37:36.654Z"
   },
   {
    "duration": 15,
    "start_time": "2023-08-30T09:37:36.676Z"
   },
   {
    "duration": 49,
    "start_time": "2023-08-30T09:37:36.693Z"
   },
   {
    "duration": 8,
    "start_time": "2023-08-30T09:37:36.744Z"
   },
   {
    "duration": 1202,
    "start_time": "2023-08-30T09:37:36.754Z"
   },
   {
    "duration": 159,
    "start_time": "2023-08-30T09:37:37.958Z"
   },
   {
    "duration": 26,
    "start_time": "2023-08-30T09:37:38.118Z"
   },
   {
    "duration": 207,
    "start_time": "2023-08-30T09:37:38.146Z"
   },
   {
    "duration": 8,
    "start_time": "2023-08-30T09:37:38.355Z"
   },
   {
    "duration": 109,
    "start_time": "2023-08-30T09:37:38.365Z"
   },
   {
    "duration": 355,
    "start_time": "2023-08-30T09:37:38.476Z"
   },
   {
    "duration": 9,
    "start_time": "2023-08-30T09:37:38.833Z"
   },
   {
    "duration": 58,
    "start_time": "2023-08-30T09:37:38.844Z"
   },
   {
    "duration": 160,
    "start_time": "2023-08-30T09:37:38.904Z"
   },
   {
    "duration": 5,
    "start_time": "2023-08-30T09:37:39.066Z"
   },
   {
    "duration": 89,
    "start_time": "2023-08-30T09:37:39.073Z"
   },
   {
    "duration": 12,
    "start_time": "2023-08-30T09:37:39.164Z"
   },
   {
    "duration": 98,
    "start_time": "2023-08-30T09:37:39.177Z"
   },
   {
    "duration": 24,
    "start_time": "2023-08-30T09:37:39.277Z"
   },
   {
    "duration": 99,
    "start_time": "2023-08-30T09:37:39.303Z"
   },
   {
    "duration": 12,
    "start_time": "2023-08-30T09:37:39.404Z"
   },
   {
    "duration": 153,
    "start_time": "2023-08-30T09:37:39.418Z"
   },
   {
    "duration": 12,
    "start_time": "2023-08-30T09:37:39.572Z"
   },
   {
    "duration": 34,
    "start_time": "2023-08-30T09:37:39.586Z"
   },
   {
    "duration": 5,
    "start_time": "2023-08-30T09:41:47.582Z"
   },
   {
    "duration": 15,
    "start_time": "2023-08-30T09:42:27.983Z"
   },
   {
    "duration": 5,
    "start_time": "2023-08-30T09:44:07.837Z"
   },
   {
    "duration": 14,
    "start_time": "2023-08-30T09:44:10.382Z"
   },
   {
    "duration": 67,
    "start_time": "2023-08-30T09:44:10.990Z"
   },
   {
    "duration": 15,
    "start_time": "2023-08-30T09:44:11.298Z"
   },
   {
    "duration": 63,
    "start_time": "2023-08-30T09:44:11.902Z"
   },
   {
    "duration": 12,
    "start_time": "2023-08-30T09:44:12.343Z"
   },
   {
    "duration": 85,
    "start_time": "2023-08-30T09:44:13.247Z"
   },
   {
    "duration": 14,
    "start_time": "2023-08-30T09:44:13.617Z"
   },
   {
    "duration": 47,
    "start_time": "2023-08-31T05:08:17.294Z"
   },
   {
    "duration": 1244,
    "start_time": "2023-08-31T05:08:23.051Z"
   },
   {
    "duration": 567,
    "start_time": "2023-08-31T05:08:24.297Z"
   },
   {
    "duration": 217,
    "start_time": "2023-08-31T05:08:24.866Z"
   },
   {
    "duration": 268,
    "start_time": "2023-08-31T05:08:25.086Z"
   },
   {
    "duration": 9,
    "start_time": "2023-08-31T05:08:25.355Z"
   },
   {
    "duration": 5,
    "start_time": "2023-08-31T05:08:25.366Z"
   },
   {
    "duration": 9,
    "start_time": "2023-08-31T05:08:25.372Z"
   },
   {
    "duration": 226,
    "start_time": "2023-08-31T05:08:25.383Z"
   },
   {
    "duration": 196,
    "start_time": "2023-08-31T05:08:25.611Z"
   },
   {
    "duration": 0,
    "start_time": "2023-08-31T05:08:25.810Z"
   },
   {
    "duration": 0,
    "start_time": "2023-08-31T05:08:25.811Z"
   },
   {
    "duration": 0,
    "start_time": "2023-08-31T05:08:25.813Z"
   },
   {
    "duration": 0,
    "start_time": "2023-08-31T05:08:25.814Z"
   },
   {
    "duration": 0,
    "start_time": "2023-08-31T05:08:25.816Z"
   },
   {
    "duration": 0,
    "start_time": "2023-08-31T05:08:25.817Z"
   },
   {
    "duration": 0,
    "start_time": "2023-08-31T05:08:25.818Z"
   },
   {
    "duration": 0,
    "start_time": "2023-08-31T05:08:25.820Z"
   },
   {
    "duration": 0,
    "start_time": "2023-08-31T05:08:25.821Z"
   },
   {
    "duration": 0,
    "start_time": "2023-08-31T05:08:25.849Z"
   },
   {
    "duration": 0,
    "start_time": "2023-08-31T05:08:25.851Z"
   },
   {
    "duration": 0,
    "start_time": "2023-08-31T05:08:25.852Z"
   },
   {
    "duration": 0,
    "start_time": "2023-08-31T05:08:25.854Z"
   },
   {
    "duration": 0,
    "start_time": "2023-08-31T05:08:25.856Z"
   },
   {
    "duration": 0,
    "start_time": "2023-08-31T05:08:25.858Z"
   },
   {
    "duration": 0,
    "start_time": "2023-08-31T05:08:25.859Z"
   },
   {
    "duration": 0,
    "start_time": "2023-08-31T05:08:25.861Z"
   },
   {
    "duration": 0,
    "start_time": "2023-08-31T05:08:25.862Z"
   },
   {
    "duration": 0,
    "start_time": "2023-08-31T05:08:25.863Z"
   },
   {
    "duration": 0,
    "start_time": "2023-08-31T05:08:25.864Z"
   },
   {
    "duration": 0,
    "start_time": "2023-08-31T05:08:25.866Z"
   },
   {
    "duration": 0,
    "start_time": "2023-08-31T05:08:25.867Z"
   },
   {
    "duration": 0,
    "start_time": "2023-08-31T05:08:25.868Z"
   },
   {
    "duration": 0,
    "start_time": "2023-08-31T05:08:25.869Z"
   },
   {
    "duration": 0,
    "start_time": "2023-08-31T05:08:25.871Z"
   },
   {
    "duration": 0,
    "start_time": "2023-08-31T05:08:25.872Z"
   },
   {
    "duration": 0,
    "start_time": "2023-08-31T05:08:25.874Z"
   },
   {
    "duration": 0,
    "start_time": "2023-08-31T05:08:25.875Z"
   },
   {
    "duration": 0,
    "start_time": "2023-08-31T05:08:25.877Z"
   },
   {
    "duration": 98,
    "start_time": "2023-08-31T05:09:23.108Z"
   },
   {
    "duration": 95,
    "start_time": "2023-08-31T05:10:10.575Z"
   },
   {
    "duration": 247,
    "start_time": "2023-08-31T05:12:14.270Z"
   },
   {
    "duration": 277,
    "start_time": "2023-08-31T05:12:22.538Z"
   },
   {
    "duration": 897,
    "start_time": "2023-08-31T05:13:11.542Z"
   },
   {
    "duration": 222,
    "start_time": "2023-08-31T05:13:25.198Z"
   },
   {
    "duration": 130,
    "start_time": "2023-08-31T05:13:33.409Z"
   },
   {
    "duration": 270,
    "start_time": "2023-08-31T05:17:00.277Z"
   },
   {
    "duration": 550,
    "start_time": "2023-08-31T05:17:04.194Z"
   },
   {
    "duration": 407,
    "start_time": "2023-08-31T05:17:17.917Z"
   },
   {
    "duration": 417,
    "start_time": "2023-08-31T05:17:21.405Z"
   },
   {
    "duration": 1301,
    "start_time": "2023-08-31T05:17:28.425Z"
   },
   {
    "duration": 186,
    "start_time": "2023-08-31T05:17:29.728Z"
   },
   {
    "duration": 204,
    "start_time": "2023-08-31T05:17:29.916Z"
   },
   {
    "duration": 302,
    "start_time": "2023-08-31T05:17:30.123Z"
   },
   {
    "duration": 10,
    "start_time": "2023-08-31T05:17:30.427Z"
   },
   {
    "duration": 43,
    "start_time": "2023-08-31T05:17:30.452Z"
   },
   {
    "duration": 88,
    "start_time": "2023-08-31T05:17:30.497Z"
   },
   {
    "duration": 302,
    "start_time": "2023-08-31T05:17:30.587Z"
   },
   {
    "duration": 497,
    "start_time": "2023-08-31T05:17:30.891Z"
   },
   {
    "duration": 215,
    "start_time": "2023-08-31T05:17:31.392Z"
   },
   {
    "duration": 0,
    "start_time": "2023-08-31T05:17:31.609Z"
   },
   {
    "duration": 0,
    "start_time": "2023-08-31T05:17:31.610Z"
   },
   {
    "duration": 0,
    "start_time": "2023-08-31T05:17:31.611Z"
   },
   {
    "duration": 0,
    "start_time": "2023-08-31T05:17:31.612Z"
   },
   {
    "duration": 0,
    "start_time": "2023-08-31T05:17:31.613Z"
   },
   {
    "duration": 0,
    "start_time": "2023-08-31T05:17:31.615Z"
   },
   {
    "duration": 0,
    "start_time": "2023-08-31T05:17:31.616Z"
   },
   {
    "duration": 0,
    "start_time": "2023-08-31T05:17:31.617Z"
   },
   {
    "duration": 0,
    "start_time": "2023-08-31T05:17:31.618Z"
   },
   {
    "duration": 0,
    "start_time": "2023-08-31T05:17:31.620Z"
   },
   {
    "duration": 0,
    "start_time": "2023-08-31T05:17:31.621Z"
   },
   {
    "duration": 0,
    "start_time": "2023-08-31T05:17:31.622Z"
   },
   {
    "duration": 0,
    "start_time": "2023-08-31T05:17:31.624Z"
   },
   {
    "duration": 0,
    "start_time": "2023-08-31T05:17:31.625Z"
   },
   {
    "duration": 0,
    "start_time": "2023-08-31T05:17:31.636Z"
   },
   {
    "duration": 0,
    "start_time": "2023-08-31T05:17:31.637Z"
   },
   {
    "duration": 0,
    "start_time": "2023-08-31T05:17:31.639Z"
   },
   {
    "duration": 0,
    "start_time": "2023-08-31T05:17:31.640Z"
   },
   {
    "duration": 0,
    "start_time": "2023-08-31T05:17:31.641Z"
   },
   {
    "duration": 0,
    "start_time": "2023-08-31T05:17:31.642Z"
   },
   {
    "duration": 0,
    "start_time": "2023-08-31T05:17:31.643Z"
   },
   {
    "duration": 0,
    "start_time": "2023-08-31T05:17:31.644Z"
   },
   {
    "duration": 0,
    "start_time": "2023-08-31T05:17:31.644Z"
   },
   {
    "duration": 0,
    "start_time": "2023-08-31T05:17:31.645Z"
   },
   {
    "duration": 0,
    "start_time": "2023-08-31T05:17:31.645Z"
   },
   {
    "duration": 1,
    "start_time": "2023-08-31T05:17:31.645Z"
   },
   {
    "duration": 0,
    "start_time": "2023-08-31T05:17:31.646Z"
   },
   {
    "duration": 0,
    "start_time": "2023-08-31T05:17:31.646Z"
   },
   {
    "duration": 0,
    "start_time": "2023-08-31T05:17:31.647Z"
   },
   {
    "duration": 0,
    "start_time": "2023-08-31T05:17:31.648Z"
   },
   {
    "duration": 424,
    "start_time": "2023-08-31T05:17:42.323Z"
   },
   {
    "duration": 558,
    "start_time": "2023-08-31T05:17:49.924Z"
   },
   {
    "duration": 460,
    "start_time": "2023-08-31T05:18:16.913Z"
   },
   {
    "duration": 467,
    "start_time": "2023-08-31T05:18:20.345Z"
   },
   {
    "duration": 700,
    "start_time": "2023-08-31T05:18:38.404Z"
   },
   {
    "duration": 548,
    "start_time": "2023-08-31T05:20:24.306Z"
   },
   {
    "duration": 194,
    "start_time": "2023-08-31T05:20:34.224Z"
   },
   {
    "duration": 155,
    "start_time": "2023-08-31T05:21:29.071Z"
   },
   {
    "duration": 675,
    "start_time": "2023-08-31T05:21:38.007Z"
   },
   {
    "duration": 212,
    "start_time": "2023-08-31T05:21:40.896Z"
   },
   {
    "duration": 153,
    "start_time": "2023-08-31T05:21:52.184Z"
   },
   {
    "duration": 236,
    "start_time": "2023-08-31T05:22:18.399Z"
   },
   {
    "duration": 141,
    "start_time": "2023-08-31T05:22:25.112Z"
   },
   {
    "duration": 155,
    "start_time": "2023-08-31T05:22:51.855Z"
   },
   {
    "duration": 290,
    "start_time": "2023-08-31T05:22:54.379Z"
   },
   {
    "duration": 154,
    "start_time": "2023-08-31T05:22:57.743Z"
   },
   {
    "duration": 180,
    "start_time": "2023-08-31T05:23:08.841Z"
   },
   {
    "duration": 179,
    "start_time": "2023-08-31T05:23:28.640Z"
   },
   {
    "duration": 360,
    "start_time": "2023-08-31T05:24:02.438Z"
   },
   {
    "duration": 215,
    "start_time": "2023-08-31T05:24:12.639Z"
   },
   {
    "duration": 315,
    "start_time": "2023-08-31T05:25:22.459Z"
   },
   {
    "duration": 147,
    "start_time": "2023-08-31T05:25:28.923Z"
   },
   {
    "duration": 127,
    "start_time": "2023-08-31T05:25:32.131Z"
   },
   {
    "duration": 887,
    "start_time": "2023-08-31T05:25:40.954Z"
   },
   {
    "duration": 270,
    "start_time": "2023-08-31T05:25:56.835Z"
   },
   {
    "duration": 101,
    "start_time": "2023-08-31T05:26:25.564Z"
   },
   {
    "duration": 14,
    "start_time": "2023-08-31T05:27:12.922Z"
   },
   {
    "duration": 4,
    "start_time": "2023-08-31T05:27:29.767Z"
   },
   {
    "duration": 228,
    "start_time": "2023-08-31T05:27:34.602Z"
   },
   {
    "duration": 346,
    "start_time": "2023-08-31T05:28:10.798Z"
   },
   {
    "duration": 279,
    "start_time": "2023-08-31T05:28:22.945Z"
   },
   {
    "duration": 204,
    "start_time": "2023-08-31T05:29:53.051Z"
   },
   {
    "duration": 1110,
    "start_time": "2023-08-31T05:37:07.267Z"
   },
   {
    "duration": 160,
    "start_time": "2023-08-31T05:37:08.379Z"
   },
   {
    "duration": 139,
    "start_time": "2023-08-31T05:37:08.540Z"
   },
   {
    "duration": 248,
    "start_time": "2023-08-31T05:37:08.681Z"
   },
   {
    "duration": 8,
    "start_time": "2023-08-31T05:37:08.930Z"
   },
   {
    "duration": 13,
    "start_time": "2023-08-31T05:37:08.939Z"
   },
   {
    "duration": 7,
    "start_time": "2023-08-31T05:37:08.953Z"
   },
   {
    "duration": 209,
    "start_time": "2023-08-31T05:37:08.961Z"
   },
   {
    "duration": 559,
    "start_time": "2023-08-31T05:37:09.172Z"
   },
   {
    "duration": 227,
    "start_time": "2023-08-31T05:37:09.733Z"
   },
   {
    "duration": 3,
    "start_time": "2023-08-31T05:37:09.962Z"
   },
   {
    "duration": 30,
    "start_time": "2023-08-31T05:37:09.966Z"
   },
   {
    "duration": 6,
    "start_time": "2023-08-31T05:37:09.997Z"
   },
   {
    "duration": 892,
    "start_time": "2023-08-31T05:37:10.005Z"
   },
   {
    "duration": 12,
    "start_time": "2023-08-31T05:37:10.899Z"
   },
   {
    "duration": 12,
    "start_time": "2023-08-31T05:37:10.913Z"
   },
   {
    "duration": 15,
    "start_time": "2023-08-31T05:37:10.926Z"
   },
   {
    "duration": 40,
    "start_time": "2023-08-31T05:37:10.942Z"
   },
   {
    "duration": 7,
    "start_time": "2023-08-31T05:37:10.984Z"
   },
   {
    "duration": 846,
    "start_time": "2023-08-31T05:37:10.993Z"
   },
   {
    "duration": 116,
    "start_time": "2023-08-31T05:37:11.840Z"
   },
   {
    "duration": 21,
    "start_time": "2023-08-31T05:37:11.958Z"
   },
   {
    "duration": 151,
    "start_time": "2023-08-31T05:37:11.980Z"
   },
   {
    "duration": 6,
    "start_time": "2023-08-31T05:37:12.132Z"
   },
   {
    "duration": 29,
    "start_time": "2023-08-31T05:37:12.140Z"
   },
   {
    "duration": 324,
    "start_time": "2023-08-31T05:37:12.170Z"
   },
   {
    "duration": 7,
    "start_time": "2023-08-31T05:37:12.496Z"
   },
   {
    "duration": 53,
    "start_time": "2023-08-31T05:37:12.507Z"
   },
   {
    "duration": 126,
    "start_time": "2023-08-31T05:37:12.562Z"
   },
   {
    "duration": 5,
    "start_time": "2023-08-31T05:37:12.690Z"
   },
   {
    "duration": 71,
    "start_time": "2023-08-31T05:37:12.697Z"
   },
   {
    "duration": 12,
    "start_time": "2023-08-31T05:37:12.769Z"
   },
   {
    "duration": 80,
    "start_time": "2023-08-31T05:37:12.782Z"
   },
   {
    "duration": 11,
    "start_time": "2023-08-31T05:37:12.864Z"
   },
   {
    "duration": 80,
    "start_time": "2023-08-31T05:37:12.876Z"
   },
   {
    "duration": 12,
    "start_time": "2023-08-31T05:37:12.957Z"
   },
   {
    "duration": 86,
    "start_time": "2023-08-31T05:37:12.970Z"
   },
   {
    "duration": 10,
    "start_time": "2023-08-31T05:37:13.057Z"
   },
   {
    "duration": 6,
    "start_time": "2023-08-31T05:37:13.069Z"
   },
   {
    "duration": 6,
    "start_time": "2023-08-31T05:38:50.396Z"
   },
   {
    "duration": 874,
    "start_time": "2023-08-31T05:38:57.761Z"
   },
   {
    "duration": 24,
    "start_time": "2023-08-31T05:41:12.768Z"
   },
   {
    "duration": 25,
    "start_time": "2023-08-31T05:41:19.068Z"
   },
   {
    "duration": 7,
    "start_time": "2023-08-31T05:42:10.473Z"
   },
   {
    "duration": 8,
    "start_time": "2023-08-31T05:42:41.253Z"
   },
   {
    "duration": 85,
    "start_time": "2023-08-31T05:47:02.257Z"
   },
   {
    "duration": 87,
    "start_time": "2023-08-31T05:47:19.985Z"
   },
   {
    "duration": 71,
    "start_time": "2023-08-31T05:48:37.539Z"
   },
   {
    "duration": 10,
    "start_time": "2023-08-31T05:49:19.312Z"
   },
   {
    "duration": 107,
    "start_time": "2023-08-31T05:49:21.077Z"
   },
   {
    "duration": 8,
    "start_time": "2023-08-31T05:50:03.561Z"
   },
   {
    "duration": 8,
    "start_time": "2023-08-31T05:51:13.586Z"
   },
   {
    "duration": 7,
    "start_time": "2023-08-31T05:51:19.070Z"
   },
   {
    "duration": 7,
    "start_time": "2023-08-31T05:51:42.927Z"
   },
   {
    "duration": 487,
    "start_time": "2023-08-31T05:52:14.471Z"
   },
   {
    "duration": 9,
    "start_time": "2023-08-31T05:53:08.343Z"
   },
   {
    "duration": 520,
    "start_time": "2023-08-31T05:54:08.141Z"
   },
   {
    "duration": 528,
    "start_time": "2023-08-31T05:54:21.407Z"
   },
   {
    "duration": 494,
    "start_time": "2023-08-31T05:54:29.055Z"
   },
   {
    "duration": 104,
    "start_time": "2023-08-31T05:55:04.315Z"
   },
   {
    "duration": 104,
    "start_time": "2023-08-31T05:55:12.825Z"
   },
   {
    "duration": 51,
    "start_time": "2023-09-01T05:53:53.668Z"
   },
   {
    "duration": 1278,
    "start_time": "2023-09-01T05:54:22.614Z"
   },
   {
    "duration": 742,
    "start_time": "2023-09-01T05:54:23.894Z"
   },
   {
    "duration": 176,
    "start_time": "2023-09-01T05:54:24.638Z"
   },
   {
    "duration": 280,
    "start_time": "2023-09-01T05:54:24.816Z"
   },
   {
    "duration": 10,
    "start_time": "2023-09-01T05:54:25.098Z"
   },
   {
    "duration": 8,
    "start_time": "2023-09-01T05:54:25.110Z"
   },
   {
    "duration": 40,
    "start_time": "2023-09-01T05:54:25.120Z"
   },
   {
    "duration": 241,
    "start_time": "2023-09-01T05:54:25.162Z"
   },
   {
    "duration": 695,
    "start_time": "2023-09-01T05:54:25.404Z"
   },
   {
    "duration": 249,
    "start_time": "2023-09-01T05:54:26.102Z"
   },
   {
    "duration": 6,
    "start_time": "2023-09-01T05:54:26.353Z"
   },
   {
    "duration": 30,
    "start_time": "2023-09-01T05:54:26.361Z"
   },
   {
    "duration": 7,
    "start_time": "2023-09-01T05:54:26.393Z"
   },
   {
    "duration": 22,
    "start_time": "2023-09-01T05:54:26.402Z"
   },
   {
    "duration": 38,
    "start_time": "2023-09-01T05:54:26.426Z"
   },
   {
    "duration": 136,
    "start_time": "2023-09-01T05:54:26.465Z"
   },
   {
    "duration": 14,
    "start_time": "2023-09-01T05:54:26.603Z"
   },
   {
    "duration": 7,
    "start_time": "2023-09-01T05:54:26.619Z"
   },
   {
    "duration": 3,
    "start_time": "2023-09-01T05:54:26.628Z"
   },
   {
    "duration": 27,
    "start_time": "2023-09-01T05:54:26.660Z"
   },
   {
    "duration": 10,
    "start_time": "2023-09-01T05:54:26.689Z"
   },
   {
    "duration": 1128,
    "start_time": "2023-09-01T05:54:26.701Z"
   },
   {
    "duration": 0,
    "start_time": "2023-09-01T05:54:27.832Z"
   },
   {
    "duration": 0,
    "start_time": "2023-09-01T05:54:27.833Z"
   },
   {
    "duration": 0,
    "start_time": "2023-09-01T05:54:27.835Z"
   },
   {
    "duration": 0,
    "start_time": "2023-09-01T05:54:27.836Z"
   },
   {
    "duration": 0,
    "start_time": "2023-09-01T05:54:27.838Z"
   },
   {
    "duration": 0,
    "start_time": "2023-09-01T05:54:27.839Z"
   },
   {
    "duration": 0,
    "start_time": "2023-09-01T05:54:27.840Z"
   },
   {
    "duration": 0,
    "start_time": "2023-09-01T05:54:27.860Z"
   },
   {
    "duration": 1,
    "start_time": "2023-09-01T05:54:27.862Z"
   },
   {
    "duration": 0,
    "start_time": "2023-09-01T05:54:27.864Z"
   },
   {
    "duration": 0,
    "start_time": "2023-09-01T05:54:27.865Z"
   },
   {
    "duration": 0,
    "start_time": "2023-09-01T05:54:27.867Z"
   },
   {
    "duration": 0,
    "start_time": "2023-09-01T05:54:27.869Z"
   },
   {
    "duration": 0,
    "start_time": "2023-09-01T05:54:27.870Z"
   },
   {
    "duration": 0,
    "start_time": "2023-09-01T05:54:27.872Z"
   },
   {
    "duration": 0,
    "start_time": "2023-09-01T05:54:27.873Z"
   },
   {
    "duration": 0,
    "start_time": "2023-09-01T05:54:27.874Z"
   },
   {
    "duration": 0,
    "start_time": "2023-09-01T05:54:27.876Z"
   },
   {
    "duration": 0,
    "start_time": "2023-09-01T05:54:27.878Z"
   },
   {
    "duration": 143,
    "start_time": "2023-09-01T06:04:18.416Z"
   },
   {
    "duration": 5,
    "start_time": "2023-09-01T06:13:47.283Z"
   },
   {
    "duration": 5,
    "start_time": "2023-09-01T06:14:49.096Z"
   },
   {
    "duration": 4,
    "start_time": "2023-09-01T06:21:09.086Z"
   },
   {
    "duration": 7,
    "start_time": "2023-09-01T06:21:15.049Z"
   },
   {
    "duration": 4,
    "start_time": "2023-09-01T06:21:23.950Z"
   },
   {
    "duration": 1881,
    "start_time": "2023-09-01T06:24:11.941Z"
   },
   {
    "duration": 9,
    "start_time": "2023-09-01T06:24:34.130Z"
   },
   {
    "duration": 22,
    "start_time": "2023-09-01T06:25:17.360Z"
   },
   {
    "duration": 5,
    "start_time": "2023-09-01T06:25:26.749Z"
   },
   {
    "duration": 1151,
    "start_time": "2023-09-01T06:36:51.875Z"
   },
   {
    "duration": 190,
    "start_time": "2023-09-01T06:36:53.029Z"
   },
   {
    "duration": 184,
    "start_time": "2023-09-01T06:36:53.221Z"
   },
   {
    "duration": 273,
    "start_time": "2023-09-01T06:36:53.407Z"
   },
   {
    "duration": 10,
    "start_time": "2023-09-01T06:36:53.681Z"
   },
   {
    "duration": 7,
    "start_time": "2023-09-01T06:36:53.693Z"
   },
   {
    "duration": 7,
    "start_time": "2023-09-01T06:36:53.702Z"
   },
   {
    "duration": 253,
    "start_time": "2023-09-01T06:36:53.710Z"
   },
   {
    "duration": 838,
    "start_time": "2023-09-01T06:36:53.965Z"
   },
   {
    "duration": 302,
    "start_time": "2023-09-01T06:36:54.807Z"
   },
   {
    "duration": 3,
    "start_time": "2023-09-01T06:36:55.112Z"
   },
   {
    "duration": 29,
    "start_time": "2023-09-01T06:36:55.160Z"
   },
   {
    "duration": 8,
    "start_time": "2023-09-01T06:36:55.191Z"
   },
   {
    "duration": 65,
    "start_time": "2023-09-01T06:36:55.201Z"
   },
   {
    "duration": 15,
    "start_time": "2023-09-01T06:36:55.267Z"
   },
   {
    "duration": 187,
    "start_time": "2023-09-01T06:36:55.284Z"
   },
   {
    "duration": 5,
    "start_time": "2023-09-01T06:36:55.473Z"
   },
   {
    "duration": 6,
    "start_time": "2023-09-01T06:36:55.481Z"
   },
   {
    "duration": 9,
    "start_time": "2023-09-01T06:36:55.489Z"
   },
   {
    "duration": 14,
    "start_time": "2023-09-01T06:36:55.500Z"
   },
   {
    "duration": 5,
    "start_time": "2023-09-01T06:36:55.516Z"
   },
   {
    "duration": 39,
    "start_time": "2023-09-01T06:36:55.523Z"
   },
   {
    "duration": 29,
    "start_time": "2023-09-01T06:36:55.564Z"
   },
   {
    "duration": 6,
    "start_time": "2023-09-01T06:36:55.595Z"
   },
   {
    "duration": 186,
    "start_time": "2023-09-01T06:36:55.603Z"
   },
   {
    "duration": 0,
    "start_time": "2023-09-01T06:36:55.791Z"
   },
   {
    "duration": 0,
    "start_time": "2023-09-01T06:36:55.793Z"
   },
   {
    "duration": 0,
    "start_time": "2023-09-01T06:36:55.794Z"
   },
   {
    "duration": 0,
    "start_time": "2023-09-01T06:36:55.796Z"
   },
   {
    "duration": 0,
    "start_time": "2023-09-01T06:36:55.797Z"
   },
   {
    "duration": 0,
    "start_time": "2023-09-01T06:36:55.798Z"
   },
   {
    "duration": 1,
    "start_time": "2023-09-01T06:36:55.799Z"
   },
   {
    "duration": 0,
    "start_time": "2023-09-01T06:36:55.801Z"
   },
   {
    "duration": 0,
    "start_time": "2023-09-01T06:36:55.802Z"
   },
   {
    "duration": 0,
    "start_time": "2023-09-01T06:36:55.803Z"
   },
   {
    "duration": 0,
    "start_time": "2023-09-01T06:36:55.804Z"
   },
   {
    "duration": 0,
    "start_time": "2023-09-01T06:36:55.806Z"
   },
   {
    "duration": 0,
    "start_time": "2023-09-01T06:36:55.807Z"
   },
   {
    "duration": 0,
    "start_time": "2023-09-01T06:36:55.808Z"
   },
   {
    "duration": 0,
    "start_time": "2023-09-01T06:36:55.809Z"
   },
   {
    "duration": 0,
    "start_time": "2023-09-01T06:36:55.811Z"
   },
   {
    "duration": 0,
    "start_time": "2023-09-01T06:36:55.812Z"
   },
   {
    "duration": 0,
    "start_time": "2023-09-01T06:36:55.813Z"
   },
   {
    "duration": 0,
    "start_time": "2023-09-01T06:36:55.814Z"
   },
   {
    "duration": 6,
    "start_time": "2023-09-01T06:38:37.654Z"
   },
   {
    "duration": 9,
    "start_time": "2023-09-01T06:38:45.590Z"
   },
   {
    "duration": 1201,
    "start_time": "2023-09-01T06:38:52.425Z"
   },
   {
    "duration": 163,
    "start_time": "2023-09-01T06:38:53.628Z"
   },
   {
    "duration": 185,
    "start_time": "2023-09-01T06:38:53.793Z"
   },
   {
    "duration": 365,
    "start_time": "2023-09-01T06:38:53.981Z"
   },
   {
    "duration": 18,
    "start_time": "2023-09-01T06:38:54.348Z"
   },
   {
    "duration": 7,
    "start_time": "2023-09-01T06:38:54.368Z"
   },
   {
    "duration": 12,
    "start_time": "2023-09-01T06:38:54.377Z"
   },
   {
    "duration": 287,
    "start_time": "2023-09-01T06:38:54.391Z"
   },
   {
    "duration": 825,
    "start_time": "2023-09-01T06:38:54.680Z"
   },
   {
    "duration": 257,
    "start_time": "2023-09-01T06:38:55.509Z"
   },
   {
    "duration": 3,
    "start_time": "2023-09-01T06:38:55.769Z"
   },
   {
    "duration": 34,
    "start_time": "2023-09-01T06:38:55.774Z"
   },
   {
    "duration": 10,
    "start_time": "2023-09-01T06:38:55.810Z"
   },
   {
    "duration": 53,
    "start_time": "2023-09-01T06:38:55.822Z"
   },
   {
    "duration": 10,
    "start_time": "2023-09-01T06:38:55.877Z"
   },
   {
    "duration": 158,
    "start_time": "2023-09-01T06:38:55.889Z"
   },
   {
    "duration": 13,
    "start_time": "2023-09-01T06:38:56.049Z"
   },
   {
    "duration": 6,
    "start_time": "2023-09-01T06:38:56.064Z"
   },
   {
    "duration": 10,
    "start_time": "2023-09-01T06:38:56.072Z"
   },
   {
    "duration": 20,
    "start_time": "2023-09-01T06:38:56.083Z"
   },
   {
    "duration": 7,
    "start_time": "2023-09-01T06:38:56.105Z"
   },
   {
    "duration": 6,
    "start_time": "2023-09-01T06:38:56.114Z"
   },
   {
    "duration": 61,
    "start_time": "2023-09-01T06:38:56.122Z"
   },
   {
    "duration": 6,
    "start_time": "2023-09-01T06:38:56.185Z"
   },
   {
    "duration": 176,
    "start_time": "2023-09-01T06:38:56.193Z"
   },
   {
    "duration": 0,
    "start_time": "2023-09-01T06:38:56.372Z"
   },
   {
    "duration": 0,
    "start_time": "2023-09-01T06:38:56.373Z"
   },
   {
    "duration": 0,
    "start_time": "2023-09-01T06:38:56.374Z"
   },
   {
    "duration": 0,
    "start_time": "2023-09-01T06:38:56.375Z"
   },
   {
    "duration": 0,
    "start_time": "2023-09-01T06:38:56.376Z"
   },
   {
    "duration": 0,
    "start_time": "2023-09-01T06:38:56.377Z"
   },
   {
    "duration": 0,
    "start_time": "2023-09-01T06:38:56.378Z"
   },
   {
    "duration": 0,
    "start_time": "2023-09-01T06:38:56.379Z"
   },
   {
    "duration": 0,
    "start_time": "2023-09-01T06:38:56.381Z"
   },
   {
    "duration": 0,
    "start_time": "2023-09-01T06:38:56.382Z"
   },
   {
    "duration": 0,
    "start_time": "2023-09-01T06:38:56.383Z"
   },
   {
    "duration": 0,
    "start_time": "2023-09-01T06:38:56.383Z"
   },
   {
    "duration": 0,
    "start_time": "2023-09-01T06:38:56.384Z"
   },
   {
    "duration": 0,
    "start_time": "2023-09-01T06:38:56.385Z"
   },
   {
    "duration": 0,
    "start_time": "2023-09-01T06:38:56.386Z"
   },
   {
    "duration": 0,
    "start_time": "2023-09-01T06:38:56.387Z"
   },
   {
    "duration": 0,
    "start_time": "2023-09-01T06:38:56.388Z"
   },
   {
    "duration": 0,
    "start_time": "2023-09-01T06:38:56.390Z"
   },
   {
    "duration": 0,
    "start_time": "2023-09-01T06:38:56.391Z"
   },
   {
    "duration": 8,
    "start_time": "2023-09-01T06:39:21.886Z"
   },
   {
    "duration": 7,
    "start_time": "2023-09-01T06:39:30.370Z"
   },
   {
    "duration": 10,
    "start_time": "2023-09-01T06:40:33.515Z"
   },
   {
    "duration": 13,
    "start_time": "2023-09-01T06:41:37.642Z"
   },
   {
    "duration": 1165,
    "start_time": "2023-09-01T06:41:51.256Z"
   },
   {
    "duration": 168,
    "start_time": "2023-09-01T06:41:52.422Z"
   },
   {
    "duration": 186,
    "start_time": "2023-09-01T06:41:52.592Z"
   },
   {
    "duration": 299,
    "start_time": "2023-09-01T06:41:52.780Z"
   },
   {
    "duration": 12,
    "start_time": "2023-09-01T06:41:53.082Z"
   },
   {
    "duration": 8,
    "start_time": "2023-09-01T06:41:53.097Z"
   },
   {
    "duration": 10,
    "start_time": "2023-09-01T06:41:53.107Z"
   },
   {
    "duration": 267,
    "start_time": "2023-09-01T06:41:53.120Z"
   },
   {
    "duration": 703,
    "start_time": "2023-09-01T06:41:53.388Z"
   },
   {
    "duration": 330,
    "start_time": "2023-09-01T06:41:54.093Z"
   },
   {
    "duration": 4,
    "start_time": "2023-09-01T06:41:54.425Z"
   },
   {
    "duration": 87,
    "start_time": "2023-09-01T06:41:54.430Z"
   },
   {
    "duration": 9,
    "start_time": "2023-09-01T06:41:54.519Z"
   },
   {
    "duration": 26,
    "start_time": "2023-09-01T06:41:54.531Z"
   },
   {
    "duration": 9,
    "start_time": "2023-09-01T06:41:54.559Z"
   },
   {
    "duration": 162,
    "start_time": "2023-09-01T06:41:54.570Z"
   },
   {
    "duration": 4,
    "start_time": "2023-09-01T06:41:54.734Z"
   },
   {
    "duration": 19,
    "start_time": "2023-09-01T06:41:54.740Z"
   },
   {
    "duration": 15,
    "start_time": "2023-09-01T06:41:54.761Z"
   },
   {
    "duration": 13,
    "start_time": "2023-09-01T06:41:54.778Z"
   },
   {
    "duration": 5,
    "start_time": "2023-09-01T06:41:54.793Z"
   },
   {
    "duration": 3,
    "start_time": "2023-09-01T06:41:54.800Z"
   },
   {
    "duration": 55,
    "start_time": "2023-09-01T06:41:54.805Z"
   },
   {
    "duration": 10,
    "start_time": "2023-09-01T06:41:54.862Z"
   },
   {
    "duration": 1125,
    "start_time": "2023-09-01T06:41:54.874Z"
   },
   {
    "duration": 0,
    "start_time": "2023-09-01T06:41:56.001Z"
   },
   {
    "duration": 0,
    "start_time": "2023-09-01T06:41:56.003Z"
   },
   {
    "duration": 0,
    "start_time": "2023-09-01T06:41:56.004Z"
   },
   {
    "duration": 0,
    "start_time": "2023-09-01T06:41:56.006Z"
   },
   {
    "duration": 0,
    "start_time": "2023-09-01T06:41:56.007Z"
   },
   {
    "duration": 0,
    "start_time": "2023-09-01T06:41:56.009Z"
   },
   {
    "duration": 0,
    "start_time": "2023-09-01T06:41:56.010Z"
   },
   {
    "duration": 0,
    "start_time": "2023-09-01T06:41:56.012Z"
   },
   {
    "duration": 0,
    "start_time": "2023-09-01T06:41:56.014Z"
   },
   {
    "duration": 0,
    "start_time": "2023-09-01T06:41:56.015Z"
   },
   {
    "duration": 0,
    "start_time": "2023-09-01T06:41:56.016Z"
   },
   {
    "duration": 0,
    "start_time": "2023-09-01T06:41:56.018Z"
   },
   {
    "duration": 0,
    "start_time": "2023-09-01T06:41:56.019Z"
   },
   {
    "duration": 0,
    "start_time": "2023-09-01T06:41:56.021Z"
   },
   {
    "duration": 0,
    "start_time": "2023-09-01T06:41:56.059Z"
   },
   {
    "duration": 0,
    "start_time": "2023-09-01T06:41:56.061Z"
   },
   {
    "duration": 0,
    "start_time": "2023-09-01T06:41:56.063Z"
   },
   {
    "duration": 0,
    "start_time": "2023-09-01T06:41:56.065Z"
   },
   {
    "duration": 0,
    "start_time": "2023-09-01T06:41:56.067Z"
   },
   {
    "duration": 10,
    "start_time": "2023-09-01T06:42:38.906Z"
   },
   {
    "duration": 39,
    "start_time": "2023-09-01T06:43:28.347Z"
   },
   {
    "duration": 148,
    "start_time": "2023-09-01T06:45:48.896Z"
   },
   {
    "duration": 1251,
    "start_time": "2023-09-01T06:46:08.796Z"
   },
   {
    "duration": 195,
    "start_time": "2023-09-01T06:46:10.050Z"
   },
   {
    "duration": 188,
    "start_time": "2023-09-01T06:46:10.247Z"
   },
   {
    "duration": 304,
    "start_time": "2023-09-01T06:46:10.438Z"
   },
   {
    "duration": 21,
    "start_time": "2023-09-01T06:46:10.745Z"
   },
   {
    "duration": 8,
    "start_time": "2023-09-01T06:46:10.768Z"
   },
   {
    "duration": 19,
    "start_time": "2023-09-01T06:46:10.780Z"
   },
   {
    "duration": 266,
    "start_time": "2023-09-01T06:46:10.801Z"
   },
   {
    "duration": 1026,
    "start_time": "2023-09-01T06:46:11.070Z"
   },
   {
    "duration": 297,
    "start_time": "2023-09-01T06:46:12.100Z"
   },
   {
    "duration": 4,
    "start_time": "2023-09-01T06:46:12.401Z"
   },
   {
    "duration": 67,
    "start_time": "2023-09-01T06:46:12.407Z"
   },
   {
    "duration": 12,
    "start_time": "2023-09-01T06:46:12.476Z"
   },
   {
    "duration": 26,
    "start_time": "2023-09-01T06:46:12.490Z"
   },
   {
    "duration": 43,
    "start_time": "2023-09-01T06:46:12.518Z"
   },
   {
    "duration": 165,
    "start_time": "2023-09-01T06:46:12.563Z"
   },
   {
    "duration": 5,
    "start_time": "2023-09-01T06:46:12.730Z"
   },
   {
    "duration": 29,
    "start_time": "2023-09-01T06:46:12.737Z"
   },
   {
    "duration": 135,
    "start_time": "2023-09-01T06:46:12.769Z"
   },
   {
    "duration": 16,
    "start_time": "2023-09-01T06:46:12.907Z"
   },
   {
    "duration": 9,
    "start_time": "2023-09-01T06:46:12.926Z"
   },
   {
    "duration": 10,
    "start_time": "2023-09-01T06:46:12.939Z"
   },
   {
    "duration": 48,
    "start_time": "2023-09-01T06:46:12.951Z"
   },
   {
    "duration": 9,
    "start_time": "2023-09-01T06:46:13.001Z"
   },
   {
    "duration": 38,
    "start_time": "2023-09-01T06:46:13.012Z"
   },
   {
    "duration": 178,
    "start_time": "2023-09-01T06:46:13.052Z"
   },
   {
    "duration": 33,
    "start_time": "2023-09-01T06:46:13.232Z"
   },
   {
    "duration": 335,
    "start_time": "2023-09-01T06:46:13.270Z"
   },
   {
    "duration": 7,
    "start_time": "2023-09-01T06:46:13.608Z"
   },
   {
    "duration": 22,
    "start_time": "2023-09-01T06:46:13.617Z"
   },
   {
    "duration": 316,
    "start_time": "2023-09-01T06:46:13.660Z"
   },
   {
    "duration": 12,
    "start_time": "2023-09-01T06:46:13.980Z"
   },
   {
    "duration": 65,
    "start_time": "2023-09-01T06:46:13.995Z"
   },
   {
    "duration": 222,
    "start_time": "2023-09-01T06:46:14.063Z"
   },
   {
    "duration": 11,
    "start_time": "2023-09-01T06:46:14.287Z"
   },
   {
    "duration": 170,
    "start_time": "2023-09-01T06:46:14.301Z"
   },
   {
    "duration": 17,
    "start_time": "2023-09-01T06:46:14.474Z"
   },
   {
    "duration": 198,
    "start_time": "2023-09-01T06:46:14.493Z"
   },
   {
    "duration": 70,
    "start_time": "2023-09-01T06:46:14.693Z"
   },
   {
    "duration": 198,
    "start_time": "2023-09-01T06:46:14.765Z"
   },
   {
    "duration": 18,
    "start_time": "2023-09-01T06:46:14.965Z"
   },
   {
    "duration": 209,
    "start_time": "2023-09-01T06:46:14.985Z"
   },
   {
    "duration": 71,
    "start_time": "2023-09-01T06:46:15.197Z"
   },
   {
    "duration": 10,
    "start_time": "2023-09-01T06:46:15.270Z"
   },
   {
    "duration": 23,
    "start_time": "2023-09-01T06:59:01.563Z"
   },
   {
    "duration": 23,
    "start_time": "2023-09-01T06:59:07.971Z"
   },
   {
    "duration": 17,
    "start_time": "2023-09-01T06:59:10.173Z"
   },
   {
    "duration": 16,
    "start_time": "2023-09-01T06:59:37.989Z"
   },
   {
    "duration": 17,
    "start_time": "2023-09-01T06:59:42.518Z"
   },
   {
    "duration": 95,
    "start_time": "2023-09-01T07:01:19.767Z"
   },
   {
    "duration": 18,
    "start_time": "2023-09-01T07:01:38.581Z"
   },
   {
    "duration": 4,
    "start_time": "2023-09-01T07:01:40.190Z"
   },
   {
    "duration": 5,
    "start_time": "2023-09-01T07:01:41.899Z"
   },
   {
    "duration": 6,
    "start_time": "2023-09-01T07:01:55.271Z"
   },
   {
    "duration": 11,
    "start_time": "2023-09-01T07:02:30.126Z"
   },
   {
    "duration": 19,
    "start_time": "2023-09-01T07:02:31.413Z"
   },
   {
    "duration": 5,
    "start_time": "2023-09-01T07:02:33.501Z"
   },
   {
    "duration": 4,
    "start_time": "2023-09-01T07:03:18.691Z"
   },
   {
    "duration": 1245,
    "start_time": "2023-09-01T07:09:09.493Z"
   },
   {
    "duration": 173,
    "start_time": "2023-09-01T07:09:10.741Z"
   },
   {
    "duration": 215,
    "start_time": "2023-09-01T07:09:10.916Z"
   },
   {
    "duration": 306,
    "start_time": "2023-09-01T07:09:11.134Z"
   },
   {
    "duration": 18,
    "start_time": "2023-09-01T07:09:11.441Z"
   },
   {
    "duration": 14,
    "start_time": "2023-09-01T07:09:11.461Z"
   },
   {
    "duration": 57,
    "start_time": "2023-09-01T07:09:11.477Z"
   },
   {
    "duration": 251,
    "start_time": "2023-09-01T07:09:11.537Z"
   },
   {
    "duration": 728,
    "start_time": "2023-09-01T07:09:11.790Z"
   },
   {
    "duration": 285,
    "start_time": "2023-09-01T07:09:12.522Z"
   },
   {
    "duration": 4,
    "start_time": "2023-09-01T07:09:12.809Z"
   },
   {
    "duration": 47,
    "start_time": "2023-09-01T07:09:12.815Z"
   },
   {
    "duration": 10,
    "start_time": "2023-09-01T07:09:12.864Z"
   },
   {
    "duration": 66,
    "start_time": "2023-09-01T07:09:12.876Z"
   },
   {
    "duration": 12,
    "start_time": "2023-09-01T07:09:12.945Z"
   },
   {
    "duration": 178,
    "start_time": "2023-09-01T07:09:12.960Z"
   },
   {
    "duration": 5,
    "start_time": "2023-09-01T07:09:13.140Z"
   },
   {
    "duration": 21,
    "start_time": "2023-09-01T07:09:13.146Z"
   },
   {
    "duration": 16,
    "start_time": "2023-09-01T07:09:13.169Z"
   },
   {
    "duration": 14,
    "start_time": "2023-09-01T07:09:13.188Z"
   },
   {
    "duration": 9,
    "start_time": "2023-09-01T07:09:13.204Z"
   },
   {
    "duration": 4,
    "start_time": "2023-09-01T07:09:13.216Z"
   },
   {
    "duration": 66,
    "start_time": "2023-09-01T07:09:13.222Z"
   },
   {
    "duration": 7,
    "start_time": "2023-09-01T07:09:13.291Z"
   },
   {
    "duration": 24,
    "start_time": "2023-09-01T07:09:13.301Z"
   },
   {
    "duration": 287,
    "start_time": "2023-09-01T07:09:13.326Z"
   },
   {
    "duration": 31,
    "start_time": "2023-09-01T07:09:13.615Z"
   },
   {
    "duration": 172,
    "start_time": "2023-09-01T07:09:13.661Z"
   },
   {
    "duration": 7,
    "start_time": "2023-09-01T07:09:13.835Z"
   },
   {
    "duration": 37,
    "start_time": "2023-09-01T07:09:13.844Z"
   },
   {
    "duration": 9,
    "start_time": "2023-09-01T07:09:13.884Z"
   },
   {
    "duration": 375,
    "start_time": "2023-09-01T07:09:13.896Z"
   },
   {
    "duration": 8,
    "start_time": "2023-09-01T07:09:14.273Z"
   },
   {
    "duration": 39,
    "start_time": "2023-09-01T07:09:14.284Z"
   },
   {
    "duration": 197,
    "start_time": "2023-09-01T07:09:14.325Z"
   },
   {
    "duration": 7,
    "start_time": "2023-09-01T07:09:14.524Z"
   },
   {
    "duration": 77,
    "start_time": "2023-09-01T07:09:14.533Z"
   },
   {
    "duration": 15,
    "start_time": "2023-09-01T07:09:14.612Z"
   },
   {
    "duration": 106,
    "start_time": "2023-09-01T07:09:14.629Z"
   },
   {
    "duration": 27,
    "start_time": "2023-09-01T07:09:14.737Z"
   },
   {
    "duration": 86,
    "start_time": "2023-09-01T07:09:14.767Z"
   },
   {
    "duration": 18,
    "start_time": "2023-09-01T07:09:14.858Z"
   },
   {
    "duration": 107,
    "start_time": "2023-09-01T07:09:14.878Z"
   },
   {
    "duration": 15,
    "start_time": "2023-09-01T07:09:14.987Z"
   },
   {
    "duration": 6,
    "start_time": "2023-09-01T07:09:15.004Z"
   },
   {
    "duration": 135,
    "start_time": "2023-09-01T07:11:27.313Z"
   },
   {
    "duration": 465,
    "start_time": "2023-09-01T07:12:00.225Z"
   },
   {
    "duration": 166,
    "start_time": "2023-09-01T07:12:30.389Z"
   },
   {
    "duration": 118,
    "start_time": "2023-09-01T07:13:10.908Z"
   },
   {
    "duration": 109,
    "start_time": "2023-09-01T07:13:13.789Z"
   },
   {
    "duration": 256,
    "start_time": "2023-09-01T07:14:16.912Z"
   },
   {
    "duration": 149,
    "start_time": "2023-09-01T07:14:19.596Z"
   },
   {
    "duration": 116,
    "start_time": "2023-09-01T07:14:27.575Z"
   },
   {
    "duration": 61,
    "start_time": "2023-09-01T07:14:45.976Z"
   },
   {
    "duration": 19,
    "start_time": "2023-09-01T07:14:51.688Z"
   },
   {
    "duration": 46,
    "start_time": "2023-09-01T07:15:01.612Z"
   },
   {
    "duration": 23,
    "start_time": "2023-09-01T07:15:15.345Z"
   },
   {
    "duration": 55,
    "start_time": "2023-09-01T07:15:25.405Z"
   },
   {
    "duration": 147,
    "start_time": "2023-09-01T07:15:58.868Z"
   },
   {
    "duration": 45,
    "start_time": "2023-09-01T07:16:20.321Z"
   },
   {
    "duration": 60,
    "start_time": "2023-09-01T07:16:28.017Z"
   },
   {
    "duration": 52,
    "start_time": "2023-09-01T07:16:45.630Z"
   },
   {
    "duration": 50,
    "start_time": "2023-09-01T07:16:58.281Z"
   },
   {
    "duration": 49,
    "start_time": "2023-09-01T07:17:01.381Z"
   },
   {
    "duration": 47,
    "start_time": "2023-09-01T07:17:08.476Z"
   },
   {
    "duration": 77,
    "start_time": "2023-09-01T07:17:11.551Z"
   },
   {
    "duration": 48,
    "start_time": "2023-09-01T07:17:15.620Z"
   },
   {
    "duration": 45,
    "start_time": "2023-09-01T07:17:20.480Z"
   },
   {
    "duration": 119,
    "start_time": "2023-09-01T07:18:12.299Z"
   },
   {
    "duration": 4,
    "start_time": "2023-09-01T07:18:32.964Z"
   },
   {
    "duration": 1291,
    "start_time": "2023-09-01T07:18:39.135Z"
   },
   {
    "duration": 171,
    "start_time": "2023-09-01T07:18:40.431Z"
   },
   {
    "duration": 181,
    "start_time": "2023-09-01T07:18:40.604Z"
   },
   {
    "duration": 283,
    "start_time": "2023-09-01T07:18:40.787Z"
   },
   {
    "duration": 9,
    "start_time": "2023-09-01T07:18:41.072Z"
   },
   {
    "duration": 24,
    "start_time": "2023-09-01T07:18:41.083Z"
   },
   {
    "duration": 25,
    "start_time": "2023-09-01T07:18:41.109Z"
   },
   {
    "duration": 257,
    "start_time": "2023-09-01T07:18:41.136Z"
   },
   {
    "duration": 669,
    "start_time": "2023-09-01T07:18:41.395Z"
   },
   {
    "duration": 251,
    "start_time": "2023-09-01T07:18:42.067Z"
   },
   {
    "duration": 4,
    "start_time": "2023-09-01T07:18:42.319Z"
   },
   {
    "duration": 40,
    "start_time": "2023-09-01T07:18:42.325Z"
   },
   {
    "duration": 11,
    "start_time": "2023-09-01T07:18:42.366Z"
   },
   {
    "duration": 24,
    "start_time": "2023-09-01T07:18:42.378Z"
   },
   {
    "duration": 12,
    "start_time": "2023-09-01T07:18:42.404Z"
   },
   {
    "duration": 192,
    "start_time": "2023-09-01T07:18:42.417Z"
   },
   {
    "duration": 5,
    "start_time": "2023-09-01T07:18:42.612Z"
   },
   {
    "duration": 15,
    "start_time": "2023-09-01T07:18:42.619Z"
   },
   {
    "duration": 30,
    "start_time": "2023-09-01T07:18:42.635Z"
   },
   {
    "duration": 14,
    "start_time": "2023-09-01T07:18:42.667Z"
   },
   {
    "duration": 6,
    "start_time": "2023-09-01T07:18:42.682Z"
   },
   {
    "duration": 16,
    "start_time": "2023-09-01T07:18:42.690Z"
   },
   {
    "duration": 36,
    "start_time": "2023-09-01T07:18:42.708Z"
   },
   {
    "duration": 12,
    "start_time": "2023-09-01T07:18:42.747Z"
   },
   {
    "duration": 27,
    "start_time": "2023-09-01T07:18:42.761Z"
   },
   {
    "duration": 242,
    "start_time": "2023-09-01T07:18:42.789Z"
   },
   {
    "duration": 29,
    "start_time": "2023-09-01T07:18:43.033Z"
   },
   {
    "duration": 175,
    "start_time": "2023-09-01T07:18:43.066Z"
   },
   {
    "duration": 8,
    "start_time": "2023-09-01T07:18:43.243Z"
   },
   {
    "duration": 18,
    "start_time": "2023-09-01T07:18:43.260Z"
   },
   {
    "duration": 4,
    "start_time": "2023-09-01T07:18:43.280Z"
   },
   {
    "duration": 285,
    "start_time": "2023-09-01T07:18:43.285Z"
   },
   {
    "duration": 346,
    "start_time": "2023-09-01T07:18:43.573Z"
   },
   {
    "duration": 8,
    "start_time": "2023-09-01T07:18:43.922Z"
   },
   {
    "duration": 44,
    "start_time": "2023-09-01T07:18:43.932Z"
   },
   {
    "duration": 281,
    "start_time": "2023-09-01T07:18:43.978Z"
   },
   {
    "duration": 6,
    "start_time": "2023-09-01T07:18:44.261Z"
   },
   {
    "duration": 82,
    "start_time": "2023-09-01T07:18:44.269Z"
   },
   {
    "duration": 14,
    "start_time": "2023-09-01T07:18:44.361Z"
   },
   {
    "duration": 84,
    "start_time": "2023-09-01T07:18:44.377Z"
   },
   {
    "duration": 13,
    "start_time": "2023-09-01T07:18:44.463Z"
   },
   {
    "duration": 96,
    "start_time": "2023-09-01T07:18:44.477Z"
   },
   {
    "duration": 13,
    "start_time": "2023-09-01T07:18:44.575Z"
   },
   {
    "duration": 91,
    "start_time": "2023-09-01T07:18:44.589Z"
   },
   {
    "duration": 15,
    "start_time": "2023-09-01T07:18:44.682Z"
   },
   {
    "duration": 5,
    "start_time": "2023-09-01T07:18:44.698Z"
   },
   {
    "duration": 81,
    "start_time": "2023-09-01T07:19:20.830Z"
   },
   {
    "duration": 30,
    "start_time": "2023-09-01T12:22:47.076Z"
   },
   {
    "duration": 42,
    "start_time": "2023-09-01T12:23:55.147Z"
   },
   {
    "duration": 4,
    "start_time": "2023-09-01T12:24:19.635Z"
   },
   {
    "duration": 19,
    "start_time": "2023-09-01T12:24:27.415Z"
   },
   {
    "duration": 212,
    "start_time": "2023-09-01T12:27:17.774Z"
   },
   {
    "duration": 24,
    "start_time": "2023-09-01T12:27:45.926Z"
   },
   {
    "duration": 1336,
    "start_time": "2023-09-01T12:28:04.977Z"
   },
   {
    "duration": 189,
    "start_time": "2023-09-01T12:28:06.315Z"
   },
   {
    "duration": 209,
    "start_time": "2023-09-01T12:28:06.505Z"
   },
   {
    "duration": 328,
    "start_time": "2023-09-01T12:28:06.715Z"
   },
   {
    "duration": 9,
    "start_time": "2023-09-01T12:28:07.046Z"
   },
   {
    "duration": 22,
    "start_time": "2023-09-01T12:28:07.064Z"
   },
   {
    "duration": 30,
    "start_time": "2023-09-01T12:28:07.088Z"
   },
   {
    "duration": 253,
    "start_time": "2023-09-01T12:28:07.120Z"
   },
   {
    "duration": 766,
    "start_time": "2023-09-01T12:28:07.375Z"
   },
   {
    "duration": 291,
    "start_time": "2023-09-01T12:28:08.143Z"
   },
   {
    "duration": 3,
    "start_time": "2023-09-01T12:28:08.436Z"
   },
   {
    "duration": 62,
    "start_time": "2023-09-01T12:28:08.441Z"
   },
   {
    "duration": 11,
    "start_time": "2023-09-01T12:28:08.505Z"
   },
   {
    "duration": 23,
    "start_time": "2023-09-01T12:28:08.519Z"
   },
   {
    "duration": 49,
    "start_time": "2023-09-01T12:28:08.544Z"
   },
   {
    "duration": 152,
    "start_time": "2023-09-01T12:28:08.596Z"
   },
   {
    "duration": 20,
    "start_time": "2023-09-01T12:28:08.750Z"
   },
   {
    "duration": 13,
    "start_time": "2023-09-01T12:28:08.784Z"
   },
   {
    "duration": 18,
    "start_time": "2023-09-01T12:28:08.800Z"
   },
   {
    "duration": 13,
    "start_time": "2023-09-01T12:28:08.819Z"
   },
   {
    "duration": 5,
    "start_time": "2023-09-01T12:28:08.834Z"
   },
   {
    "duration": 15,
    "start_time": "2023-09-01T12:28:08.841Z"
   },
   {
    "duration": 50,
    "start_time": "2023-09-01T12:28:08.858Z"
   },
   {
    "duration": 8,
    "start_time": "2023-09-01T12:28:08.910Z"
   },
   {
    "duration": 22,
    "start_time": "2023-09-01T12:28:08.919Z"
   },
   {
    "duration": 281,
    "start_time": "2023-09-01T12:28:08.943Z"
   },
   {
    "duration": 19,
    "start_time": "2023-09-01T12:28:09.227Z"
   },
   {
    "duration": 198,
    "start_time": "2023-09-01T12:28:09.248Z"
   },
   {
    "duration": 6,
    "start_time": "2023-09-01T12:28:09.448Z"
   },
   {
    "duration": 47,
    "start_time": "2023-09-01T12:28:09.455Z"
   },
   {
    "duration": 9,
    "start_time": "2023-09-01T12:28:09.504Z"
   },
   {
    "duration": 323,
    "start_time": "2023-09-01T12:28:09.515Z"
   },
   {
    "duration": 427,
    "start_time": "2023-09-01T12:28:09.840Z"
   },
   {
    "duration": 16,
    "start_time": "2023-09-01T12:28:10.269Z"
   },
   {
    "duration": 88,
    "start_time": "2023-09-01T12:28:10.287Z"
   },
   {
    "duration": 226,
    "start_time": "2023-09-01T12:28:10.377Z"
   },
   {
    "duration": 192,
    "start_time": "2023-09-01T12:28:10.605Z"
   },
   {
    "duration": 0,
    "start_time": "2023-09-01T12:28:10.799Z"
   },
   {
    "duration": 0,
    "start_time": "2023-09-01T12:28:10.801Z"
   },
   {
    "duration": 0,
    "start_time": "2023-09-01T12:28:10.802Z"
   },
   {
    "duration": 0,
    "start_time": "2023-09-01T12:28:10.803Z"
   },
   {
    "duration": 0,
    "start_time": "2023-09-01T12:28:10.804Z"
   },
   {
    "duration": 0,
    "start_time": "2023-09-01T12:28:10.805Z"
   },
   {
    "duration": 0,
    "start_time": "2023-09-01T12:28:10.806Z"
   },
   {
    "duration": 0,
    "start_time": "2023-09-01T12:28:10.807Z"
   },
   {
    "duration": 0,
    "start_time": "2023-09-01T12:28:10.808Z"
   },
   {
    "duration": 0,
    "start_time": "2023-09-01T12:28:10.809Z"
   },
   {
    "duration": 33,
    "start_time": "2023-09-01T12:28:56.486Z"
   },
   {
    "duration": 46,
    "start_time": "2023-09-01T12:29:30.945Z"
   },
   {
    "duration": 25,
    "start_time": "2023-09-01T12:29:41.617Z"
   },
   {
    "duration": 51,
    "start_time": "2023-09-01T12:30:52.825Z"
   },
   {
    "duration": 40,
    "start_time": "2023-09-01T12:31:44.945Z"
   },
   {
    "duration": 33,
    "start_time": "2023-09-01T12:31:50.120Z"
   },
   {
    "duration": 64,
    "start_time": "2023-09-01T12:31:54.448Z"
   },
   {
    "duration": 8,
    "start_time": "2023-09-01T12:32:15.617Z"
   },
   {
    "duration": 12,
    "start_time": "2023-09-01T12:32:28.071Z"
   },
   {
    "duration": 13,
    "start_time": "2023-09-01T12:32:32.628Z"
   },
   {
    "duration": 42,
    "start_time": "2023-09-01T12:33:10.871Z"
   },
   {
    "duration": 51,
    "start_time": "2023-09-01T12:33:27.567Z"
   },
   {
    "duration": 49,
    "start_time": "2023-09-01T12:34:48.482Z"
   },
   {
    "duration": 43,
    "start_time": "2023-09-01T12:36:38.270Z"
   },
   {
    "duration": 41,
    "start_time": "2023-09-01T12:36:56.684Z"
   },
   {
    "duration": 36,
    "start_time": "2023-09-01T12:37:03.952Z"
   },
   {
    "duration": 4,
    "start_time": "2023-09-01T12:37:08.470Z"
   },
   {
    "duration": 5,
    "start_time": "2023-09-01T12:37:18.520Z"
   },
   {
    "duration": 48,
    "start_time": "2023-09-01T12:38:51.640Z"
   },
   {
    "duration": 70,
    "start_time": "2023-09-01T12:45:11.840Z"
   },
   {
    "duration": 49,
    "start_time": "2023-09-01T12:45:36.475Z"
   },
   {
    "duration": 67,
    "start_time": "2023-09-01T12:45:39.214Z"
   },
   {
    "duration": 67,
    "start_time": "2023-09-01T12:45:58.377Z"
   },
   {
    "duration": 76,
    "start_time": "2023-09-01T12:46:04.348Z"
   },
   {
    "duration": 48,
    "start_time": "2023-09-01T12:46:08.398Z"
   },
   {
    "duration": 61,
    "start_time": "2023-09-01T12:46:48.826Z"
   },
   {
    "duration": 62,
    "start_time": "2023-09-01T12:47:17.175Z"
   },
   {
    "duration": 4,
    "start_time": "2023-09-01T12:49:32.826Z"
   },
   {
    "duration": 26,
    "start_time": "2023-09-01T12:49:41.310Z"
   },
   {
    "duration": 48,
    "start_time": "2023-09-01T12:50:28.570Z"
   },
   {
    "duration": 184,
    "start_time": "2023-09-01T12:50:57.091Z"
   },
   {
    "duration": 58,
    "start_time": "2023-09-01T12:50:59.418Z"
   },
   {
    "duration": 62,
    "start_time": "2023-09-01T12:51:26.114Z"
   },
   {
    "duration": 45,
    "start_time": "2023-09-01T12:52:26.963Z"
   },
   {
    "duration": 39,
    "start_time": "2023-09-01T12:52:45.098Z"
   },
   {
    "duration": 49,
    "start_time": "2023-09-01T12:52:51.340Z"
   },
   {
    "duration": 54,
    "start_time": "2023-09-01T12:53:48.322Z"
   },
   {
    "duration": 777,
    "start_time": "2023-09-01T12:53:56.641Z"
   },
   {
    "duration": 36,
    "start_time": "2023-09-01T12:54:08.185Z"
   },
   {
    "duration": 112,
    "start_time": "2023-09-01T12:59:02.916Z"
   },
   {
    "duration": 1162,
    "start_time": "2023-09-01T21:22:57.448Z"
   },
   {
    "duration": 503,
    "start_time": "2023-09-01T21:22:58.612Z"
   },
   {
    "duration": 170,
    "start_time": "2023-09-01T21:22:59.117Z"
   },
   {
    "duration": 264,
    "start_time": "2023-09-01T21:22:59.290Z"
   },
   {
    "duration": 9,
    "start_time": "2023-09-01T21:22:59.556Z"
   },
   {
    "duration": 18,
    "start_time": "2023-09-01T21:22:59.567Z"
   },
   {
    "duration": 33,
    "start_time": "2023-09-01T21:22:59.587Z"
   },
   {
    "duration": 225,
    "start_time": "2023-09-01T21:22:59.621Z"
   },
   {
    "duration": 671,
    "start_time": "2023-09-01T21:22:59.847Z"
   },
   {
    "duration": 235,
    "start_time": "2023-09-01T21:23:00.523Z"
   },
   {
    "duration": 3,
    "start_time": "2023-09-01T21:23:00.760Z"
   },
   {
    "duration": 62,
    "start_time": "2023-09-01T21:23:00.764Z"
   },
   {
    "duration": 52,
    "start_time": "2023-09-01T21:23:00.828Z"
   },
   {
    "duration": 46,
    "start_time": "2023-09-01T21:23:00.881Z"
   },
   {
    "duration": 28,
    "start_time": "2023-09-01T21:23:00.929Z"
   },
   {
    "duration": 250,
    "start_time": "2023-09-01T21:23:00.959Z"
   },
   {
    "duration": 4,
    "start_time": "2023-09-01T21:23:01.211Z"
   },
   {
    "duration": 34,
    "start_time": "2023-09-01T21:23:01.223Z"
   },
   {
    "duration": 37,
    "start_time": "2023-09-01T21:23:01.259Z"
   },
   {
    "duration": 20,
    "start_time": "2023-09-01T21:23:01.298Z"
   },
   {
    "duration": 20,
    "start_time": "2023-09-01T21:23:01.320Z"
   },
   {
    "duration": 30,
    "start_time": "2023-09-01T21:23:01.342Z"
   },
   {
    "duration": 47,
    "start_time": "2023-09-01T21:23:01.373Z"
   },
   {
    "duration": 9,
    "start_time": "2023-09-01T21:23:01.422Z"
   },
   {
    "duration": 30,
    "start_time": "2023-09-01T21:23:01.433Z"
   },
   {
    "duration": 139,
    "start_time": "2023-09-01T21:23:01.465Z"
   },
   {
    "duration": 29,
    "start_time": "2023-09-01T21:23:01.606Z"
   },
   {
    "duration": 157,
    "start_time": "2023-09-01T21:23:01.638Z"
   },
   {
    "duration": 6,
    "start_time": "2023-09-01T21:23:01.797Z"
   },
   {
    "duration": 32,
    "start_time": "2023-09-01T21:23:01.805Z"
   },
   {
    "duration": 25,
    "start_time": "2023-09-01T21:23:01.839Z"
   },
   {
    "duration": 268,
    "start_time": "2023-09-01T21:23:01.866Z"
   },
   {
    "duration": 1056,
    "start_time": "2023-09-01T21:23:02.136Z"
   },
   {
    "duration": 8,
    "start_time": "2023-09-01T21:23:03.194Z"
   },
   {
    "duration": 50,
    "start_time": "2023-09-01T21:23:03.204Z"
   },
   {
    "duration": 220,
    "start_time": "2023-09-01T21:23:03.256Z"
   },
   {
    "duration": 46,
    "start_time": "2023-09-01T21:23:03.478Z"
   },
   {
    "duration": 5,
    "start_time": "2023-09-01T21:23:03.526Z"
   },
   {
    "duration": 169,
    "start_time": "2023-09-01T21:23:03.533Z"
   },
   {
    "duration": 21,
    "start_time": "2023-09-01T21:23:03.703Z"
   },
   {
    "duration": 126,
    "start_time": "2023-09-01T21:23:03.726Z"
   },
   {
    "duration": 13,
    "start_time": "2023-09-01T21:23:03.854Z"
   },
   {
    "duration": 99,
    "start_time": "2023-09-01T21:23:03.868Z"
   },
   {
    "duration": 11,
    "start_time": "2023-09-01T21:23:03.969Z"
   },
   {
    "duration": 99,
    "start_time": "2023-09-01T21:23:03.981Z"
   },
   {
    "duration": 12,
    "start_time": "2023-09-01T21:23:04.082Z"
   },
   {
    "duration": 6,
    "start_time": "2023-09-01T21:23:04.096Z"
   },
   {
    "duration": 104,
    "start_time": "2023-09-02T04:19:27.386Z"
   },
   {
    "duration": 1670,
    "start_time": "2023-09-02T04:29:03.287Z"
   },
   {
    "duration": 599,
    "start_time": "2023-09-02T04:29:04.959Z"
   },
   {
    "duration": 186,
    "start_time": "2023-09-02T04:29:05.560Z"
   },
   {
    "duration": 326,
    "start_time": "2023-09-02T04:29:05.748Z"
   },
   {
    "duration": 10,
    "start_time": "2023-09-02T04:29:06.075Z"
   },
   {
    "duration": 31,
    "start_time": "2023-09-02T04:29:06.087Z"
   },
   {
    "duration": 28,
    "start_time": "2023-09-02T04:29:06.120Z"
   },
   {
    "duration": 278,
    "start_time": "2023-09-02T04:29:06.150Z"
   },
   {
    "duration": 759,
    "start_time": "2023-09-02T04:29:06.430Z"
   },
   {
    "duration": 320,
    "start_time": "2023-09-02T04:29:07.193Z"
   },
   {
    "duration": 5,
    "start_time": "2023-09-02T04:29:07.515Z"
   },
   {
    "duration": 40,
    "start_time": "2023-09-02T04:29:07.522Z"
   },
   {
    "duration": 11,
    "start_time": "2023-09-02T04:29:07.564Z"
   },
   {
    "duration": 51,
    "start_time": "2023-09-02T04:29:07.577Z"
   },
   {
    "duration": 11,
    "start_time": "2023-09-02T04:29:07.629Z"
   },
   {
    "duration": 186,
    "start_time": "2023-09-02T04:29:07.642Z"
   },
   {
    "duration": 5,
    "start_time": "2023-09-02T04:29:07.831Z"
   },
   {
    "duration": 53,
    "start_time": "2023-09-02T04:29:07.838Z"
   },
   {
    "duration": 33,
    "start_time": "2023-09-02T04:29:07.893Z"
   },
   {
    "duration": 15,
    "start_time": "2023-09-02T04:29:07.928Z"
   },
   {
    "duration": 14,
    "start_time": "2023-09-02T04:29:07.945Z"
   },
   {
    "duration": 16,
    "start_time": "2023-09-02T04:29:07.961Z"
   },
   {
    "duration": 53,
    "start_time": "2023-09-02T04:29:07.979Z"
   },
   {
    "duration": 10,
    "start_time": "2023-09-02T04:29:08.034Z"
   },
   {
    "duration": 26,
    "start_time": "2023-09-02T04:29:08.047Z"
   },
   {
    "duration": 261,
    "start_time": "2023-09-02T04:29:08.075Z"
   },
   {
    "duration": 22,
    "start_time": "2023-09-02T04:29:08.338Z"
   },
   {
    "duration": 274,
    "start_time": "2023-09-02T04:29:08.365Z"
   },
   {
    "duration": 7,
    "start_time": "2023-09-02T04:29:08.641Z"
   },
   {
    "duration": 436,
    "start_time": "2023-09-02T04:29:08.650Z"
   },
   {
    "duration": 486,
    "start_time": "2023-09-02T04:29:09.089Z"
   },
   {
    "duration": 43,
    "start_time": "2023-09-02T04:29:09.578Z"
   },
   {
    "duration": 10,
    "start_time": "2023-09-02T04:29:09.622Z"
   },
   {
    "duration": 11,
    "start_time": "2023-09-02T04:29:09.636Z"
   },
   {
    "duration": 85,
    "start_time": "2023-09-02T04:29:09.649Z"
   },
   {
    "duration": 214,
    "start_time": "2023-09-02T04:29:09.736Z"
   },
   {
    "duration": 36,
    "start_time": "2023-09-02T04:29:09.952Z"
   },
   {
    "duration": 31,
    "start_time": "2023-09-02T04:29:09.990Z"
   },
   {
    "duration": 103,
    "start_time": "2023-09-02T04:29:10.023Z"
   },
   {
    "duration": 14,
    "start_time": "2023-09-02T04:29:10.128Z"
   },
   {
    "duration": 92,
    "start_time": "2023-09-02T04:29:10.144Z"
   },
   {
    "duration": 14,
    "start_time": "2023-09-02T04:29:10.238Z"
   },
   {
    "duration": 92,
    "start_time": "2023-09-02T04:29:10.254Z"
   },
   {
    "duration": 14,
    "start_time": "2023-09-02T04:29:10.347Z"
   },
   {
    "duration": 109,
    "start_time": "2023-09-02T04:29:10.363Z"
   },
   {
    "duration": 16,
    "start_time": "2023-09-02T04:29:10.474Z"
   },
   {
    "duration": 7,
    "start_time": "2023-09-02T04:29:10.514Z"
   },
   {
    "duration": 193,
    "start_time": "2023-09-02T04:35:54.950Z"
   },
   {
    "duration": 28,
    "start_time": "2023-09-02T04:36:11.964Z"
   },
   {
    "duration": 28,
    "start_time": "2023-09-02T04:36:15.819Z"
   },
   {
    "duration": 87,
    "start_time": "2023-09-02T04:37:34.063Z"
   },
   {
    "duration": 92,
    "start_time": "2023-09-02T04:37:54.141Z"
   },
   {
    "duration": 83,
    "start_time": "2023-09-02T04:38:05.188Z"
   },
   {
    "duration": 81,
    "start_time": "2023-09-02T04:39:16.757Z"
   },
   {
    "duration": 67,
    "start_time": "2023-09-02T04:39:41.105Z"
   },
   {
    "duration": 70,
    "start_time": "2023-09-02T04:49:46.542Z"
   },
   {
    "duration": 66,
    "start_time": "2023-09-02T04:49:52.929Z"
   },
   {
    "duration": 88,
    "start_time": "2023-09-02T04:50:33.950Z"
   },
   {
    "duration": 63,
    "start_time": "2023-09-02T04:58:06.430Z"
   },
   {
    "duration": 78,
    "start_time": "2023-09-02T04:59:19.048Z"
   },
   {
    "duration": 56,
    "start_time": "2023-09-02T05:28:17.919Z"
   },
   {
    "duration": 59,
    "start_time": "2023-09-02T05:28:34.462Z"
   },
   {
    "duration": 57,
    "start_time": "2023-09-02T05:28:42.250Z"
   },
   {
    "duration": 45,
    "start_time": "2023-09-02T12:21:56.078Z"
   },
   {
    "duration": 1516,
    "start_time": "2023-09-02T12:22:12.548Z"
   },
   {
    "duration": 715,
    "start_time": "2023-09-02T12:22:14.067Z"
   },
   {
    "duration": 196,
    "start_time": "2023-09-02T12:22:14.784Z"
   },
   {
    "duration": 276,
    "start_time": "2023-09-02T12:22:14.982Z"
   },
   {
    "duration": 10,
    "start_time": "2023-09-02T12:22:15.261Z"
   },
   {
    "duration": 28,
    "start_time": "2023-09-02T12:22:15.273Z"
   },
   {
    "duration": 38,
    "start_time": "2023-09-02T12:22:15.303Z"
   },
   {
    "duration": 262,
    "start_time": "2023-09-02T12:22:15.342Z"
   },
   {
    "duration": 637,
    "start_time": "2023-09-02T12:22:15.605Z"
   },
   {
    "duration": 238,
    "start_time": "2023-09-02T12:22:16.243Z"
   },
   {
    "duration": 4,
    "start_time": "2023-09-02T12:22:16.483Z"
   },
   {
    "duration": 29,
    "start_time": "2023-09-02T12:22:16.488Z"
   },
   {
    "duration": 8,
    "start_time": "2023-09-02T12:22:16.518Z"
   },
   {
    "duration": 37,
    "start_time": "2023-09-02T12:22:16.556Z"
   },
   {
    "duration": 109,
    "start_time": "2023-09-02T12:22:16.596Z"
   },
   {
    "duration": 141,
    "start_time": "2023-09-02T12:22:16.707Z"
   },
   {
    "duration": 9,
    "start_time": "2023-09-02T12:22:16.849Z"
   },
   {
    "duration": 6,
    "start_time": "2023-09-02T12:22:16.859Z"
   },
   {
    "duration": 14,
    "start_time": "2023-09-02T12:22:16.866Z"
   },
   {
    "duration": 11,
    "start_time": "2023-09-02T12:22:16.882Z"
   },
   {
    "duration": 5,
    "start_time": "2023-09-02T12:22:16.895Z"
   },
   {
    "duration": 4,
    "start_time": "2023-09-02T12:22:16.901Z"
   },
   {
    "duration": 56,
    "start_time": "2023-09-02T12:22:16.906Z"
   },
   {
    "duration": 6,
    "start_time": "2023-09-02T12:22:16.964Z"
   },
   {
    "duration": 25,
    "start_time": "2023-09-02T12:22:16.972Z"
   },
   {
    "duration": 146,
    "start_time": "2023-09-02T12:22:16.999Z"
   },
   {
    "duration": 22,
    "start_time": "2023-09-02T12:22:17.146Z"
   },
   {
    "duration": 152,
    "start_time": "2023-09-02T12:22:17.169Z"
   },
   {
    "duration": 6,
    "start_time": "2023-09-02T12:22:17.323Z"
   },
   {
    "duration": 257,
    "start_time": "2023-09-02T12:22:17.330Z"
   },
   {
    "duration": 353,
    "start_time": "2023-09-02T12:22:17.589Z"
   },
   {
    "duration": 54,
    "start_time": "2023-09-02T12:22:17.944Z"
   },
   {
    "duration": 67,
    "start_time": "2023-09-02T12:22:18.000Z"
   },
   {
    "duration": 10,
    "start_time": "2023-09-02T12:22:18.069Z"
   },
   {
    "duration": 10,
    "start_time": "2023-09-02T12:22:18.080Z"
   },
   {
    "duration": 39,
    "start_time": "2023-09-02T12:22:18.092Z"
   },
   {
    "duration": 162,
    "start_time": "2023-09-02T12:22:18.133Z"
   },
   {
    "duration": 36,
    "start_time": "2023-09-02T12:22:18.296Z"
   },
   {
    "duration": 102,
    "start_time": "2023-09-02T12:22:18.334Z"
   },
   {
    "duration": 72,
    "start_time": "2023-09-02T12:22:18.438Z"
   },
   {
    "duration": 13,
    "start_time": "2023-09-02T12:22:18.513Z"
   },
   {
    "duration": 82,
    "start_time": "2023-09-02T12:22:18.527Z"
   },
   {
    "duration": 12,
    "start_time": "2023-09-02T12:22:18.610Z"
   },
   {
    "duration": 80,
    "start_time": "2023-09-02T12:22:18.623Z"
   },
   {
    "duration": 13,
    "start_time": "2023-09-02T12:22:18.704Z"
   },
   {
    "duration": 88,
    "start_time": "2023-09-02T12:22:18.718Z"
   },
   {
    "duration": 12,
    "start_time": "2023-09-02T12:22:18.808Z"
   },
   {
    "duration": 9,
    "start_time": "2023-09-02T12:22:18.821Z"
   },
   {
    "duration": 144,
    "start_time": "2023-09-02T12:24:04.423Z"
   },
   {
    "duration": 1265,
    "start_time": "2023-09-02T12:48:48.874Z"
   },
   {
    "duration": 166,
    "start_time": "2023-09-02T12:48:50.141Z"
   },
   {
    "duration": 181,
    "start_time": "2023-09-02T12:48:50.309Z"
   },
   {
    "duration": 286,
    "start_time": "2023-09-02T12:48:50.492Z"
   },
   {
    "duration": 10,
    "start_time": "2023-09-02T12:48:50.780Z"
   },
   {
    "duration": 9,
    "start_time": "2023-09-02T12:48:50.791Z"
   },
   {
    "duration": 15,
    "start_time": "2023-09-02T12:48:50.802Z"
   },
   {
    "duration": 242,
    "start_time": "2023-09-02T12:48:50.819Z"
   },
   {
    "duration": 648,
    "start_time": "2023-09-02T12:48:51.063Z"
   },
   {
    "duration": 246,
    "start_time": "2023-09-02T12:48:51.713Z"
   },
   {
    "duration": 4,
    "start_time": "2023-09-02T12:48:51.961Z"
   },
   {
    "duration": 33,
    "start_time": "2023-09-02T12:48:51.967Z"
   },
   {
    "duration": 8,
    "start_time": "2023-09-02T12:48:52.002Z"
   },
   {
    "duration": 23,
    "start_time": "2023-09-02T12:48:52.011Z"
   },
   {
    "duration": 26,
    "start_time": "2023-09-02T12:48:52.036Z"
   },
   {
    "duration": 141,
    "start_time": "2023-09-02T12:48:52.064Z"
   },
   {
    "duration": 4,
    "start_time": "2023-09-02T12:48:52.207Z"
   },
   {
    "duration": 7,
    "start_time": "2023-09-02T12:48:52.213Z"
   },
   {
    "duration": 35,
    "start_time": "2023-09-02T12:48:52.221Z"
   },
   {
    "duration": 13,
    "start_time": "2023-09-02T12:48:52.258Z"
   },
   {
    "duration": 5,
    "start_time": "2023-09-02T12:48:52.272Z"
   },
   {
    "duration": 3,
    "start_time": "2023-09-02T12:48:52.279Z"
   },
   {
    "duration": 23,
    "start_time": "2023-09-02T12:48:52.284Z"
   },
   {
    "duration": 6,
    "start_time": "2023-09-02T12:48:52.308Z"
   },
   {
    "duration": 53,
    "start_time": "2023-09-02T12:48:52.316Z"
   },
   {
    "duration": 225,
    "start_time": "2023-09-02T12:48:52.371Z"
   },
   {
    "duration": 19,
    "start_time": "2023-09-02T12:48:52.598Z"
   },
   {
    "duration": 163,
    "start_time": "2023-09-02T12:48:52.621Z"
   },
   {
    "duration": 6,
    "start_time": "2023-09-02T12:48:52.786Z"
   },
   {
    "duration": 279,
    "start_time": "2023-09-02T12:48:52.794Z"
   },
   {
    "duration": 343,
    "start_time": "2023-09-02T12:48:53.074Z"
   },
   {
    "duration": 71,
    "start_time": "2023-09-02T12:48:53.418Z"
   },
   {
    "duration": 205,
    "start_time": "2023-09-02T12:48:53.490Z"
   },
   {
    "duration": 0,
    "start_time": "2023-09-02T12:48:53.696Z"
   },
   {
    "duration": 0,
    "start_time": "2023-09-02T12:48:53.698Z"
   },
   {
    "duration": 0,
    "start_time": "2023-09-02T12:48:53.699Z"
   },
   {
    "duration": 0,
    "start_time": "2023-09-02T12:48:53.700Z"
   },
   {
    "duration": 0,
    "start_time": "2023-09-02T12:48:53.701Z"
   },
   {
    "duration": 0,
    "start_time": "2023-09-02T12:48:53.702Z"
   },
   {
    "duration": 0,
    "start_time": "2023-09-02T12:48:53.703Z"
   },
   {
    "duration": 1,
    "start_time": "2023-09-02T12:48:53.704Z"
   },
   {
    "duration": 0,
    "start_time": "2023-09-02T12:48:53.705Z"
   },
   {
    "duration": 0,
    "start_time": "2023-09-02T12:48:53.707Z"
   },
   {
    "duration": 0,
    "start_time": "2023-09-02T12:48:53.708Z"
   },
   {
    "duration": 0,
    "start_time": "2023-09-02T12:48:53.709Z"
   },
   {
    "duration": 0,
    "start_time": "2023-09-02T12:48:53.710Z"
   },
   {
    "duration": 0,
    "start_time": "2023-09-02T12:48:53.711Z"
   },
   {
    "duration": 0,
    "start_time": "2023-09-02T12:48:53.712Z"
   },
   {
    "duration": 0,
    "start_time": "2023-09-02T12:48:53.713Z"
   },
   {
    "duration": 54,
    "start_time": "2023-09-02T12:49:45.310Z"
   },
   {
    "duration": 62,
    "start_time": "2023-09-02T12:49:52.133Z"
   },
   {
    "duration": 55,
    "start_time": "2023-09-02T12:50:00.198Z"
   },
   {
    "duration": 49,
    "start_time": "2023-09-02T12:50:20.111Z"
   },
   {
    "duration": 64,
    "start_time": "2023-09-02T12:50:58.041Z"
   },
   {
    "duration": 57,
    "start_time": "2023-09-02T12:51:23.109Z"
   },
   {
    "duration": 63,
    "start_time": "2023-09-02T12:51:25.351Z"
   },
   {
    "duration": 45,
    "start_time": "2023-09-02T12:52:15.172Z"
   },
   {
    "duration": 46,
    "start_time": "2023-09-02T12:52:32.609Z"
   },
   {
    "duration": 7,
    "start_time": "2023-09-02T12:55:16.429Z"
   },
   {
    "duration": 7,
    "start_time": "2023-09-02T13:01:43.737Z"
   },
   {
    "duration": 154,
    "start_time": "2023-09-02T13:08:50.289Z"
   },
   {
    "duration": 25,
    "start_time": "2023-09-02T13:10:40.149Z"
   },
   {
    "duration": 4,
    "start_time": "2023-09-02T13:10:41.829Z"
   },
   {
    "duration": 1321,
    "start_time": "2023-09-02T13:16:27.810Z"
   },
   {
    "duration": 186,
    "start_time": "2023-09-02T13:16:29.133Z"
   },
   {
    "duration": 187,
    "start_time": "2023-09-02T13:16:29.321Z"
   },
   {
    "duration": 297,
    "start_time": "2023-09-02T13:16:29.510Z"
   },
   {
    "duration": 9,
    "start_time": "2023-09-02T13:16:29.809Z"
   },
   {
    "duration": 17,
    "start_time": "2023-09-02T13:16:29.820Z"
   },
   {
    "duration": 10,
    "start_time": "2023-09-02T13:16:29.839Z"
   },
   {
    "duration": 235,
    "start_time": "2023-09-02T13:16:29.864Z"
   },
   {
    "duration": 719,
    "start_time": "2023-09-02T13:16:30.100Z"
   },
   {
    "duration": 275,
    "start_time": "2023-09-02T13:16:30.821Z"
   },
   {
    "duration": 4,
    "start_time": "2023-09-02T13:16:31.097Z"
   },
   {
    "duration": 74,
    "start_time": "2023-09-02T13:16:31.102Z"
   },
   {
    "duration": 21,
    "start_time": "2023-09-02T13:16:31.179Z"
   },
   {
    "duration": 45,
    "start_time": "2023-09-02T13:16:31.207Z"
   },
   {
    "duration": 15,
    "start_time": "2023-09-02T13:16:31.254Z"
   },
   {
    "duration": 162,
    "start_time": "2023-09-02T13:16:31.272Z"
   },
   {
    "duration": 4,
    "start_time": "2023-09-02T13:16:31.436Z"
   },
   {
    "duration": 65,
    "start_time": "2023-09-02T13:16:31.442Z"
   },
   {
    "duration": 77,
    "start_time": "2023-09-02T13:16:31.509Z"
   },
   {
    "duration": 54,
    "start_time": "2023-09-02T13:16:31.588Z"
   },
   {
    "duration": 79,
    "start_time": "2023-09-02T13:16:31.644Z"
   },
   {
    "duration": 66,
    "start_time": "2023-09-02T13:16:31.725Z"
   },
   {
    "duration": 54,
    "start_time": "2023-09-02T13:16:31.793Z"
   },
   {
    "duration": 13,
    "start_time": "2023-09-02T13:16:31.850Z"
   },
   {
    "duration": 28,
    "start_time": "2023-09-02T13:16:31.864Z"
   },
   {
    "duration": 246,
    "start_time": "2023-09-02T13:16:31.893Z"
   },
   {
    "duration": 32,
    "start_time": "2023-09-02T13:16:32.140Z"
   },
   {
    "duration": 181,
    "start_time": "2023-09-02T13:16:32.173Z"
   },
   {
    "duration": 19,
    "start_time": "2023-09-02T13:16:32.357Z"
   },
   {
    "duration": 322,
    "start_time": "2023-09-02T13:16:32.379Z"
   },
   {
    "duration": 70,
    "start_time": "2023-09-02T13:16:32.703Z"
   },
   {
    "duration": 58,
    "start_time": "2023-09-02T13:16:32.775Z"
   },
   {
    "duration": 540,
    "start_time": "2023-09-02T13:16:32.836Z"
   },
   {
    "duration": 29,
    "start_time": "2023-09-02T13:16:33.378Z"
   },
   {
    "duration": 51,
    "start_time": "2023-09-02T13:16:33.409Z"
   },
   {
    "duration": 29,
    "start_time": "2023-09-02T13:16:33.462Z"
   },
   {
    "duration": 37,
    "start_time": "2023-09-02T13:16:33.493Z"
   },
   {
    "duration": 170,
    "start_time": "2023-09-02T13:16:33.532Z"
   },
   {
    "duration": 64,
    "start_time": "2023-09-02T13:16:33.704Z"
   },
   {
    "duration": 9,
    "start_time": "2023-09-02T13:16:33.771Z"
   },
   {
    "duration": 125,
    "start_time": "2023-09-02T13:16:33.786Z"
   },
   {
    "duration": 14,
    "start_time": "2023-09-02T13:16:33.913Z"
   },
   {
    "duration": 87,
    "start_time": "2023-09-02T13:16:33.929Z"
   },
   {
    "duration": 14,
    "start_time": "2023-09-02T13:16:34.018Z"
   },
   {
    "duration": 83,
    "start_time": "2023-09-02T13:16:34.034Z"
   },
   {
    "duration": 10,
    "start_time": "2023-09-02T13:16:34.119Z"
   },
   {
    "duration": 100,
    "start_time": "2023-09-02T13:16:34.132Z"
   },
   {
    "duration": 12,
    "start_time": "2023-09-02T13:16:34.234Z"
   },
   {
    "duration": 10,
    "start_time": "2023-09-02T13:16:34.265Z"
   },
   {
    "duration": 1292,
    "start_time": "2023-09-02T15:12:28.025Z"
   },
   {
    "duration": 771,
    "start_time": "2023-09-02T15:12:29.320Z"
   },
   {
    "duration": 177,
    "start_time": "2023-09-02T15:12:30.093Z"
   },
   {
    "duration": 287,
    "start_time": "2023-09-02T15:12:30.272Z"
   },
   {
    "duration": 11,
    "start_time": "2023-09-02T15:12:30.562Z"
   },
   {
    "duration": 49,
    "start_time": "2023-09-02T15:12:30.575Z"
   },
   {
    "duration": 33,
    "start_time": "2023-09-02T15:12:30.626Z"
   },
   {
    "duration": 278,
    "start_time": "2023-09-02T15:12:30.661Z"
   },
   {
    "duration": 681,
    "start_time": "2023-09-02T15:12:30.941Z"
   },
   {
    "duration": 261,
    "start_time": "2023-09-02T15:12:31.624Z"
   },
   {
    "duration": 3,
    "start_time": "2023-09-02T15:12:31.886Z"
   },
   {
    "duration": 53,
    "start_time": "2023-09-02T15:12:31.891Z"
   },
   {
    "duration": 30,
    "start_time": "2023-09-02T15:12:31.946Z"
   },
   {
    "duration": 33,
    "start_time": "2023-09-02T15:12:31.980Z"
   },
   {
    "duration": 10,
    "start_time": "2023-09-02T15:12:32.015Z"
   },
   {
    "duration": 161,
    "start_time": "2023-09-02T15:12:32.026Z"
   },
   {
    "duration": 5,
    "start_time": "2023-09-02T15:12:32.189Z"
   },
   {
    "duration": 26,
    "start_time": "2023-09-02T15:12:32.196Z"
   },
   {
    "duration": 48,
    "start_time": "2023-09-02T15:12:32.224Z"
   },
   {
    "duration": 24,
    "start_time": "2023-09-02T15:12:32.274Z"
   },
   {
    "duration": 17,
    "start_time": "2023-09-02T15:12:32.300Z"
   },
   {
    "duration": 18,
    "start_time": "2023-09-02T15:12:32.319Z"
   },
   {
    "duration": 48,
    "start_time": "2023-09-02T15:12:32.342Z"
   },
   {
    "duration": 11,
    "start_time": "2023-09-02T15:12:32.393Z"
   },
   {
    "duration": 44,
    "start_time": "2023-09-02T15:12:32.406Z"
   },
   {
    "duration": 238,
    "start_time": "2023-09-02T15:12:32.456Z"
   },
   {
    "duration": 18,
    "start_time": "2023-09-02T15:12:32.696Z"
   },
   {
    "duration": 195,
    "start_time": "2023-09-02T15:12:32.716Z"
   },
   {
    "duration": 10,
    "start_time": "2023-09-02T15:12:32.913Z"
   },
   {
    "duration": 297,
    "start_time": "2023-09-02T15:12:32.925Z"
   },
   {
    "duration": 61,
    "start_time": "2023-09-02T15:12:33.225Z"
   },
   {
    "duration": 6,
    "start_time": "2023-09-02T15:12:33.287Z"
   },
   {
    "duration": 1062,
    "start_time": "2023-09-02T15:12:33.295Z"
   },
   {
    "duration": 17,
    "start_time": "2023-09-02T15:12:34.360Z"
   },
   {
    "duration": 23,
    "start_time": "2023-09-02T15:12:34.379Z"
   },
   {
    "duration": 57,
    "start_time": "2023-09-02T15:12:34.404Z"
   },
   {
    "duration": 29,
    "start_time": "2023-09-02T15:12:34.463Z"
   },
   {
    "duration": 222,
    "start_time": "2023-09-02T15:12:34.494Z"
   },
   {
    "duration": 48,
    "start_time": "2023-09-02T15:12:34.719Z"
   },
   {
    "duration": 5,
    "start_time": "2023-09-02T15:12:34.769Z"
   },
   {
    "duration": 63,
    "start_time": "2023-09-02T15:12:34.778Z"
   },
   {
    "duration": 26,
    "start_time": "2023-09-02T15:12:34.843Z"
   },
   {
    "duration": 69,
    "start_time": "2023-09-02T15:12:34.870Z"
   },
   {
    "duration": 26,
    "start_time": "2023-09-02T15:12:34.940Z"
   },
   {
    "duration": 65,
    "start_time": "2023-09-02T15:12:34.967Z"
   },
   {
    "duration": 14,
    "start_time": "2023-09-02T15:12:35.057Z"
   },
   {
    "duration": 93,
    "start_time": "2023-09-02T15:12:35.073Z"
   },
   {
    "duration": 12,
    "start_time": "2023-09-02T15:12:35.168Z"
   },
   {
    "duration": 8,
    "start_time": "2023-09-02T15:12:35.182Z"
   },
   {
    "duration": 45,
    "start_time": "2023-09-02T17:38:22.982Z"
   },
   {
    "duration": 144,
    "start_time": "2023-09-02T17:38:32.973Z"
   }
  ],
  "kernelspec": {
   "display_name": "Python 3 (ipykernel)",
   "language": "python",
   "name": "python3"
  },
  "language_info": {
   "codemirror_mode": {
    "name": "ipython",
    "version": 3
   },
   "file_extension": ".py",
   "mimetype": "text/x-python",
   "name": "python",
   "nbconvert_exporter": "python",
   "pygments_lexer": "ipython3",
   "version": "3.10.9"
  },
  "toc": {
   "base_numbering": 1,
   "nav_menu": {},
   "number_sections": true,
   "sideBar": true,
   "skip_h1_title": true,
   "title_cell": "Table of Contents",
   "title_sidebar": "Contents",
   "toc_cell": false,
   "toc_position": {},
   "toc_section_display": true,
   "toc_window_display": true
  }
 },
 "nbformat": 4,
 "nbformat_minor": 2
}
