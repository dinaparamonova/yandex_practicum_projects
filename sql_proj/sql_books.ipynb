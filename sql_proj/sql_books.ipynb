{
 "cells": [
  {
   "cell_type": "markdown",
   "metadata": {},
   "source": [
    "# Анализ базы данных на SQL"
   ]
  },
  {
   "cell_type": "markdown",
   "metadata": {},
   "source": [
    "В нашем распоряжении база данных сервиса для чтения книг. В базе информация о книгах, авторах, издательстве, пользовательских оценках книг и пользовательских обзорах. \n",
    "\n",
    "Необходимо:\n",
    "\n",
    "   -  Посчитать, сколько книг вышло после 1 января 2000 года;\n",
    "   -  Для каждой книги посчитать количество обзоров и среднюю оценку;\n",
    "   -  Определить издательство, которое выпустило наибольшее число книг толще 50 страниц — так вы исключите из анализа брошюры;\n",
    "   -  Определить автора с самой высокой средней оценкой книг — учитывайте только книги с 50 и более оценками;\n",
    "   -  Посчитать среднее количество обзоров от пользователей, которые поставили больше 48 оценок.\n",
    "   \n",
    "Подключимся к базе данных."
   ]
  },
  {
   "cell_type": "code",
   "execution_count": 1,
   "metadata": {},
   "outputs": [],
   "source": [
    "# импортируем библиотеки\n",
    "import pandas as pd\n",
    "from sqlalchemy import text, create_engine\n",
    "# устанавливаем параметры\n",
    "db_config = {'user': '1111', # имя пользователя\n",
    "'pwd': '1111', # пароль\n",
    "'host': '1111.yandexcloud.net',\n",
    "'port': 6432, # порт подключения\n",
    "'db': 'data-analyst-final-project-db'} # название базы данных\n",
    "connection_string = 'postgresql://{user}:{pwd}@{host}:{port}/{db}'.format(**db_config)\n",
    "# сохраняем коннектор\n",
    "engine = create_engine(connection_string, connect_args={'sslmode':'require'})\n",
    "con=engine.connect()"
   ]
  },
  {
   "cell_type": "markdown",
   "metadata": {},
   "source": [
    "Напишем функцию, выводящую таблицы и выведем их."
   ]
  },
  {
   "cell_type": "code",
   "execution_count": 2,
   "metadata": {},
   "outputs": [],
   "source": [
    "def show_table(table_name, con):\n",
    "    query = '''SELECT * FROM ''' + table_name + ''' LIMIT 5'''\n",
    "    table = pd.io.sql.read_sql(sql=text(query), con = con)\n",
    "    display(table)"
   ]
  },
  {
   "cell_type": "code",
   "execution_count": 3,
   "metadata": {},
   "outputs": [
    {
     "data": {
      "text/html": [
       "<div>\n",
       "<style scoped>\n",
       "    .dataframe tbody tr th:only-of-type {\n",
       "        vertical-align: middle;\n",
       "    }\n",
       "\n",
       "    .dataframe tbody tr th {\n",
       "        vertical-align: top;\n",
       "    }\n",
       "\n",
       "    .dataframe thead th {\n",
       "        text-align: right;\n",
       "    }\n",
       "</style>\n",
       "<table border=\"1\" class=\"dataframe\">\n",
       "  <thead>\n",
       "    <tr style=\"text-align: right;\">\n",
       "      <th></th>\n",
       "      <th>book_id</th>\n",
       "      <th>author_id</th>\n",
       "      <th>title</th>\n",
       "      <th>num_pages</th>\n",
       "      <th>publication_date</th>\n",
       "      <th>publisher_id</th>\n",
       "    </tr>\n",
       "  </thead>\n",
       "  <tbody>\n",
       "    <tr>\n",
       "      <th>0</th>\n",
       "      <td>1</td>\n",
       "      <td>546</td>\n",
       "      <td>'Salem's Lot</td>\n",
       "      <td>594</td>\n",
       "      <td>2005-11-01</td>\n",
       "      <td>93</td>\n",
       "    </tr>\n",
       "    <tr>\n",
       "      <th>1</th>\n",
       "      <td>2</td>\n",
       "      <td>465</td>\n",
       "      <td>1 000 Places to See Before You Die</td>\n",
       "      <td>992</td>\n",
       "      <td>2003-05-22</td>\n",
       "      <td>336</td>\n",
       "    </tr>\n",
       "    <tr>\n",
       "      <th>2</th>\n",
       "      <td>3</td>\n",
       "      <td>407</td>\n",
       "      <td>13 Little Blue Envelopes (Little Blue Envelope...</td>\n",
       "      <td>322</td>\n",
       "      <td>2010-12-21</td>\n",
       "      <td>135</td>\n",
       "    </tr>\n",
       "    <tr>\n",
       "      <th>3</th>\n",
       "      <td>4</td>\n",
       "      <td>82</td>\n",
       "      <td>1491: New Revelations of the Americas Before C...</td>\n",
       "      <td>541</td>\n",
       "      <td>2006-10-10</td>\n",
       "      <td>309</td>\n",
       "    </tr>\n",
       "    <tr>\n",
       "      <th>4</th>\n",
       "      <td>5</td>\n",
       "      <td>125</td>\n",
       "      <td>1776</td>\n",
       "      <td>386</td>\n",
       "      <td>2006-07-04</td>\n",
       "      <td>268</td>\n",
       "    </tr>\n",
       "  </tbody>\n",
       "</table>\n",
       "</div>"
      ],
      "text/plain": [
       "   book_id  author_id                                              title  \\\n",
       "0        1        546                                       'Salem's Lot   \n",
       "1        2        465                 1 000 Places to See Before You Die   \n",
       "2        3        407  13 Little Blue Envelopes (Little Blue Envelope...   \n",
       "3        4         82  1491: New Revelations of the Americas Before C...   \n",
       "4        5        125                                               1776   \n",
       "\n",
       "   num_pages publication_date  publisher_id  \n",
       "0        594       2005-11-01            93  \n",
       "1        992       2003-05-22           336  \n",
       "2        322       2010-12-21           135  \n",
       "3        541       2006-10-10           309  \n",
       "4        386       2006-07-04           268  "
      ]
     },
     "metadata": {},
     "output_type": "display_data"
    }
   ],
   "source": [
    "show_table('''books''', con)"
   ]
  },
  {
   "cell_type": "code",
   "execution_count": 4,
   "metadata": {},
   "outputs": [
    {
     "data": {
      "text/html": [
       "<div>\n",
       "<style scoped>\n",
       "    .dataframe tbody tr th:only-of-type {\n",
       "        vertical-align: middle;\n",
       "    }\n",
       "\n",
       "    .dataframe tbody tr th {\n",
       "        vertical-align: top;\n",
       "    }\n",
       "\n",
       "    .dataframe thead th {\n",
       "        text-align: right;\n",
       "    }\n",
       "</style>\n",
       "<table border=\"1\" class=\"dataframe\">\n",
       "  <thead>\n",
       "    <tr style=\"text-align: right;\">\n",
       "      <th></th>\n",
       "      <th>author_id</th>\n",
       "      <th>author</th>\n",
       "    </tr>\n",
       "  </thead>\n",
       "  <tbody>\n",
       "    <tr>\n",
       "      <th>0</th>\n",
       "      <td>1</td>\n",
       "      <td>A.S. Byatt</td>\n",
       "    </tr>\n",
       "    <tr>\n",
       "      <th>1</th>\n",
       "      <td>2</td>\n",
       "      <td>Aesop/Laura Harris/Laura Gibbs</td>\n",
       "    </tr>\n",
       "    <tr>\n",
       "      <th>2</th>\n",
       "      <td>3</td>\n",
       "      <td>Agatha Christie</td>\n",
       "    </tr>\n",
       "    <tr>\n",
       "      <th>3</th>\n",
       "      <td>4</td>\n",
       "      <td>Alan Brennert</td>\n",
       "    </tr>\n",
       "    <tr>\n",
       "      <th>4</th>\n",
       "      <td>5</td>\n",
       "      <td>Alan Moore/David   Lloyd</td>\n",
       "    </tr>\n",
       "  </tbody>\n",
       "</table>\n",
       "</div>"
      ],
      "text/plain": [
       "   author_id                          author\n",
       "0          1                      A.S. Byatt\n",
       "1          2  Aesop/Laura Harris/Laura Gibbs\n",
       "2          3                 Agatha Christie\n",
       "3          4                   Alan Brennert\n",
       "4          5        Alan Moore/David   Lloyd"
      ]
     },
     "metadata": {},
     "output_type": "display_data"
    }
   ],
   "source": [
    "show_table('''authors''', con)"
   ]
  },
  {
   "cell_type": "code",
   "execution_count": 5,
   "metadata": {},
   "outputs": [
    {
     "data": {
      "text/html": [
       "<div>\n",
       "<style scoped>\n",
       "    .dataframe tbody tr th:only-of-type {\n",
       "        vertical-align: middle;\n",
       "    }\n",
       "\n",
       "    .dataframe tbody tr th {\n",
       "        vertical-align: top;\n",
       "    }\n",
       "\n",
       "    .dataframe thead th {\n",
       "        text-align: right;\n",
       "    }\n",
       "</style>\n",
       "<table border=\"1\" class=\"dataframe\">\n",
       "  <thead>\n",
       "    <tr style=\"text-align: right;\">\n",
       "      <th></th>\n",
       "      <th>publisher_id</th>\n",
       "      <th>publisher</th>\n",
       "    </tr>\n",
       "  </thead>\n",
       "  <tbody>\n",
       "    <tr>\n",
       "      <th>0</th>\n",
       "      <td>1</td>\n",
       "      <td>Ace</td>\n",
       "    </tr>\n",
       "    <tr>\n",
       "      <th>1</th>\n",
       "      <td>2</td>\n",
       "      <td>Ace Book</td>\n",
       "    </tr>\n",
       "    <tr>\n",
       "      <th>2</th>\n",
       "      <td>3</td>\n",
       "      <td>Ace Books</td>\n",
       "    </tr>\n",
       "    <tr>\n",
       "      <th>3</th>\n",
       "      <td>4</td>\n",
       "      <td>Ace Hardcover</td>\n",
       "    </tr>\n",
       "    <tr>\n",
       "      <th>4</th>\n",
       "      <td>5</td>\n",
       "      <td>Addison Wesley Publishing Company</td>\n",
       "    </tr>\n",
       "  </tbody>\n",
       "</table>\n",
       "</div>"
      ],
      "text/plain": [
       "   publisher_id                          publisher\n",
       "0             1                                Ace\n",
       "1             2                           Ace Book\n",
       "2             3                          Ace Books\n",
       "3             4                      Ace Hardcover\n",
       "4             5  Addison Wesley Publishing Company"
      ]
     },
     "metadata": {},
     "output_type": "display_data"
    }
   ],
   "source": [
    "show_table('''publishers''', con)"
   ]
  },
  {
   "cell_type": "code",
   "execution_count": 6,
   "metadata": {},
   "outputs": [
    {
     "data": {
      "text/html": [
       "<div>\n",
       "<style scoped>\n",
       "    .dataframe tbody tr th:only-of-type {\n",
       "        vertical-align: middle;\n",
       "    }\n",
       "\n",
       "    .dataframe tbody tr th {\n",
       "        vertical-align: top;\n",
       "    }\n",
       "\n",
       "    .dataframe thead th {\n",
       "        text-align: right;\n",
       "    }\n",
       "</style>\n",
       "<table border=\"1\" class=\"dataframe\">\n",
       "  <thead>\n",
       "    <tr style=\"text-align: right;\">\n",
       "      <th></th>\n",
       "      <th>rating_id</th>\n",
       "      <th>book_id</th>\n",
       "      <th>username</th>\n",
       "      <th>rating</th>\n",
       "    </tr>\n",
       "  </thead>\n",
       "  <tbody>\n",
       "    <tr>\n",
       "      <th>0</th>\n",
       "      <td>1</td>\n",
       "      <td>1</td>\n",
       "      <td>ryanfranco</td>\n",
       "      <td>4</td>\n",
       "    </tr>\n",
       "    <tr>\n",
       "      <th>1</th>\n",
       "      <td>2</td>\n",
       "      <td>1</td>\n",
       "      <td>grantpatricia</td>\n",
       "      <td>2</td>\n",
       "    </tr>\n",
       "    <tr>\n",
       "      <th>2</th>\n",
       "      <td>3</td>\n",
       "      <td>1</td>\n",
       "      <td>brandtandrea</td>\n",
       "      <td>5</td>\n",
       "    </tr>\n",
       "    <tr>\n",
       "      <th>3</th>\n",
       "      <td>4</td>\n",
       "      <td>2</td>\n",
       "      <td>lorichen</td>\n",
       "      <td>3</td>\n",
       "    </tr>\n",
       "    <tr>\n",
       "      <th>4</th>\n",
       "      <td>5</td>\n",
       "      <td>2</td>\n",
       "      <td>mariokeller</td>\n",
       "      <td>2</td>\n",
       "    </tr>\n",
       "  </tbody>\n",
       "</table>\n",
       "</div>"
      ],
      "text/plain": [
       "   rating_id  book_id       username  rating\n",
       "0          1        1     ryanfranco       4\n",
       "1          2        1  grantpatricia       2\n",
       "2          3        1   brandtandrea       5\n",
       "3          4        2       lorichen       3\n",
       "4          5        2    mariokeller       2"
      ]
     },
     "metadata": {},
     "output_type": "display_data"
    }
   ],
   "source": [
    "show_table('''ratings''', con)"
   ]
  },
  {
   "cell_type": "code",
   "execution_count": 7,
   "metadata": {},
   "outputs": [
    {
     "data": {
      "text/html": [
       "<div>\n",
       "<style scoped>\n",
       "    .dataframe tbody tr th:only-of-type {\n",
       "        vertical-align: middle;\n",
       "    }\n",
       "\n",
       "    .dataframe tbody tr th {\n",
       "        vertical-align: top;\n",
       "    }\n",
       "\n",
       "    .dataframe thead th {\n",
       "        text-align: right;\n",
       "    }\n",
       "</style>\n",
       "<table border=\"1\" class=\"dataframe\">\n",
       "  <thead>\n",
       "    <tr style=\"text-align: right;\">\n",
       "      <th></th>\n",
       "      <th>review_id</th>\n",
       "      <th>book_id</th>\n",
       "      <th>username</th>\n",
       "      <th>text</th>\n",
       "    </tr>\n",
       "  </thead>\n",
       "  <tbody>\n",
       "    <tr>\n",
       "      <th>0</th>\n",
       "      <td>1</td>\n",
       "      <td>1</td>\n",
       "      <td>brandtandrea</td>\n",
       "      <td>Mention society tell send professor analysis. ...</td>\n",
       "    </tr>\n",
       "    <tr>\n",
       "      <th>1</th>\n",
       "      <td>2</td>\n",
       "      <td>1</td>\n",
       "      <td>ryanfranco</td>\n",
       "      <td>Foot glass pretty audience hit themselves. Amo...</td>\n",
       "    </tr>\n",
       "    <tr>\n",
       "      <th>2</th>\n",
       "      <td>3</td>\n",
       "      <td>2</td>\n",
       "      <td>lorichen</td>\n",
       "      <td>Listen treat keep worry. Miss husband tax but ...</td>\n",
       "    </tr>\n",
       "    <tr>\n",
       "      <th>3</th>\n",
       "      <td>4</td>\n",
       "      <td>3</td>\n",
       "      <td>johnsonamanda</td>\n",
       "      <td>Finally month interesting blue could nature cu...</td>\n",
       "    </tr>\n",
       "    <tr>\n",
       "      <th>4</th>\n",
       "      <td>5</td>\n",
       "      <td>3</td>\n",
       "      <td>scotttamara</td>\n",
       "      <td>Nation purpose heavy give wait song will. List...</td>\n",
       "    </tr>\n",
       "  </tbody>\n",
       "</table>\n",
       "</div>"
      ],
      "text/plain": [
       "   review_id  book_id       username  \\\n",
       "0          1        1   brandtandrea   \n",
       "1          2        1     ryanfranco   \n",
       "2          3        2       lorichen   \n",
       "3          4        3  johnsonamanda   \n",
       "4          5        3    scotttamara   \n",
       "\n",
       "                                                text  \n",
       "0  Mention society tell send professor analysis. ...  \n",
       "1  Foot glass pretty audience hit themselves. Amo...  \n",
       "2  Listen treat keep worry. Miss husband tax but ...  \n",
       "3  Finally month interesting blue could nature cu...  \n",
       "4  Nation purpose heavy give wait song will. List...  "
      ]
     },
     "metadata": {},
     "output_type": "display_data"
    }
   ],
   "source": [
    "table = show_table('''reviews''', con)\n",
    "table"
   ]
  },
  {
   "cell_type": "markdown",
   "metadata": {},
   "source": [
    "#### Подсчет количества книг, вышедших после 1 января 2000 года"
   ]
  },
  {
   "cell_type": "code",
   "execution_count": 8,
   "metadata": {},
   "outputs": [
    {
     "data": {
      "text/html": [
       "<div>\n",
       "<style scoped>\n",
       "    .dataframe tbody tr th:only-of-type {\n",
       "        vertical-align: middle;\n",
       "    }\n",
       "\n",
       "    .dataframe tbody tr th {\n",
       "        vertical-align: top;\n",
       "    }\n",
       "\n",
       "    .dataframe thead th {\n",
       "        text-align: right;\n",
       "    }\n",
       "</style>\n",
       "<table border=\"1\" class=\"dataframe\">\n",
       "  <thead>\n",
       "    <tr style=\"text-align: right;\">\n",
       "      <th></th>\n",
       "      <th>count</th>\n",
       "    </tr>\n",
       "  </thead>\n",
       "  <tbody>\n",
       "    <tr>\n",
       "      <th>0</th>\n",
       "      <td>819</td>\n",
       "    </tr>\n",
       "  </tbody>\n",
       "</table>\n",
       "</div>"
      ],
      "text/plain": [
       "   count\n",
       "0    819"
      ]
     },
     "execution_count": 8,
     "metadata": {},
     "output_type": "execute_result"
    }
   ],
   "source": [
    "query = '''\n",
    "SELECT COUNT(book_id)\n",
    "FROM books \n",
    "WHERE publication_date > '2000-01-01'\n",
    "LIMIT 5'''\n",
    "\n",
    "pd.io.sql.read_sql(sql=text(query), con = con)"
   ]
  },
  {
   "cell_type": "markdown",
   "metadata": {},
   "source": [
    "**После 1 января 2000 года вышло 819 книг.**"
   ]
  },
  {
   "cell_type": "markdown",
   "metadata": {},
   "source": [
    "#### Подсчет количества обзоров и средней оценки для каждой книги\n"
   ]
  },
  {
   "cell_type": "code",
   "execution_count": 9,
   "metadata": {},
   "outputs": [
    {
     "data": {
      "text/html": [
       "<div>\n",
       "<style scoped>\n",
       "    .dataframe tbody tr th:only-of-type {\n",
       "        vertical-align: middle;\n",
       "    }\n",
       "\n",
       "    .dataframe tbody tr th {\n",
       "        vertical-align: top;\n",
       "    }\n",
       "\n",
       "    .dataframe thead th {\n",
       "        text-align: right;\n",
       "    }\n",
       "</style>\n",
       "<table border=\"1\" class=\"dataframe\">\n",
       "  <thead>\n",
       "    <tr style=\"text-align: right;\">\n",
       "      <th></th>\n",
       "      <th>book_id</th>\n",
       "      <th>title</th>\n",
       "      <th>count</th>\n",
       "      <th>avg</th>\n",
       "    </tr>\n",
       "  </thead>\n",
       "  <tbody>\n",
       "    <tr>\n",
       "      <th>0</th>\n",
       "      <td>1</td>\n",
       "      <td>'Salem's Lot</td>\n",
       "      <td>2</td>\n",
       "      <td>3.666667</td>\n",
       "    </tr>\n",
       "    <tr>\n",
       "      <th>1</th>\n",
       "      <td>2</td>\n",
       "      <td>1 000 Places to See Before You Die</td>\n",
       "      <td>1</td>\n",
       "      <td>2.500000</td>\n",
       "    </tr>\n",
       "    <tr>\n",
       "      <th>2</th>\n",
       "      <td>3</td>\n",
       "      <td>13 Little Blue Envelopes (Little Blue Envelope...</td>\n",
       "      <td>3</td>\n",
       "      <td>4.666667</td>\n",
       "    </tr>\n",
       "    <tr>\n",
       "      <th>3</th>\n",
       "      <td>4</td>\n",
       "      <td>1491: New Revelations of the Americas Before C...</td>\n",
       "      <td>2</td>\n",
       "      <td>4.500000</td>\n",
       "    </tr>\n",
       "    <tr>\n",
       "      <th>4</th>\n",
       "      <td>5</td>\n",
       "      <td>1776</td>\n",
       "      <td>4</td>\n",
       "      <td>4.000000</td>\n",
       "    </tr>\n",
       "    <tr>\n",
       "      <th>...</th>\n",
       "      <td>...</td>\n",
       "      <td>...</td>\n",
       "      <td>...</td>\n",
       "      <td>...</td>\n",
       "    </tr>\n",
       "    <tr>\n",
       "      <th>989</th>\n",
       "      <td>996</td>\n",
       "      <td>Wyrd Sisters (Discworld  #6; Witches #2)</td>\n",
       "      <td>3</td>\n",
       "      <td>3.666667</td>\n",
       "    </tr>\n",
       "    <tr>\n",
       "      <th>990</th>\n",
       "      <td>997</td>\n",
       "      <td>Xenocide (Ender's Saga  #3)</td>\n",
       "      <td>3</td>\n",
       "      <td>3.400000</td>\n",
       "    </tr>\n",
       "    <tr>\n",
       "      <th>991</th>\n",
       "      <td>998</td>\n",
       "      <td>Year of Wonders</td>\n",
       "      <td>4</td>\n",
       "      <td>3.200000</td>\n",
       "    </tr>\n",
       "    <tr>\n",
       "      <th>992</th>\n",
       "      <td>999</td>\n",
       "      <td>You Suck (A Love Story  #2)</td>\n",
       "      <td>2</td>\n",
       "      <td>4.500000</td>\n",
       "    </tr>\n",
       "    <tr>\n",
       "      <th>993</th>\n",
       "      <td>1000</td>\n",
       "      <td>Zen and the Art of Motorcycle Maintenance: An ...</td>\n",
       "      <td>4</td>\n",
       "      <td>3.833333</td>\n",
       "    </tr>\n",
       "  </tbody>\n",
       "</table>\n",
       "<p>994 rows × 4 columns</p>\n",
       "</div>"
      ],
      "text/plain": [
       "     book_id                                              title  count  \\\n",
       "0          1                                       'Salem's Lot      2   \n",
       "1          2                 1 000 Places to See Before You Die      1   \n",
       "2          3  13 Little Blue Envelopes (Little Blue Envelope...      3   \n",
       "3          4  1491: New Revelations of the Americas Before C...      2   \n",
       "4          5                                               1776      4   \n",
       "..       ...                                                ...    ...   \n",
       "989      996           Wyrd Sisters (Discworld  #6; Witches #2)      3   \n",
       "990      997                        Xenocide (Ender's Saga  #3)      3   \n",
       "991      998                                    Year of Wonders      4   \n",
       "992      999                        You Suck (A Love Story  #2)      2   \n",
       "993     1000  Zen and the Art of Motorcycle Maintenance: An ...      4   \n",
       "\n",
       "          avg  \n",
       "0    3.666667  \n",
       "1    2.500000  \n",
       "2    4.666667  \n",
       "3    4.500000  \n",
       "4    4.000000  \n",
       "..        ...  \n",
       "989  3.666667  \n",
       "990  3.400000  \n",
       "991  3.200000  \n",
       "992  4.500000  \n",
       "993  3.833333  \n",
       "\n",
       "[994 rows x 4 columns]"
      ]
     },
     "execution_count": 9,
     "metadata": {},
     "output_type": "execute_result"
    }
   ],
   "source": [
    "query = '''\n",
    "\n",
    "SELECT b.book_id, b.title, COUNT(DISTINCT r.review_id), AVG(rat.rating)\n",
    "FROM books b JOIN reviews r ON b.book_id = r.book_id JOIN ratings rat ON b.book_id = rat.book_id\n",
    "GROUP BY b.book_id\n",
    "ORDER BY b.book_id\n",
    "\n",
    "'''\n",
    "pd.io.sql.read_sql(sql=text(query), con = con)"
   ]
  },
  {
   "cell_type": "markdown",
   "metadata": {},
   "source": [
    "**Получили таблицу с количеством обзоров и средней оценкой пользователей.**"
   ]
  },
  {
   "cell_type": "markdown",
   "metadata": {},
   "source": [
    "#### Определение издательства, которое выпустило наибольшее число книг толще 50 страниц\n"
   ]
  },
  {
   "cell_type": "code",
   "execution_count": 10,
   "metadata": {},
   "outputs": [
    {
     "data": {
      "text/html": [
       "<div>\n",
       "<style scoped>\n",
       "    .dataframe tbody tr th:only-of-type {\n",
       "        vertical-align: middle;\n",
       "    }\n",
       "\n",
       "    .dataframe tbody tr th {\n",
       "        vertical-align: top;\n",
       "    }\n",
       "\n",
       "    .dataframe thead th {\n",
       "        text-align: right;\n",
       "    }\n",
       "</style>\n",
       "<table border=\"1\" class=\"dataframe\">\n",
       "  <thead>\n",
       "    <tr style=\"text-align: right;\">\n",
       "      <th></th>\n",
       "      <th>publisher</th>\n",
       "      <th>count</th>\n",
       "    </tr>\n",
       "  </thead>\n",
       "  <tbody>\n",
       "    <tr>\n",
       "      <th>0</th>\n",
       "      <td>Penguin Books</td>\n",
       "      <td>42</td>\n",
       "    </tr>\n",
       "  </tbody>\n",
       "</table>\n",
       "</div>"
      ],
      "text/plain": [
       "       publisher  count\n",
       "0  Penguin Books     42"
      ]
     },
     "execution_count": 10,
     "metadata": {},
     "output_type": "execute_result"
    }
   ],
   "source": [
    "query = '''\n",
    "SELECT p.publisher, COUNT(b.book_id)\n",
    "FROM books b JOIN publishers p ON b.publisher_id = p.publisher_id\n",
    "WHERE b.num_pages > 50\n",
    "GROUP BY p.publisher_id\n",
    "ORDER BY COUNT(b.book_id) DESC\n",
    "LIMIT 1'''\n",
    "\n",
    "pd.io.sql.read_sql(sql=text(query), con = con)"
   ]
  },
  {
   "cell_type": "markdown",
   "metadata": {},
   "source": [
    "**Наибольшее количество книг более 50 страниц выпустило издательство Penguin Books**."
   ]
  },
  {
   "cell_type": "markdown",
   "metadata": {},
   "source": [
    "#### Определение автора с самой высокой средней оценкой книг\n"
   ]
  },
  {
   "cell_type": "code",
   "execution_count": 11,
   "metadata": {},
   "outputs": [
    {
     "data": {
      "text/html": [
       "<div>\n",
       "<style scoped>\n",
       "    .dataframe tbody tr th:only-of-type {\n",
       "        vertical-align: middle;\n",
       "    }\n",
       "\n",
       "    .dataframe tbody tr th {\n",
       "        vertical-align: top;\n",
       "    }\n",
       "\n",
       "    .dataframe thead th {\n",
       "        text-align: right;\n",
       "    }\n",
       "</style>\n",
       "<table border=\"1\" class=\"dataframe\">\n",
       "  <thead>\n",
       "    <tr style=\"text-align: right;\">\n",
       "      <th></th>\n",
       "      <th>author_id</th>\n",
       "      <th>author</th>\n",
       "      <th>avg</th>\n",
       "    </tr>\n",
       "  </thead>\n",
       "  <tbody>\n",
       "    <tr>\n",
       "      <th>0</th>\n",
       "      <td>236</td>\n",
       "      <td>J.K. Rowling/Mary GrandPré</td>\n",
       "      <td>4.287097</td>\n",
       "    </tr>\n",
       "  </tbody>\n",
       "</table>\n",
       "</div>"
      ],
      "text/plain": [
       "   author_id                      author       avg\n",
       "0        236  J.K. Rowling/Mary GrandPré  4.287097"
      ]
     },
     "execution_count": 11,
     "metadata": {},
     "output_type": "execute_result"
    }
   ],
   "source": [
    "query = '''\n",
    "WITH q AS (\n",
    "            SELECT b.book_id, b.author_id, COUNT(rating)\n",
    "            FROM authors a JOIN books b ON a.author_id = b.author_id JOIN ratings r ON b.book_id = r.book_id\n",
    "            GROUP BY b.book_id\n",
    "            HAVING COUNT(rating) >= 50)\n",
    "\n",
    "SELECT a.author_id, a.author, AVG(r.rating)\n",
    "FROM authors a JOIN q ON a.author_id = q.author_id JOIN ratings r ON q.book_id = r.book_id\n",
    "GROUP BY a.author_id\n",
    "ORDER BY avg DESC\n",
    "LIMIT 1\n",
    "\n",
    "'''\n",
    "\n",
    "pd.io.sql.read_sql(sql=text(query), con = con)"
   ]
  },
  {
   "cell_type": "markdown",
   "metadata": {},
   "source": [
    "**Автор с самой высокой средней оценкой книг c 50 и более оценками - J.K. Rowling/Mary GrandPré.**"
   ]
  },
  {
   "cell_type": "markdown",
   "metadata": {},
   "source": [
    "#### Подсчет среднего количества обзоров от пользователей, которые поставили больше 48 оценок"
   ]
  },
  {
   "cell_type": "code",
   "execution_count": 12,
   "metadata": {},
   "outputs": [
    {
     "data": {
      "text/html": [
       "<div>\n",
       "<style scoped>\n",
       "    .dataframe tbody tr th:only-of-type {\n",
       "        vertical-align: middle;\n",
       "    }\n",
       "\n",
       "    .dataframe tbody tr th {\n",
       "        vertical-align: top;\n",
       "    }\n",
       "\n",
       "    .dataframe thead th {\n",
       "        text-align: right;\n",
       "    }\n",
       "</style>\n",
       "<table border=\"1\" class=\"dataframe\">\n",
       "  <thead>\n",
       "    <tr style=\"text-align: right;\">\n",
       "      <th></th>\n",
       "      <th>avg</th>\n",
       "    </tr>\n",
       "  </thead>\n",
       "  <tbody>\n",
       "    <tr>\n",
       "      <th>0</th>\n",
       "      <td>24.0</td>\n",
       "    </tr>\n",
       "  </tbody>\n",
       "</table>\n",
       "</div>"
      ],
      "text/plain": [
       "    avg\n",
       "0  24.0"
      ]
     },
     "execution_count": 12,
     "metadata": {},
     "output_type": "execute_result"
    }
   ],
   "source": [
    "query = '''\n",
    "WITH q AS (\n",
    "            SELECT username, COUNT(rating)\n",
    "            FROM ratings \n",
    "            GROUP BY username\n",
    "            HAVING COUNT(rating) > 48)\n",
    "SELECT AVG(count)\n",
    "FROM (SELECT q.username, COUNT(review_id)\n",
    "FROM reviews r JOIN q ON r.username = q.username\n",
    "GROUP BY q.username) AS q2\n",
    "\n",
    "'''\n",
    "\n",
    "pd.io.sql.read_sql(sql=text(query), con = con)"
   ]
  },
  {
   "cell_type": "markdown",
   "metadata": {},
   "source": [
    "**Среднее количество обзоров от пользователей, которые поставили больше 48 оценок составляет 24 отзыва.**"
   ]
  }
 ],
 "metadata": {
  "ExecuteTimeLog": [
   {
    "duration": 10397,
    "start_time": "2023-10-24T05:41:44.405Z"
   },
   {
    "duration": 3,
    "start_time": "2023-10-24T05:42:28.742Z"
   },
   {
    "duration": 4,
    "start_time": "2023-10-24T05:42:40.243Z"
   },
   {
    "duration": 162,
    "start_time": "2023-10-24T05:42:47.031Z"
   },
   {
    "duration": 4,
    "start_time": "2023-10-24T05:43:50.672Z"
   },
   {
    "duration": 233,
    "start_time": "2023-10-24T05:43:52.883Z"
   },
   {
    "duration": 123,
    "start_time": "2023-10-24T05:44:05.395Z"
   },
   {
    "duration": 13,
    "start_time": "2023-10-24T05:44:12.612Z"
   },
   {
    "duration": 40,
    "start_time": "2023-10-24T05:44:17.368Z"
   },
   {
    "duration": 31,
    "start_time": "2023-10-24T05:44:43.955Z"
   },
   {
    "duration": 30,
    "start_time": "2023-10-24T05:44:53.676Z"
   },
   {
    "duration": 31,
    "start_time": "2023-10-24T05:45:07.800Z"
   },
   {
    "duration": 32,
    "start_time": "2023-10-24T06:00:31.170Z"
   },
   {
    "duration": 30,
    "start_time": "2023-10-24T06:00:52.989Z"
   },
   {
    "duration": 4,
    "start_time": "2023-10-24T06:04:45.115Z"
   },
   {
    "duration": 112,
    "start_time": "2023-10-24T06:08:13.673Z"
   },
   {
    "duration": 60,
    "start_time": "2023-10-24T06:08:25.145Z"
   },
   {
    "duration": 61,
    "start_time": "2023-10-24T06:08:39.025Z"
   },
   {
    "duration": 43,
    "start_time": "2023-10-24T06:09:16.341Z"
   },
   {
    "duration": 34,
    "start_time": "2023-10-24T06:09:35.093Z"
   },
   {
    "duration": 32,
    "start_time": "2023-10-24T06:09:47.305Z"
   },
   {
    "duration": 31,
    "start_time": "2023-10-24T06:09:58.077Z"
   },
   {
    "duration": 51,
    "start_time": "2023-10-24T06:11:39.500Z"
   },
   {
    "duration": 53,
    "start_time": "2023-10-24T06:12:06.513Z"
   },
   {
    "duration": 101,
    "start_time": "2023-10-24T06:13:43.152Z"
   },
   {
    "duration": 33,
    "start_time": "2023-10-24T06:18:00.839Z"
   },
   {
    "duration": 50,
    "start_time": "2023-10-24T06:18:09.725Z"
   },
   {
    "duration": 41,
    "start_time": "2023-10-24T06:18:25.874Z"
   },
   {
    "duration": 30,
    "start_time": "2023-10-24T06:18:34.463Z"
   },
   {
    "duration": 31,
    "start_time": "2023-10-24T06:18:41.494Z"
   },
   {
    "duration": 33,
    "start_time": "2023-10-24T06:19:01.174Z"
   },
   {
    "duration": 74,
    "start_time": "2023-10-24T06:19:34.014Z"
   },
   {
    "duration": 34,
    "start_time": "2023-10-24T06:25:48.782Z"
   },
   {
    "duration": 36,
    "start_time": "2023-10-24T06:26:08.243Z"
   },
   {
    "duration": 31,
    "start_time": "2023-10-24T06:26:19.065Z"
   },
   {
    "duration": 52,
    "start_time": "2023-10-24T06:26:41.986Z"
   },
   {
    "duration": 45,
    "start_time": "2023-10-24T06:27:33.722Z"
   },
   {
    "duration": 51,
    "start_time": "2023-10-24T06:27:57.013Z"
   },
   {
    "duration": 61,
    "start_time": "2023-10-24T06:28:08.406Z"
   },
   {
    "duration": 59,
    "start_time": "2023-10-24T06:28:33.366Z"
   },
   {
    "duration": 62,
    "start_time": "2023-10-24T06:28:36.248Z"
   },
   {
    "duration": 60,
    "start_time": "2023-10-24T06:28:59.642Z"
   },
   {
    "duration": 44,
    "start_time": "2023-10-24T06:29:02.680Z"
   },
   {
    "duration": 81,
    "start_time": "2023-10-24T06:31:17.257Z"
   },
   {
    "duration": 50,
    "start_time": "2023-10-24T06:31:31.113Z"
   },
   {
    "duration": 59,
    "start_time": "2023-10-24T06:32:06.258Z"
   },
   {
    "duration": 44,
    "start_time": "2023-10-24T06:32:14.409Z"
   },
   {
    "duration": 50,
    "start_time": "2023-10-24T06:35:29.486Z"
   },
   {
    "duration": 61,
    "start_time": "2023-10-24T06:35:37.770Z"
   },
   {
    "duration": 62,
    "start_time": "2023-10-24T06:36:31.919Z"
   },
   {
    "duration": 45,
    "start_time": "2023-10-24T06:36:36.153Z"
   },
   {
    "duration": 52,
    "start_time": "2023-10-24T06:36:50.199Z"
   },
   {
    "duration": 45,
    "start_time": "2023-10-24T06:37:09.336Z"
   },
   {
    "duration": 34,
    "start_time": "2023-10-24T06:37:36.484Z"
   },
   {
    "duration": 36,
    "start_time": "2023-10-24T06:37:49.684Z"
   },
   {
    "duration": 76,
    "start_time": "2023-10-24T06:47:24.716Z"
   },
   {
    "duration": 50,
    "start_time": "2023-10-24T06:52:51.329Z"
   },
   {
    "duration": 60,
    "start_time": "2023-10-24T06:53:03.558Z"
   },
   {
    "duration": 60,
    "start_time": "2023-10-24T06:53:12.074Z"
   },
   {
    "duration": 60,
    "start_time": "2023-10-24T06:53:21.417Z"
   },
   {
    "duration": 60,
    "start_time": "2023-10-24T06:53:41.465Z"
   },
   {
    "duration": 49,
    "start_time": "2023-10-24T06:54:03.393Z"
   },
   {
    "duration": 37,
    "start_time": "2023-10-24T06:54:22.273Z"
   },
   {
    "duration": 37,
    "start_time": "2023-10-24T06:55:05.626Z"
   },
   {
    "duration": 35,
    "start_time": "2023-10-24T06:57:27.463Z"
   },
   {
    "duration": 34,
    "start_time": "2023-10-24T07:00:04.827Z"
   },
   {
    "duration": 34,
    "start_time": "2023-10-24T07:00:14.482Z"
   },
   {
    "duration": 59,
    "start_time": "2023-10-24T07:02:26.211Z"
   },
   {
    "duration": 51,
    "start_time": "2023-10-24T07:05:07.138Z"
   },
   {
    "duration": 45,
    "start_time": "2023-10-24T07:05:18.056Z"
   },
   {
    "duration": 32,
    "start_time": "2023-10-24T07:05:56.591Z"
   },
   {
    "duration": 54,
    "start_time": "2023-10-24T07:06:03.267Z"
   },
   {
    "duration": 45,
    "start_time": "2023-10-24T07:06:18.919Z"
   },
   {
    "duration": 34,
    "start_time": "2023-10-24T07:06:31.148Z"
   },
   {
    "duration": 110,
    "start_time": "2023-10-24T07:07:42.015Z"
   },
   {
    "duration": 57,
    "start_time": "2023-10-24T07:11:59.511Z"
   },
   {
    "duration": 62,
    "start_time": "2023-10-24T07:17:39.630Z"
   },
   {
    "duration": 99,
    "start_time": "2023-10-24T07:20:31.007Z"
   },
   {
    "duration": 203,
    "start_time": "2023-10-24T07:23:01.540Z"
   },
   {
    "duration": 42,
    "start_time": "2023-10-24T07:23:07.990Z"
   },
   {
    "duration": 4,
    "start_time": "2023-10-24T07:25:14.962Z"
   },
   {
    "duration": 3,
    "start_time": "2023-10-24T07:26:47.332Z"
   },
   {
    "duration": 27,
    "start_time": "2023-10-24T07:27:10.760Z"
   },
   {
    "duration": 34,
    "start_time": "2023-10-24T07:27:27.735Z"
   },
   {
    "duration": 3,
    "start_time": "2023-10-24T07:29:00.475Z"
   },
   {
    "duration": 28,
    "start_time": "2023-10-24T07:29:02.820Z"
   },
   {
    "duration": 3,
    "start_time": "2023-10-24T07:29:14.235Z"
   },
   {
    "duration": 32,
    "start_time": "2023-10-24T07:29:15.799Z"
   },
   {
    "duration": 30,
    "start_time": "2023-10-24T07:32:36.111Z"
   },
   {
    "duration": 30,
    "start_time": "2023-10-24T07:32:54.248Z"
   },
   {
    "duration": 8,
    "start_time": "2023-10-24T07:35:42.300Z"
   },
   {
    "duration": 27,
    "start_time": "2023-10-24T07:36:03.961Z"
   },
   {
    "duration": 32,
    "start_time": "2023-10-24T07:36:06.253Z"
   },
   {
    "duration": 32,
    "start_time": "2023-10-24T07:36:10.480Z"
   },
   {
    "duration": 32,
    "start_time": "2023-10-24T07:36:12.132Z"
   },
   {
    "duration": 31,
    "start_time": "2023-10-24T07:36:25.886Z"
   },
   {
    "duration": 31,
    "start_time": "2023-10-24T07:36:28.057Z"
   },
   {
    "duration": 3,
    "start_time": "2023-10-24T07:37:26.019Z"
   },
   {
    "duration": 26,
    "start_time": "2023-10-24T07:37:27.619Z"
   },
   {
    "duration": 4,
    "start_time": "2023-10-24T07:37:32.800Z"
   },
   {
    "duration": 26,
    "start_time": "2023-10-24T07:37:34.085Z"
   },
   {
    "duration": 4,
    "start_time": "2023-10-24T07:37:59.519Z"
   },
   {
    "duration": 31,
    "start_time": "2023-10-24T07:38:01.136Z"
   },
   {
    "duration": 3,
    "start_time": "2023-10-24T07:38:10.602Z"
   },
   {
    "duration": 28,
    "start_time": "2023-10-24T07:38:12.140Z"
   },
   {
    "duration": 3,
    "start_time": "2023-10-24T07:38:16.091Z"
   },
   {
    "duration": 32,
    "start_time": "2023-10-24T07:38:17.566Z"
   },
   {
    "duration": 30,
    "start_time": "2023-10-24T07:38:20.628Z"
   },
   {
    "duration": 29,
    "start_time": "2023-10-24T07:38:22.739Z"
   },
   {
    "duration": 33,
    "start_time": "2023-10-24T07:38:24.519Z"
   },
   {
    "duration": 47,
    "start_time": "2023-10-24T14:05:33.393Z"
   },
   {
    "duration": 10195,
    "start_time": "2023-10-24T14:05:39.268Z"
   },
   {
    "duration": 4,
    "start_time": "2023-10-24T14:05:49.464Z"
   },
   {
    "duration": 56,
    "start_time": "2023-10-24T14:05:49.469Z"
   },
   {
    "duration": 28,
    "start_time": "2023-10-24T14:05:49.527Z"
   },
   {
    "duration": 29,
    "start_time": "2023-10-24T14:05:49.557Z"
   },
   {
    "duration": 30,
    "start_time": "2023-10-24T14:05:49.588Z"
   },
   {
    "duration": 45,
    "start_time": "2023-10-24T14:05:49.619Z"
   },
   {
    "duration": 29,
    "start_time": "2023-10-24T14:05:49.665Z"
   },
   {
    "duration": 70,
    "start_time": "2023-10-24T14:05:49.696Z"
   },
   {
    "duration": 32,
    "start_time": "2023-10-24T14:05:49.768Z"
   },
   {
    "duration": 37,
    "start_time": "2023-10-24T14:05:49.801Z"
   },
   {
    "duration": 33,
    "start_time": "2023-10-24T14:05:49.840Z"
   },
   {
    "duration": 110,
    "start_time": "2023-10-24T14:11:37.547Z"
   },
   {
    "duration": 48,
    "start_time": "2023-10-24T14:11:43.922Z"
   },
   {
    "duration": 29,
    "start_time": "2023-10-24T14:12:21.643Z"
   },
   {
    "duration": 67,
    "start_time": "2023-10-24T14:13:40.445Z"
   },
   {
    "duration": 36,
    "start_time": "2023-10-24T14:14:09.442Z"
   },
   {
    "duration": 36,
    "start_time": "2023-10-24T14:14:43.497Z"
   },
   {
    "duration": 38,
    "start_time": "2023-10-24T14:14:53.769Z"
   },
   {
    "duration": 36,
    "start_time": "2023-10-24T14:14:57.841Z"
   },
   {
    "duration": 32,
    "start_time": "2023-10-24T14:15:56.738Z"
   },
   {
    "duration": 30,
    "start_time": "2023-10-24T14:18:12.464Z"
   },
   {
    "duration": 44,
    "start_time": "2023-10-24T14:23:32.585Z"
   },
   {
    "duration": 30,
    "start_time": "2023-10-24T14:23:53.654Z"
   },
   {
    "duration": 30,
    "start_time": "2023-10-24T14:24:13.558Z"
   },
   {
    "duration": 30,
    "start_time": "2023-10-24T14:24:22.889Z"
   },
   {
    "duration": 30,
    "start_time": "2023-10-24T14:25:19.457Z"
   },
   {
    "duration": 30,
    "start_time": "2023-10-24T14:26:01.329Z"
   },
   {
    "duration": 42,
    "start_time": "2023-10-24T14:26:28.653Z"
   },
   {
    "duration": 29,
    "start_time": "2023-10-24T14:26:47.178Z"
   },
   {
    "duration": 30,
    "start_time": "2023-10-24T14:29:40.129Z"
   },
   {
    "duration": 29,
    "start_time": "2023-10-24T14:29:47.458Z"
   },
   {
    "duration": 33,
    "start_time": "2023-10-24T14:30:06.250Z"
   },
   {
    "duration": 3,
    "start_time": "2023-10-24T14:30:30.269Z"
   },
   {
    "duration": 37,
    "start_time": "2023-10-24T14:30:33.813Z"
   },
   {
    "duration": 50,
    "start_time": "2023-10-24T14:33:25.754Z"
   },
   {
    "duration": 46,
    "start_time": "2023-10-24T14:34:30.601Z"
   },
   {
    "duration": 48,
    "start_time": "2023-10-24T14:34:58.193Z"
   },
   {
    "duration": 30,
    "start_time": "2023-10-24T14:35:57.393Z"
   },
   {
    "duration": 50,
    "start_time": "2023-10-24T14:37:31.461Z"
   },
   {
    "duration": 82,
    "start_time": "2023-10-24T15:12:07.809Z"
   },
   {
    "duration": 44,
    "start_time": "2023-10-24T15:12:44.496Z"
   },
   {
    "duration": 38,
    "start_time": "2023-10-24T15:14:38.703Z"
   },
   {
    "duration": 44,
    "start_time": "2023-10-24T15:14:51.576Z"
   },
   {
    "duration": 42,
    "start_time": "2023-10-24T15:14:59.244Z"
   },
   {
    "duration": 29,
    "start_time": "2023-10-24T15:16:34.809Z"
   },
   {
    "duration": 32,
    "start_time": "2023-10-24T15:20:44.042Z"
   },
   {
    "duration": 38,
    "start_time": "2023-10-24T15:21:43.718Z"
   },
   {
    "duration": 37,
    "start_time": "2023-10-24T15:21:50.338Z"
   },
   {
    "duration": 29,
    "start_time": "2023-10-24T15:24:17.446Z"
   },
   {
    "duration": 33,
    "start_time": "2023-10-24T15:26:34.375Z"
   },
   {
    "duration": 29,
    "start_time": "2023-10-24T15:26:56.173Z"
   },
   {
    "duration": 50,
    "start_time": "2023-10-24T15:34:12.526Z"
   },
   {
    "duration": 230,
    "start_time": "2023-10-24T15:34:24.230Z"
   },
   {
    "duration": 657,
    "start_time": "2023-10-24T15:36:32.850Z"
   },
   {
    "duration": 222,
    "start_time": "2023-10-24T15:38:34.401Z"
   },
   {
    "duration": 224,
    "start_time": "2023-10-24T15:40:13.593Z"
   },
   {
    "duration": 47,
    "start_time": "2023-10-24T15:41:16.520Z"
   },
   {
    "duration": 48,
    "start_time": "2023-10-24T15:41:28.428Z"
   },
   {
    "duration": 37,
    "start_time": "2023-10-24T15:42:04.615Z"
   },
   {
    "duration": 38,
    "start_time": "2023-10-24T15:42:17.668Z"
   },
   {
    "duration": 62,
    "start_time": "2023-10-24T15:42:51.947Z"
   },
   {
    "duration": 40,
    "start_time": "2023-10-24T15:43:35.015Z"
   },
   {
    "duration": 61,
    "start_time": "2023-10-24T15:43:40.082Z"
   }
  ],
  "kernelspec": {
   "display_name": "Python 3 (ipykernel)",
   "language": "python",
   "name": "python3"
  },
  "language_info": {
   "codemirror_mode": {
    "name": "ipython",
    "version": 3
   },
   "file_extension": ".py",
   "mimetype": "text/x-python",
   "name": "python",
   "nbconvert_exporter": "python",
   "pygments_lexer": "ipython3",
   "version": "3.10.9"
  },
  "toc": {
   "base_numbering": 1,
   "nav_menu": {},
   "number_sections": true,
   "sideBar": true,
   "skip_h1_title": true,
   "title_cell": "Table of Contents",
   "title_sidebar": "Contents",
   "toc_cell": false,
   "toc_position": {},
   "toc_section_display": true,
   "toc_window_display": true
  }
 },
 "nbformat": 4,
 "nbformat_minor": 2
}
