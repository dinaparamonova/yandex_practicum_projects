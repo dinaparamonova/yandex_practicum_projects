{
 "cells": [
  {
   "cell_type": "markdown",
   "metadata": {},
   "source": [
    "# Проверка гипотез для увеличения выручки интернет-магазина"
   ]
  },
  {
   "cell_type": "markdown",
   "metadata": {},
   "source": [
    "Исследование на данных интернет-магазина: список сформулированных с помощью отдела маркетинга гипотез и результаты проведенного с 1 по 31 августа 2019 года A/B-теста.\n",
    "\n",
    "Целью исследования является приоритизация гипотез и анализ полученных результатов A/B-теста для увеличения выручки интернет-магазина. \n",
    "\n",
    "В ходе исследования будет проведена подготовка данных, построены графики изменений выручки, количества заказов и среднего чека, а также проведен расчет статистическиой значимости различий в среднем количестве заказов и в среднем чеке между группами А и В по \"сырым\" и по \"очищенным\" от аномалий данным.\n",
    "\n"
   ]
  },
  {
   "cell_type": "markdown",
   "metadata": {},
   "source": [
    "## Приоритизация гипотез"
   ]
  },
  {
   "cell_type": "markdown",
   "metadata": {},
   "source": [
    "Импортируем библиотеки."
   ]
  },
  {
   "cell_type": "code",
   "execution_count": 1,
   "metadata": {},
   "outputs": [],
   "source": [
    "import pandas as pd\n",
    "import datetime as dt\n",
    "import numpy as np\n",
    "import matplotlib.pyplot as plt\n",
    "from pandas.plotting import register_matplotlib_converters\n",
    "import matplotlib.pyplot as plt\n",
    "import scipy.stats as stats\n",
    "import warnings"
   ]
  },
  {
   "cell_type": "code",
   "execution_count": 2,
   "metadata": {},
   "outputs": [],
   "source": [
    "pd.set_option('display.max_colwidth', None) #настраиваем вывод таблиц, чтобы видеть всю информацию"
   ]
  },
  {
   "cell_type": "markdown",
   "metadata": {},
   "source": [
    "Прочитаем файл с гипотезами."
   ]
  },
  {
   "cell_type": "code",
   "execution_count": 3,
   "metadata": {},
   "outputs": [
    {
     "data": {
      "text/html": [
       "<div>\n",
       "<style scoped>\n",
       "    .dataframe tbody tr th:only-of-type {\n",
       "        vertical-align: middle;\n",
       "    }\n",
       "\n",
       "    .dataframe tbody tr th {\n",
       "        vertical-align: top;\n",
       "    }\n",
       "\n",
       "    .dataframe thead th {\n",
       "        text-align: right;\n",
       "    }\n",
       "</style>\n",
       "<table border=\"1\" class=\"dataframe\">\n",
       "  <thead>\n",
       "    <tr style=\"text-align: right;\">\n",
       "      <th></th>\n",
       "      <th>Hypothesis</th>\n",
       "      <th>Reach</th>\n",
       "      <th>Impact</th>\n",
       "      <th>Confidence</th>\n",
       "      <th>Efforts</th>\n",
       "    </tr>\n",
       "  </thead>\n",
       "  <tbody>\n",
       "    <tr>\n",
       "      <th>0</th>\n",
       "      <td>Добавить два новых канала привлечения трафика, что позволит привлекать на 30% больше пользователей</td>\n",
       "      <td>3</td>\n",
       "      <td>10</td>\n",
       "      <td>8</td>\n",
       "      <td>6</td>\n",
       "    </tr>\n",
       "    <tr>\n",
       "      <th>1</th>\n",
       "      <td>Запустить собственную службу доставки, что сократит срок доставки заказов</td>\n",
       "      <td>2</td>\n",
       "      <td>5</td>\n",
       "      <td>4</td>\n",
       "      <td>10</td>\n",
       "    </tr>\n",
       "    <tr>\n",
       "      <th>2</th>\n",
       "      <td>Добавить блоки рекомендаций товаров на сайт интернет магазина, чтобы повысить конверсию и средний чек заказа</td>\n",
       "      <td>8</td>\n",
       "      <td>3</td>\n",
       "      <td>7</td>\n",
       "      <td>3</td>\n",
       "    </tr>\n",
       "    <tr>\n",
       "      <th>3</th>\n",
       "      <td>Изменить структура категорий, что увеличит конверсию, т.к. пользователи быстрее найдут нужный товар</td>\n",
       "      <td>8</td>\n",
       "      <td>3</td>\n",
       "      <td>3</td>\n",
       "      <td>8</td>\n",
       "    </tr>\n",
       "    <tr>\n",
       "      <th>4</th>\n",
       "      <td>Изменить цвет фона главной страницы, чтобы увеличить вовлеченность пользователей</td>\n",
       "      <td>3</td>\n",
       "      <td>1</td>\n",
       "      <td>1</td>\n",
       "      <td>1</td>\n",
       "    </tr>\n",
       "    <tr>\n",
       "      <th>5</th>\n",
       "      <td>Добавить страницу отзывов клиентов о магазине, что позволит увеличить количество заказов</td>\n",
       "      <td>3</td>\n",
       "      <td>2</td>\n",
       "      <td>2</td>\n",
       "      <td>3</td>\n",
       "    </tr>\n",
       "    <tr>\n",
       "      <th>6</th>\n",
       "      <td>Показать на главной странице баннеры с актуальными акциями и распродажами, чтобы увеличить конверсию</td>\n",
       "      <td>5</td>\n",
       "      <td>3</td>\n",
       "      <td>8</td>\n",
       "      <td>3</td>\n",
       "    </tr>\n",
       "    <tr>\n",
       "      <th>7</th>\n",
       "      <td>Добавить форму подписки на все основные страницы, чтобы собрать базу клиентов для email-рассылок</td>\n",
       "      <td>10</td>\n",
       "      <td>7</td>\n",
       "      <td>8</td>\n",
       "      <td>5</td>\n",
       "    </tr>\n",
       "    <tr>\n",
       "      <th>8</th>\n",
       "      <td>Запустить акцию, дающую скидку на товар в день рождения</td>\n",
       "      <td>1</td>\n",
       "      <td>9</td>\n",
       "      <td>9</td>\n",
       "      <td>5</td>\n",
       "    </tr>\n",
       "  </tbody>\n",
       "</table>\n",
       "</div>"
      ],
      "text/plain": [
       "                                                                                                     Hypothesis  \\\n",
       "0            Добавить два новых канала привлечения трафика, что позволит привлекать на 30% больше пользователей   \n",
       "1                                     Запустить собственную службу доставки, что сократит срок доставки заказов   \n",
       "2  Добавить блоки рекомендаций товаров на сайт интернет магазина, чтобы повысить конверсию и средний чек заказа   \n",
       "3           Изменить структура категорий, что увеличит конверсию, т.к. пользователи быстрее найдут нужный товар   \n",
       "4                              Изменить цвет фона главной страницы, чтобы увеличить вовлеченность пользователей   \n",
       "5                      Добавить страницу отзывов клиентов о магазине, что позволит увеличить количество заказов   \n",
       "6          Показать на главной странице баннеры с актуальными акциями и распродажами, чтобы увеличить конверсию   \n",
       "7              Добавить форму подписки на все основные страницы, чтобы собрать базу клиентов для email-рассылок   \n",
       "8                                                       Запустить акцию, дающую скидку на товар в день рождения   \n",
       "\n",
       "   Reach  Impact  Confidence  Efforts  \n",
       "0      3      10           8        6  \n",
       "1      2       5           4       10  \n",
       "2      8       3           7        3  \n",
       "3      8       3           3        8  \n",
       "4      3       1           1        1  \n",
       "5      3       2           2        3  \n",
       "6      5       3           8        3  \n",
       "7     10       7           8        5  \n",
       "8      1       9           9        5  "
      ]
     },
     "execution_count": 3,
     "metadata": {},
     "output_type": "execute_result"
    }
   ],
   "source": [
    "hypothesis = pd.read_csv('hypothesis.csv')\n",
    "hypothesis"
   ]
  },
  {
   "cell_type": "markdown",
   "metadata": {},
   "source": [
    "В нашем распоряжении 9 гипотез по увеличению выручки интернет-магазина с указанными параметрами Reach, Impact, Confidence, Effort. \n",
    "\n",
    "Приведем названия столбцов к общепринятому виду."
   ]
  },
  {
   "cell_type": "code",
   "execution_count": 4,
   "metadata": {},
   "outputs": [],
   "source": [
    "hypothesis.columns = [col.lower() for col in hypothesis.columns] "
   ]
  },
  {
   "cell_type": "markdown",
   "metadata": {},
   "source": [
    "### Фреймфорк ICE"
   ]
  },
  {
   "cell_type": "markdown",
   "metadata": {},
   "source": [
    "Применим фреймфорк ICE для приоритизации гипотез.\n",
    "\n",
    "ICE score =  impact * confidence / effort"
   ]
  },
  {
   "cell_type": "code",
   "execution_count": 5,
   "metadata": {},
   "outputs": [],
   "source": [
    "hypothesis['ICE'] = (hypothesis['impact'] * hypothesis['confidence']) / hypothesis['efforts']"
   ]
  },
  {
   "cell_type": "code",
   "execution_count": 6,
   "metadata": {},
   "outputs": [
    {
     "name": "stdout",
     "output_type": "stream",
     "text": [
      "                                                                                                     hypothesis  \\\n",
      "8                                                       Запустить акцию, дающую скидку на товар в день рождения   \n",
      "0            Добавить два новых канала привлечения трафика, что позволит привлекать на 30% больше пользователей   \n",
      "7              Добавить форму подписки на все основные страницы, чтобы собрать базу клиентов для email-рассылок   \n",
      "6          Показать на главной странице баннеры с актуальными акциями и распродажами, чтобы увеличить конверсию   \n",
      "2  Добавить блоки рекомендаций товаров на сайт интернет магазина, чтобы повысить конверсию и средний чек заказа   \n",
      "1                                     Запустить собственную службу доставки, что сократит срок доставки заказов   \n",
      "5                      Добавить страницу отзывов клиентов о магазине, что позволит увеличить количество заказов   \n",
      "3           Изменить структура категорий, что увеличит конверсию, т.к. пользователи быстрее найдут нужный товар   \n",
      "4                              Изменить цвет фона главной страницы, чтобы увеличить вовлеченность пользователей   \n",
      "\n",
      "         ICE  \n",
      "8  16.200000  \n",
      "0  13.333333  \n",
      "7  11.200000  \n",
      "6   8.000000  \n",
      "2   7.000000  \n",
      "1   2.000000  \n",
      "5   1.333333  \n",
      "3   1.125000  \n",
      "4   1.000000  \n"
     ]
    }
   ],
   "source": [
    "print(hypothesis.loc[:, ['hypothesis', 'ICE']].sort_values(by = 'ICE', ascending = False))"
   ]
  },
  {
   "cell_type": "markdown",
   "metadata": {},
   "source": [
    "Используем еще один метод, после чего сформулируем выводы."
   ]
  },
  {
   "cell_type": "markdown",
   "metadata": {},
   "source": [
    "### Фреймфорк RICE"
   ]
  },
  {
   "cell_type": "markdown",
   "metadata": {},
   "source": [
    "Теперь применим фреймфорк RICE для приоритизации гипотез.\n",
    "\n",
    "RICE score =  reach * impact * confidence / effort"
   ]
  },
  {
   "cell_type": "code",
   "execution_count": 7,
   "metadata": {},
   "outputs": [],
   "source": [
    "hypothesis['RICE'] = (hypothesis['impact'] * hypothesis['confidence'] * hypothesis['reach']) / hypothesis['efforts']"
   ]
  },
  {
   "cell_type": "code",
   "execution_count": 8,
   "metadata": {},
   "outputs": [
    {
     "name": "stdout",
     "output_type": "stream",
     "text": [
      "                                                                                                     hypothesis  \\\n",
      "7              Добавить форму подписки на все основные страницы, чтобы собрать базу клиентов для email-рассылок   \n",
      "2  Добавить блоки рекомендаций товаров на сайт интернет магазина, чтобы повысить конверсию и средний чек заказа   \n",
      "0            Добавить два новых канала привлечения трафика, что позволит привлекать на 30% больше пользователей   \n",
      "6          Показать на главной странице баннеры с актуальными акциями и распродажами, чтобы увеличить конверсию   \n",
      "8                                                       Запустить акцию, дающую скидку на товар в день рождения   \n",
      "3           Изменить структура категорий, что увеличит конверсию, т.к. пользователи быстрее найдут нужный товар   \n",
      "1                                     Запустить собственную службу доставки, что сократит срок доставки заказов   \n",
      "5                      Добавить страницу отзывов клиентов о магазине, что позволит увеличить количество заказов   \n",
      "4                              Изменить цвет фона главной страницы, чтобы увеличить вовлеченность пользователей   \n",
      "\n",
      "    RICE  \n",
      "7  112.0  \n",
      "2   56.0  \n",
      "0   40.0  \n",
      "6   40.0  \n",
      "8   16.2  \n",
      "3    9.0  \n",
      "1    4.0  \n",
      "5    4.0  \n",
      "4    3.0  \n"
     ]
    }
   ],
   "source": [
    "print(hypothesis.loc[:, ['hypothesis', 'RICE']].sort_values(by = 'RICE', ascending = False))"
   ]
  },
  {
   "cell_type": "markdown",
   "metadata": {},
   "source": [
    "### Выводы по приоретизации гипотез"
   ]
  },
  {
   "cell_type": "markdown",
   "metadata": {},
   "source": [
    "После преоритизации методов ICE мы получили топ-3 способа увеличения выручки:\n",
    "- `скидка на день рождения`\n",
    "- `добавление двух новых каналов привлечения трафика`\n",
    "- `добавление формы подписки на все страницы`\n",
    "\n",
    "Однако способ ICE не учитывает, какую часть пользователей затронет это измнение. При использовании метода RICE, учитывающего этот параметр, топ-3 выглядит иначе:\n",
    "- `добавление формы подписки на все страницы`\n",
    "- `добавление блока рекомендаций на главную страницу`\n",
    "- `добавление двух новых каналов привлечения трафика`\n",
    "\n",
    "На первые места выходят те способы, которые коснутся максимального количества клиентов (то, что будет выведено на главной страницы, а также новые каналы привлечения). Начинать работать над увеличением выручки следует именно с них.\n"
   ]
  },
  {
   "cell_type": "markdown",
   "metadata": {},
   "source": [
    "## Анализ A/B-теста"
   ]
  },
  {
   "cell_type": "markdown",
   "metadata": {},
   "source": [
    "После проведения A/B-теста мы получили результаты, которые описаны в двух файлах. Прочитаем первую таблицу, содержающую информацию о заказах."
   ]
  },
  {
   "cell_type": "code",
   "execution_count": 9,
   "metadata": {},
   "outputs": [
    {
     "name": "stdout",
     "output_type": "stream",
     "text": [
      "<class 'pandas.core.frame.DataFrame'>\n",
      "RangeIndex: 1197 entries, 0 to 1196\n",
      "Data columns (total 5 columns):\n",
      " #   Column         Non-Null Count  Dtype \n",
      "---  ------         --------------  ----- \n",
      " 0   transactionId  1197 non-null   int64 \n",
      " 1   visitorId      1197 non-null   int64 \n",
      " 2   date           1197 non-null   object\n",
      " 3   revenue        1197 non-null   int64 \n",
      " 4   group          1197 non-null   object\n",
      "dtypes: int64(3), object(2)\n",
      "memory usage: 46.9+ KB\n"
     ]
    },
    {
     "data": {
      "text/html": [
       "<div>\n",
       "<style scoped>\n",
       "    .dataframe tbody tr th:only-of-type {\n",
       "        vertical-align: middle;\n",
       "    }\n",
       "\n",
       "    .dataframe tbody tr th {\n",
       "        vertical-align: top;\n",
       "    }\n",
       "\n",
       "    .dataframe thead th {\n",
       "        text-align: right;\n",
       "    }\n",
       "</style>\n",
       "<table border=\"1\" class=\"dataframe\">\n",
       "  <thead>\n",
       "    <tr style=\"text-align: right;\">\n",
       "      <th></th>\n",
       "      <th>transactionId</th>\n",
       "      <th>visitorId</th>\n",
       "      <th>date</th>\n",
       "      <th>revenue</th>\n",
       "      <th>group</th>\n",
       "    </tr>\n",
       "  </thead>\n",
       "  <tbody>\n",
       "    <tr>\n",
       "      <th>0</th>\n",
       "      <td>3667963787</td>\n",
       "      <td>3312258926</td>\n",
       "      <td>2019-08-15</td>\n",
       "      <td>1650</td>\n",
       "      <td>B</td>\n",
       "    </tr>\n",
       "    <tr>\n",
       "      <th>1</th>\n",
       "      <td>2804400009</td>\n",
       "      <td>3642806036</td>\n",
       "      <td>2019-08-15</td>\n",
       "      <td>730</td>\n",
       "      <td>B</td>\n",
       "    </tr>\n",
       "    <tr>\n",
       "      <th>2</th>\n",
       "      <td>2961555356</td>\n",
       "      <td>4069496402</td>\n",
       "      <td>2019-08-15</td>\n",
       "      <td>400</td>\n",
       "      <td>A</td>\n",
       "    </tr>\n",
       "    <tr>\n",
       "      <th>3</th>\n",
       "      <td>3797467345</td>\n",
       "      <td>1196621759</td>\n",
       "      <td>2019-08-15</td>\n",
       "      <td>9759</td>\n",
       "      <td>B</td>\n",
       "    </tr>\n",
       "    <tr>\n",
       "      <th>4</th>\n",
       "      <td>2282983706</td>\n",
       "      <td>2322279887</td>\n",
       "      <td>2019-08-15</td>\n",
       "      <td>2308</td>\n",
       "      <td>B</td>\n",
       "    </tr>\n",
       "  </tbody>\n",
       "</table>\n",
       "</div>"
      ],
      "text/plain": [
       "   transactionId   visitorId        date  revenue group\n",
       "0     3667963787  3312258926  2019-08-15     1650     B\n",
       "1     2804400009  3642806036  2019-08-15      730     B\n",
       "2     2961555356  4069496402  2019-08-15      400     A\n",
       "3     3797467345  1196621759  2019-08-15     9759     B\n",
       "4     2282983706  2322279887  2019-08-15     2308     B"
      ]
     },
     "execution_count": 9,
     "metadata": {},
     "output_type": "execute_result"
    }
   ],
   "source": [
    "order = pd.read_csv('orderss.csv')\n",
    "order.info()\n",
    "order.head()"
   ]
  },
  {
   "cell_type": "code",
   "execution_count": 10,
   "metadata": {},
   "outputs": [
    {
     "name": "stdout",
     "output_type": "stream",
     "text": [
      "Количество явных дубликатов: 0\n"
     ]
    }
   ],
   "source": [
    "print('Количество явных дубликатов:', order.duplicated().sum())"
   ]
  },
  {
   "cell_type": "markdown",
   "metadata": {},
   "source": [
    "Поменяем названия столбцов на более читаемый вид."
   ]
  },
  {
   "cell_type": "code",
   "execution_count": 11,
   "metadata": {},
   "outputs": [],
   "source": [
    "order = order.rename(columns={'transactionId': 'transaction_id', 'visitorId': 'visitor_id'})"
   ]
  },
  {
   "cell_type": "markdown",
   "metadata": {},
   "source": [
    "Структура таблицы:\n",
    "\n",
    "- `transaction_id` — идентификатор заказа,\n",
    "- `visitor_id` — идентификатор пользователя, совершившего заказ,\n",
    "- `date` — дата, когда был совершён заказ,\n",
    "- `revenue` — выручка заказа,\n",
    "- `group` — группа A/B-теста, в которую попал заказ.\n",
    "\n",
    "Приведем столбец **date** к типу datetime."
   ]
  },
  {
   "cell_type": "code",
   "execution_count": 12,
   "metadata": {},
   "outputs": [],
   "source": [
    "order['date'] = pd.to_datetime(order['date'])"
   ]
  },
  {
   "cell_type": "code",
   "execution_count": 13,
   "metadata": {},
   "outputs": [
    {
     "name": "stdout",
     "output_type": "stream",
     "text": [
      "Тест проводился с 2019-08-01 00:00:00 по 2019-08-31 00:00:00\n"
     ]
    }
   ],
   "source": [
    "print(f\"Тест проводился с {order['date'].min()} по {order['date'].max()}\")"
   ]
  },
  {
   "cell_type": "markdown",
   "metadata": {},
   "source": [
    "Прочитаем вторую таблицу, содержающую информацию о размерах когорт."
   ]
  },
  {
   "cell_type": "code",
   "execution_count": 14,
   "metadata": {},
   "outputs": [
    {
     "name": "stdout",
     "output_type": "stream",
     "text": [
      "<class 'pandas.core.frame.DataFrame'>\n",
      "RangeIndex: 62 entries, 0 to 61\n",
      "Data columns (total 3 columns):\n",
      " #   Column    Non-Null Count  Dtype \n",
      "---  ------    --------------  ----- \n",
      " 0   date      62 non-null     object\n",
      " 1   group     62 non-null     object\n",
      " 2   visitors  62 non-null     int64 \n",
      "dtypes: int64(1), object(2)\n",
      "memory usage: 1.6+ KB\n"
     ]
    },
    {
     "data": {
      "text/html": [
       "<div>\n",
       "<style scoped>\n",
       "    .dataframe tbody tr th:only-of-type {\n",
       "        vertical-align: middle;\n",
       "    }\n",
       "\n",
       "    .dataframe tbody tr th {\n",
       "        vertical-align: top;\n",
       "    }\n",
       "\n",
       "    .dataframe thead th {\n",
       "        text-align: right;\n",
       "    }\n",
       "</style>\n",
       "<table border=\"1\" class=\"dataframe\">\n",
       "  <thead>\n",
       "    <tr style=\"text-align: right;\">\n",
       "      <th></th>\n",
       "      <th>date</th>\n",
       "      <th>group</th>\n",
       "      <th>visitors</th>\n",
       "    </tr>\n",
       "  </thead>\n",
       "  <tbody>\n",
       "    <tr>\n",
       "      <th>0</th>\n",
       "      <td>2019-08-01</td>\n",
       "      <td>A</td>\n",
       "      <td>719</td>\n",
       "    </tr>\n",
       "    <tr>\n",
       "      <th>1</th>\n",
       "      <td>2019-08-02</td>\n",
       "      <td>A</td>\n",
       "      <td>619</td>\n",
       "    </tr>\n",
       "    <tr>\n",
       "      <th>2</th>\n",
       "      <td>2019-08-03</td>\n",
       "      <td>A</td>\n",
       "      <td>507</td>\n",
       "    </tr>\n",
       "    <tr>\n",
       "      <th>3</th>\n",
       "      <td>2019-08-04</td>\n",
       "      <td>A</td>\n",
       "      <td>717</td>\n",
       "    </tr>\n",
       "    <tr>\n",
       "      <th>4</th>\n",
       "      <td>2019-08-05</td>\n",
       "      <td>A</td>\n",
       "      <td>756</td>\n",
       "    </tr>\n",
       "  </tbody>\n",
       "</table>\n",
       "</div>"
      ],
      "text/plain": [
       "         date group  visitors\n",
       "0  2019-08-01     A       719\n",
       "1  2019-08-02     A       619\n",
       "2  2019-08-03     A       507\n",
       "3  2019-08-04     A       717\n",
       "4  2019-08-05     A       756"
      ]
     },
     "execution_count": 14,
     "metadata": {},
     "output_type": "execute_result"
    }
   ],
   "source": [
    "visitors = pd.read_csv('visitors.csv')\n",
    "visitors.info()\n",
    "visitors.head()"
   ]
  },
  {
   "cell_type": "code",
   "execution_count": 15,
   "metadata": {},
   "outputs": [
    {
     "name": "stdout",
     "output_type": "stream",
     "text": [
      "Количество явных дубликатов: 0\n"
     ]
    }
   ],
   "source": [
    "print('Количество явных дубликатов:', visitors.duplicated().sum())"
   ]
  },
  {
   "cell_type": "markdown",
   "metadata": {},
   "source": [
    "Структура таблицы:\n",
    "\n",
    "- `date` — дата,\n",
    "- `group` — группа A/B-теста, в которую попал заказ,\n",
    "- `visitors` — количество пользователей в указанную дату в указанной группе A/B-теста.\n",
    "\n",
    "Приведем столбец **date** к типу datetime."
   ]
  },
  {
   "cell_type": "code",
   "execution_count": 16,
   "metadata": {},
   "outputs": [],
   "source": [
    "visitors['date'] = pd.to_datetime(visitors['date'])"
   ]
  },
  {
   "cell_type": "code",
   "execution_count": 17,
   "metadata": {
    "scrolled": true
   },
   "outputs": [
    {
     "name": "stdout",
     "output_type": "stream",
     "text": [
      "Тест проводился с 2019-08-01 00:00:00 по 2019-08-31 00:00:00\n"
     ]
    }
   ],
   "source": [
    "print(f\"Тест проводился с {visitors['date'].min()} по {visitors['date'].max()}\") \n",
    "#проверяем, совпадут ли даты проведения теста, т.е. нет ли ошибки в датах"
   ]
  },
  {
   "cell_type": "markdown",
   "metadata": {},
   "source": [
    "Проверим корректность разбиения пользователей на группы. Необходимо понять, есть ли пользователи, попавшие в обе группы."
   ]
  },
  {
   "cell_type": "code",
   "execution_count": 18,
   "metadata": {},
   "outputs": [
    {
     "name": "stdout",
     "output_type": "stream",
     "text": [
      "Количество пользователей, попавших в обе группы: 58\n"
     ]
    }
   ],
   "source": [
    "visitor_ids = np.intersect1d(order[order['group'] == 'A']['visitor_id'], order[order['group'] == 'B']['visitor_id'])\n",
    "print('Количество пользователей, попавших в обе группы:', len(visitor_ids))"
   ]
  },
  {
   "cell_type": "markdown",
   "metadata": {},
   "source": [
    "Исключим из данных этих пользователей и посмотрим, какую часть данных мы теряем."
   ]
  },
  {
   "cell_type": "code",
   "execution_count": 19,
   "metadata": {},
   "outputs": [
    {
     "name": "stdout",
     "output_type": "stream",
     "text": [
      "<class 'pandas.core.frame.DataFrame'>\n",
      "Int64Index: 1016 entries, 0 to 1196\n",
      "Data columns (total 5 columns):\n",
      " #   Column          Non-Null Count  Dtype         \n",
      "---  ------          --------------  -----         \n",
      " 0   transaction_id  1016 non-null   int64         \n",
      " 1   visitor_id      1016 non-null   int64         \n",
      " 2   date            1016 non-null   datetime64[ns]\n",
      " 3   revenue         1016 non-null   int64         \n",
      " 4   group           1016 non-null   object        \n",
      "dtypes: datetime64[ns](1), int64(3), object(1)\n",
      "memory usage: 47.6+ KB\n"
     ]
    }
   ],
   "source": [
    "orders = order[~order['visitor_id'].isin(visitor_ids)]\n",
    "orders.info()"
   ]
  },
  {
   "cell_type": "markdown",
   "metadata": {},
   "source": [
    "В таблице было 1197 строк, стало 1016. Датафрейм уменьшился на 15%. Данных стало меньше, но задвоенных пользователей лучше исключить, потому что они уже имели опыт покупки и их поведение может не быть связано с нововведениями."
   ]
  },
  {
   "cell_type": "markdown",
   "metadata": {},
   "source": [
    "Предобработка данных окончена, переходим к анализу A/B-теста."
   ]
  },
  {
   "cell_type": "markdown",
   "metadata": {},
   "source": [
    "### График кумулятивной выручки по группам"
   ]
  },
  {
   "cell_type": "markdown",
   "metadata": {},
   "source": [
    "Построим график кумулятивной выручки  по дням по группам. "
   ]
  },
  {
   "cell_type": "code",
   "execution_count": 20,
   "metadata": {},
   "outputs": [
    {
     "data": {
      "image/png": "[encoded data removed]",
      "text/plain": [
       "<Figure size 640x480 with 1 Axes>"
      ]
     },
     "metadata": {},
     "output_type": "display_data"
    }
   ],
   "source": [
    "datesGroups = orders[['date', 'group']].drop_duplicates()\n",
    "\n",
    "ordersAggregated = datesGroups.apply(\n",
    "    lambda x: orders[\n",
    "        np.logical_and(\n",
    "            orders['date'] <= x['date'], orders['group'] == x['group']\n",
    "        )\n",
    "    ].agg(\n",
    "        {\n",
    "            'date': 'max',\n",
    "            'group': 'max',\n",
    "            'transaction_id': 'nunique',\n",
    "            'visitor_id': 'nunique',\n",
    "            'revenue': 'sum',\n",
    "        }\n",
    "    ),\n",
    "    axis=1,\n",
    ").sort_values(by=['date', 'group'])\n",
    "\n",
    "visitorsAggregated = datesGroups.apply(\n",
    "    lambda x: visitors[\n",
    "        np.logical_and(\n",
    "            visitors['date'] <= x['date'], visitors['group'] == x['group']\n",
    "        )\n",
    "    ].agg({'date': 'max', 'group': 'max', 'visitors': 'sum'}),\n",
    "    axis=1,\n",
    ").sort_values(by=['date', 'group'])\n",
    "\n",
    "cumulativeData = ordersAggregated.merge(\n",
    "    visitorsAggregated, left_on=['date', 'group'], right_on=['date', 'group']\n",
    ")\n",
    "cumulativeData.columns = [\n",
    "    'date',\n",
    "    'group',\n",
    "    'orders',\n",
    "    'buyers',\n",
    "    'revenue',\n",
    "    'visitors',\n",
    "]\n",
    "\n",
    "cumulativeRevenueA = cumulativeData[cumulativeData['group']=='A'][['date','revenue', 'orders']]\n",
    "cumulativeRevenueB = cumulativeData[cumulativeData['group']=='B'][['date','revenue', 'orders']]\n",
    "plt.plot(cumulativeRevenueA['date'], cumulativeRevenueA['revenue'], label='A')\n",
    "plt.plot(cumulativeRevenueB['date'], cumulativeRevenueB['revenue'], label='B')\n",
    "plt.xticks(rotation=50)\n",
    "plt.title('Кумулятивная выручка по дням по группам')\n",
    "plt.ylabel('Выручка')\n",
    "plt.grid()\n",
    "plt.legend();\n"
   ]
  },
  {
   "cell_type": "markdown",
   "metadata": {},
   "source": [
    "Выручка в группе А растет равномерно. В группе В наблюдается резкий всплеск примерно в середине месяца, который длится несколько дней, далее же рост выручки снова становится равномерным. Вероятно, в те дни увеличилось количество заказов, либо заказы были с высоким средним чеком. Рассмотрим данные по средним чекам далее."
   ]
  },
  {
   "cell_type": "markdown",
   "metadata": {},
   "source": [
    "### График кумулятивного среднего чека по группам"
   ]
  },
  {
   "cell_type": "code",
   "execution_count": 21,
   "metadata": {},
   "outputs": [
    {
     "data": {
      "image/png": "[encoded data removed]",
      "text/plain": [
       "<Figure size 640x480 with 1 Axes>"
      ]
     },
     "metadata": {},
     "output_type": "display_data"
    }
   ],
   "source": [
    "plt.plot(cumulativeRevenueA['date'], cumulativeRevenueA['revenue']/cumulativeRevenueA['orders'], label='A')\n",
    "plt.plot(cumulativeRevenueB['date'], cumulativeRevenueB['revenue']/cumulativeRevenueB['orders'], label='B')\n",
    "plt.xticks(rotation=50)\n",
    "plt.title('Кумулятивный средний чек по группам')\n",
    "plt.ylabel('Средний чек')\n",
    "plt.grid()\n",
    "plt.legend(loc='upper left');"
   ]
  },
  {
   "cell_type": "markdown",
   "metadata": {},
   "source": [
    "Предположение подтвердилось: в группе B в середине месяца (начиная с 18 августа) вырос средний чек. В целом в группе В средний чек в течение месяца значительно вырос. В группе А средний чек остается примерно на одном и том же уровне."
   ]
  },
  {
   "cell_type": "markdown",
   "metadata": {},
   "source": [
    "### График относительного изменения кумулятивного среднего чека группы B к группе A"
   ]
  },
  {
   "cell_type": "markdown",
   "metadata": {},
   "source": [
    "Построим график относительного различия для среднего чека. "
   ]
  },
  {
   "cell_type": "code",
   "execution_count": 22,
   "metadata": {},
   "outputs": [
    {
     "data": {
      "image/png": "[encoded data removed]",
      "text/plain": [
       "<Figure size 640x480 with 1 Axes>"
      ]
     },
     "metadata": {},
     "output_type": "display_data"
    }
   ],
   "source": [
    "# собираем данные в одном датафрейме\n",
    "mergedCumulativeRevenue = cumulativeRevenueA.merge(cumulativeRevenueB, left_on='date', right_on='date', how='left', suffixes=['A', 'B'])\n",
    "\n",
    "# cтроим отношение средних чеков\n",
    "plt.plot(mergedCumulativeRevenue['date'], (mergedCumulativeRevenue['revenueB']/mergedCumulativeRevenue['ordersB'])/(mergedCumulativeRevenue['revenueA']/mergedCumulativeRevenue['ordersA'])-1)\n",
    "\n",
    "# добавляем ось X\n",
    "plt.axhline(y=0, color='black', linestyle='--') \n",
    "\n",
    "plt.xticks(rotation=50)\n",
    "plt.title('График относительного различия для среднего чека')\n",
    "plt.grid()"
   ]
  },
  {
   "cell_type": "markdown",
   "metadata": {},
   "source": [
    "Чеки группы В почти всегда выше чеков группы А за исключением небольшого периода с 11 по 15 августа. При этом в процентом выражении это различие достаточно незначительно."
   ]
  },
  {
   "cell_type": "markdown",
   "metadata": {},
   "source": [
    "### График кумулятивного среднего количества заказов на посетителя по группам"
   ]
  },
  {
   "cell_type": "code",
   "execution_count": 23,
   "metadata": {},
   "outputs": [
    {
     "data": {
      "image/png": "[encoded data removed]",
      "text/plain": [
       "<Figure size 640x480 with 1 Axes>"
      ]
     },
     "metadata": {},
     "output_type": "display_data"
    }
   ],
   "source": [
    "# считаем кумулятивную конверсию\n",
    "cumulativeData['conversion'] = cumulativeData['orders']/cumulativeData['visitors']\n",
    "\n",
    "# отделяем данные по группе A\n",
    "cumulativeDataA = cumulativeData[cumulativeData['group']=='A']\n",
    "\n",
    "# отделяем данные по группе B\n",
    "cumulativeDataB = cumulativeData[cumulativeData['group']=='B']\n",
    "\n",
    "# строим графики\n",
    "plt.plot(cumulativeDataA['date'], cumulativeDataA['conversion'], label='A')\n",
    "plt.plot(cumulativeDataB['date'], cumulativeDataB['conversion'], label='B')\n",
    "plt.legend()\n",
    "plt.xticks(rotation=50)\n",
    "plt.title('График кумулятивной конверсии')\n",
    "plt.grid()"
   ]
  },
  {
   "cell_type": "markdown",
   "metadata": {},
   "source": [
    "Конверсия по обеим группам колеблется в районе 3-3,7%. До 5 августа конверсии в обеих группах сильно колебались в пределах этих значений, далее начала приходить к своим средним значениям, и начиная с 9 августа стабилизировались. В группе В конверсия выше. Не так стабильна, как в А, но в целом значения колеблются незначительно. "
   ]
  },
  {
   "cell_type": "markdown",
   "metadata": {},
   "source": [
    "### График относительного изменения кумулятивного среднего количества заказов на посетителя группы B к группе A"
   ]
  },
  {
   "cell_type": "code",
   "execution_count": 24,
   "metadata": {},
   "outputs": [
    {
     "data": {
      "image/png": "[encoded data removed]",
      "text/plain": [
       "<Figure size 640x480 with 1 Axes>"
      ]
     },
     "metadata": {},
     "output_type": "display_data"
    }
   ],
   "source": [
    "mergedCumulativeConversions = cumulativeDataA[['date','conversion']].merge(cumulativeDataB[['date','conversion']], left_on='date', right_on='date', how='left', suffixes=['A', 'B'])\n",
    "\n",
    "plt.plot(mergedCumulativeConversions['date'], mergedCumulativeConversions['conversionB']/mergedCumulativeConversions['conversionA']-1, label=\"Относительный прирост конверсии группы B относительно группы A\")\n",
    "plt.legend(loc='upper left')\n",
    "\n",
    "plt.axhline(y=0, color='black', linestyle='--')\n",
    "plt.axhline(y=-0.1, color='grey', linestyle='--')\n",
    "\n",
    "plt.xticks(rotation=50)\n",
    "plt.title('График относительного различия кумулятивных конверсий')\n",
    "plt.grid()"
   ]
  },
  {
   "cell_type": "markdown",
   "metadata": {},
   "source": [
    "В начале теста группа B проигрывала группе A, затем вырвалась вперёд. В середине месяца относительный прирост достиг максимума, далее начал немного падать."
   ]
  },
  {
   "cell_type": "markdown",
   "metadata": {},
   "source": [
    "### График количества заказов по пользователям"
   ]
  },
  {
   "cell_type": "code",
   "execution_count": 25,
   "metadata": {},
   "outputs": [
    {
     "name": "stdout",
     "output_type": "stream",
     "text": [
      "     visitor_id  orders\n",
      "908  3967698036       3\n",
      "55    249864742       3\n",
      "478  2108163459       3\n",
      "687  2988190573       3\n",
      "890  3908431265       3\n",
      "138   611059232       3\n",
      "632  2742574263       3\n",
      "157   678354126       2\n",
      "323  1404560065       2\n",
      "452  1985475298       2\n"
     ]
    }
   ],
   "source": [
    "ordersByUsers = (\n",
    "    orders.groupby('visitor_id', as_index=False)\n",
    "    .agg({'transaction_id': 'nunique'})\n",
    ")\n",
    "\n",
    "ordersByUsers.columns = ['visitor_id', 'orders']\n",
    "\n",
    "print(ordersByUsers.sort_values(by='orders', ascending=False).head(10)) "
   ]
  },
  {
   "cell_type": "markdown",
   "metadata": {},
   "source": [
    "Максимальное количество совершенных пользователями заказов - 3.\n",
    "\n",
    "Построим гистрограмму и точечный график распределения количества заказов на одного пользователя."
   ]
  },
  {
   "cell_type": "code",
   "execution_count": 26,
   "metadata": {},
   "outputs": [
    {
     "data": {
      "image/png": "[encoded data removed]",
      "text/plain": [
       "<Figure size 1300x400 with 2 Axes>"
      ]
     },
     "metadata": {},
     "output_type": "display_data"
    }
   ],
   "source": [
    "fig, axes = plt.subplots(1, 2, figsize=(13, 4))\n",
    "\n",
    "axes[0].hist(ordersByUsers['orders'])\n",
    "axes[0].grid()\n",
    "axes[0].set_xlabel('Количество заказов')\n",
    "axes[0].set_ylabel('Количество покупателей')\n",
    "\n",
    "x_values = pd.Series(range(0,len(ordersByUsers)))\n",
    "axes[1].scatter(x_values, ordersByUsers['orders'])\n",
    "axes[1].grid()\n",
    "axes[1].set_xlabel('Количество покупателей')\n",
    "axes[1].set_ylabel('Количество заказов')\n",
    "plt.suptitle('Распределение количества заказов на одного пользователя');"
   ]
  },
  {
   "cell_type": "markdown",
   "metadata": {},
   "source": [
    "По графикам можно сказать, что все, что выше двух заказов можно считать выбросами. Но для окончательного решения посчитаем 95-й и 99-й перцентили количества заказов на пользователя."
   ]
  },
  {
   "cell_type": "markdown",
   "metadata": {},
   "source": [
    "### Расчет 95-ого и 99-ого перцентилей количества заказов на пользователя"
   ]
  },
  {
   "cell_type": "code",
   "execution_count": 27,
   "metadata": {},
   "outputs": [
    {
     "name": "stdout",
     "output_type": "stream",
     "text": [
      "[1. 2.]\n"
     ]
    }
   ],
   "source": [
    "print(np.percentile(ordersByUsers['orders'], [95, 99])) "
   ]
  },
  {
   "cell_type": "markdown",
   "metadata": {},
   "source": [
    "До 5% покупателей оформляли больше, чем 1 заказа. И только 1% пользователей оформлял заказ более 2 раз.\n",
    "В соответствии с расчетом перцентилей и ранее полученных графиков, примем 2 заказа за верхнюю границу числа заказов.\n"
   ]
  },
  {
   "cell_type": "markdown",
   "metadata": {},
   "source": [
    "### График стоимостей заказов"
   ]
  },
  {
   "cell_type": "code",
   "execution_count": 28,
   "metadata": {},
   "outputs": [
    {
     "data": {
      "image/png": "[encoded data removed]",
      "text/plain": [
       "<Figure size 1300x400 with 2 Axes>"
      ]
     },
     "metadata": {},
     "output_type": "display_data"
    }
   ],
   "source": [
    "fig, axes = plt.subplots(1, 2, figsize=(13, 4))\n",
    "\n",
    "axes[0].hist(orders['revenue'], bins = 20) \n",
    "axes[0].grid()\n",
    "axes[0].set_xlabel('Стоимость')\n",
    "axes[0].set_ylabel('Количество')\n",
    "\n",
    "x_values = pd.Series(range(0,len(orders['revenue'])))\n",
    "axes[1].scatter(x_values, orders['revenue']) \n",
    "axes[1].grid()\n",
    "axes[1].set_xlabel('Количество')\n",
    "axes[1].set_ylabel('Стоимость')\n",
    "plt.suptitle('Распределение стоимостей заказов');"
   ]
  },
  {
   "cell_type": "markdown",
   "metadata": {},
   "source": [
    "Есть всего пара выбросов, в остальном данные однородны. Посмотрим на графике на другом масштабе (стоимостью до 100 000)."
   ]
  },
  {
   "cell_type": "code",
   "execution_count": 29,
   "metadata": {},
   "outputs": [
    {
     "data": {
      "image/png": "[encoded data removed]",
      "text/plain": [
       "<Figure size 1300x400 with 2 Axes>"
      ]
     },
     "metadata": {},
     "output_type": "display_data"
    }
   ],
   "source": [
    "fig, axes = plt.subplots(1, 2, figsize=(13, 4))\n",
    "\n",
    "axes[0].hist(orders['revenue'],bins=100) \n",
    "axes[0].grid()\n",
    "axes[0].set_xlabel('Стоимость')\n",
    "axes[0].set_ylabel('Количество')\n",
    "axes[0].set_xlim([0, 100000])\n",
    "\n",
    "x_values = pd.Series(range(0,len(orders['revenue'])))\n",
    "axes[1].scatter(x_values, orders['revenue']) \n",
    "axes[1].grid()\n",
    "axes[1].set_xlabel('Количество')\n",
    "axes[1].set_ylabel('Стоимость')\n",
    "axes[1].set_ylim([0, 100000])\n",
    "plt.suptitle('Распределение стоимостей заказов');"
   ]
  },
  {
   "cell_type": "markdown",
   "metadata": {},
   "source": [
    "Аномально дорогие заказы могут сильно испортить результаты теста, поэтому в дальнейшем будем от них  избавляться.\n",
    "\n",
    "Посчитаем 95-й и 99-й перцентили стоимостей заказов. "
   ]
  },
  {
   "cell_type": "markdown",
   "metadata": {},
   "source": [
    "### Расчет 95-ого и 99-ого перцентилей стоимости заказов"
   ]
  },
  {
   "cell_type": "code",
   "execution_count": 30,
   "metadata": {},
   "outputs": [
    {
     "name": "stdout",
     "output_type": "stream",
     "text": [
      "[26785. 53904.]\n"
     ]
    }
   ],
   "source": [
    "print(np.percentile(orders['revenue'], [95, 99])) "
   ]
  },
  {
   "cell_type": "markdown",
   "metadata": {},
   "source": [
    "Не более 5% заказов дороже 26 785 и не более 1% дороже 53 904.\n",
    "\n",
    "В соответствии с расчетом перцентилей и ранее полученных графиков, примем стоимость 54 000 за верхнюю границу стоимости заказа, а все заказы более высокой стоимостью будем считать аномалиями."
   ]
  },
  {
   "cell_type": "markdown",
   "metadata": {},
   "source": [
    "### Расчет статистической значимости различий в среднем количестве заказов на посетителя между группами по «сырым» данным"
   ]
  },
  {
   "cell_type": "markdown",
   "metadata": {},
   "source": [
    "Посчитаем статистическую значимость различий в среднем числе заказов на пользователя и среднем чеке между группами по «сырым» данным — без удаления аномальных пользователей.\n",
    "\n",
    "Сформулируем гипотезы. <br>\n",
    "H0: различий в среднем количестве заказов между группами A и B нет. \n",
    "<br>H1: различия в среднем между группами A и B есть."
   ]
  },
  {
   "cell_type": "code",
   "execution_count": 31,
   "metadata": {},
   "outputs": [
    {
     "data": {
      "text/html": [
       "<div>\n",
       "<style scoped>\n",
       "    .dataframe tbody tr th:only-of-type {\n",
       "        vertical-align: middle;\n",
       "    }\n",
       "\n",
       "    .dataframe tbody tr th {\n",
       "        vertical-align: top;\n",
       "    }\n",
       "\n",
       "    .dataframe thead th {\n",
       "        text-align: right;\n",
       "    }\n",
       "</style>\n",
       "<table border=\"1\" class=\"dataframe\">\n",
       "  <thead>\n",
       "    <tr style=\"text-align: right;\">\n",
       "      <th></th>\n",
       "      <th>date</th>\n",
       "      <th>ordersPerDateA</th>\n",
       "      <th>revenuePerDateA</th>\n",
       "      <th>ordersPerDateB</th>\n",
       "      <th>revenuePerDateB</th>\n",
       "      <th>ordersCummulativeA</th>\n",
       "      <th>revenueCummulativeA</th>\n",
       "      <th>ordersCummulativeB</th>\n",
       "      <th>revenueCummulativeB</th>\n",
       "      <th>visitorsPerDateA</th>\n",
       "      <th>visitorsPerDateB</th>\n",
       "      <th>visitorsCummulativeA</th>\n",
       "      <th>visitorsCummulativeB</th>\n",
       "    </tr>\n",
       "  </thead>\n",
       "  <tbody>\n",
       "    <tr>\n",
       "      <th>0</th>\n",
       "      <td>2019-08-01</td>\n",
       "      <td>19</td>\n",
       "      <td>142779</td>\n",
       "      <td>17</td>\n",
       "      <td>59758</td>\n",
       "      <td>19</td>\n",
       "      <td>142779</td>\n",
       "      <td>17</td>\n",
       "      <td>59758</td>\n",
       "      <td>719</td>\n",
       "      <td>713</td>\n",
       "      <td>719</td>\n",
       "      <td>713</td>\n",
       "    </tr>\n",
       "    <tr>\n",
       "      <th>1</th>\n",
       "      <td>2019-08-02</td>\n",
       "      <td>18</td>\n",
       "      <td>91602</td>\n",
       "      <td>23</td>\n",
       "      <td>162043</td>\n",
       "      <td>37</td>\n",
       "      <td>234381</td>\n",
       "      <td>40</td>\n",
       "      <td>221801</td>\n",
       "      <td>619</td>\n",
       "      <td>581</td>\n",
       "      <td>1338</td>\n",
       "      <td>1294</td>\n",
       "    </tr>\n",
       "    <tr>\n",
       "      <th>2</th>\n",
       "      <td>2019-08-03</td>\n",
       "      <td>24</td>\n",
       "      <td>112473</td>\n",
       "      <td>14</td>\n",
       "      <td>67049</td>\n",
       "      <td>61</td>\n",
       "      <td>346854</td>\n",
       "      <td>54</td>\n",
       "      <td>288850</td>\n",
       "      <td>507</td>\n",
       "      <td>509</td>\n",
       "      <td>1845</td>\n",
       "      <td>1803</td>\n",
       "    </tr>\n",
       "    <tr>\n",
       "      <th>3</th>\n",
       "      <td>2019-08-04</td>\n",
       "      <td>11</td>\n",
       "      <td>41176</td>\n",
       "      <td>14</td>\n",
       "      <td>96890</td>\n",
       "      <td>72</td>\n",
       "      <td>388030</td>\n",
       "      <td>68</td>\n",
       "      <td>385740</td>\n",
       "      <td>717</td>\n",
       "      <td>770</td>\n",
       "      <td>2562</td>\n",
       "      <td>2573</td>\n",
       "    </tr>\n",
       "    <tr>\n",
       "      <th>4</th>\n",
       "      <td>2019-08-05</td>\n",
       "      <td>22</td>\n",
       "      <td>86383</td>\n",
       "      <td>21</td>\n",
       "      <td>89908</td>\n",
       "      <td>94</td>\n",
       "      <td>474413</td>\n",
       "      <td>89</td>\n",
       "      <td>475648</td>\n",
       "      <td>756</td>\n",
       "      <td>707</td>\n",
       "      <td>3318</td>\n",
       "      <td>3280</td>\n",
       "    </tr>\n",
       "  </tbody>\n",
       "</table>\n",
       "</div>"
      ],
      "text/plain": [
       "        date  ordersPerDateA  revenuePerDateA  ordersPerDateB  \\\n",
       "0 2019-08-01              19           142779              17   \n",
       "1 2019-08-02              18            91602              23   \n",
       "2 2019-08-03              24           112473              14   \n",
       "3 2019-08-04              11            41176              14   \n",
       "4 2019-08-05              22            86383              21   \n",
       "\n",
       "   revenuePerDateB  ordersCummulativeA  revenueCummulativeA  \\\n",
       "0            59758                  19               142779   \n",
       "1           162043                  37               234381   \n",
       "2            67049                  61               346854   \n",
       "3            96890                  72               388030   \n",
       "4            89908                  94               474413   \n",
       "\n",
       "   ordersCummulativeB  revenueCummulativeB  visitorsPerDateA  \\\n",
       "0                  17                59758               719   \n",
       "1                  40               221801               619   \n",
       "2                  54               288850               507   \n",
       "3                  68               385740               717   \n",
       "4                  89               475648               756   \n",
       "\n",
       "   visitorsPerDateB  visitorsCummulativeA  visitorsCummulativeB  \n",
       "0               713                   719                   713  \n",
       "1               581                  1338                  1294  \n",
       "2               509                  1845                  1803  \n",
       "3               770                  2562                  2573  \n",
       "4               707                  3318                  3280  "
      ]
     },
     "execution_count": 31,
     "metadata": {},
     "output_type": "execute_result"
    }
   ],
   "source": [
    "visitorsADaily = visitors[visitors['group'] == 'A'][['date', 'visitors']]\n",
    "visitorsADaily.columns = ['date', 'visitorsPerDateA']\n",
    "\n",
    "visitorsACummulative = visitorsADaily.apply(\n",
    "    lambda x: visitorsADaily[visitorsADaily['date'] <= x['date']].agg(\n",
    "        {'date': 'max', 'visitorsPerDateA': 'sum'}\n",
    "    ),\n",
    "    axis=1,\n",
    ")\n",
    "visitorsACummulative.columns = ['date', 'visitorsCummulativeA']\n",
    "\n",
    "visitorsBDaily = visitors[visitors['group'] == 'B'][['date', 'visitors']]\n",
    "visitorsBDaily.columns = ['date', 'visitorsPerDateB']\n",
    "\n",
    "visitorsBCummulative = visitorsBDaily.apply(\n",
    "    lambda x: visitorsBDaily[visitorsBDaily['date'] <= x['date']].agg(\n",
    "        {'date': 'max', 'visitorsPerDateB': 'sum'}\n",
    "    ),\n",
    "    axis=1,\n",
    ")\n",
    "visitorsBCummulative.columns = ['date', 'visitorsCummulativeB']\n",
    "\n",
    "ordersADaily = (\n",
    "    orders[orders['group'] == 'A'][['date', 'transaction_id', 'visitor_id', 'revenue']]\n",
    "    .groupby('date', as_index=False)\n",
    "    .agg({'visitor_id': pd.Series.nunique, 'revenue': 'sum'})\n",
    ")\n",
    "ordersADaily.columns = ['date', 'ordersPerDateA', 'revenuePerDateA']\n",
    "\n",
    "ordersACummulative = ordersADaily.apply(\n",
    "    lambda x: ordersADaily[ordersADaily['date'] <= x['date']].agg(\n",
    "        {'date': 'max', 'ordersPerDateA': 'sum', 'revenuePerDateA': 'sum'}\n",
    "    ),\n",
    "    axis=1,\n",
    ").sort_values(by=['date'])\n",
    "ordersACummulative.columns = [\n",
    "    'date',\n",
    "    'ordersCummulativeA',\n",
    "    'revenueCummulativeA',\n",
    "]\n",
    "\n",
    "ordersBDaily = (\n",
    "    orders[orders['group'] == 'B'][['date', 'transaction_id', 'visitor_id', 'revenue']]\n",
    "    .groupby('date', as_index=False)\n",
    "    .agg({'transaction_id': pd.Series.nunique, 'revenue': 'sum'})\n",
    ")\n",
    "ordersBDaily.columns = ['date', 'ordersPerDateB', 'revenuePerDateB']\n",
    "\n",
    "ordersBCummulative = ordersBDaily.apply(\n",
    "    lambda x: ordersBDaily[ordersBDaily['date'] <= x['date']].agg(\n",
    "        {'date': 'max', 'ordersPerDateB': 'sum', 'revenuePerDateB': 'sum'}\n",
    "    ),\n",
    "    axis=1,\n",
    ").sort_values(by=['date'])\n",
    "ordersBCummulative.columns = [\n",
    "    'date',\n",
    "    'ordersCummulativeB',\n",
    "    'revenueCummulativeB',\n",
    "]\n",
    "\n",
    "data = (\n",
    "    ordersADaily.merge(\n",
    "        ordersBDaily, left_on='date', right_on='date', how='left'\n",
    "    )\n",
    "    .merge(ordersACummulative, left_on='date', right_on='date', how='left')\n",
    "    .merge(ordersBCummulative, left_on='date', right_on='date', how='left')\n",
    "    .merge(visitorsADaily, left_on='date', right_on='date', how='left')\n",
    "    .merge(visitorsBDaily, left_on='date', right_on='date', how='left')\n",
    "    .merge(visitorsACummulative, left_on='date', right_on='date', how='left')\n",
    "    .merge(visitorsBCummulative, left_on='date', right_on='date', how='left')\n",
    ")\n",
    "\n",
    "data.head(5) "
   ]
  },
  {
   "cell_type": "markdown",
   "metadata": {},
   "source": [
    "Названия столбцов данных:\n",
    "\n",
    "- `date` — дата;\n",
    "- `ordersPerDateA` — количество заказов в выбранную дату в группе A,\n",
    "- `revenuePerDateA` — суммарная выручка в выбранную дату в группе A,\n",
    "- `ordersPerDateB` — количество заказов в выбранную дату в группе B,\n",
    "- `revenuePerDateB` — суммарная выручка в выбранную дату в группе B,\n",
    "- `ordersCummulativeA` — суммарное число заказов до выбранной даты включительно в группе A,\n",
    "- `revenueCummulativeA` — суммарная выручка до выбранной даты включительно в группе A,\n",
    "- `ordersCummulativeB` — суммарное количество заказов до выбранной даты включительно в группе B,\n",
    "- `revenueCummulativeB` — суммарная выручка до выбранной даты включительно в группе B,\n",
    "- `visitorsPerDateA` — количество пользователей в выбранную дату в группе A,\n",
    "- `visitorsPerDateB` — количество пользователей в выбранную дату в группе B,\n",
    "- `visitorsCummulativeA` — количество пользователей до выбранной даты включительно в группе A,\n",
    "- `visitorsCummulativeB` — количество пользователей до выбранной даты включительно в группе B."
   ]
  },
  {
   "cell_type": "markdown",
   "metadata": {},
   "source": [
    "Посчитаем статистическую значимость различия в среднем количестве заказов между группами.\n",
    "\n",
    "Создадим переменные ordersByUsersA и ordersByUsersB со столбцами **visitor_id** и **orders**. В них для пользователей, которые заказывали хотя бы 1 раз, укажем число совершённых заказов. "
   ]
  },
  {
   "cell_type": "code",
   "execution_count": 32,
   "metadata": {},
   "outputs": [],
   "source": [
    "ordersByUsersA = (\n",
    "    orders[orders['group'] == 'A']\n",
    "    .groupby('visitor_id', as_index=False)\n",
    "    .agg({'transaction_id': pd.Series.nunique})\n",
    ")\n",
    "ordersByUsersA.columns = ['visitor_id', 'orders']\n",
    "\n",
    "ordersByUsersB = (\n",
    "    orders[orders['group'] == 'B']\n",
    "    .groupby('visitor_id', as_index=False)\n",
    "    .agg({'transaction_id': pd.Series.nunique})\n",
    ")\n",
    "ordersByUsersB.columns = ['visitor_id', 'orders'] "
   ]
  },
  {
   "cell_type": "markdown",
   "metadata": {},
   "source": [
    "Объявим переменные sampleA и sampleB, в которых пользователям из разных групп будет соответствовать количество заказов. Тем, кто ничего не заказал, будут соответствовать нули."
   ]
  },
  {
   "cell_type": "code",
   "execution_count": 33,
   "metadata": {},
   "outputs": [
    {
     "data": {
      "text/plain": [
       "0    0\n",
       "1    0\n",
       "2    0\n",
       "3    0\n",
       "4    0\n",
       "Name: orders, dtype: int64"
      ]
     },
     "execution_count": 33,
     "metadata": {},
     "output_type": "execute_result"
    }
   ],
   "source": [
    "pd.Series(0, index=np.arange(data['visitorsPerDateA'].sum() - len(ordersByUsersA['orders'])), name='orders').head()\n",
    "  "
   ]
  },
  {
   "cell_type": "code",
   "execution_count": 34,
   "metadata": {},
   "outputs": [
    {
     "data": {
      "text/plain": [
       "[0    1\n",
       " 1    1\n",
       " 2    1\n",
       " 3    1\n",
       " 4    1\n",
       " Name: orders, dtype: int64,\n",
       " 0    0\n",
       " 1    0\n",
       " 2    0\n",
       " 3    0\n",
       " 4    0\n",
       " Name: orders, dtype: int64]"
      ]
     },
     "execution_count": 34,
     "metadata": {},
     "output_type": "execute_result"
    }
   ],
   "source": [
    "[ordersByUsersA['orders'].head(),pd.Series(0, index=np.arange(data['visitorsPerDateA'].sum() - len(ordersByUsersA['orders'])), name='orders').head()]"
   ]
  },
  {
   "cell_type": "code",
   "execution_count": 35,
   "metadata": {},
   "outputs": [],
   "source": [
    "sampleA = pd.concat([ordersByUsersA['orders'],pd.Series(0, index=np.arange(data['visitorsPerDateA'].sum() - len(ordersByUsersA['orders'])), name='orders')],axis=0)\n",
    "\n",
    "sampleB = pd.concat([ordersByUsersB['orders'],pd.Series(0, index=np.arange(data['visitorsPerDateB'].sum() - len(ordersByUsersB['orders'])), name='orders')],axis=0)"
   ]
  },
  {
   "cell_type": "markdown",
   "metadata": {},
   "source": [
    "Применим статистический критерий Манна-Уитни."
   ]
  },
  {
   "cell_type": "code",
   "execution_count": 36,
   "metadata": {},
   "outputs": [
    {
     "name": "stdout",
     "output_type": "stream",
     "text": [
      "p-value: 0.011\n",
      "Относительный прирост среднего числа заказов группы B: 0.160\n"
     ]
    }
   ],
   "source": [
    "ordersByUsersA = (\n",
    "    orders[orders['group'] == 'A']\n",
    "    .groupby('visitor_id', as_index=False)\n",
    "    .agg({'transaction_id': pd.Series.nunique})\n",
    ")\n",
    "ordersByUsersA.columns = ['visitor_id', 'orders']\n",
    "\n",
    "ordersByUsersB = (\n",
    "    orders[orders['group'] == 'B']\n",
    "    .groupby('visitor_id', as_index=False)\n",
    "    .agg({'transaction_id': pd.Series.nunique})\n",
    ")\n",
    "ordersByUsersB.columns = ['visitor_id', 'orders']\n",
    "\n",
    "sampleA = pd.concat(\n",
    "    [\n",
    "        ordersByUsersA['orders'],\n",
    "        pd.Series(\n",
    "            0,\n",
    "            index=np.arange(\n",
    "                data['visitorsPerDateA'].sum() - len(ordersByUsersA['orders'])\n",
    "            ),\n",
    "            name='orders',\n",
    "        ),\n",
    "    ],\n",
    "    axis=0,\n",
    ")\n",
    "\n",
    "sampleB = pd.concat(\n",
    "    [\n",
    "        ordersByUsersB['orders'],\n",
    "        pd.Series(\n",
    "            0,\n",
    "            index=np.arange(\n",
    "                data['visitorsPerDateB'].sum() - len(ordersByUsersB['orders'])\n",
    "            ),\n",
    "            name='orders',\n",
    "        ),\n",
    "    ],\n",
    "    axis=0,\n",
    ")\n",
    "\n",
    "print('p-value:', \"{0:.3f}\".format(stats.mannwhitneyu(sampleA, sampleB)[1]))\n",
    "\n",
    "print('Относительный прирост среднего числа заказов группы B:', \"{0:.3f}\".format(sampleB.mean() / sampleA.mean() - 1))"
   ]
  },
  {
   "cell_type": "markdown",
   "metadata": {},
   "source": [
    "p-value 0.011 меньше уровня статистической значимости 0.05, следовательно мы отвергаем нулевую гипотезу о том, что различий в среднем количестве заказов между группами нет. Относительный выигрыш группы В над группой А составляет 16%.\n",
    "\n",
    "Проверим статистическую значимость различий в среднем чеке между сегментами. "
   ]
  },
  {
   "cell_type": "markdown",
   "metadata": {},
   "source": [
    "### Расчет статистической значимости различий в среднем чеке заказа между группами по «сырым» данным"
   ]
  },
  {
   "cell_type": "markdown",
   "metadata": {},
   "source": [
    "H0: различий в среднем чеке между группами A и B нет. <br>\n",
    "H1: различия в среднем чеке между группами A и B есть. \n",
    "\n",
    "Применим статистический критерий Манна-Уитни."
   ]
  },
  {
   "cell_type": "code",
   "execution_count": 37,
   "metadata": {},
   "outputs": [
    {
     "name": "stdout",
     "output_type": "stream",
     "text": [
      "p-value: 0.829\n",
      "Относительный прирост среднего чека группы B: 0.287\n"
     ]
    }
   ],
   "source": [
    "print('p-value:','{0:.3f}'.format(stats.mannwhitneyu(orders[orders['group']=='A']['revenue'], orders[orders['group']=='B']['revenue'])[1]))\n",
    "print('Относительный прирост среднего чека группы B:', '{0:.3f}'.format(orders[orders['group']=='B']['revenue'].mean()/orders[orders['group']=='A']['revenue'].mean()-1)) "
   ]
  },
  {
   "cell_type": "markdown",
   "metadata": {},
   "source": [
    "P-value значительно больше уровня статистической значимости 0.05. Значит, мы не можем отвергнуть нулевую гипотезу и сказать, что средний чек между группами отличается. Наблюдаемое различие в 28% не является стастистически значимым."
   ]
  },
  {
   "cell_type": "markdown",
   "metadata": {},
   "source": [
    "Очистим данные и уберем всех пользователей, которые совершили более 2 заказов или совершили заказы стоимостью более 54 000."
   ]
  },
  {
   "cell_type": "markdown",
   "metadata": {},
   "source": [
    "### Расчет статистической значимости различий в среднем количестве заказов на посетителя между группами по «очищенным» данным"
   ]
  },
  {
   "cell_type": "markdown",
   "metadata": {},
   "source": [
    "Посчитаем количество аномальных пользователей."
   ]
  },
  {
   "cell_type": "code",
   "execution_count": 38,
   "metadata": {},
   "outputs": [
    {
     "name": "stdout",
     "output_type": "stream",
     "text": [
      "1099    148427295\n",
      "33      249864742\n",
      "58      611059232\n",
      "949     887908475\n",
      "744     888512513\n",
      "Name: visitor_id, dtype: int64\n",
      "16\n"
     ]
    }
   ],
   "source": [
    "order_lim = 2\n",
    "revenue_lim = 54000\n",
    "\n",
    "usersWithManyOrders = pd.concat(\n",
    "    [\n",
    "        ordersByUsersA[ordersByUsersA['orders'] > order_lim]['visitor_id'],\n",
    "        ordersByUsersB[ordersByUsersB['orders'] > order_lim]['visitor_id'],\n",
    "    ],\n",
    "    axis=0,\n",
    ")\n",
    "\n",
    "usersWithExpensiveOrders = orders[orders['revenue'] > revenue_lim]['visitor_id']\n",
    "abnormalUsers = (\n",
    "    pd.concat([usersWithManyOrders, usersWithExpensiveOrders], axis=0)\n",
    "    .drop_duplicates()\n",
    "    .sort_values()\n",
    ")\n",
    "print(abnormalUsers.head(5))\n",
    "print(abnormalUsers.shape[0]) "
   ]
  },
  {
   "cell_type": "markdown",
   "metadata": {},
   "source": [
    "В тест попали 16 аномальных покупателей.\n",
    "\n",
    "Подготовим выборки количества заказов по пользователям по группам теста."
   ]
  },
  {
   "cell_type": "code",
   "execution_count": 39,
   "metadata": {},
   "outputs": [],
   "source": [
    "sampleAFiltered = pd.concat(\n",
    "    [\n",
    "        ordersByUsersA[\n",
    "            np.logical_not(ordersByUsersA['visitor_id'].isin(abnormalUsers))\n",
    "        ]['orders'],\n",
    "        pd.Series(\n",
    "            0,\n",
    "            index=np.arange(\n",
    "                data['visitorsPerDateA'].sum() - len(ordersByUsersA['orders'])\n",
    "            ),\n",
    "            name='orders',\n",
    "        ),\n",
    "    ],\n",
    "    axis=0,\n",
    ")\n",
    "\n",
    "sampleBFiltered = pd.concat(\n",
    "    [\n",
    "        ordersByUsersB[\n",
    "            np.logical_not(ordersByUsersB['visitor_id'].isin(abnormalUsers))\n",
    "        ]['orders'],\n",
    "        pd.Series(\n",
    "            0,\n",
    "            index=np.arange(\n",
    "                data['visitorsPerDateB'].sum() - len(ordersByUsersB['orders'])\n",
    "            ),\n",
    "            name='orders',\n",
    "        ),\n",
    "    ],\n",
    "    axis=0,\n",
    ") "
   ]
  },
  {
   "cell_type": "markdown",
   "metadata": {},
   "source": [
    "Применим статистический критерий Манна-Уитни к полученным выборкам."
   ]
  },
  {
   "cell_type": "code",
   "execution_count": 40,
   "metadata": {},
   "outputs": [
    {
     "name": "stdout",
     "output_type": "stream",
     "text": [
      "p-value: 0.007\n",
      "Относительный прирост среднего числа заказов группы B: 0.189\n"
     ]
    }
   ],
   "source": [
    "print('p-value:','{0:.3f}'.format(stats.mannwhitneyu(sampleAFiltered, sampleBFiltered)[1]))\n",
    "print('Относительный прирост среднего числа заказов группы B:', '{0:.3f}'.format(sampleBFiltered.mean()/sampleAFiltered.mean()-1)) "
   ]
  },
  {
   "cell_type": "markdown",
   "metadata": {},
   "source": [
    "p-value незначительно уменьшился до 0.007 и остался меньше уровня статистической значимости 0.05 (отвергаем нулевую гипотезу о том, что различий в среднем количестве заказов между группами нет). Относительный выигрыш группы В над группой А увеличился с 16 до 18.9%."
   ]
  },
  {
   "cell_type": "markdown",
   "metadata": {},
   "source": [
    "### Расчет статистической значимости различий в среднем чеке заказа между группами по «очищенным» данным"
   ]
  },
  {
   "cell_type": "markdown",
   "metadata": {},
   "source": [
    "Посмотрим на результаты по среднему чеку по данным без аномалий."
   ]
  },
  {
   "cell_type": "code",
   "execution_count": 41,
   "metadata": {},
   "outputs": [
    {
     "name": "stdout",
     "output_type": "stream",
     "text": [
      "p-value: 0.788\n",
      "Относительный прирост среднего чека группы B: -0.032\n"
     ]
    }
   ],
   "source": [
    "print(\n",
    "    'p-value:', '{0:.3f}'.format(\n",
    "        stats.mannwhitneyu(\n",
    "            orders[\n",
    "                np.logical_and(\n",
    "                    orders['group'] == 'A',\n",
    "                    np.logical_not(orders['visitor_id'].isin(abnormalUsers)),\n",
    "                )\n",
    "            ]['revenue'],\n",
    "            orders[\n",
    "                np.logical_and(\n",
    "                    orders['group'] == 'B',\n",
    "                    np.logical_not(orders['visitor_id'].isin(abnormalUsers)),\n",
    "                )\n",
    "            ]['revenue'],\n",
    "        )[1]\n",
    "    )\n",
    ")\n",
    "\n",
    "print('Относительный прирост среднего чека группы B:',\n",
    "    \"{0:.3f}\".format(\n",
    "        orders[\n",
    "            np.logical_and(\n",
    "                orders['group'] == 'B',\n",
    "                np.logical_not(orders['visitor_id'].isin(abnormalUsers)),\n",
    "            )\n",
    "        ]['revenue'].mean()\n",
    "        / orders[\n",
    "            np.logical_and(\n",
    "                orders['group'] == 'A',\n",
    "                np.logical_not(orders['visitor_id'].isin(abnormalUsers)),\n",
    "            )\n",
    "        ]['revenue'].mean()\n",
    "        - 1\n",
    "    )\n",
    ") \n"
   ]
  },
  {
   "cell_type": "markdown",
   "metadata": {},
   "source": [
    "P-value слегка уменьшился. А разрыв между средними чеками изменился с 28% в пользу группы В до 3% в пользу группы А. Аномальные значения повлияли на результаты, однако тесты сработали одинаково и на \"сырых\", и на \"очищенных\" данных."
   ]
  },
  {
   "cell_type": "markdown",
   "metadata": {},
   "source": [
    "### Принятие решений по результатам A/B-теста"
   ]
  },
  {
   "cell_type": "markdown",
   "metadata": {},
   "source": [
    "По результатам теста и по сырым данным, и по данным без аномалий, мы отвергаем гипотезу о том, что разницы между количеством заказов нет. Подтверждаем гипотезу о том, что статистическое различие в среднем между группами есть: количество заказов в группе В по очищенным данным больше на 16%.\n",
    "\n",
    "Средний чек и по сырым и по очищенным данным статистически не отличается. При этом по очищенным данным отличий не нашлось и по наблюдениям. Таким образом, мы видим, что в группах нет статистически значимого различия между средним чеком, при этом в группе В наблюдается значительный рост числа заказов относительно группы А. \n",
    "\n",
    "Кумулятивная выручка и среднее количество заказов на посетителя по группе В выше, что подтверждается статистическими проверками. \n",
    "\n",
    "По всем полученным данным группа В показывает более высокие результаты, чем группа А. \n",
    "\n",
    "Мы совокупной информации, полученной в ходе исследования, мы останавливаем тест и признаем его успешным. При возросшем количестве заказов с сохранившимся средним чеком выручка будет также расти, и наша цель по увеличению выручки будет достигнута.\n"
   ]
  }
 ],
 "metadata": {
  "ExecuteTimeLog": [
   {
    "duration": 56,
    "start_time": "2023-08-14T10:21:11.595Z"
   },
   {
    "duration": 1031,
    "start_time": "2023-08-14T10:21:16.550Z"
   },
   {
    "duration": 70,
    "start_time": "2023-08-14T10:21:17.912Z"
   },
   {
    "duration": 37,
    "start_time": "2023-08-14T10:21:29.234Z"
   },
   {
    "duration": 2,
    "start_time": "2023-08-14T10:22:54.182Z"
   },
   {
    "duration": 31,
    "start_time": "2023-08-14T10:22:55.775Z"
   },
   {
    "duration": 3,
    "start_time": "2023-08-14T10:23:26.890Z"
   },
   {
    "duration": 37,
    "start_time": "2023-08-14T10:23:28.211Z"
   },
   {
    "duration": 3,
    "start_time": "2023-08-14T10:23:59.722Z"
   },
   {
    "duration": 31,
    "start_time": "2023-08-14T10:24:01.354Z"
   },
   {
    "duration": 3,
    "start_time": "2023-08-14T10:24:53.390Z"
   },
   {
    "duration": 39,
    "start_time": "2023-08-14T10:31:53.032Z"
   },
   {
    "duration": 42,
    "start_time": "2023-08-14T10:32:04.610Z"
   },
   {
    "duration": 2365,
    "start_time": "2023-08-14T10:32:45.573Z"
   },
   {
    "duration": 9,
    "start_time": "2023-08-14T10:33:21.925Z"
   },
   {
    "duration": 3,
    "start_time": "2023-08-14T10:33:32.796Z"
   },
   {
    "duration": 3,
    "start_time": "2023-08-14T10:33:55.654Z"
   },
   {
    "duration": 5,
    "start_time": "2023-08-14T10:33:59.585Z"
   },
   {
    "duration": 7,
    "start_time": "2023-08-14T10:34:27.821Z"
   },
   {
    "duration": 14,
    "start_time": "2023-08-14T10:37:06.320Z"
   },
   {
    "duration": 4,
    "start_time": "2023-08-14T10:37:16.432Z"
   },
   {
    "duration": 7,
    "start_time": "2023-08-14T10:37:17.908Z"
   },
   {
    "duration": 145,
    "start_time": "2023-08-14T10:49:26.153Z"
   },
   {
    "duration": 57,
    "start_time": "2023-08-14T10:49:43.387Z"
   },
   {
    "duration": 11,
    "start_time": "2023-08-14T10:50:19.206Z"
   },
   {
    "duration": 79,
    "start_time": "2023-08-14T10:50:34.596Z"
   },
   {
    "duration": 65,
    "start_time": "2023-08-14T10:51:53.890Z"
   },
   {
    "duration": 4,
    "start_time": "2023-08-14T10:52:47.879Z"
   },
   {
    "duration": 3,
    "start_time": "2023-08-14T10:54:35.157Z"
   },
   {
    "duration": 10,
    "start_time": "2023-08-14T10:54:40.718Z"
   },
   {
    "duration": 5,
    "start_time": "2023-08-14T10:57:08.886Z"
   },
   {
    "duration": 11,
    "start_time": "2023-08-14T10:57:14.768Z"
   },
   {
    "duration": 26,
    "start_time": "2023-08-14T10:58:22.294Z"
   },
   {
    "duration": 14,
    "start_time": "2023-08-14T10:58:42.962Z"
   },
   {
    "duration": 36,
    "start_time": "2023-08-14T10:58:56.398Z"
   },
   {
    "duration": 36,
    "start_time": "2023-08-14T10:59:27.566Z"
   },
   {
    "duration": 47,
    "start_time": "2023-08-14T11:00:11.006Z"
   },
   {
    "duration": 23,
    "start_time": "2023-08-14T11:00:25.737Z"
   },
   {
    "duration": 5,
    "start_time": "2023-08-14T11:01:02.271Z"
   },
   {
    "duration": 9,
    "start_time": "2023-08-14T11:01:18.778Z"
   },
   {
    "duration": 5,
    "start_time": "2023-08-14T11:11:42.324Z"
   },
   {
    "duration": 20,
    "start_time": "2023-08-14T11:13:32.272Z"
   },
   {
    "duration": 646,
    "start_time": "2023-08-14T11:13:50.678Z"
   },
   {
    "duration": 2,
    "start_time": "2023-08-14T11:13:51.327Z"
   },
   {
    "duration": 70,
    "start_time": "2023-08-14T11:13:51.330Z"
   },
   {
    "duration": 3,
    "start_time": "2023-08-14T11:13:51.401Z"
   },
   {
    "duration": 51,
    "start_time": "2023-08-14T11:13:51.406Z"
   },
   {
    "duration": 29,
    "start_time": "2023-08-14T11:13:51.460Z"
   },
   {
    "duration": 10,
    "start_time": "2023-08-14T11:13:51.490Z"
   },
   {
    "duration": 68,
    "start_time": "2023-08-14T11:13:51.502Z"
   },
   {
    "duration": 83,
    "start_time": "2023-08-14T11:13:51.572Z"
   },
   {
    "duration": 8,
    "start_time": "2023-08-14T11:13:51.657Z"
   },
   {
    "duration": 36,
    "start_time": "2023-08-14T11:13:51.666Z"
   },
   {
    "duration": 30,
    "start_time": "2023-08-14T11:13:51.704Z"
   },
   {
    "duration": 67,
    "start_time": "2023-08-14T11:13:51.735Z"
   },
   {
    "duration": 5,
    "start_time": "2023-08-14T11:13:51.806Z"
   },
   {
    "duration": 78,
    "start_time": "2023-08-14T11:13:51.813Z"
   },
   {
    "duration": 572,
    "start_time": "2023-08-14T11:13:51.893Z"
   },
   {
    "duration": 421,
    "start_time": "2023-08-14T11:16:25.661Z"
   },
   {
    "duration": 432,
    "start_time": "2023-08-14T11:16:32.159Z"
   },
   {
    "duration": 464,
    "start_time": "2023-08-14T11:16:37.065Z"
   },
   {
    "duration": 476,
    "start_time": "2023-08-14T11:16:44.321Z"
   },
   {
    "duration": 4,
    "start_time": "2023-08-14T11:17:19.208Z"
   },
   {
    "duration": 4,
    "start_time": "2023-08-14T11:17:28.462Z"
   },
   {
    "duration": 106,
    "start_time": "2023-08-14T11:18:57.866Z"
   },
   {
    "duration": 105,
    "start_time": "2023-08-14T11:19:30.669Z"
   },
   {
    "duration": 4,
    "start_time": "2023-08-14T11:19:32.396Z"
   },
   {
    "duration": 3,
    "start_time": "2023-08-14T11:19:52.394Z"
   },
   {
    "duration": 3,
    "start_time": "2023-08-14T11:20:16.973Z"
   },
   {
    "duration": 10,
    "start_time": "2023-08-14T11:21:04.757Z"
   },
   {
    "duration": 3,
    "start_time": "2023-08-14T11:21:11.762Z"
   },
   {
    "duration": 4,
    "start_time": "2023-08-14T11:21:37.264Z"
   },
   {
    "duration": 440,
    "start_time": "2023-08-14T11:22:42.072Z"
   },
   {
    "duration": 413,
    "start_time": "2023-08-14T11:22:49.186Z"
   },
   {
    "duration": 474,
    "start_time": "2023-08-14T11:23:04.797Z"
   },
   {
    "duration": 464,
    "start_time": "2023-08-14T11:23:30.439Z"
   },
   {
    "duration": 443,
    "start_time": "2023-08-14T11:24:10.922Z"
   },
   {
    "duration": 433,
    "start_time": "2023-08-14T11:24:18.600Z"
   },
   {
    "duration": 91,
    "start_time": "2023-08-14T11:27:05.407Z"
   },
   {
    "duration": 163,
    "start_time": "2023-08-14T11:27:09.334Z"
   },
   {
    "duration": 113,
    "start_time": "2023-08-14T11:30:37.677Z"
   },
   {
    "duration": 4,
    "start_time": "2023-08-14T11:32:57.062Z"
   },
   {
    "duration": 470,
    "start_time": "2023-08-14T11:37:11.090Z"
   },
   {
    "duration": 467,
    "start_time": "2023-08-14T11:37:47.797Z"
   },
   {
    "duration": 544,
    "start_time": "2023-08-14T11:38:31.964Z"
   },
   {
    "duration": 512,
    "start_time": "2023-08-14T11:38:38.536Z"
   },
   {
    "duration": 178,
    "start_time": "2023-08-14T11:39:39.039Z"
   },
   {
    "duration": 166,
    "start_time": "2023-08-14T11:40:25.869Z"
   },
   {
    "duration": 171,
    "start_time": "2023-08-14T11:40:59.758Z"
   },
   {
    "duration": 191,
    "start_time": "2023-08-14T11:41:05.172Z"
   },
   {
    "duration": 214,
    "start_time": "2023-08-14T11:41:31.361Z"
   },
   {
    "duration": 241,
    "start_time": "2023-08-14T11:46:42.876Z"
   },
   {
    "duration": 223,
    "start_time": "2023-08-14T11:46:52.386Z"
   },
   {
    "duration": 299,
    "start_time": "2023-08-14T11:47:37.636Z"
   },
   {
    "duration": 322,
    "start_time": "2023-08-14T11:47:43.428Z"
   },
   {
    "duration": 381,
    "start_time": "2023-08-14T11:48:50.935Z"
   },
   {
    "duration": 358,
    "start_time": "2023-08-14T11:48:57.365Z"
   },
   {
    "duration": 195,
    "start_time": "2023-08-14T11:53:28.866Z"
   },
   {
    "duration": 200,
    "start_time": "2023-08-14T11:53:49.470Z"
   },
   {
    "duration": 204,
    "start_time": "2023-08-14T11:54:57.060Z"
   },
   {
    "duration": 337,
    "start_time": "2023-08-14T12:37:43.223Z"
   },
   {
    "duration": 300,
    "start_time": "2023-08-14T12:37:52.327Z"
   },
   {
    "duration": 304,
    "start_time": "2023-08-14T12:38:17.261Z"
   },
   {
    "duration": 320,
    "start_time": "2023-08-14T12:38:31.664Z"
   },
   {
    "duration": 280,
    "start_time": "2023-08-14T12:38:51.107Z"
   },
   {
    "duration": 122,
    "start_time": "2023-08-14T12:58:24.366Z"
   },
   {
    "duration": 134,
    "start_time": "2023-08-14T12:58:33.833Z"
   },
   {
    "duration": 22,
    "start_time": "2023-08-14T13:01:33.438Z"
   },
   {
    "duration": 106,
    "start_time": "2023-08-14T13:03:18.108Z"
   },
   {
    "duration": 192,
    "start_time": "2023-08-14T13:03:55.606Z"
   },
   {
    "duration": 124,
    "start_time": "2023-08-14T13:04:18.663Z"
   },
   {
    "duration": 124,
    "start_time": "2023-08-14T13:04:35.089Z"
   },
   {
    "duration": 104,
    "start_time": "2023-08-14T13:07:41.010Z"
   },
   {
    "duration": 114,
    "start_time": "2023-08-14T13:07:54.659Z"
   },
   {
    "duration": 198,
    "start_time": "2023-08-14T13:09:12.027Z"
   },
   {
    "duration": 213,
    "start_time": "2023-08-14T13:09:43.388Z"
   },
   {
    "duration": 218,
    "start_time": "2023-08-14T13:10:07.399Z"
   },
   {
    "duration": 281,
    "start_time": "2023-08-14T13:11:29.736Z"
   },
   {
    "duration": 360,
    "start_time": "2023-08-14T13:12:14.311Z"
   },
   {
    "duration": 392,
    "start_time": "2023-08-14T13:12:21.699Z"
   },
   {
    "duration": 279,
    "start_time": "2023-08-14T13:12:44.091Z"
   },
   {
    "duration": 376,
    "start_time": "2023-08-14T13:13:05.111Z"
   },
   {
    "duration": 381,
    "start_time": "2023-08-14T13:13:10.788Z"
   },
   {
    "duration": 789,
    "start_time": "2023-08-14T13:14:23.748Z"
   },
   {
    "duration": 6,
    "start_time": "2023-08-14T13:14:24.555Z"
   },
   {
    "duration": 45,
    "start_time": "2023-08-14T13:14:24.565Z"
   },
   {
    "duration": 3,
    "start_time": "2023-08-14T13:14:24.612Z"
   },
   {
    "duration": 14,
    "start_time": "2023-08-14T13:14:24.617Z"
   },
   {
    "duration": 39,
    "start_time": "2023-08-14T13:14:24.633Z"
   },
   {
    "duration": 31,
    "start_time": "2023-08-14T13:14:24.674Z"
   },
   {
    "duration": 20,
    "start_time": "2023-08-14T13:14:24.706Z"
   },
   {
    "duration": 65,
    "start_time": "2023-08-14T13:14:24.727Z"
   },
   {
    "duration": 4,
    "start_time": "2023-08-14T13:14:24.796Z"
   },
   {
    "duration": 9,
    "start_time": "2023-08-14T13:14:24.801Z"
   },
   {
    "duration": 8,
    "start_time": "2023-08-14T13:14:24.812Z"
   },
   {
    "duration": 6,
    "start_time": "2023-08-14T13:14:24.822Z"
   },
   {
    "duration": 40,
    "start_time": "2023-08-14T13:14:24.829Z"
   },
   {
    "duration": 4,
    "start_time": "2023-08-14T13:14:24.870Z"
   },
   {
    "duration": 7,
    "start_time": "2023-08-14T13:14:24.875Z"
   },
   {
    "duration": 27,
    "start_time": "2023-08-14T13:14:24.883Z"
   },
   {
    "duration": 551,
    "start_time": "2023-08-14T13:14:24.911Z"
   },
   {
    "duration": 167,
    "start_time": "2023-08-14T13:14:25.464Z"
   },
   {
    "duration": 340,
    "start_time": "2023-08-14T13:14:25.633Z"
   },
   {
    "duration": 225,
    "start_time": "2023-08-14T13:14:25.974Z"
   },
   {
    "duration": 266,
    "start_time": "2023-08-14T13:14:26.201Z"
   },
   {
    "duration": 8,
    "start_time": "2023-08-14T13:14:26.468Z"
   },
   {
    "duration": 127,
    "start_time": "2023-08-14T13:14:26.477Z"
   },
   {
    "duration": 375,
    "start_time": "2023-08-14T13:14:26.605Z"
   },
   {
    "duration": 345,
    "start_time": "2023-08-14T13:14:33.834Z"
   },
   {
    "duration": 360,
    "start_time": "2023-08-14T13:14:39.215Z"
   },
   {
    "duration": 401,
    "start_time": "2023-08-14T13:16:01.971Z"
   },
   {
    "duration": 89,
    "start_time": "2023-08-14T13:20:43.596Z"
   },
   {
    "duration": 352,
    "start_time": "2023-08-14T13:21:27.804Z"
   },
   {
    "duration": 369,
    "start_time": "2023-08-14T13:21:32.161Z"
   },
   {
    "duration": 244,
    "start_time": "2023-08-14T13:23:31.831Z"
   },
   {
    "duration": 275,
    "start_time": "2023-08-14T13:23:52.381Z"
   },
   {
    "duration": 245,
    "start_time": "2023-08-14T13:24:33.766Z"
   },
   {
    "duration": 235,
    "start_time": "2023-08-14T13:24:37.775Z"
   },
   {
    "duration": 259,
    "start_time": "2023-08-14T13:25:09.239Z"
   },
   {
    "duration": 297,
    "start_time": "2023-08-14T13:25:24.466Z"
   },
   {
    "duration": 271,
    "start_time": "2023-08-14T13:25:30.862Z"
   },
   {
    "duration": 300,
    "start_time": "2023-08-14T13:25:35.214Z"
   },
   {
    "duration": 237,
    "start_time": "2023-08-14T13:26:00.683Z"
   },
   {
    "duration": 224,
    "start_time": "2023-08-14T13:26:08.994Z"
   },
   {
    "duration": 227,
    "start_time": "2023-08-14T13:26:17.389Z"
   },
   {
    "duration": 56,
    "start_time": "2023-08-14T18:07:08.847Z"
   },
   {
    "duration": 850,
    "start_time": "2023-08-14T18:07:23.428Z"
   },
   {
    "duration": 3,
    "start_time": "2023-08-14T18:07:24.280Z"
   },
   {
    "duration": 100,
    "start_time": "2023-08-14T18:07:24.285Z"
   },
   {
    "duration": 3,
    "start_time": "2023-08-14T18:07:24.387Z"
   },
   {
    "duration": 11,
    "start_time": "2023-08-14T18:07:24.392Z"
   },
   {
    "duration": 16,
    "start_time": "2023-08-14T18:07:24.404Z"
   },
   {
    "duration": 14,
    "start_time": "2023-08-14T18:07:24.422Z"
   },
   {
    "duration": 24,
    "start_time": "2023-08-14T18:07:24.438Z"
   },
   {
    "duration": 102,
    "start_time": "2023-08-14T18:07:24.463Z"
   },
   {
    "duration": 5,
    "start_time": "2023-08-14T18:07:24.567Z"
   },
   {
    "duration": 12,
    "start_time": "2023-08-14T18:07:24.573Z"
   },
   {
    "duration": 6,
    "start_time": "2023-08-14T18:07:24.587Z"
   },
   {
    "duration": 6,
    "start_time": "2023-08-14T18:07:24.595Z"
   },
   {
    "duration": 75,
    "start_time": "2023-08-14T18:07:24.602Z"
   },
   {
    "duration": 4,
    "start_time": "2023-08-14T18:07:24.678Z"
   },
   {
    "duration": 15,
    "start_time": "2023-08-14T18:07:24.683Z"
   },
   {
    "duration": 11,
    "start_time": "2023-08-14T18:07:24.700Z"
   },
   {
    "duration": 522,
    "start_time": "2023-08-14T18:07:24.713Z"
   },
   {
    "duration": 201,
    "start_time": "2023-08-14T18:07:25.237Z"
   },
   {
    "duration": 358,
    "start_time": "2023-08-14T18:07:25.440Z"
   },
   {
    "duration": 277,
    "start_time": "2023-08-14T18:07:25.800Z"
   },
   {
    "duration": 305,
    "start_time": "2023-08-14T18:07:26.079Z"
   },
   {
    "duration": 40,
    "start_time": "2023-08-14T18:07:26.385Z"
   },
   {
    "duration": 239,
    "start_time": "2023-08-14T18:07:26.427Z"
   },
   {
    "duration": 4,
    "start_time": "2023-08-14T18:07:26.668Z"
   },
   {
    "duration": 4,
    "start_time": "2023-08-14T18:09:31.950Z"
   },
   {
    "duration": 240,
    "start_time": "2023-08-14T18:15:50.269Z"
   },
   {
    "duration": 683,
    "start_time": "2023-08-14T18:16:03.368Z"
   },
   {
    "duration": 4,
    "start_time": "2023-08-14T18:16:04.053Z"
   },
   {
    "duration": 52,
    "start_time": "2023-08-14T18:16:04.059Z"
   },
   {
    "duration": 3,
    "start_time": "2023-08-14T18:16:04.113Z"
   },
   {
    "duration": 10,
    "start_time": "2023-08-14T18:16:04.118Z"
   },
   {
    "duration": 7,
    "start_time": "2023-08-14T18:16:04.130Z"
   },
   {
    "duration": 6,
    "start_time": "2023-08-14T18:16:04.139Z"
   },
   {
    "duration": 9,
    "start_time": "2023-08-14T18:16:04.147Z"
   },
   {
    "duration": 74,
    "start_time": "2023-08-14T18:16:04.157Z"
   },
   {
    "duration": 6,
    "start_time": "2023-08-14T18:16:04.234Z"
   },
   {
    "duration": 46,
    "start_time": "2023-08-14T18:16:04.241Z"
   },
   {
    "duration": 46,
    "start_time": "2023-08-14T18:16:04.288Z"
   },
   {
    "duration": 23,
    "start_time": "2023-08-14T18:16:04.336Z"
   },
   {
    "duration": 48,
    "start_time": "2023-08-14T18:16:04.360Z"
   },
   {
    "duration": 4,
    "start_time": "2023-08-14T18:16:04.410Z"
   },
   {
    "duration": 9,
    "start_time": "2023-08-14T18:16:04.416Z"
   },
   {
    "duration": 13,
    "start_time": "2023-08-14T18:16:04.427Z"
   },
   {
    "duration": 552,
    "start_time": "2023-08-14T18:16:04.442Z"
   },
   {
    "duration": 195,
    "start_time": "2023-08-14T18:16:04.996Z"
   },
   {
    "duration": 288,
    "start_time": "2023-08-14T18:16:05.192Z"
   },
   {
    "duration": 269,
    "start_time": "2023-08-14T18:16:05.482Z"
   },
   {
    "duration": 313,
    "start_time": "2023-08-14T18:16:05.757Z"
   },
   {
    "duration": 10,
    "start_time": "2023-08-14T18:16:06.072Z"
   },
   {
    "duration": 254,
    "start_time": "2023-08-14T18:16:06.083Z"
   },
   {
    "duration": 5,
    "start_time": "2023-08-14T18:16:06.339Z"
   },
   {
    "duration": 262,
    "start_time": "2023-08-14T18:16:06.357Z"
   },
   {
    "duration": 295,
    "start_time": "2023-08-14T18:16:28.023Z"
   },
   {
    "duration": 279,
    "start_time": "2023-08-14T18:17:26.995Z"
   },
   {
    "duration": 272,
    "start_time": "2023-08-14T18:17:48.118Z"
   },
   {
    "duration": 261,
    "start_time": "2023-08-14T18:17:56.379Z"
   },
   {
    "duration": 6,
    "start_time": "2023-08-14T18:22:57.393Z"
   },
   {
    "duration": 4,
    "start_time": "2023-08-14T18:38:12.395Z"
   },
   {
    "duration": 6,
    "start_time": "2023-08-14T18:43:12.469Z"
   },
   {
    "duration": 248,
    "start_time": "2023-08-14T18:46:57.223Z"
   },
   {
    "duration": 239,
    "start_time": "2023-08-14T18:47:08.469Z"
   },
   {
    "duration": 348,
    "start_time": "2023-08-14T18:47:19.696Z"
   },
   {
    "duration": 241,
    "start_time": "2023-08-14T18:47:58.852Z"
   },
   {
    "duration": 270,
    "start_time": "2023-08-14T18:48:06.028Z"
   },
   {
    "duration": 280,
    "start_time": "2023-08-14T18:49:13.501Z"
   },
   {
    "duration": 267,
    "start_time": "2023-08-14T18:49:27.861Z"
   },
   {
    "duration": 262,
    "start_time": "2023-08-14T18:49:36.811Z"
   },
   {
    "duration": 272,
    "start_time": "2023-08-14T18:49:50.139Z"
   },
   {
    "duration": 249,
    "start_time": "2023-08-14T18:49:56.455Z"
   },
   {
    "duration": 374,
    "start_time": "2023-08-14T18:50:01.452Z"
   },
   {
    "duration": 272,
    "start_time": "2023-08-14T18:50:09.015Z"
   },
   {
    "duration": 263,
    "start_time": "2023-08-14T18:50:31.327Z"
   },
   {
    "duration": 257,
    "start_time": "2023-08-14T18:50:55.702Z"
   },
   {
    "duration": 317,
    "start_time": "2023-08-14T18:51:08.710Z"
   },
   {
    "duration": 262,
    "start_time": "2023-08-14T18:51:13.754Z"
   },
   {
    "duration": 365,
    "start_time": "2023-08-14T18:51:25.660Z"
   },
   {
    "duration": 341,
    "start_time": "2023-08-14T18:51:35.615Z"
   },
   {
    "duration": 498,
    "start_time": "2023-08-14T18:52:03.667Z"
   },
   {
    "duration": 264,
    "start_time": "2023-08-14T18:52:10.887Z"
   },
   {
    "duration": 286,
    "start_time": "2023-08-14T18:52:19.663Z"
   },
   {
    "duration": 343,
    "start_time": "2023-08-14T18:52:32.778Z"
   },
   {
    "duration": 14,
    "start_time": "2023-08-14T19:09:58.356Z"
   },
   {
    "duration": 10,
    "start_time": "2023-08-14T19:10:07.777Z"
   },
   {
    "duration": 7,
    "start_time": "2023-08-14T19:10:13.670Z"
   },
   {
    "duration": 8,
    "start_time": "2023-08-14T19:10:46.325Z"
   },
   {
    "duration": 8,
    "start_time": "2023-08-14T19:11:09.204Z"
   },
   {
    "duration": 8,
    "start_time": "2023-08-14T19:11:28.125Z"
   },
   {
    "duration": 9,
    "start_time": "2023-08-14T19:11:31.676Z"
   },
   {
    "duration": 6,
    "start_time": "2023-08-14T19:11:35.231Z"
   },
   {
    "duration": 47,
    "start_time": "2023-08-15T05:50:24.377Z"
   },
   {
    "duration": 832,
    "start_time": "2023-08-15T05:50:30.412Z"
   },
   {
    "duration": 2,
    "start_time": "2023-08-15T05:50:31.248Z"
   },
   {
    "duration": 110,
    "start_time": "2023-08-15T05:50:31.252Z"
   },
   {
    "duration": 3,
    "start_time": "2023-08-15T05:50:31.364Z"
   },
   {
    "duration": 32,
    "start_time": "2023-08-15T05:50:31.368Z"
   },
   {
    "duration": 77,
    "start_time": "2023-08-15T05:50:31.401Z"
   },
   {
    "duration": 32,
    "start_time": "2023-08-15T05:50:31.480Z"
   },
   {
    "duration": 37,
    "start_time": "2023-08-15T05:50:31.514Z"
   },
   {
    "duration": 127,
    "start_time": "2023-08-15T05:50:31.553Z"
   },
   {
    "duration": 5,
    "start_time": "2023-08-15T05:50:31.683Z"
   },
   {
    "duration": 29,
    "start_time": "2023-08-15T05:50:31.690Z"
   },
   {
    "duration": 47,
    "start_time": "2023-08-15T05:50:31.720Z"
   },
   {
    "duration": 25,
    "start_time": "2023-08-15T05:50:31.769Z"
   },
   {
    "duration": 78,
    "start_time": "2023-08-15T05:50:31.795Z"
   },
   {
    "duration": 5,
    "start_time": "2023-08-15T05:50:31.874Z"
   },
   {
    "duration": 19,
    "start_time": "2023-08-15T05:50:31.880Z"
   },
   {
    "duration": 14,
    "start_time": "2023-08-15T05:50:31.900Z"
   },
   {
    "duration": 568,
    "start_time": "2023-08-15T05:50:31.916Z"
   },
   {
    "duration": 206,
    "start_time": "2023-08-15T05:50:32.486Z"
   },
   {
    "duration": 332,
    "start_time": "2023-08-15T05:50:32.699Z"
   },
   {
    "duration": 221,
    "start_time": "2023-08-15T05:50:33.033Z"
   },
   {
    "duration": 295,
    "start_time": "2023-08-15T05:50:33.255Z"
   },
   {
    "duration": 8,
    "start_time": "2023-08-15T05:50:33.551Z"
   },
   {
    "duration": 266,
    "start_time": "2023-08-15T05:50:33.561Z"
   },
   {
    "duration": 5,
    "start_time": "2023-08-15T05:50:33.828Z"
   },
   {
    "duration": 293,
    "start_time": "2023-08-15T05:50:33.834Z"
   },
   {
    "duration": 371,
    "start_time": "2023-08-15T05:50:34.129Z"
   },
   {
    "duration": 4,
    "start_time": "2023-08-15T05:50:34.503Z"
   },
   {
    "duration": 120,
    "start_time": "2023-08-15T05:50:34.508Z"
   },
   {
    "duration": 153,
    "start_time": "2023-08-15T05:51:19.183Z"
   },
   {
    "duration": 10,
    "start_time": "2023-08-15T06:12:46.190Z"
   },
   {
    "duration": 90,
    "start_time": "2023-08-15T06:20:06.331Z"
   },
   {
    "duration": 187,
    "start_time": "2023-08-15T06:21:16.795Z"
   },
   {
    "duration": 121,
    "start_time": "2023-08-15T06:30:33.834Z"
   },
   {
    "duration": 6,
    "start_time": "2023-08-15T06:30:36.724Z"
   },
   {
    "duration": 6,
    "start_time": "2023-08-15T06:31:17.082Z"
   },
   {
    "duration": 5,
    "start_time": "2023-08-15T06:31:36.261Z"
   },
   {
    "duration": 13,
    "start_time": "2023-08-15T06:32:05.546Z"
   },
   {
    "duration": 145,
    "start_time": "2023-08-15T06:32:50.203Z"
   },
   {
    "duration": 643,
    "start_time": "2023-08-15T06:33:50.067Z"
   },
   {
    "duration": 3,
    "start_time": "2023-08-15T06:33:50.711Z"
   },
   {
    "duration": 38,
    "start_time": "2023-08-15T06:33:50.716Z"
   },
   {
    "duration": 2,
    "start_time": "2023-08-15T06:33:50.756Z"
   },
   {
    "duration": 19,
    "start_time": "2023-08-15T06:33:50.759Z"
   },
   {
    "duration": 39,
    "start_time": "2023-08-15T06:33:50.779Z"
   },
   {
    "duration": 19,
    "start_time": "2023-08-15T06:33:50.819Z"
   },
   {
    "duration": 13,
    "start_time": "2023-08-15T06:33:50.840Z"
   },
   {
    "duration": 83,
    "start_time": "2023-08-15T06:33:50.854Z"
   },
   {
    "duration": 4,
    "start_time": "2023-08-15T06:33:50.940Z"
   },
   {
    "duration": 8,
    "start_time": "2023-08-15T06:33:50.945Z"
   },
   {
    "duration": 22,
    "start_time": "2023-08-15T06:33:50.954Z"
   },
   {
    "duration": 9,
    "start_time": "2023-08-15T06:33:50.977Z"
   },
   {
    "duration": 49,
    "start_time": "2023-08-15T06:33:50.987Z"
   },
   {
    "duration": 3,
    "start_time": "2023-08-15T06:33:51.038Z"
   },
   {
    "duration": 31,
    "start_time": "2023-08-15T06:33:51.042Z"
   },
   {
    "duration": 22,
    "start_time": "2023-08-15T06:33:51.075Z"
   },
   {
    "duration": 526,
    "start_time": "2023-08-15T06:33:51.099Z"
   },
   {
    "duration": 169,
    "start_time": "2023-08-15T06:33:51.626Z"
   },
   {
    "duration": 283,
    "start_time": "2023-08-15T06:33:51.796Z"
   },
   {
    "duration": 216,
    "start_time": "2023-08-15T06:33:52.081Z"
   },
   {
    "duration": 292,
    "start_time": "2023-08-15T06:33:52.300Z"
   },
   {
    "duration": 23,
    "start_time": "2023-08-15T06:33:52.593Z"
   },
   {
    "duration": 231,
    "start_time": "2023-08-15T06:33:52.618Z"
   },
   {
    "duration": 4,
    "start_time": "2023-08-15T06:33:52.851Z"
   },
   {
    "duration": 273,
    "start_time": "2023-08-15T06:33:52.856Z"
   },
   {
    "duration": 323,
    "start_time": "2023-08-15T06:33:53.132Z"
   },
   {
    "duration": 4,
    "start_time": "2023-08-15T06:33:53.458Z"
   },
   {
    "duration": 224,
    "start_time": "2023-08-15T06:33:53.463Z"
   },
   {
    "duration": 146,
    "start_time": "2023-08-15T06:33:53.688Z"
   },
   {
    "duration": 5,
    "start_time": "2023-08-15T06:33:53.836Z"
   },
   {
    "duration": 24,
    "start_time": "2023-08-15T06:33:53.842Z"
   },
   {
    "duration": 23,
    "start_time": "2023-08-15T06:33:53.867Z"
   },
   {
    "duration": 218,
    "start_time": "2023-08-15T06:33:53.892Z"
   },
   {
    "duration": 1045,
    "start_time": "2023-08-15T06:34:36.789Z"
   },
   {
    "duration": 2,
    "start_time": "2023-08-15T06:34:37.836Z"
   },
   {
    "duration": 58,
    "start_time": "2023-08-15T06:34:37.839Z"
   },
   {
    "duration": 11,
    "start_time": "2023-08-15T06:34:37.899Z"
   },
   {
    "duration": 16,
    "start_time": "2023-08-15T06:34:37.912Z"
   },
   {
    "duration": 14,
    "start_time": "2023-08-15T06:34:37.930Z"
   },
   {
    "duration": 14,
    "start_time": "2023-08-15T06:34:37.946Z"
   },
   {
    "duration": 9,
    "start_time": "2023-08-15T06:34:37.962Z"
   },
   {
    "duration": 61,
    "start_time": "2023-08-15T06:34:37.973Z"
   },
   {
    "duration": 5,
    "start_time": "2023-08-15T06:34:38.037Z"
   },
   {
    "duration": 7,
    "start_time": "2023-08-15T06:34:38.043Z"
   },
   {
    "duration": 11,
    "start_time": "2023-08-15T06:34:38.051Z"
   },
   {
    "duration": 13,
    "start_time": "2023-08-15T06:34:38.064Z"
   },
   {
    "duration": 46,
    "start_time": "2023-08-15T06:34:38.078Z"
   },
   {
    "duration": 5,
    "start_time": "2023-08-15T06:34:38.126Z"
   },
   {
    "duration": 7,
    "start_time": "2023-08-15T06:34:38.133Z"
   },
   {
    "duration": 14,
    "start_time": "2023-08-15T06:34:38.142Z"
   },
   {
    "duration": 508,
    "start_time": "2023-08-15T06:34:38.158Z"
   },
   {
    "duration": 171,
    "start_time": "2023-08-15T06:34:38.667Z"
   },
   {
    "duration": 244,
    "start_time": "2023-08-15T06:34:38.839Z"
   },
   {
    "duration": 182,
    "start_time": "2023-08-15T06:34:39.085Z"
   },
   {
    "duration": 279,
    "start_time": "2023-08-15T06:34:39.268Z"
   },
   {
    "duration": 8,
    "start_time": "2023-08-15T06:34:39.548Z"
   },
   {
    "duration": 222,
    "start_time": "2023-08-15T06:34:39.557Z"
   },
   {
    "duration": 3,
    "start_time": "2023-08-15T06:34:39.781Z"
   },
   {
    "duration": 348,
    "start_time": "2023-08-15T06:34:39.788Z"
   },
   {
    "duration": 353,
    "start_time": "2023-08-15T06:34:40.137Z"
   },
   {
    "duration": 18,
    "start_time": "2023-08-15T06:34:40.493Z"
   },
   {
    "duration": 198,
    "start_time": "2023-08-15T06:34:40.512Z"
   },
   {
    "duration": 128,
    "start_time": "2023-08-15T06:34:40.711Z"
   },
   {
    "duration": 6,
    "start_time": "2023-08-15T06:34:40.841Z"
   },
   {
    "duration": 26,
    "start_time": "2023-08-15T06:34:40.849Z"
   },
   {
    "duration": 19,
    "start_time": "2023-08-15T06:34:40.877Z"
   },
   {
    "duration": 161,
    "start_time": "2023-08-15T06:34:40.897Z"
   },
   {
    "duration": 137,
    "start_time": "2023-08-15T06:36:20.441Z"
   },
   {
    "duration": 9,
    "start_time": "2023-08-15T06:44:16.463Z"
   },
   {
    "duration": 2058,
    "start_time": "2023-08-15T06:53:10.494Z"
   },
   {
    "duration": 9,
    "start_time": "2023-08-15T06:53:41.168Z"
   },
   {
    "duration": 1799,
    "start_time": "2023-08-15T06:54:57.600Z"
   },
   {
    "duration": 11,
    "start_time": "2023-08-15T06:55:12.280Z"
   },
   {
    "duration": 37,
    "start_time": "2023-08-15T06:58:13.191Z"
   },
   {
    "duration": 142,
    "start_time": "2023-08-15T07:03:19.979Z"
   },
   {
    "duration": 1711,
    "start_time": "2023-08-15T07:10:42.320Z"
   },
   {
    "duration": 12,
    "start_time": "2023-08-15T07:10:58.484Z"
   },
   {
    "duration": 3878,
    "start_time": "2023-08-15T07:58:28.688Z"
   },
   {
    "duration": 1149,
    "start_time": "2023-08-15T08:29:08.263Z"
   },
   {
    "duration": 3,
    "start_time": "2023-08-15T08:29:09.414Z"
   },
   {
    "duration": 76,
    "start_time": "2023-08-15T08:29:09.418Z"
   },
   {
    "duration": 3,
    "start_time": "2023-08-15T08:29:09.496Z"
   },
   {
    "duration": 22,
    "start_time": "2023-08-15T08:29:09.501Z"
   },
   {
    "duration": 25,
    "start_time": "2023-08-15T08:29:09.525Z"
   },
   {
    "duration": 25,
    "start_time": "2023-08-15T08:29:09.552Z"
   },
   {
    "duration": 17,
    "start_time": "2023-08-15T08:29:09.582Z"
   },
   {
    "duration": 83,
    "start_time": "2023-08-15T08:29:09.600Z"
   },
   {
    "duration": 6,
    "start_time": "2023-08-15T08:29:09.685Z"
   },
   {
    "duration": 25,
    "start_time": "2023-08-15T08:29:09.693Z"
   },
   {
    "duration": 8,
    "start_time": "2023-08-15T08:29:09.721Z"
   },
   {
    "duration": 26,
    "start_time": "2023-08-15T08:29:09.730Z"
   },
   {
    "duration": 47,
    "start_time": "2023-08-15T08:29:09.761Z"
   },
   {
    "duration": 4,
    "start_time": "2023-08-15T08:29:09.810Z"
   },
   {
    "duration": 11,
    "start_time": "2023-08-15T08:29:09.815Z"
   },
   {
    "duration": 18,
    "start_time": "2023-08-15T08:29:09.828Z"
   },
   {
    "duration": 628,
    "start_time": "2023-08-15T08:29:09.849Z"
   },
   {
    "duration": 214,
    "start_time": "2023-08-15T08:29:10.478Z"
   },
   {
    "duration": 297,
    "start_time": "2023-08-15T08:29:10.694Z"
   },
   {
    "duration": 222,
    "start_time": "2023-08-15T08:29:10.994Z"
   },
   {
    "duration": 312,
    "start_time": "2023-08-15T08:29:11.218Z"
   },
   {
    "duration": 9,
    "start_time": "2023-08-15T08:29:11.532Z"
   },
   {
    "duration": 301,
    "start_time": "2023-08-15T08:29:11.543Z"
   },
   {
    "duration": 5,
    "start_time": "2023-08-15T08:29:11.846Z"
   },
   {
    "duration": 331,
    "start_time": "2023-08-15T08:29:11.866Z"
   },
   {
    "duration": 449,
    "start_time": "2023-08-15T08:29:12.198Z"
   },
   {
    "duration": 4,
    "start_time": "2023-08-15T08:29:12.648Z"
   },
   {
    "duration": 244,
    "start_time": "2023-08-15T08:29:12.667Z"
   },
   {
    "duration": 166,
    "start_time": "2023-08-15T08:29:12.913Z"
   },
   {
    "duration": 21,
    "start_time": "2023-08-15T08:29:13.081Z"
   },
   {
    "duration": 9,
    "start_time": "2023-08-15T08:29:13.104Z"
   },
   {
    "duration": 14,
    "start_time": "2023-08-15T08:29:13.115Z"
   },
   {
    "duration": 164,
    "start_time": "2023-08-15T08:29:13.131Z"
   },
   {
    "duration": 12,
    "start_time": "2023-08-15T08:29:13.297Z"
   },
   {
    "duration": 15,
    "start_time": "2023-08-15T08:29:13.310Z"
   },
   {
    "duration": 210,
    "start_time": "2023-08-15T08:29:13.326Z"
   },
   {
    "duration": 43,
    "start_time": "2023-08-15T08:29:13.538Z"
   },
   {
    "duration": 14,
    "start_time": "2023-08-15T08:29:13.583Z"
   },
   {
    "duration": 69,
    "start_time": "2023-08-15T17:16:54.611Z"
   },
   {
    "duration": 1416,
    "start_time": "2023-08-15T17:17:01.207Z"
   },
   {
    "duration": 3,
    "start_time": "2023-08-15T17:17:02.625Z"
   },
   {
    "duration": 177,
    "start_time": "2023-08-15T17:17:02.641Z"
   },
   {
    "duration": 3,
    "start_time": "2023-08-15T17:17:02.819Z"
   },
   {
    "duration": 60,
    "start_time": "2023-08-15T17:17:02.823Z"
   },
   {
    "duration": 47,
    "start_time": "2023-08-15T17:17:02.885Z"
   },
   {
    "duration": 68,
    "start_time": "2023-08-15T17:17:02.933Z"
   },
   {
    "duration": 79,
    "start_time": "2023-08-15T17:17:03.002Z"
   },
   {
    "duration": 151,
    "start_time": "2023-08-15T17:17:03.084Z"
   },
   {
    "duration": 8,
    "start_time": "2023-08-15T17:17:03.237Z"
   },
   {
    "duration": 45,
    "start_time": "2023-08-15T17:17:03.248Z"
   },
   {
    "duration": 32,
    "start_time": "2023-08-15T17:17:03.294Z"
   },
   {
    "duration": 17,
    "start_time": "2023-08-15T17:17:03.328Z"
   },
   {
    "duration": 80,
    "start_time": "2023-08-15T17:17:03.347Z"
   },
   {
    "duration": 5,
    "start_time": "2023-08-15T17:17:03.429Z"
   },
   {
    "duration": 26,
    "start_time": "2023-08-15T17:17:03.435Z"
   },
   {
    "duration": 11,
    "start_time": "2023-08-15T17:17:03.463Z"
   },
   {
    "duration": 15,
    "start_time": "2023-08-15T17:17:03.476Z"
   },
   {
    "duration": 598,
    "start_time": "2023-08-15T17:17:03.493Z"
   },
   {
    "duration": 185,
    "start_time": "2023-08-15T17:17:04.092Z"
   },
   {
    "duration": 381,
    "start_time": "2023-08-15T17:17:04.279Z"
   },
   {
    "duration": 236,
    "start_time": "2023-08-15T17:17:04.663Z"
   },
   {
    "duration": 352,
    "start_time": "2023-08-15T17:17:04.901Z"
   },
   {
    "duration": 11,
    "start_time": "2023-08-15T17:17:05.255Z"
   },
   {
    "duration": 259,
    "start_time": "2023-08-15T17:17:05.268Z"
   },
   {
    "duration": 8,
    "start_time": "2023-08-15T17:17:05.529Z"
   },
   {
    "duration": 274,
    "start_time": "2023-08-15T17:17:05.542Z"
   },
   {
    "duration": 382,
    "start_time": "2023-08-15T17:17:05.817Z"
   },
   {
    "duration": 3,
    "start_time": "2023-08-15T17:17:06.201Z"
   },
   {
    "duration": 265,
    "start_time": "2023-08-15T17:17:06.205Z"
   },
   {
    "duration": 149,
    "start_time": "2023-08-15T17:17:06.472Z"
   },
   {
    "duration": 6,
    "start_time": "2023-08-15T17:17:06.623Z"
   },
   {
    "duration": 33,
    "start_time": "2023-08-15T17:17:06.637Z"
   },
   {
    "duration": 34,
    "start_time": "2023-08-15T17:17:06.672Z"
   },
   {
    "duration": 199,
    "start_time": "2023-08-15T17:17:06.708Z"
   },
   {
    "duration": 10,
    "start_time": "2023-08-15T17:17:06.908Z"
   },
   {
    "duration": 51,
    "start_time": "2023-08-15T17:17:06.920Z"
   },
   {
    "duration": 52,
    "start_time": "2023-08-15T17:17:06.972Z"
   },
   {
    "duration": 43,
    "start_time": "2023-08-15T17:17:07.026Z"
   },
   {
    "duration": 44,
    "start_time": "2023-08-15T17:17:07.071Z"
   },
   {
    "duration": 111,
    "start_time": "2023-08-15T17:17:36.195Z"
   },
   {
    "duration": 9,
    "start_time": "2023-08-15T17:17:44.627Z"
   },
   {
    "duration": 10,
    "start_time": "2023-08-15T17:19:25.150Z"
   },
   {
    "duration": 91,
    "start_time": "2023-08-15T17:19:50.206Z"
   },
   {
    "duration": 6,
    "start_time": "2023-08-15T17:19:54.066Z"
   },
   {
    "duration": 6,
    "start_time": "2023-08-15T17:19:59.106Z"
   },
   {
    "duration": 1048,
    "start_time": "2023-08-15T17:32:07.284Z"
   },
   {
    "duration": 4,
    "start_time": "2023-08-15T17:32:08.334Z"
   },
   {
    "duration": 42,
    "start_time": "2023-08-15T17:32:08.339Z"
   },
   {
    "duration": 3,
    "start_time": "2023-08-15T17:32:08.383Z"
   },
   {
    "duration": 13,
    "start_time": "2023-08-15T17:32:08.388Z"
   },
   {
    "duration": 8,
    "start_time": "2023-08-15T17:32:08.403Z"
   },
   {
    "duration": 9,
    "start_time": "2023-08-15T17:32:08.412Z"
   },
   {
    "duration": 11,
    "start_time": "2023-08-15T17:32:08.423Z"
   },
   {
    "duration": 57,
    "start_time": "2023-08-15T17:32:08.436Z"
   },
   {
    "duration": 5,
    "start_time": "2023-08-15T17:32:08.496Z"
   },
   {
    "duration": 6,
    "start_time": "2023-08-15T17:32:08.502Z"
   },
   {
    "duration": 13,
    "start_time": "2023-08-15T17:32:08.510Z"
   },
   {
    "duration": 6,
    "start_time": "2023-08-15T17:32:08.524Z"
   },
   {
    "duration": 27,
    "start_time": "2023-08-15T17:32:08.531Z"
   },
   {
    "duration": 4,
    "start_time": "2023-08-15T17:32:08.559Z"
   },
   {
    "duration": 10,
    "start_time": "2023-08-15T17:32:08.564Z"
   },
   {
    "duration": 7,
    "start_time": "2023-08-15T17:32:08.576Z"
   },
   {
    "duration": 9,
    "start_time": "2023-08-15T17:32:08.584Z"
   },
   {
    "duration": 101,
    "start_time": "2023-08-15T17:32:08.594Z"
   },
   {
    "duration": 0,
    "start_time": "2023-08-15T17:32:08.697Z"
   },
   {
    "duration": 0,
    "start_time": "2023-08-15T17:32:08.699Z"
   },
   {
    "duration": 0,
    "start_time": "2023-08-15T17:32:08.700Z"
   },
   {
    "duration": 0,
    "start_time": "2023-08-15T17:32:08.702Z"
   },
   {
    "duration": 0,
    "start_time": "2023-08-15T17:32:08.703Z"
   },
   {
    "duration": 0,
    "start_time": "2023-08-15T17:32:08.704Z"
   },
   {
    "duration": 0,
    "start_time": "2023-08-15T17:32:08.705Z"
   },
   {
    "duration": 0,
    "start_time": "2023-08-15T17:32:08.706Z"
   },
   {
    "duration": 0,
    "start_time": "2023-08-15T17:32:08.707Z"
   },
   {
    "duration": 0,
    "start_time": "2023-08-15T17:32:08.708Z"
   },
   {
    "duration": 0,
    "start_time": "2023-08-15T17:32:08.709Z"
   },
   {
    "duration": 0,
    "start_time": "2023-08-15T17:32:08.710Z"
   },
   {
    "duration": 0,
    "start_time": "2023-08-15T17:32:08.711Z"
   },
   {
    "duration": 0,
    "start_time": "2023-08-15T17:32:08.738Z"
   },
   {
    "duration": 0,
    "start_time": "2023-08-15T17:32:08.739Z"
   },
   {
    "duration": 0,
    "start_time": "2023-08-15T17:32:08.740Z"
   },
   {
    "duration": 0,
    "start_time": "2023-08-15T17:32:08.741Z"
   },
   {
    "duration": 0,
    "start_time": "2023-08-15T17:32:08.742Z"
   },
   {
    "duration": 0,
    "start_time": "2023-08-15T17:32:08.743Z"
   },
   {
    "duration": 0,
    "start_time": "2023-08-15T17:32:08.744Z"
   },
   {
    "duration": 0,
    "start_time": "2023-08-15T17:32:08.745Z"
   },
   {
    "duration": 0,
    "start_time": "2023-08-15T17:32:08.746Z"
   },
   {
    "duration": 4,
    "start_time": "2023-08-15T17:38:41.549Z"
   },
   {
    "duration": 10,
    "start_time": "2023-08-15T17:38:49.327Z"
   },
   {
    "duration": 12,
    "start_time": "2023-08-15T17:38:53.540Z"
   },
   {
    "duration": 1190,
    "start_time": "2023-08-15T18:05:45.607Z"
   },
   {
    "duration": 3,
    "start_time": "2023-08-15T18:05:46.799Z"
   },
   {
    "duration": 64,
    "start_time": "2023-08-15T18:05:46.804Z"
   },
   {
    "duration": 3,
    "start_time": "2023-08-15T18:05:46.870Z"
   },
   {
    "duration": 13,
    "start_time": "2023-08-15T18:05:46.875Z"
   },
   {
    "duration": 45,
    "start_time": "2023-08-15T18:05:46.890Z"
   },
   {
    "duration": 20,
    "start_time": "2023-08-15T18:05:46.936Z"
   },
   {
    "duration": 24,
    "start_time": "2023-08-15T18:05:46.958Z"
   },
   {
    "duration": 220,
    "start_time": "2023-08-15T18:05:46.984Z"
   },
   {
    "duration": 7,
    "start_time": "2023-08-15T18:05:47.208Z"
   },
   {
    "duration": 37,
    "start_time": "2023-08-15T18:05:47.217Z"
   },
   {
    "duration": 27,
    "start_time": "2023-08-15T18:05:47.256Z"
   },
   {
    "duration": 19,
    "start_time": "2023-08-15T18:05:47.285Z"
   },
   {
    "duration": 62,
    "start_time": "2023-08-15T18:05:47.306Z"
   },
   {
    "duration": 5,
    "start_time": "2023-08-15T18:05:47.371Z"
   },
   {
    "duration": 30,
    "start_time": "2023-08-15T18:05:47.378Z"
   },
   {
    "duration": 46,
    "start_time": "2023-08-15T18:05:47.410Z"
   },
   {
    "duration": 44,
    "start_time": "2023-08-15T18:05:47.458Z"
   },
   {
    "duration": 43,
    "start_time": "2023-08-15T18:05:47.503Z"
   },
   {
    "duration": 591,
    "start_time": "2023-08-15T18:05:47.547Z"
   },
   {
    "duration": 208,
    "start_time": "2023-08-15T18:05:48.140Z"
   },
   {
    "duration": 299,
    "start_time": "2023-08-15T18:05:48.350Z"
   },
   {
    "duration": 196,
    "start_time": "2023-08-15T18:05:48.651Z"
   },
   {
    "duration": 345,
    "start_time": "2023-08-15T18:05:48.849Z"
   },
   {
    "duration": 11,
    "start_time": "2023-08-15T18:05:49.196Z"
   },
   {
    "duration": 335,
    "start_time": "2023-08-15T18:05:49.209Z"
   },
   {
    "duration": 7,
    "start_time": "2023-08-15T18:05:49.546Z"
   },
   {
    "duration": 501,
    "start_time": "2023-08-15T18:05:49.557Z"
   },
   {
    "duration": 404,
    "start_time": "2023-08-15T18:05:50.060Z"
   },
   {
    "duration": 5,
    "start_time": "2023-08-15T18:05:50.467Z"
   },
   {
    "duration": 268,
    "start_time": "2023-08-15T18:05:50.474Z"
   },
   {
    "duration": 131,
    "start_time": "2023-08-15T18:05:50.743Z"
   },
   {
    "duration": 7,
    "start_time": "2023-08-15T18:05:50.875Z"
   },
   {
    "duration": 34,
    "start_time": "2023-08-15T18:05:50.884Z"
   },
   {
    "duration": 25,
    "start_time": "2023-08-15T18:05:50.920Z"
   },
   {
    "duration": 191,
    "start_time": "2023-08-15T18:05:50.947Z"
   },
   {
    "duration": 12,
    "start_time": "2023-08-15T18:05:51.140Z"
   },
   {
    "duration": 16,
    "start_time": "2023-08-15T18:05:51.154Z"
   },
   {
    "duration": 49,
    "start_time": "2023-08-15T18:05:51.172Z"
   },
   {
    "duration": 40,
    "start_time": "2023-08-15T18:05:51.223Z"
   },
   {
    "duration": 13,
    "start_time": "2023-08-15T18:05:51.264Z"
   },
   {
    "duration": 208,
    "start_time": "2023-08-15T18:14:26.074Z"
   },
   {
    "duration": 6,
    "start_time": "2023-08-15T18:15:19.241Z"
   },
   {
    "duration": 98,
    "start_time": "2023-08-15T18:15:53.373Z"
   },
   {
    "duration": 7,
    "start_time": "2023-08-15T18:16:00.189Z"
   },
   {
    "duration": 8,
    "start_time": "2023-08-15T18:16:11.585Z"
   },
   {
    "duration": 9,
    "start_time": "2023-08-15T18:16:17.421Z"
   },
   {
    "duration": 7,
    "start_time": "2023-08-15T18:17:13.742Z"
   },
   {
    "duration": 7,
    "start_time": "2023-08-15T18:17:36.012Z"
   },
   {
    "duration": 7,
    "start_time": "2023-08-15T18:17:42.564Z"
   },
   {
    "duration": 9,
    "start_time": "2023-08-15T18:18:00.977Z"
   },
   {
    "duration": 7,
    "start_time": "2023-08-15T18:18:02.906Z"
   },
   {
    "duration": 169,
    "start_time": "2023-08-15T18:18:25.114Z"
   },
   {
    "duration": 10,
    "start_time": "2023-08-15T18:18:39.785Z"
   },
   {
    "duration": 21,
    "start_time": "2023-08-15T18:18:48.561Z"
   },
   {
    "duration": 14,
    "start_time": "2023-08-15T18:18:57.125Z"
   },
   {
    "duration": 15,
    "start_time": "2023-08-15T18:19:09.025Z"
   },
   {
    "duration": 175,
    "start_time": "2023-08-15T18:23:01.016Z"
   },
   {
    "duration": 155,
    "start_time": "2023-08-15T18:23:09.014Z"
   },
   {
    "duration": 134,
    "start_time": "2023-08-15T18:23:35.530Z"
   },
   {
    "duration": 22,
    "start_time": "2023-08-15T18:23:55.799Z"
   },
   {
    "duration": 13,
    "start_time": "2023-08-15T18:25:58.694Z"
   },
   {
    "duration": 10,
    "start_time": "2023-08-15T18:26:05.200Z"
   },
   {
    "duration": 10,
    "start_time": "2023-08-15T18:26:08.875Z"
   },
   {
    "duration": 10,
    "start_time": "2023-08-15T18:27:50.975Z"
   },
   {
    "duration": 13,
    "start_time": "2023-08-15T18:28:04.299Z"
   },
   {
    "duration": 1191,
    "start_time": "2023-08-15T18:42:32.563Z"
   },
   {
    "duration": 950,
    "start_time": "2023-08-15T18:42:43.536Z"
   },
   {
    "duration": 8,
    "start_time": "2023-08-15T18:42:54.739Z"
   },
   {
    "duration": 9,
    "start_time": "2023-08-15T18:44:24.364Z"
   },
   {
    "duration": 14,
    "start_time": "2023-08-15T18:45:43.471Z"
   },
   {
    "duration": 1182,
    "start_time": "2023-08-16T08:07:42.831Z"
   },
   {
    "duration": 3,
    "start_time": "2023-08-16T08:07:44.016Z"
   },
   {
    "duration": 76,
    "start_time": "2023-08-16T08:07:44.022Z"
   },
   {
    "duration": 4,
    "start_time": "2023-08-16T08:07:44.100Z"
   },
   {
    "duration": 21,
    "start_time": "2023-08-16T08:07:44.106Z"
   },
   {
    "duration": 33,
    "start_time": "2023-08-16T08:07:44.129Z"
   },
   {
    "duration": 13,
    "start_time": "2023-08-16T08:07:44.164Z"
   },
   {
    "duration": 19,
    "start_time": "2023-08-16T08:07:44.180Z"
   },
   {
    "duration": 59,
    "start_time": "2023-08-16T08:07:44.201Z"
   },
   {
    "duration": 6,
    "start_time": "2023-08-16T08:07:44.264Z"
   },
   {
    "duration": 17,
    "start_time": "2023-08-16T08:07:44.272Z"
   },
   {
    "duration": 12,
    "start_time": "2023-08-16T08:07:44.291Z"
   },
   {
    "duration": 24,
    "start_time": "2023-08-16T08:07:44.304Z"
   },
   {
    "duration": 35,
    "start_time": "2023-08-16T08:07:44.330Z"
   },
   {
    "duration": 5,
    "start_time": "2023-08-16T08:07:44.366Z"
   },
   {
    "duration": 16,
    "start_time": "2023-08-16T08:07:44.373Z"
   },
   {
    "duration": 16,
    "start_time": "2023-08-16T08:07:44.391Z"
   },
   {
    "duration": 21,
    "start_time": "2023-08-16T08:07:44.417Z"
   },
   {
    "duration": 20,
    "start_time": "2023-08-16T08:07:44.440Z"
   },
   {
    "duration": 667,
    "start_time": "2023-08-16T08:07:44.462Z"
   },
   {
    "duration": 257,
    "start_time": "2023-08-16T08:07:45.131Z"
   },
   {
    "duration": 317,
    "start_time": "2023-08-16T08:07:45.390Z"
   },
   {
    "duration": 250,
    "start_time": "2023-08-16T08:07:45.718Z"
   },
   {
    "duration": 408,
    "start_time": "2023-08-16T08:07:45.970Z"
   },
   {
    "duration": 9,
    "start_time": "2023-08-16T08:07:46.380Z"
   },
   {
    "duration": 412,
    "start_time": "2023-08-16T08:07:46.391Z"
   },
   {
    "duration": 19,
    "start_time": "2023-08-16T08:07:46.805Z"
   },
   {
    "duration": 336,
    "start_time": "2023-08-16T08:07:46.828Z"
   },
   {
    "duration": 511,
    "start_time": "2023-08-16T08:07:47.166Z"
   },
   {
    "duration": 5,
    "start_time": "2023-08-16T08:07:47.679Z"
   },
   {
    "duration": 268,
    "start_time": "2023-08-16T08:07:47.686Z"
   },
   {
    "duration": 179,
    "start_time": "2023-08-16T08:07:47.956Z"
   },
   {
    "duration": 6,
    "start_time": "2023-08-16T08:07:48.138Z"
   },
   {
    "duration": 30,
    "start_time": "2023-08-16T08:07:48.145Z"
   },
   {
    "duration": 14,
    "start_time": "2023-08-16T08:07:48.176Z"
   },
   {
    "duration": 196,
    "start_time": "2023-08-16T08:07:48.191Z"
   },
   {
    "duration": 10,
    "start_time": "2023-08-16T08:07:48.389Z"
   },
   {
    "duration": 80,
    "start_time": "2023-08-16T08:07:48.409Z"
   },
   {
    "duration": 47,
    "start_time": "2023-08-16T08:07:48.491Z"
   },
   {
    "duration": 43,
    "start_time": "2023-08-16T08:07:48.540Z"
   },
   {
    "duration": 17,
    "start_time": "2023-08-16T08:07:48.586Z"
   },
   {
    "duration": 87,
    "start_time": "2023-08-16T08:12:39.388Z"
   }
  ],
  "kernelspec": {
   "display_name": "Python 3 (ipykernel)",
   "language": "python",
   "name": "python3"
  },
  "language_info": {
   "codemirror_mode": {
    "name": "ipython",
    "version": 3
   },
   "file_extension": ".py",
   "mimetype": "text/x-python",
   "name": "python",
   "nbconvert_exporter": "python",
   "pygments_lexer": "ipython3",
   "version": "3.10.9"
  },
  "toc": {
   "base_numbering": 1,
   "nav_menu": {},
   "number_sections": true,
   "sideBar": true,
   "skip_h1_title": true,
   "title_cell": "Table of Contents",
   "title_sidebar": "Contents",
   "toc_cell": false,
   "toc_position": {
    "height": "calc(100% - 180px)",
    "left": "10px",
    "top": "150px",
    "width": "328.528px"
   },
   "toc_section_display": true,
   "toc_window_display": true
  }
 },
 "nbformat": 4,
 "nbformat_minor": 2
}
